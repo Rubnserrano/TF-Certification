{
  "nbformat": 4,
  "nbformat_minor": 0,
  "metadata": {
    "colab": {
      "provenance": [],
      "authorship_tag": "ABX9TyMVaa20iH6EX3jMyxWCmisj",
      "include_colab_link": true
    },
    "kernelspec": {
      "name": "python3",
      "display_name": "Python 3"
    },
    "language_info": {
      "name": "python"
    }
  },
  "cells": [
    {
      "cell_type": "markdown",
      "metadata": {
        "id": "view-in-github",
        "colab_type": "text"
      },
      "source": [
        "<a href=\"https://colab.research.google.com/github/Rubnserrano/TF-Certification/blob/main/00_curso_tensorflow_certificate.ipynb\" target=\"_parent\"><img src=\"https://colab.research.google.com/assets/colab-badge.svg\" alt=\"Open In Colab\"/></a>"
      ]
    },
    {
      "cell_type": "markdown",
      "source": [
        "# EJERCICIOS\n"
      ],
      "metadata": {
        "id": "A24sl0ov7yA7"
      }
    },
    {
      "cell_type": "markdown",
      "source": [
        "00.  TensorFlow Fundamentals Exercises\n",
        "01.  Create a vector, scalar, matrix and tensor with values of your choosing using tf.constant().\n",
        "02.  Find the shape, rank and size of the tensors you created in 1.\n",
        "03.  Create two tensors containing random values between 0 and 1 with shape [5, 300].\n",
        "04.  Multiply the two tensors you created in 3 using matrix multiplication.\n",
        "05.  Multiply the two tensors you created in 3 using dot product.\n",
        "06.  Create a tensor with random values between 0 and 1 with shape [224, 224, 3].\n",
        "0.7  Find the min and max values of the tensor you created in 6 along the first axis.\n",
        "0.8  Created a tensor with random values of shape [1, 224, 224, 3] then squeeze it to change the shape to [224, 224, 3].\n",
        "0.9  Create a tensor with shape [10] using your own choice of values, then find the index which has the maximum value.\n",
        "0.10 One-hot encode the tensor you created in 9."
      ],
      "metadata": {
        "id": "Q86wI6i48S5k"
      }
    },
    {
      "cell_type": "code",
      "source": [
        "#5\n",
        "muldot1 = tf.tensordot(rand1, tf.transpose(rand2), axes=1)\n",
        "print(f'The dot mult between rand1 and rand2.T: \\n {muldot1}')\n",
        "\n",
        "muldot2 = tf.tensordot(tf.transpose(rand1), rand2, axes=1)\n",
        "print(f'The dot mult between rand1.T and rand2: \\n {muldot2}')\n",
        "\n",
        "mul1 == muldot1,\n"
      ],
      "metadata": {
        "colab": {
          "base_uri": "https://localhost:8080/"
        },
        "id": "W4Ha2h7BhDhW",
        "outputId": "4808d20a-4719-4b70-fa18-ea382458281b"
      },
      "execution_count": 59,
      "outputs": [
        {
          "output_type": "stream",
          "name": "stdout",
          "text": [
            "The dot mult between rand1 and rand2.T: \n",
            " [[ 14.913218    -0.55677366  -9.909836   -10.573011    10.969653  ]\n",
            " [  0.49515152  24.104378    11.763264     2.113676   -21.95736   ]\n",
            " [ -9.712297    -8.945776    14.049825    23.227276    21.9371    ]\n",
            " [  4.6764517   -6.168643   -25.081284   -16.319977   -49.996113  ]\n",
            " [  0.12659264 -13.628103   -15.728617   -12.990693    -6.9835596 ]]\n",
            "The dot mult between rand1.T and rand2: \n",
            " [[ 8.213633    1.0903815  -2.230025   ... -3.0854595   6.2754397\n",
            "   1.9148272 ]\n",
            " [ 4.345087    0.09137577 -3.017852   ... -0.24191537  4.1908617\n",
            "   0.7064656 ]\n",
            " [ 2.6816695  -3.3974175  -3.296514   ... -0.37390456  1.749292\n",
            "   0.7750931 ]\n",
            " ...\n",
            " [ 1.6394053   1.0170882   0.2831524  ... -2.881369    1.9431812\n",
            "   2.8533697 ]\n",
            " [-3.7893028  -2.559697   -2.8801975  ...  2.2011101  -2.4504611\n",
            "  -0.7819225 ]\n",
            " [ 5.715545    2.085618   -2.4082282  ... -0.01885016  4.303542\n",
            "  -1.0923401 ]]\n"
          ]
        },
        {
          "output_type": "execute_result",
          "data": {
            "text/plain": [
              "<tf.Tensor: shape=(5, 5), dtype=bool, numpy=\n",
              "array([[ True,  True,  True,  True,  True],\n",
              "       [ True,  True,  True,  True,  True],\n",
              "       [ True,  True,  True,  True,  True],\n",
              "       [ True,  True,  True,  True,  True],\n",
              "       [ True,  True,  True,  True,  True]])>"
            ]
          },
          "metadata": {},
          "execution_count": 59
        }
      ]
    },
    {
      "cell_type": "code",
      "source": [
        "# Apunte reshape != transpose\n",
        "v1 = tf.constant([[1,2],\n",
        "                  [3,4],\n",
        "                  [5,6]])\n",
        "\n",
        "v2 = tf.constant([[7,8],\n",
        "                  [9,10],\n",
        "                  [11,12]])\n",
        "\n",
        "v1t = tf.transpose(v2)\n",
        "v1r = tf.reshape(v2, shape=(2,3))\n",
        "\n",
        "print(f'v1 transpuesta : \\n {v1t}')\n",
        "print(f'v1 reshappe : \\n {v1r}')"
      ],
      "metadata": {
        "colab": {
          "base_uri": "https://localhost:8080/"
        },
        "id": "nZ_ocCU9cp_J",
        "outputId": "717e4b3d-7739-4021-b1fd-cb443bb4ce09"
      },
      "execution_count": 53,
      "outputs": [
        {
          "output_type": "stream",
          "name": "stdout",
          "text": [
            "v1 transpuesta : \n",
            " [[ 7  9 11]\n",
            " [ 8 10 12]]\n",
            "v1 reshappe : \n",
            " [[ 7  8  9]\n",
            " [10 11 12]]\n"
          ]
        }
      ]
    },
    {
      "cell_type": "code",
      "source": [
        "#4\n",
        "mul1 = rand1 @ tf.transpose(rand2)\n",
        "print(f'Result of rand1 * rand2.T: \\n {mul1}')\n",
        "mul2 = tf.transpose(rand1) @ rand2\n",
        "print(f'Result of rand1.T * rand1: \\n {mul2}')\n",
        "\n"
      ],
      "metadata": {
        "colab": {
          "base_uri": "https://localhost:8080/"
        },
        "id": "4leR68rwaWma",
        "outputId": "2183fd31-6ec4-4e11-e2a6-3ee8e0e182b1"
      },
      "execution_count": 36,
      "outputs": [
        {
          "output_type": "stream",
          "name": "stdout",
          "text": [
            "Result of rand1 * rand2.T: \n",
            " [[ 14.913218    -0.55677366  -9.909836   -10.573011    10.969653  ]\n",
            " [  0.49515152  24.104378    11.763264     2.113676   -21.95736   ]\n",
            " [ -9.712297    -8.945776    14.049825    23.227276    21.9371    ]\n",
            " [  4.6764517   -6.168643   -25.081284   -16.319977   -49.996113  ]\n",
            " [  0.12659264 -13.628103   -15.728617   -12.990693    -6.9835596 ]]\n",
            "Result of rand1.T * rand1: \n",
            " [[ 8.213633    1.0903815  -2.230025   ... -3.0854595   6.2754397\n",
            "   1.9148272 ]\n",
            " [ 4.345087    0.09137577 -3.017852   ... -0.24191537  4.1908617\n",
            "   0.7064656 ]\n",
            " [ 2.6816695  -3.3974175  -3.296514   ... -0.37390456  1.749292\n",
            "   0.7750931 ]\n",
            " ...\n",
            " [ 1.6394053   1.0170882   0.2831524  ... -2.881369    1.9431812\n",
            "   2.8533697 ]\n",
            " [-3.7893028  -2.559697   -2.8801975  ...  2.2011101  -2.4504611\n",
            "  -0.7819225 ]\n",
            " [ 5.715545    2.085618   -2.4082282  ... -0.01885016  4.303542\n",
            "  -1.0923401 ]]\n"
          ]
        }
      ]
    },
    {
      "cell_type": "code",
      "source": [
        "#3\n",
        "rand1 = tf.random.Generator.from_seed(5)\n",
        "rand1 = rand1.normal(shape=[5,300])\n",
        "\n",
        "rand2 = tf.random.Generator.from_seed(10)\n",
        "rand2 = rand2.normal(shape=[5,300])\n",
        "\n",
        "print(f'first random matrix: {rand1},\\n second random matrix: {rand2}')"
      ],
      "metadata": {
        "colab": {
          "base_uri": "https://localhost:8080/"
        },
        "id": "fpvg_roDUw5h",
        "outputId": "4f82d069-90d0-4fd3-9507-caf76434dda3"
      },
      "execution_count": 18,
      "outputs": [
        {
          "output_type": "stream",
          "name": "stdout",
          "text": [
            "first random matrix: [[ 1.0278524   0.27974114 -0.01347923 ...  1.2053189  -0.3511434\n",
            "   0.13897082]\n",
            " [ 0.32744762 -0.3579723   1.230323   ... -0.60134953  0.455365\n",
            "   0.18552932]\n",
            " [-2.0545108  -1.7917832  -0.781357   ... -0.84087443  0.8430845\n",
            "  -1.0322016 ]\n",
            " [ 1.0498744   0.10989144 -0.6479687  ...  0.10615379 -0.45561165\n",
            "   1.69945   ]\n",
            " [ 0.32171428  0.62645096  1.3242275  ... -0.30130875  1.0943383\n",
            "   0.255803  ]],\n",
            " second random matrix: [[-0.29604465 -0.21134205  0.01063002 ... -2.286797    0.07126775\n",
            "   2.3546813 ]\n",
            " [ 2.2539537  -0.8510308   0.8119971  ... -1.3636322   0.5770591\n",
            "   0.30280197]\n",
            " [-3.3228774  -0.27568147  0.24829084 ...  0.6243957  -2.4371004\n",
            "  -0.25115213]\n",
            " [ 1.3310204   1.3616577  -0.8285553  ...  0.46930176  1.0072736\n",
            "  -0.9760802 ]\n",
            " [-1.3814136  -1.273435   -3.5026186  ...  1.5593605  -0.15954968\n",
            "  -0.2978496 ]]\n"
          ]
        }
      ]
    },
    {
      "cell_type": "code",
      "source": [
        "2#\n",
        "shape1 = scalar.shape\n",
        "rank1 = scalar.ndim\n",
        "size1 = tf.size(scalar).numpy()\n",
        "print(f'Shape, Rank, Size of a scalar = {shape1, rank1, size1}')\n",
        "\n",
        "shape2 = vector.shape\n",
        "rank2 = vector.ndim\n",
        "size2 = tf.size(vector).numpy()\n",
        "print(f'Shape, Rank, Size of a vector = {shape2, rank2, size2}')\n",
        "\n",
        "shape3 = matrix.shape\n",
        "rank3= matrix.ndim\n",
        "size3 = tf.size(matrix).numpy()\n",
        "print(f'Shape, Rank, Size of a matrix = {shape3, rank3, size3}')\n",
        "\n",
        "\n"
      ],
      "metadata": {
        "colab": {
          "base_uri": "https://localhost:8080/"
        },
        "id": "sdwwGhawRnDp",
        "outputId": "c83d236f-2a3a-4ced-deac-92f2c35b6c34"
      },
      "execution_count": 9,
      "outputs": [
        {
          "output_type": "stream",
          "name": "stdout",
          "text": [
            "Shape, Rank, Size of a scalar = (TensorShape([]), 0, 1)\n",
            "Shape, Rank, Size of a vector = (TensorShape([2]), 1, 2)\n",
            "Shape, Rank, Size of a matrix = (TensorShape([3, 3]), 2, 9)\n"
          ]
        }
      ]
    },
    {
      "cell_type": "code",
      "execution_count": 29,
      "metadata": {
        "colab": {
          "base_uri": "https://localhost:8080/"
        },
        "id": "pAH8HA_M7n6t",
        "outputId": "1a99f538-3bd3-4202-8e31-f18c3e67c3bc"
      },
      "outputs": [
        {
          "output_type": "stream",
          "name": "stdout",
          "text": [
            "tf.Tensor(8, shape=(), dtype=int32)\n",
            "tf.Tensor([9 9], shape=(2,), dtype=int32)\n",
            "tf.Tensor(\n",
            "[[1 2 3]\n",
            " [4 5 6]\n",
            " [7 8 9]], shape=(3, 3), dtype=int32)\n",
            "tf.Tensor(\n",
            "[[[ 1  2  3]\n",
            "  [ 4  5  6]]\n",
            "\n",
            " [[10 11 12]\n",
            "  [13 14 15]]], shape=(2, 2, 3), dtype=int32)\n"
          ]
        }
      ],
      "source": [
        "#1\n",
        "import tensorflow as tf\n",
        "scalar = tf.constant(8)\n",
        "vector = tf.constant([9,9])\n",
        "matrix = tf.constant([[1,2,3],\n",
        "                      [4,5,6],\n",
        "                      [7,8,9]])\n",
        "\n",
        "tensor = tf.constant([[[1,2,3],\n",
        "                      [4,5,6]],\n",
        "                       [[10,11,12],\n",
        "                       [13,14,15]]])\n",
        "\n",
        "print(scalar)\n",
        "print(vector)\n",
        "print(matrix)\n",
        "print(tensor)"
      ]
    }
  ]
}
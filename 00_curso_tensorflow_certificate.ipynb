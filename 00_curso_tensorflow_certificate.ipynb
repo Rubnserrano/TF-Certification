{
  "nbformat": 4,
  "nbformat_minor": 0,
  "metadata": {
    "colab": {
      "provenance": [],
      "authorship_tag": "ABX9TyNU6QGwUu1IMbJXIqQz8pq5",
      "include_colab_link": true
    },
    "kernelspec": {
      "name": "python3",
      "display_name": "Python 3"
    },
    "language_info": {
      "name": "python"
    }
  },
  "cells": [
    {
      "cell_type": "markdown",
      "metadata": {
        "id": "view-in-github",
        "colab_type": "text"
      },
      "source": [
        "<a href=\"https://colab.research.google.com/github/Rubnserrano/TF-Certification/blob/main/00_curso_tensorflow_certificate.ipynb\" target=\"_parent\"><img src=\"https://colab.research.google.com/assets/colab-badge.svg\" alt=\"Open In Colab\"/></a>"
      ]
    },
    {
      "cell_type": "markdown",
      "source": [
        "# EJERCICIOS\n"
      ],
      "metadata": {
        "id": "A24sl0ov7yA7"
      }
    },
    {
      "cell_type": "markdown",
      "source": [
        "00.  TensorFlow Fundamentals Exercises\n",
        "01.  Create a vector, scalar, matrix and tensor with values of your choosing using tf.constant().\n",
        "02.  Find the shape, rank and size of the tensors you created in 1.\n",
        "03.  Create two tensors containing random values between 0 and 1 with shape [5, 300].\n",
        "04.  Multiply the two tensors you created in 3 using matrix multiplication.\n",
        "05.  Multiply the two tensors you created in 3 using dot product.\n",
        "06.  Create a tensor with random values between 0 and 1 with shape [224, 224, 3].\n",
        "0.7  Find the min and max values of the tensor you created in 6 along the first axis.\n",
        "0.8  Created a tensor with random values of shape [1, 224, 224, 3] then squeeze it to change the shape to [224, 224, 3].\n",
        "0.9  Create a tensor with shape [10] using your own choice of values, then find the index which has the maximum value.\n",
        "0.10 One-hot encode the tensor you created in 9."
      ],
      "metadata": {
        "id": "Q86wI6i48S5k"
      }
    },
    {
      "cell_type": "code",
      "source": [
        "#ExtraCurriculum\n",
        "precios = tf.constant([1.45,1.15,0.45,1.55,0.78,0.77,1.5,0.75,2.49,1.85,4.3,0.59,3.55,1.35,1.79,1.79])\n",
        "uds = tf.constant([1,1,2,1,1,1,1,1,1,1,1,1,1,1,0.488, 0.542])\n",
        "recibo = tf.tensordot(precios, tf.transpose(uds), axes=1)\n",
        "#recibo de comida para 7 dias. 1 mes = 4.34 w\n",
        "recibo_m = recibo * 4.34\n",
        "#1 año = 52 semanas\n",
        "recibo_y = recibo_m * 12\n",
        "\n",
        "print(f'El recibo de una semana es de: {recibo}, mes: {recibo_m}, año: {recibo_y}')"
      ],
      "metadata": {
        "colab": {
          "base_uri": "https://localhost:8080/"
        },
        "id": "NJO_nswBcQdW",
        "outputId": "f37dadb5-f09f-486f-fb5f-b71f8f528a0a"
      },
      "execution_count": 73,
      "outputs": [
        {
          "output_type": "stream",
          "name": "stdout",
          "text": [
            "El recibo de una semana es de: 24.823701858520508, mes: 107.73487091064453, año: 1292.8184814453125\n"
          ]
        }
      ]
    },
    {
      "cell_type": "code",
      "source": [
        "#10\n",
        "e10 = tf.one_hot(e9, depth=10)\n",
        "print(e10)"
      ],
      "metadata": {
        "colab": {
          "base_uri": "https://localhost:8080/"
        },
        "id": "swCK_qevYzN2",
        "outputId": "d42aadd1-5b3d-4a1b-f527-a36b2d102218"
      },
      "execution_count": 74,
      "outputs": [
        {
          "output_type": "stream",
          "name": "stdout",
          "text": [
            "tf.Tensor(\n",
            "[[0. 0. 1. 0. 0. 0. 0. 0. 0. 0.]\n",
            " [0. 0. 0. 0. 0. 0. 1. 0. 0. 0.]\n",
            " [0. 0. 0. 0. 0. 0. 0. 0. 1. 0.]\n",
            " [0. 0. 0. 0. 0. 0. 0. 0. 0. 0.]\n",
            " [0. 0. 0. 1. 0. 0. 0. 0. 0. 0.]\n",
            " [0. 1. 0. 0. 0. 0. 0. 0. 0. 0.]\n",
            " [0. 0. 0. 0. 1. 0. 0. 0. 0. 0.]\n",
            " [0. 0. 0. 0. 0. 1. 0. 0. 0. 0.]\n",
            " [0. 0. 0. 0. 0. 0. 0. 1. 0. 0.]\n",
            " [0. 0. 0. 0. 0. 0. 0. 0. 0. 1.]], shape=(10, 10), dtype=float32)\n"
          ]
        }
      ]
    },
    {
      "cell_type": "code",
      "source": [
        "#9\n",
        "e9 = tf.constant([2,6,8,10,3,1,4,5,7,9])\n",
        "max_arg = tf.argmax(e9)\n",
        "print(e9,e9[max_arg])\n"
      ],
      "metadata": {
        "colab": {
          "base_uri": "https://localhost:8080/"
        },
        "id": "o-7LezJdXtki",
        "outputId": "016655ce-a4a9-4eef-cd54-3ea56e78f755"
      },
      "execution_count": 57,
      "outputs": [
        {
          "output_type": "stream",
          "name": "stdout",
          "text": [
            "tf.Tensor([ 2  6  8 10  3  1  4  5  7  9], shape=(10,), dtype=int32) tf.Tensor(10, shape=(), dtype=int32)\n"
          ]
        }
      ]
    },
    {
      "cell_type": "code",
      "source": [
        "#8\n",
        "tens = tf.constant(np.random.rand(1, 224,224,3))\n",
        "tens_squeezed = tf.squeeze(tens)\n",
        "print(tens_squeezed.shape)"
      ],
      "metadata": {
        "colab": {
          "base_uri": "https://localhost:8080/"
        },
        "id": "jWYDov56WJol",
        "outputId": "704f1180-61b3-46f0-9d3b-80686d7bc51e"
      },
      "execution_count": 33,
      "outputs": [
        {
          "output_type": "stream",
          "name": "stdout",
          "text": [
            "(224, 224, 3)\n"
          ]
        }
      ]
    },
    {
      "cell_type": "code",
      "source": [
        "#7\n",
        "min_ = tf.reduce_min(e6, axis=1)\n",
        "max_ = tf.reduce_max(e6, axis=1)"
      ],
      "metadata": {
        "id": "j4g1MmeKSiY7"
      },
      "execution_count": 19,
      "outputs": []
    },
    {
      "cell_type": "code",
      "source": [
        "#6\n",
        "import tensorflow as tf\n",
        "import numpy as np\n",
        "e6 = tf.constant(np.random.rand(224,224,3))\n",
        "print(e6)"
      ],
      "metadata": {
        "colab": {
          "base_uri": "https://localhost:8080/"
        },
        "id": "hNwPo5CWQ13i",
        "outputId": "e9826bf3-8eb6-42fc-a248-2eb59211dac1"
      },
      "execution_count": 9,
      "outputs": [
        {
          "output_type": "stream",
          "name": "stdout",
          "text": [
            "tf.Tensor(\n",
            "[[[0.22535144 0.29093938 0.11986467]\n",
            "  [0.74116106 0.40576245 0.44396496]\n",
            "  [0.00585949 0.87201741 0.72384816]\n",
            "  ...\n",
            "  [0.92377224 0.29562022 0.45875703]\n",
            "  [0.10939708 0.28339511 0.57491339]\n",
            "  [0.77611003 0.28686928 0.29790125]]\n",
            "\n",
            " [[0.24416309 0.90064878 0.57701991]\n",
            "  [0.7397394  0.14611343 0.75861963]\n",
            "  [0.04556804 0.56540236 0.88513595]\n",
            "  ...\n",
            "  [0.06994193 0.88722369 0.19235866]\n",
            "  [0.42782956 0.32669359 0.76314605]\n",
            "  [0.3684698  0.78459285 0.55974943]]\n",
            "\n",
            " [[0.234418   0.88507888 0.02666063]\n",
            "  [0.52769324 0.07964728 0.40729674]\n",
            "  [0.97840097 0.09537805 0.42149862]\n",
            "  ...\n",
            "  [0.19182247 0.57404855 0.23828036]\n",
            "  [0.95663197 0.58974919 0.24256759]\n",
            "  [0.18596331 0.90523115 0.17736562]]\n",
            "\n",
            " ...\n",
            "\n",
            " [[0.24875282 0.25980612 0.68458089]\n",
            "  [0.01066741 0.46606308 0.66942753]\n",
            "  [0.46246759 0.04780854 0.33852889]\n",
            "  ...\n",
            "  [0.2379598  0.24845781 0.46627962]\n",
            "  [0.0228438  0.09217991 0.59354155]\n",
            "  [0.37044597 0.13234525 0.49280997]]\n",
            "\n",
            " [[0.70905589 0.38750177 0.54105917]\n",
            "  [0.86329209 0.68305232 0.1796927 ]\n",
            "  [0.96475923 0.89214803 0.05698711]\n",
            "  ...\n",
            "  [0.79804987 0.96785626 0.77759715]\n",
            "  [0.3822263  0.93037696 0.74599997]\n",
            "  [0.49076364 0.17516476 0.55309649]]\n",
            "\n",
            " [[0.2155327  0.49322701 0.52689459]\n",
            "  [0.90820745 0.45133058 0.2794347 ]\n",
            "  [0.99397413 0.2494717  0.75092389]\n",
            "  ...\n",
            "  [0.30183289 0.92465751 0.38841716]\n",
            "  [0.29854152 0.53674586 0.28891764]\n",
            "  [0.36503653 0.70279822 0.84966625]]], shape=(224, 224, 3), dtype=float64)\n"
          ]
        }
      ]
    },
    {
      "cell_type": "code",
      "source": [
        "#Explicacion de porque eliminar las single-dimensions no es problematico.\n",
        "G = tf.constant(np.random.randint(0,100,50), shape = (1,1,1,1,50))\n",
        "print(G.shape, G.ndim, G)\n",
        "print(\"\\n\")\n",
        "H = tf.squeeze(G)\n",
        "print(H.shape, H.ndim, H)"
      ],
      "metadata": {
        "colab": {
          "base_uri": "https://localhost:8080/"
        },
        "id": "iRkYNjC7Vk0T",
        "outputId": "a3cc2d32-16b6-40e8-aa16-559192d9ddaa"
      },
      "execution_count": 26,
      "outputs": [
        {
          "output_type": "stream",
          "name": "stdout",
          "text": [
            "(1, 1, 1, 1, 50) 5 tf.Tensor(\n",
            "[[[[[71 17 96 40  0 80 59 34 51 20  1 58 63 59 91 98 25 24 19 42 21 70\n",
            "     94 73 16 70 84  2 26 57 28 91 54 24 74  9  9 14  6 12 19 22 80 15\n",
            "     43 44 95  8 88 31]]]]], shape=(1, 1, 1, 1, 50), dtype=int64)\n",
            "\n",
            "\n",
            "(50,) 1 tf.Tensor(\n",
            "[71 17 96 40  0 80 59 34 51 20  1 58 63 59 91 98 25 24 19 42 21 70 94 73\n",
            " 16 70 84  2 26 57 28 91 54 24 74  9  9 14  6 12 19 22 80 15 43 44 95  8\n",
            " 88 31], shape=(50,), dtype=int64)\n"
          ]
        }
      ]
    },
    {
      "cell_type": "code",
      "source": [
        "#5\n",
        "muldot1 = tf.tensordot(rand1, tf.transpose(rand2), axes=1)\n",
        "print(f'The dot mult between rand1 and rand2.T: \\n {muldot1}')\n",
        "\n",
        "muldot2 = tf.tensordot(tf.transpose(rand1), rand2, axes=1)\n",
        "print(f'The dot mult between rand1.T and rand2: \\n {muldot2}')\n",
        "\n",
        "mul1 == muldot1,\n"
      ],
      "metadata": {
        "colab": {
          "base_uri": "https://localhost:8080/"
        },
        "id": "W4Ha2h7BhDhW",
        "outputId": "4808d20a-4719-4b70-fa18-ea382458281b"
      },
      "execution_count": 59,
      "outputs": [
        {
          "output_type": "stream",
          "name": "stdout",
          "text": [
            "The dot mult between rand1 and rand2.T: \n",
            " [[ 14.913218    -0.55677366  -9.909836   -10.573011    10.969653  ]\n",
            " [  0.49515152  24.104378    11.763264     2.113676   -21.95736   ]\n",
            " [ -9.712297    -8.945776    14.049825    23.227276    21.9371    ]\n",
            " [  4.6764517   -6.168643   -25.081284   -16.319977   -49.996113  ]\n",
            " [  0.12659264 -13.628103   -15.728617   -12.990693    -6.9835596 ]]\n",
            "The dot mult between rand1.T and rand2: \n",
            " [[ 8.213633    1.0903815  -2.230025   ... -3.0854595   6.2754397\n",
            "   1.9148272 ]\n",
            " [ 4.345087    0.09137577 -3.017852   ... -0.24191537  4.1908617\n",
            "   0.7064656 ]\n",
            " [ 2.6816695  -3.3974175  -3.296514   ... -0.37390456  1.749292\n",
            "   0.7750931 ]\n",
            " ...\n",
            " [ 1.6394053   1.0170882   0.2831524  ... -2.881369    1.9431812\n",
            "   2.8533697 ]\n",
            " [-3.7893028  -2.559697   -2.8801975  ...  2.2011101  -2.4504611\n",
            "  -0.7819225 ]\n",
            " [ 5.715545    2.085618   -2.4082282  ... -0.01885016  4.303542\n",
            "  -1.0923401 ]]\n"
          ]
        },
        {
          "output_type": "execute_result",
          "data": {
            "text/plain": [
              "<tf.Tensor: shape=(5, 5), dtype=bool, numpy=\n",
              "array([[ True,  True,  True,  True,  True],\n",
              "       [ True,  True,  True,  True,  True],\n",
              "       [ True,  True,  True,  True,  True],\n",
              "       [ True,  True,  True,  True,  True],\n",
              "       [ True,  True,  True,  True,  True]])>"
            ]
          },
          "metadata": {},
          "execution_count": 59
        }
      ]
    },
    {
      "cell_type": "code",
      "source": [
        "# Apunte reshape != transpose\n",
        "v1 = tf.constant([[1,2],\n",
        "                  [3,4],\n",
        "                  [5,6]])\n",
        "\n",
        "v2 = tf.constant([[7,8],\n",
        "                  [9,10],\n",
        "                  [11,12]])\n",
        "\n",
        "v1t = tf.transpose(v2)\n",
        "v1r = tf.reshape(v2, shape=(2,3))\n",
        "\n",
        "print(f'v1 transpuesta : \\n {v1t}')\n",
        "print(f'v1 reshappe : \\n {v1r}')"
      ],
      "metadata": {
        "colab": {
          "base_uri": "https://localhost:8080/"
        },
        "id": "nZ_ocCU9cp_J",
        "outputId": "717e4b3d-7739-4021-b1fd-cb443bb4ce09"
      },
      "execution_count": 53,
      "outputs": [
        {
          "output_type": "stream",
          "name": "stdout",
          "text": [
            "v1 transpuesta : \n",
            " [[ 7  9 11]\n",
            " [ 8 10 12]]\n",
            "v1 reshappe : \n",
            " [[ 7  8  9]\n",
            " [10 11 12]]\n"
          ]
        }
      ]
    },
    {
      "cell_type": "code",
      "source": [
        "#4\n",
        "mul1 = rand1 @ tf.transpose(rand2)\n",
        "print(f'Result of rand1 * rand2.T: \\n {mul1} \\n, Dim of mult: {mul1.shape}')\n",
        "mul2 = tf.transpose(rand1) @ rand2\n",
        "print(f'Result of rand1.T * rand1: \\n {mul2} \\n, Dim of mult: {mul2.shape}')\n",
        "\n"
      ],
      "metadata": {
        "colab": {
          "base_uri": "https://localhost:8080/"
        },
        "id": "4leR68rwaWma",
        "outputId": "08ba7860-b1b3-417a-d2f0-9264a6789aa5"
      },
      "execution_count": 63,
      "outputs": [
        {
          "output_type": "stream",
          "name": "stdout",
          "text": [
            "Result of rand1 * rand2.T: \n",
            " [[ 14.913218    -0.55677366  -9.909836   -10.573011    10.969653  ]\n",
            " [  0.49515152  24.104378    11.763264     2.113676   -21.95736   ]\n",
            " [ -9.712297    -8.945776    14.049825    23.227276    21.9371    ]\n",
            " [  4.6764517   -6.168643   -25.081284   -16.319977   -49.996113  ]\n",
            " [  0.12659264 -13.628103   -15.728617   -12.990693    -6.9835596 ]] \n",
            ", Dim of mult: (5, 5)\n",
            "Result of rand1.T * rand1: \n",
            " [[ 8.213633    1.0903815  -2.230025   ... -3.0854595   6.2754397\n",
            "   1.9148272 ]\n",
            " [ 4.345087    0.09137577 -3.017852   ... -0.24191537  4.1908617\n",
            "   0.7064656 ]\n",
            " [ 2.6816695  -3.3974175  -3.296514   ... -0.37390456  1.749292\n",
            "   0.7750931 ]\n",
            " ...\n",
            " [ 1.6394053   1.0170882   0.2831524  ... -2.881369    1.9431812\n",
            "   2.8533697 ]\n",
            " [-3.7893028  -2.559697   -2.8801975  ...  2.2011101  -2.4504611\n",
            "  -0.7819225 ]\n",
            " [ 5.715545    2.085618   -2.4082282  ... -0.01885016  4.303542\n",
            "  -1.0923401 ]] \n",
            ", Dim of mult: (300, 300)\n"
          ]
        }
      ]
    },
    {
      "cell_type": "code",
      "source": [
        "#3\n",
        "rand1 = tf.random.Generator.from_seed(5)\n",
        "rand1 = rand1.normal(shape=[5,300])\n",
        "\n",
        "rand2 = tf.random.Generator.from_seed(10)\n",
        "rand2 = rand2.normal(shape=[5,300])\n",
        "\n",
        "print(f'first random matrix: {rand1},\\n second random matrix: {rand2}')"
      ],
      "metadata": {
        "colab": {
          "base_uri": "https://localhost:8080/"
        },
        "id": "fpvg_roDUw5h",
        "outputId": "4f82d069-90d0-4fd3-9507-caf76434dda3"
      },
      "execution_count": 18,
      "outputs": [
        {
          "output_type": "stream",
          "name": "stdout",
          "text": [
            "first random matrix: [[ 1.0278524   0.27974114 -0.01347923 ...  1.2053189  -0.3511434\n",
            "   0.13897082]\n",
            " [ 0.32744762 -0.3579723   1.230323   ... -0.60134953  0.455365\n",
            "   0.18552932]\n",
            " [-2.0545108  -1.7917832  -0.781357   ... -0.84087443  0.8430845\n",
            "  -1.0322016 ]\n",
            " [ 1.0498744   0.10989144 -0.6479687  ...  0.10615379 -0.45561165\n",
            "   1.69945   ]\n",
            " [ 0.32171428  0.62645096  1.3242275  ... -0.30130875  1.0943383\n",
            "   0.255803  ]],\n",
            " second random matrix: [[-0.29604465 -0.21134205  0.01063002 ... -2.286797    0.07126775\n",
            "   2.3546813 ]\n",
            " [ 2.2539537  -0.8510308   0.8119971  ... -1.3636322   0.5770591\n",
            "   0.30280197]\n",
            " [-3.3228774  -0.27568147  0.24829084 ...  0.6243957  -2.4371004\n",
            "  -0.25115213]\n",
            " [ 1.3310204   1.3616577  -0.8285553  ...  0.46930176  1.0072736\n",
            "  -0.9760802 ]\n",
            " [-1.3814136  -1.273435   -3.5026186  ...  1.5593605  -0.15954968\n",
            "  -0.2978496 ]]\n"
          ]
        }
      ]
    },
    {
      "cell_type": "code",
      "source": [
        "2#\n",
        "shape1 = scalar.shape\n",
        "rank1 = scalar.ndim\n",
        "size1 = tf.size(scalar).numpy()\n",
        "print(f'Shape, Rank, Size of a scalar = {shape1, rank1, size1}')\n",
        "\n",
        "shape2 = vector.shape\n",
        "rank2 = vector.ndim\n",
        "size2 = tf.size(vector).numpy()\n",
        "print(f'Shape, Rank, Size of a vector = {shape2, rank2, size2}')\n",
        "\n",
        "shape3 = matrix.shape\n",
        "rank3= matrix.ndim\n",
        "size3 = tf.size(matrix).numpy()\n",
        "print(f'Shape, Rank, Size of a matrix = {shape3, rank3, size3}')\n",
        "\n",
        "\n"
      ],
      "metadata": {
        "colab": {
          "base_uri": "https://localhost:8080/"
        },
        "id": "sdwwGhawRnDp",
        "outputId": "c83d236f-2a3a-4ced-deac-92f2c35b6c34"
      },
      "execution_count": 9,
      "outputs": [
        {
          "output_type": "stream",
          "name": "stdout",
          "text": [
            "Shape, Rank, Size of a scalar = (TensorShape([]), 0, 1)\n",
            "Shape, Rank, Size of a vector = (TensorShape([2]), 1, 2)\n",
            "Shape, Rank, Size of a matrix = (TensorShape([3, 3]), 2, 9)\n"
          ]
        }
      ]
    },
    {
      "cell_type": "code",
      "execution_count": 29,
      "metadata": {
        "colab": {
          "base_uri": "https://localhost:8080/"
        },
        "id": "pAH8HA_M7n6t",
        "outputId": "1a99f538-3bd3-4202-8e31-f18c3e67c3bc"
      },
      "outputs": [
        {
          "output_type": "stream",
          "name": "stdout",
          "text": [
            "tf.Tensor(8, shape=(), dtype=int32)\n",
            "tf.Tensor([9 9], shape=(2,), dtype=int32)\n",
            "tf.Tensor(\n",
            "[[1 2 3]\n",
            " [4 5 6]\n",
            " [7 8 9]], shape=(3, 3), dtype=int32)\n",
            "tf.Tensor(\n",
            "[[[ 1  2  3]\n",
            "  [ 4  5  6]]\n",
            "\n",
            " [[10 11 12]\n",
            "  [13 14 15]]], shape=(2, 2, 3), dtype=int32)\n"
          ]
        }
      ],
      "source": [
        "#1\n",
        "import tensorflow as tf\n",
        "scalar = tf.constant(8)\n",
        "vector = tf.constant([9,9])\n",
        "matrix = tf.constant([[1,2,3],\n",
        "                      [4,5,6],\n",
        "                      [7,8,9]])\n",
        "\n",
        "tensor = tf.constant([[[1,2,3],\n",
        "                      [4,5,6]],\n",
        "                       [[10,11,12],\n",
        "                       [13,14,15]]])\n",
        "\n",
        "print(scalar)\n",
        "print(vector)\n",
        "print(matrix)\n",
        "print(tensor)"
      ]
    }
  ]
}
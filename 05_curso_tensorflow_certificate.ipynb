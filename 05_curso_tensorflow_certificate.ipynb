{
  "nbformat": 4,
  "nbformat_minor": 0,
  "metadata": {
    "colab": {
      "provenance": [],
      "authorship_tag": "ABX9TyPyPDYCE2QyTy0oHQCCej++",
      "include_colab_link": true
    },
    "kernelspec": {
      "name": "python3",
      "display_name": "Python 3"
    },
    "language_info": {
      "name": "python"
    },
    "accelerator": "GPU",
    "gpuClass": "standard"
  },
  "cells": [
    {
      "cell_type": "markdown",
      "metadata": {
        "id": "view-in-github",
        "colab_type": "text"
      },
      "source": [
        "<a href=\"https://colab.research.google.com/github/Rubnserrano/TF-Certification/blob/main/05_curso_tensorflow_certificate.ipynb\" target=\"_parent\"><img src=\"https://colab.research.google.com/assets/colab-badge.svg\" alt=\"Open In Colab\"/></a>"
      ]
    },
    {
      "cell_type": "markdown",
      "source": [
        "# 05. Transfer learning with TensorFlow Part 2: Fine-tunning"
      ],
      "metadata": {
        "id": "SyDxWvy_Dnr-"
      }
    },
    {
      "cell_type": "code",
      "source": [
        "!nvidia-smi"
      ],
      "metadata": {
        "id": "uwoWVQgyDv3s",
        "colab": {
          "base_uri": "https://localhost:8080/"
        },
        "outputId": "0469f321-c5c6-4ff6-c8d2-423135e4e313"
      },
      "execution_count": 1,
      "outputs": [
        {
          "output_type": "stream",
          "name": "stdout",
          "text": [
            "Thu Nov  3 19:39:09 2022       \n",
            "+-----------------------------------------------------------------------------+\n",
            "| NVIDIA-SMI 460.32.03    Driver Version: 460.32.03    CUDA Version: 11.2     |\n",
            "|-------------------------------+----------------------+----------------------+\n",
            "| GPU  Name        Persistence-M| Bus-Id        Disp.A | Volatile Uncorr. ECC |\n",
            "| Fan  Temp  Perf  Pwr:Usage/Cap|         Memory-Usage | GPU-Util  Compute M. |\n",
            "|                               |                      |               MIG M. |\n",
            "|===============================+======================+======================|\n",
            "|   0  Tesla T4            Off  | 00000000:00:04.0 Off |                    0 |\n",
            "| N/A   51C    P0    26W /  70W |      0MiB / 15109MiB |      0%      Default |\n",
            "|                               |                      |                  N/A |\n",
            "+-------------------------------+----------------------+----------------------+\n",
            "                                                                               \n",
            "+-----------------------------------------------------------------------------+\n",
            "| Processes:                                                                  |\n",
            "|  GPU   GI   CI        PID   Type   Process name                  GPU Memory |\n",
            "|        ID   ID                                                   Usage      |\n",
            "|=============================================================================|\n",
            "|  No running processes found                                                 |\n",
            "+-----------------------------------------------------------------------------+\n"
          ]
        }
      ]
    },
    {
      "cell_type": "code",
      "source": [
        "!wget https://raw.githubusercontent.com/mrdbourke/tensorflow-deep-learning/main/extras/helper_functions.py \n",
        "from helper_functions import create_tensorboard_callback, plot_loss_curves, unzip_data, walk_through_dir"
      ],
      "metadata": {
        "colab": {
          "base_uri": "https://localhost:8080/"
        },
        "id": "xvcpiiltASVy",
        "outputId": "786836e1-9c73-433a-8221-c19780a0ac56"
      },
      "execution_count": 4,
      "outputs": [
        {
          "output_type": "stream",
          "name": "stdout",
          "text": [
            "--2022-11-03 21:28:07--  https://raw.githubusercontent.com/mrdbourke/tensorflow-deep-learning/main/extras/helper_functions.py\n",
            "Resolving raw.githubusercontent.com (raw.githubusercontent.com)... 185.199.109.133, 185.199.110.133, 185.199.111.133, ...\n",
            "Connecting to raw.githubusercontent.com (raw.githubusercontent.com)|185.199.109.133|:443... connected.\n",
            "HTTP request sent, awaiting response... 200 OK\n",
            "Length: 10246 (10K) [text/plain]\n",
            "Saving to: ‘helper_functions.py’\n",
            "\n",
            "helper_functions.py 100%[===================>]  10.01K  --.-KB/s    in 0s      \n",
            "\n",
            "2022-11-03 21:28:08 (115 MB/s) - ‘helper_functions.py’ saved [10246/10246]\n",
            "\n"
          ]
        }
      ]
    },
    {
      "cell_type": "code",
      "source": [
        "!wget https://storage.googleapis.com/ztm_tf_course/food_vision/10_food_classes_10_percent.zip \n",
        "unzip_data('10_food_classes_10_percent.zip')"
      ],
      "metadata": {
        "colab": {
          "base_uri": "https://localhost:8080/"
        },
        "id": "PXMvzRh-AXwg",
        "outputId": "eec97640-ae9d-4914-abbf-bee4e7b44df4"
      },
      "execution_count": 8,
      "outputs": [
        {
          "output_type": "stream",
          "name": "stdout",
          "text": [
            "--2022-11-03 21:28:35--  https://storage.googleapis.com/ztm_tf_course/food_vision/10_food_classes_10_percent.zip\n",
            "Resolving storage.googleapis.com (storage.googleapis.com)... 142.250.4.128, 74.125.24.128, 172.217.194.128, ...\n",
            "Connecting to storage.googleapis.com (storage.googleapis.com)|142.250.4.128|:443... connected.\n",
            "HTTP request sent, awaiting response... 200 OK\n",
            "Length: 168546183 (161M) [application/zip]\n",
            "Saving to: ‘10_food_classes_10_percent.zip’\n",
            "\n",
            "10_food_classes_10_ 100%[===================>] 160.74M  16.1MB/s    in 12s     \n",
            "\n",
            "2022-11-03 21:28:48 (13.7 MB/s) - ‘10_food_classes_10_percent.zip’ saved [168546183/168546183]\n",
            "\n"
          ]
        }
      ]
    },
    {
      "cell_type": "code",
      "source": [
        "walk_through_dir('10_food_classes_10_percent')"
      ],
      "metadata": {
        "colab": {
          "base_uri": "https://localhost:8080/"
        },
        "id": "olFtWoyjAhh_",
        "outputId": "678c0880-d0d2-4f93-ba69-ecfb3ba41f68"
      },
      "execution_count": 4,
      "outputs": [
        {
          "output_type": "stream",
          "name": "stdout",
          "text": [
            "There are 2 directories and 0 images in '10_food_classes_10_percent'.\n",
            "There are 10 directories and 0 images in '10_food_classes_10_percent/train'.\n",
            "There are 0 directories and 75 images in '10_food_classes_10_percent/train/hamburger'.\n",
            "There are 0 directories and 75 images in '10_food_classes_10_percent/train/ice_cream'.\n",
            "There are 0 directories and 75 images in '10_food_classes_10_percent/train/ramen'.\n",
            "There are 0 directories and 75 images in '10_food_classes_10_percent/train/chicken_curry'.\n",
            "There are 0 directories and 75 images in '10_food_classes_10_percent/train/pizza'.\n",
            "There are 0 directories and 75 images in '10_food_classes_10_percent/train/grilled_salmon'.\n",
            "There are 0 directories and 75 images in '10_food_classes_10_percent/train/fried_rice'.\n",
            "There are 0 directories and 75 images in '10_food_classes_10_percent/train/chicken_wings'.\n",
            "There are 0 directories and 75 images in '10_food_classes_10_percent/train/steak'.\n",
            "There are 0 directories and 75 images in '10_food_classes_10_percent/train/sushi'.\n",
            "There are 10 directories and 0 images in '10_food_classes_10_percent/test'.\n",
            "There are 0 directories and 250 images in '10_food_classes_10_percent/test/hamburger'.\n",
            "There are 0 directories and 250 images in '10_food_classes_10_percent/test/ice_cream'.\n",
            "There are 0 directories and 250 images in '10_food_classes_10_percent/test/ramen'.\n",
            "There are 0 directories and 250 images in '10_food_classes_10_percent/test/chicken_curry'.\n",
            "There are 0 directories and 250 images in '10_food_classes_10_percent/test/pizza'.\n",
            "There are 0 directories and 250 images in '10_food_classes_10_percent/test/grilled_salmon'.\n",
            "There are 0 directories and 250 images in '10_food_classes_10_percent/test/fried_rice'.\n",
            "There are 0 directories and 250 images in '10_food_classes_10_percent/test/chicken_wings'.\n",
            "There are 0 directories and 250 images in '10_food_classes_10_percent/test/steak'.\n",
            "There are 0 directories and 250 images in '10_food_classes_10_percent/test/sushi'.\n"
          ]
        }
      ]
    },
    {
      "cell_type": "code",
      "source": [
        "train_dir = '10_food_classes_10_percent/train/'\n",
        "test_dir = '10_food_classes_10_percent/test/'"
      ],
      "metadata": {
        "id": "CPT3zlW9Aqtr"
      },
      "execution_count": 9,
      "outputs": []
    },
    {
      "cell_type": "code",
      "source": [
        "import tensorflow as tf\n",
        "IMG_SIZE = (224,224)\n",
        "train_data_10_percent = tf.keras.preprocessing.image_dataset_from_directory(directory = train_dir,\n",
        "                                                                            image_size = IMG_SIZE,\n",
        "                                                                            label_mode = 'categorical',\n",
        "                                                                            batch_size = 32)\n",
        "test_data_10_percent = tf.keras.preprocessing.image_dataset_from_directory(directory = test_dir,\n",
        "                                                                            image_size = IMG_SIZE,\n",
        "                                                                            label_mode = 'categorical',\n",
        "                                                                            )"
      ],
      "metadata": {
        "colab": {
          "base_uri": "https://localhost:8080/"
        },
        "id": "XkOuDklDAz0M",
        "outputId": "f59d565d-9bc4-49ae-c837-04ef4354b053"
      },
      "execution_count": 10,
      "outputs": [
        {
          "output_type": "stream",
          "name": "stdout",
          "text": [
            "Found 750 files belonging to 10 classes.\n",
            "Found 2500 files belonging to 10 classes.\n"
          ]
        }
      ]
    },
    {
      "cell_type": "code",
      "source": [
        "train_data_10_percent"
      ],
      "metadata": {
        "colab": {
          "base_uri": "https://localhost:8080/"
        },
        "id": "x9pithulBQz0",
        "outputId": "4841c91c-c8c4-4932-eb12-6916d538e321"
      },
      "execution_count": 7,
      "outputs": [
        {
          "output_type": "execute_result",
          "data": {
            "text/plain": [
              "<BatchDataset element_spec=(TensorSpec(shape=(None, 224, 224, 3), dtype=tf.float32, name=None), TensorSpec(shape=(None, 10), dtype=tf.float32, name=None))>"
            ]
          },
          "metadata": {},
          "execution_count": 7
        }
      ]
    },
    {
      "cell_type": "code",
      "source": [
        "train_data_10_percent.class_names"
      ],
      "metadata": {
        "colab": {
          "base_uri": "https://localhost:8080/"
        },
        "id": "oJCgjQreBhqG",
        "outputId": "918a96cd-b21e-4808-9f06-deb2510b5d22"
      },
      "execution_count": 8,
      "outputs": [
        {
          "output_type": "execute_result",
          "data": {
            "text/plain": [
              "['chicken_curry',\n",
              " 'chicken_wings',\n",
              " 'fried_rice',\n",
              " 'grilled_salmon',\n",
              " 'hamburger',\n",
              " 'ice_cream',\n",
              " 'pizza',\n",
              " 'ramen',\n",
              " 'steak',\n",
              " 'sushi']"
            ]
          },
          "metadata": {},
          "execution_count": 8
        }
      ]
    },
    {
      "cell_type": "code",
      "source": [
        "for images, labels in train_data_10_percent.take(1):\n",
        "  print(images,labels)"
      ],
      "metadata": {
        "colab": {
          "base_uri": "https://localhost:8080/"
        },
        "id": "ThmFWXTsBkg-",
        "outputId": "5637a9b5-bd8b-42dc-8117-46485819499a"
      },
      "execution_count": 11,
      "outputs": [
        {
          "output_type": "stream",
          "name": "stdout",
          "text": [
            "tf.Tensor(\n",
            "[[[[1.77018490e+01 1.27018499e+01 8.70184994e+00]\n",
            "   [1.65475121e+01 1.15475130e+01 7.54751253e+00]\n",
            "   [1.47273598e+01 9.72735977e+00 5.72735977e+00]\n",
            "   ...\n",
            "   [3.48838768e+01 2.93386135e+01 2.33386135e+01]\n",
            "   [3.33571434e+01 2.83571434e+01 2.23571434e+01]\n",
            "   [3.28992386e+01 2.98992405e+01 2.28992405e+01]]\n",
            "\n",
            "  [[2.03408794e+01 1.53408794e+01 1.13408794e+01]\n",
            "   [1.89110355e+01 1.39110336e+01 9.91103363e+00]\n",
            "   [2.19668388e+01 1.69668388e+01 1.29668379e+01]\n",
            "   ...\n",
            "   [3.52355728e+01 3.06750355e+01 2.64553051e+01]\n",
            "   [3.28654327e+01 2.98571434e+01 2.48612881e+01]\n",
            "   [3.45044823e+01 3.15044823e+01 2.45044823e+01]]\n",
            "\n",
            "  [[2.08571434e+01 1.58571434e+01 1.18571434e+01]\n",
            "   [2.25653706e+01 1.75653706e+01 1.35653706e+01]\n",
            "   [2.59853325e+01 2.09853325e+01 1.69853325e+01]\n",
            "   ...\n",
            "   [3.71128731e+01 3.25354309e+01 2.84002113e+01]\n",
            "   [3.75258446e+01 3.43115616e+01 2.97401314e+01]\n",
            "   [3.80628052e+01 3.48485184e+01 3.02770901e+01]]\n",
            "\n",
            "  ...\n",
            "\n",
            "  [[5.54507554e-01 6.18353510e+00 4.33495045e+00]\n",
            "   [1.19300919e+01 2.13068771e+01 2.07354050e+01]\n",
            "   [9.67823639e+01 1.09002640e+02 1.09358124e+02]\n",
            "   ...\n",
            "   [1.37273697e+02 1.63166794e+02 1.76685822e+02]\n",
            "   [1.27608810e+02 1.52465866e+02 1.64894394e+02]\n",
            "   [1.20124756e+02 1.41964539e+02 1.52375793e+02]]\n",
            "\n",
            "  [[6.86767292e+00 4.33350992e+00 1.20215142e+00]\n",
            "   [8.22385120e+00 9.00026608e+00 4.00026655e+00]\n",
            "   [3.45993423e+00 5.30014753e+00 3.29918098e+00]\n",
            "   ...\n",
            "   [1.29194580e+02 1.48362518e+02 1.56983002e+02]\n",
            "   [1.15525093e+02 1.30355347e+02 1.35319214e+02]\n",
            "   [9.47316589e+01 1.05424843e+02 1.07987282e+02]]\n",
            "\n",
            "  [[1.05300026e+01 1.75221360e+00 0.00000000e+00]\n",
            "   [1.34552174e+01 5.89839172e+00 1.36025798e+00]\n",
            "   [6.77324533e+00 4.00881577e+00 2.24438691e+00]\n",
            "   ...\n",
            "   [9.99744568e+01 1.15009346e+02 1.20585091e+02]\n",
            "   [7.15901794e+01 8.13117371e+01 8.17714233e+01]\n",
            "   [5.34428596e+01 5.79759140e+01 5.41980934e+01]]]\n",
            "\n",
            "\n",
            " [[[2.47000000e+02 2.34000000e+02 2.18000000e+02]\n",
            "   [2.47000000e+02 2.34000000e+02 2.18000000e+02]\n",
            "   [2.47000000e+02 2.34000000e+02 2.18000000e+02]\n",
            "   ...\n",
            "   [2.47000000e+02 2.34000000e+02 2.18000000e+02]\n",
            "   [2.47000000e+02 2.34000000e+02 2.18000000e+02]\n",
            "   [2.47000000e+02 2.34000000e+02 2.18000000e+02]]\n",
            "\n",
            "  [[2.47000000e+02 2.34000000e+02 2.18000000e+02]\n",
            "   [2.47000000e+02 2.34000000e+02 2.18000000e+02]\n",
            "   [2.47000000e+02 2.34000000e+02 2.18000000e+02]\n",
            "   ...\n",
            "   [2.47000000e+02 2.34000000e+02 2.18000000e+02]\n",
            "   [2.47000000e+02 2.34000000e+02 2.18000000e+02]\n",
            "   [2.47000000e+02 2.34000000e+02 2.18000000e+02]]\n",
            "\n",
            "  [[2.47000000e+02 2.34000000e+02 2.18000000e+02]\n",
            "   [2.47000000e+02 2.34000000e+02 2.18000000e+02]\n",
            "   [2.47000000e+02 2.34000000e+02 2.18000000e+02]\n",
            "   ...\n",
            "   [2.47000000e+02 2.34000000e+02 2.18000000e+02]\n",
            "   [2.47000000e+02 2.34000000e+02 2.18000000e+02]\n",
            "   [2.47000000e+02 2.34000000e+02 2.18000000e+02]]\n",
            "\n",
            "  ...\n",
            "\n",
            "  [[2.47000000e+02 2.34000000e+02 2.18000000e+02]\n",
            "   [2.47000000e+02 2.34000000e+02 2.18000000e+02]\n",
            "   [2.47000000e+02 2.34000000e+02 2.18000000e+02]\n",
            "   ...\n",
            "   [2.47000000e+02 2.34000000e+02 2.18000000e+02]\n",
            "   [2.47000000e+02 2.34000000e+02 2.18000000e+02]\n",
            "   [2.47000000e+02 2.34000000e+02 2.18000000e+02]]\n",
            "\n",
            "  [[2.47000000e+02 2.34000000e+02 2.18000000e+02]\n",
            "   [2.47000000e+02 2.34000000e+02 2.18000000e+02]\n",
            "   [2.47000000e+02 2.34000000e+02 2.18000000e+02]\n",
            "   ...\n",
            "   [2.47000000e+02 2.34000000e+02 2.18000000e+02]\n",
            "   [2.47000000e+02 2.34000000e+02 2.18000000e+02]\n",
            "   [2.47000000e+02 2.34000000e+02 2.18000000e+02]]\n",
            "\n",
            "  [[2.47000000e+02 2.34000000e+02 2.18000000e+02]\n",
            "   [2.47000000e+02 2.34000000e+02 2.18000000e+02]\n",
            "   [2.47000000e+02 2.34000000e+02 2.18000000e+02]\n",
            "   ...\n",
            "   [2.47000000e+02 2.34000000e+02 2.18000000e+02]\n",
            "   [2.47000000e+02 2.34000000e+02 2.18000000e+02]\n",
            "   [2.47000000e+02 2.34000000e+02 2.18000000e+02]]]\n",
            "\n",
            "\n",
            " [[[2.24658157e+02 1.37301025e+02 2.60867348e+01]\n",
            "   [2.25188782e+02 1.39234695e+02 3.73775520e+01]\n",
            "   [2.35000000e+02 1.47719391e+02 4.56938782e+01]\n",
            "   ...\n",
            "   [5.70914793e+00 6.70914793e+00 4.28527832e-01]\n",
            "   [5.33162785e+00 4.33162785e+00 1.42883301e-01]\n",
            "   [4.22961426e+00 4.22961426e+00 2.94396973e+00]]\n",
            "\n",
            "  [[2.30357147e+02 1.39454086e+02 3.30969391e+01]\n",
            "   [2.30714294e+02 1.42857147e+02 4.40051041e+01]\n",
            "   [2.41428574e+02 1.55173462e+02 5.60306129e+01]\n",
            "   ...\n",
            "   [7.04081964e+00 7.98469543e+00 4.13223267e-01]\n",
            "   [6.99998665e+00 5.99998665e+00 1.20410585e+00]\n",
            "   [4.57139397e+00 4.71425056e+00 3.21432066e+00]]\n",
            "\n",
            "  [[2.31198975e+02 1.43857132e+02 2.33622456e+01]\n",
            "   [2.27122452e+02 1.43897964e+02 3.60306168e+01]\n",
            "   [2.33591827e+02 1.52734695e+02 5.58112259e+01]\n",
            "   ...\n",
            "   [7.73982239e+00 7.61738586e+00 2.14263916e-01]\n",
            "   [7.98469114e+00 7.71427250e+00 5.96969843e-01]\n",
            "   [4.42853642e+00 6.42853642e+00 2.14289188e+00]]\n",
            "\n",
            "  ...\n",
            "\n",
            "  [[1.39989792e+02 1.08576508e+02 7.97142715e+01]\n",
            "   [1.44183670e+02 1.08928543e+02 7.90561066e+01]\n",
            "   [1.58132599e+02 1.18795868e+02 8.87295456e+01]\n",
            "   ...\n",
            "   [8.25609589e+01 8.33925781e+01 7.88977203e+01]\n",
            "   [1.03898125e+02 1.05898125e+02 1.04898125e+02]\n",
            "   [1.12627495e+02 1.13627495e+02 1.15627495e+02]]\n",
            "\n",
            "  [[1.48117523e+02 1.16979790e+02 8.80256958e+01]\n",
            "   [1.48127640e+02 1.13071548e+02 8.49899368e+01]\n",
            "   [1.55377594e+02 1.18234772e+02 8.92347717e+01]\n",
            "   ...\n",
            "   [8.09797058e+01 8.11939697e+01 7.85511780e+01]\n",
            "   [1.13076698e+02 1.15010353e+02 1.14209373e+02]\n",
            "   [1.16948990e+02 1.17948990e+02 1.21806168e+02]]\n",
            "\n",
            "  [[1.35607193e+02 1.05250046e+02 7.72500458e+01]\n",
            "   [1.40479630e+02 1.08408180e+02 7.97653275e+01]\n",
            "   [1.44867371e+02 1.11576553e+02 8.12194061e+01]\n",
            "   ...\n",
            "   [9.43165054e+01 9.43165054e+01 9.23165054e+01]\n",
            "   [1.18535690e+02 1.19535690e+02 1.21535690e+02]\n",
            "   [1.20913391e+02 1.21913391e+02 1.25913391e+02]]]\n",
            "\n",
            "\n",
            " ...\n",
            "\n",
            "\n",
            " [[[1.51229584e+02 1.22285713e+02 7.49030609e+01]\n",
            "   [1.44239792e+02 1.17454086e+02 7.90051041e+01]\n",
            "   [1.32433670e+02 1.11362244e+02 8.41581650e+01]\n",
            "   ...\n",
            "   [1.95714073e+01 7.57140684e+00 7.57140684e+00]\n",
            "   [2.04285851e+01 6.42858458e+00 6.42858458e+00]\n",
            "   [2.20714626e+01 8.07146358e+00 8.07146358e+00]]\n",
            "\n",
            "  [[1.35663269e+02 1.15306122e+02 7.98775482e+01]\n",
            "   [1.27168365e+02 1.09602036e+02 8.08877563e+01]\n",
            "   [1.27903061e+02 1.13102043e+02 9.44336853e+01]\n",
            "   ...\n",
            "   [2.05867767e+01 7.01530457e+00 7.01530457e+00]\n",
            "   [2.19285717e+01 5.92857170e+00 6.92857170e+00]\n",
            "   [2.29285717e+01 6.92857170e+00 7.92857170e+00]]\n",
            "\n",
            "  [[1.23964287e+02 1.16821426e+02 9.87602005e+01]\n",
            "   [1.38469391e+02 1.32198990e+02 1.17612251e+02]\n",
            "   [1.49801025e+02 1.44086731e+02 1.35877563e+02]\n",
            "   ...\n",
            "   [2.16887932e+01 5.26022148e+00 5.26022148e+00]\n",
            "   [2.44285717e+01 6.00000000e+00 6.21428585e+00]\n",
            "   [2.52142868e+01 6.78571415e+00 7.00000000e+00]]\n",
            "\n",
            "  ...\n",
            "\n",
            "  [[2.03418388e+01 9.34183788e+00 5.34183836e+00]\n",
            "   [2.32041416e+01 1.22041416e+01 8.20414162e+00]\n",
            "   [2.10458698e+01 1.00458698e+01 8.04586983e+00]\n",
            "   ...\n",
            "   [5.25662537e+01 2.23519917e+01 2.01377277e+01]\n",
            "   [5.12142029e+01 2.17856750e+01 1.78570557e+01]\n",
            "   [5.70562057e+01 2.61327362e+01 2.09031448e+01]]\n",
            "\n",
            "  [[2.15204258e+01 1.05204248e+01 6.52042484e+00]\n",
            "   [2.18622589e+01 1.08622599e+01 6.86225986e+00]\n",
            "   [1.82143250e+01 7.21432495e+00 5.21432495e+00]\n",
            "   ...\n",
            "   [5.51734962e+01 2.71734982e+01 2.41734982e+01]\n",
            "   [5.07907791e+01 2.17907791e+01 1.77907791e+01]\n",
            "   [5.15204391e+01 2.05204372e+01 1.75204372e+01]]\n",
            "\n",
            "  [[2.00611401e+01 9.06114006e+00 5.18870354e+00]\n",
            "   [2.30714283e+01 1.20714283e+01 8.07142830e+00]\n",
            "   [2.42704544e+01 1.32704554e+01 1.12704554e+01]\n",
            "   ...\n",
            "   [4.66529694e+01 1.92957611e+01 1.60814972e+01]\n",
            "   [4.95051727e+01 1.95051708e+01 1.75051708e+01]\n",
            "   [5.20154915e+01 2.10154915e+01 1.80154915e+01]]]\n",
            "\n",
            "\n",
            " [[[0.00000000e+00 0.00000000e+00 0.00000000e+00]\n",
            "   [0.00000000e+00 0.00000000e+00 0.00000000e+00]\n",
            "   [0.00000000e+00 0.00000000e+00 0.00000000e+00]\n",
            "   ...\n",
            "   [4.66070976e+01 2.76070995e+01 0.00000000e+00]\n",
            "   [4.80459785e+01 2.90459785e+01 5.71467757e-01]\n",
            "   [5.69439697e+01 3.79439697e+01 7.94396973e+00]]\n",
            "\n",
            "  [[0.00000000e+00 0.00000000e+00 0.00000000e+00]\n",
            "   [0.00000000e+00 0.00000000e+00 0.00000000e+00]\n",
            "   [0.00000000e+00 0.00000000e+00 0.00000000e+00]\n",
            "   ...\n",
            "   [4.79642410e+01 2.89642410e+01 1.14784211e-01]\n",
            "   [5.27831955e+01 3.37831955e+01 3.78319502e+00]\n",
            "   [5.57831421e+01 3.67831421e+01 6.78314209e+00]]\n",
            "\n",
            "  [[0.00000000e+00 0.00000000e+00 0.00000000e+00]\n",
            "   [0.00000000e+00 0.00000000e+00 0.00000000e+00]\n",
            "   [0.00000000e+00 0.00000000e+00 0.00000000e+00]\n",
            "   ...\n",
            "   [4.91300774e+01 3.01300774e+01 2.14263916e-01]\n",
            "   [5.59285965e+01 3.69285965e+01 6.92859745e+00]\n",
            "   [5.37549706e+01 3.47549706e+01 4.75497007e+00]]\n",
            "\n",
            "  ...\n",
            "\n",
            "  [[0.00000000e+00 1.00000000e+00 0.00000000e+00]\n",
            "   [0.00000000e+00 1.00000000e+00 0.00000000e+00]\n",
            "   [0.00000000e+00 1.00000000e+00 0.00000000e+00]\n",
            "   ...\n",
            "   [8.02984619e+01 8.42984619e+01 8.51301270e+01]\n",
            "   [7.70076523e+01 8.10076523e+01 8.00076523e+01]\n",
            "   [7.82524948e+01 8.22524948e+01 8.12524948e+01]]\n",
            "\n",
            "  [[0.00000000e+00 1.00000000e+00 0.00000000e+00]\n",
            "   [0.00000000e+00 1.00000000e+00 0.00000000e+00]\n",
            "   [0.00000000e+00 1.00000000e+00 0.00000000e+00]\n",
            "   ...\n",
            "   [7.97779999e+01 8.37779999e+01 8.30075836e+01]\n",
            "   [7.75025406e+01 8.15025406e+01 8.05025406e+01]\n",
            "   [8.03571777e+01 8.48214417e+01 8.24286499e+01]]\n",
            "\n",
            "  [[0.00000000e+00 1.00000000e+00 0.00000000e+00]\n",
            "   [0.00000000e+00 1.00000000e+00 0.00000000e+00]\n",
            "   [0.00000000e+00 1.00000000e+00 0.00000000e+00]\n",
            "   ...\n",
            "   [8.06045303e+01 8.46045303e+01 8.36045303e+01]\n",
            "   [7.54770813e+01 7.94770813e+01 7.84770813e+01]\n",
            "   [7.54287109e+01 8.04287109e+01 7.64287109e+01]]]\n",
            "\n",
            "\n",
            " [[[1.09273117e+02 1.16273117e+02 1.08273117e+02]\n",
            "   [1.08170601e+02 1.15170601e+02 1.07170601e+02]\n",
            "   [1.08394928e+02 1.15394928e+02 1.07394928e+02]\n",
            "   ...\n",
            "   [9.05687790e+01 1.84549072e+02 2.32921661e+02]\n",
            "   [9.73765717e+01 1.87936203e+02 2.37656387e+02]\n",
            "   [9.69249649e+01 1.85398376e+02 2.37718796e+02]]\n",
            "\n",
            "  [[1.04796082e+02 1.14930801e+02 1.03526627e+02]\n",
            "   [1.04515152e+02 1.15039543e+02 1.02466354e+02]\n",
            "   [1.01376907e+02 1.11376907e+02 1.00376907e+02]\n",
            "   ...\n",
            "   [8.93655777e+01 1.83541962e+02 2.31816498e+02]\n",
            "   [8.91344147e+01 1.82707581e+02 2.31183197e+02]\n",
            "   [9.12271271e+01 1.90226227e+02 2.39152542e+02]]\n",
            "\n",
            "  [[1.00830200e+02 1.11830200e+02 9.56159134e+01]\n",
            "   [1.07106667e+02 1.18106667e+02 1.01892380e+02]\n",
            "   [1.04729912e+02 1.15729912e+02 9.95156250e+01]\n",
            "   ...\n",
            "   [8.91526108e+01 1.83387833e+02 2.29485886e+02]\n",
            "   [8.61629639e+01 1.80837845e+02 2.26549591e+02]\n",
            "   [8.14375916e+01 1.84848129e+02 2.29879227e+02]]\n",
            "\n",
            "  ...\n",
            "\n",
            "  [[1.90123154e+02 1.67544678e+02 9.15135880e+01]\n",
            "   [1.92604874e+02 1.70625870e+02 9.45048676e+01]\n",
            "   [1.96879425e+02 1.75130005e+02 9.89745636e+01]\n",
            "   ...\n",
            "   [1.75141418e+02 1.77569946e+02 1.38998474e+02]\n",
            "   [1.70799225e+02 1.73227753e+02 1.35543732e+02]\n",
            "   [1.74691666e+02 1.76448486e+02 1.43539749e+02]]\n",
            "\n",
            "  [[1.89660477e+02 1.61807770e+02 8.87341156e+01]\n",
            "   [1.83035355e+02 1.56084137e+02 8.25597458e+01]\n",
            "   [1.78991730e+02 1.52338974e+02 7.86653595e+01]\n",
            "   ...\n",
            "   [1.69093903e+02 1.71093903e+02 1.31819366e+02]\n",
            "   [1.64778992e+02 1.66778992e+02 1.27343719e+02]\n",
            "   [1.62388153e+02 1.63594345e+02 1.28685562e+02]]\n",
            "\n",
            "  [[1.74064224e+02 1.41344025e+02 7.02507553e+01]\n",
            "   [1.76435974e+02 1.45830856e+02 7.40325623e+01]\n",
            "   [1.80104813e+02 1.51037476e+02 7.85711365e+01]\n",
            "   ...\n",
            "   [1.76203003e+02 1.77203003e+02 1.37203003e+02]\n",
            "   [1.72208939e+02 1.72644211e+02 1.33773666e+02]\n",
            "   [1.63625412e+02 1.65335190e+02 1.28190079e+02]]]], shape=(32, 224, 224, 3), dtype=float32) tf.Tensor(\n",
            "[[0. 0. 0. 1. 0. 0. 0. 0. 0. 0.]\n",
            " [0. 0. 0. 0. 0. 0. 0. 0. 0. 1.]\n",
            " [0. 0. 0. 0. 0. 0. 0. 0. 0. 1.]\n",
            " [0. 0. 0. 0. 0. 0. 0. 0. 1. 0.]\n",
            " [0. 0. 0. 0. 0. 0. 1. 0. 0. 0.]\n",
            " [0. 0. 0. 0. 0. 0. 1. 0. 0. 0.]\n",
            " [0. 0. 0. 0. 0. 0. 0. 1. 0. 0.]\n",
            " [0. 0. 0. 0. 0. 1. 0. 0. 0. 0.]\n",
            " [0. 0. 0. 0. 0. 0. 0. 1. 0. 0.]\n",
            " [0. 0. 0. 0. 0. 0. 1. 0. 0. 0.]\n",
            " [0. 0. 0. 0. 0. 0. 1. 0. 0. 0.]\n",
            " [0. 0. 0. 0. 0. 0. 0. 0. 1. 0.]\n",
            " [0. 0. 1. 0. 0. 0. 0. 0. 0. 0.]\n",
            " [1. 0. 0. 0. 0. 0. 0. 0. 0. 0.]\n",
            " [0. 1. 0. 0. 0. 0. 0. 0. 0. 0.]\n",
            " [0. 1. 0. 0. 0. 0. 0. 0. 0. 0.]\n",
            " [0. 0. 0. 0. 0. 0. 0. 0. 0. 1.]\n",
            " [0. 0. 0. 0. 1. 0. 0. 0. 0. 0.]\n",
            " [0. 0. 0. 0. 0. 0. 0. 0. 0. 1.]\n",
            " [0. 0. 0. 0. 0. 0. 0. 0. 1. 0.]\n",
            " [0. 0. 0. 0. 0. 0. 0. 1. 0. 0.]\n",
            " [0. 0. 0. 1. 0. 0. 0. 0. 0. 0.]\n",
            " [0. 0. 0. 0. 1. 0. 0. 0. 0. 0.]\n",
            " [0. 0. 0. 0. 0. 0. 0. 0. 1. 0.]\n",
            " [0. 1. 0. 0. 0. 0. 0. 0. 0. 0.]\n",
            " [0. 0. 0. 0. 0. 0. 0. 0. 1. 0.]\n",
            " [0. 0. 0. 0. 0. 0. 0. 0. 1. 0.]\n",
            " [0. 0. 1. 0. 0. 0. 0. 0. 0. 0.]\n",
            " [0. 0. 0. 0. 0. 0. 0. 0. 1. 0.]\n",
            " [1. 0. 0. 0. 0. 0. 0. 0. 0. 0.]\n",
            " [1. 0. 0. 0. 0. 0. 0. 0. 0. 0.]\n",
            " [0. 0. 0. 0. 0. 0. 1. 0. 0. 0.]], shape=(32, 10), dtype=float32)\n"
          ]
        }
      ]
    },
    {
      "cell_type": "markdown",
      "source": [
        "1.)Instantiate a pre-trained base model object by choosing a target model such as EfficientNetB0 from tf.keras.applications, setting the include_top parameter to False (we do this because we're going to create our own top, which are the output layers for the model).\n",
        "\n",
        "2.) Set the base model's trainable attribute to False to freeze all of the weights in the pre-trained model.\n",
        "\n",
        "3.) Define an input layer for our model, for example, what shape of data should our model expect?\n",
        "\n",
        "4.) [Optional] Normalize the inputs to our model if it requires. Some computer vision models such as ResNetV250 require their inputs to be between 0 & 1.\n",
        "🤔 Note: As of writing, the EfficientNet models in the tf.keras.applications module do not require images to be normalized (pixel values between 0 and 1) on input, where as many of the other models do. I posted an issue to the TensorFlow GitHub about this and they confirmed this.\n",
        "\n",
        "5.) Pass the inputs to the base model.\n",
        "\n",
        "6.) Pool the outputs of the base model into a shape compatible with the output activation layer (turn base model output tensors into same shape as label tensors). This can be done using tf.keras.layers.GlobalAveragePooling2D() or tf.keras.layers.GlobalMaxPooling2D() though the former is more common in practice.\n",
        "\n",
        "7.) Create an output activation layer using tf.keras.layers.Dense() with the appropriate activation function and number of neurons.\n",
        "\n",
        "8.) Combine the inputs and outputs layer into a model using tf.keras.Model().\n",
        "\n",
        "9.) Compile the model using the appropriate loss function and choose of optimizer.\n",
        "\n",
        "10.) Fit the model for desired number of epochs and with necessary callbacks (in our case, we'll start off with the TensorBoard callback).\n",
        "\n"
      ],
      "metadata": {
        "id": "5yL35nMYFdhW"
      }
    },
    {
      "cell_type": "code",
      "source": [
        "base_model = tf.keras.applications.EfficientNetB0(include_top = False)\n",
        "base_model.trainable = False\n",
        "\n",
        "inputs = tf.keras.layers.Input(shape = (224,224,3), name = 'input_layer')\n",
        "\n",
        "#if resnet, rescale\n",
        "# x = tf.keras.layers.experimental.preprocessing.Rescalen(1./255)\n",
        "\n",
        "x = base_model(inputs)\n",
        "print(f'Shape after model: {x.shape}')\n",
        "\n",
        "x = tf.keras.layers.GlobalAveragePooling2D(name = 'global_average_pooling_layer')(x)\n",
        "print(f'After GlobalAveragePooling2D(): {x.shape}')\n",
        "\n",
        "outputs = tf.keras.layers.Dense(10, activation = 'softmax', name = 'output_layer')(x)\n",
        "\n",
        "model_0 = tf.keras.Model(inputs, outputs)\n",
        "\n",
        "model_0.compile(loss = 'categorical_crossentropy',\n",
        "                optimizer = tf.keras.optimizers.Adam(),\n",
        "                metrics = ['accuracy'])\n",
        "\n",
        "history_10_percent = model_0.fit(train_data_10_percent,\n",
        "                                 epochs=5,\n",
        "                                 steps_per_epoch = len(train_data_10_percent),\n",
        "                                 validation_data = test_data_10_percent,\n",
        "                                 validation_steps = int(0.25*len(test_data_10_percent)),\n",
        "                                 callbacks = [create_tensorboard_callback('transfer_learning', \"10_percent_feature_extract\")]) ##0.25 to make epochs faster."
      ],
      "metadata": {
        "colab": {
          "base_uri": "https://localhost:8080/"
        },
        "id": "a33OXMtmBt5B",
        "outputId": "633345aa-283a-4824-8161-fffab7846eec"
      },
      "execution_count": 12,
      "outputs": [
        {
          "output_type": "stream",
          "name": "stdout",
          "text": [
            "Downloading data from https://storage.googleapis.com/keras-applications/efficientnetb0_notop.h5\n",
            "16705208/16705208 [==============================] - 3s 0us/step\n",
            "Shape after model: (None, 7, 7, 1280)\n",
            "After GlobalAveragePooling2D(): (None, 1280)\n",
            "Saving TensorBoard log files to: transfer_learning/10_percent_feature_extract/20221103-212920\n",
            "Epoch 1/5\n",
            "24/24 [==============================] - 20s 260ms/step - loss: 1.8555 - accuracy: 0.4253 - val_loss: 1.3147 - val_accuracy: 0.7352\n",
            "Epoch 2/5\n",
            "24/24 [==============================] - 4s 153ms/step - loss: 1.0842 - accuracy: 0.7720 - val_loss: 0.8672 - val_accuracy: 0.8257\n",
            "Epoch 3/5\n",
            "24/24 [==============================] - 4s 152ms/step - loss: 0.7770 - accuracy: 0.8227 - val_loss: 0.6979 - val_accuracy: 0.8470\n",
            "Epoch 4/5\n",
            "24/24 [==============================] - 5s 184ms/step - loss: 0.6372 - accuracy: 0.8520 - val_loss: 0.6282 - val_accuracy: 0.8438\n",
            "Epoch 5/5\n",
            "24/24 [==============================] - 5s 184ms/step - loss: 0.5372 - accuracy: 0.8880 - val_loss: 0.5470 - val_accuracy: 0.8569\n"
          ]
        }
      ]
    },
    {
      "cell_type": "code",
      "source": [
        "for layer_number, layer in enumerate(base_model.layers):\n",
        "  print(layer_number, layer.name)"
      ],
      "metadata": {
        "colab": {
          "base_uri": "https://localhost:8080/"
        },
        "id": "mO1GQ8OyIS6E",
        "outputId": "82cef338-867b-4e76-b02d-6fb794eacf17"
      },
      "execution_count": 17,
      "outputs": [
        {
          "output_type": "stream",
          "name": "stdout",
          "text": [
            "0 input_5\n",
            "1 rescaling_4\n",
            "2 normalization_4\n",
            "3 tf.math.truediv_4\n",
            "4 stem_conv_pad\n",
            "5 stem_conv\n",
            "6 stem_bn\n",
            "7 stem_activation\n",
            "8 block1a_dwconv\n",
            "9 block1a_bn\n",
            "10 block1a_activation\n",
            "11 block1a_se_squeeze\n",
            "12 block1a_se_reshape\n",
            "13 block1a_se_reduce\n",
            "14 block1a_se_expand\n",
            "15 block1a_se_excite\n",
            "16 block1a_project_conv\n",
            "17 block1a_project_bn\n",
            "18 block2a_expand_conv\n",
            "19 block2a_expand_bn\n",
            "20 block2a_expand_activation\n",
            "21 block2a_dwconv_pad\n",
            "22 block2a_dwconv\n",
            "23 block2a_bn\n",
            "24 block2a_activation\n",
            "25 block2a_se_squeeze\n",
            "26 block2a_se_reshape\n",
            "27 block2a_se_reduce\n",
            "28 block2a_se_expand\n",
            "29 block2a_se_excite\n",
            "30 block2a_project_conv\n",
            "31 block2a_project_bn\n",
            "32 block2b_expand_conv\n",
            "33 block2b_expand_bn\n",
            "34 block2b_expand_activation\n",
            "35 block2b_dwconv\n",
            "36 block2b_bn\n",
            "37 block2b_activation\n",
            "38 block2b_se_squeeze\n",
            "39 block2b_se_reshape\n",
            "40 block2b_se_reduce\n",
            "41 block2b_se_expand\n",
            "42 block2b_se_excite\n",
            "43 block2b_project_conv\n",
            "44 block2b_project_bn\n",
            "45 block2b_drop\n",
            "46 block2b_add\n",
            "47 block3a_expand_conv\n",
            "48 block3a_expand_bn\n",
            "49 block3a_expand_activation\n",
            "50 block3a_dwconv_pad\n",
            "51 block3a_dwconv\n",
            "52 block3a_bn\n",
            "53 block3a_activation\n",
            "54 block3a_se_squeeze\n",
            "55 block3a_se_reshape\n",
            "56 block3a_se_reduce\n",
            "57 block3a_se_expand\n",
            "58 block3a_se_excite\n",
            "59 block3a_project_conv\n",
            "60 block3a_project_bn\n",
            "61 block3b_expand_conv\n",
            "62 block3b_expand_bn\n",
            "63 block3b_expand_activation\n",
            "64 block3b_dwconv\n",
            "65 block3b_bn\n",
            "66 block3b_activation\n",
            "67 block3b_se_squeeze\n",
            "68 block3b_se_reshape\n",
            "69 block3b_se_reduce\n",
            "70 block3b_se_expand\n",
            "71 block3b_se_excite\n",
            "72 block3b_project_conv\n",
            "73 block3b_project_bn\n",
            "74 block3b_drop\n",
            "75 block3b_add\n",
            "76 block4a_expand_conv\n",
            "77 block4a_expand_bn\n",
            "78 block4a_expand_activation\n",
            "79 block4a_dwconv_pad\n",
            "80 block4a_dwconv\n",
            "81 block4a_bn\n",
            "82 block4a_activation\n",
            "83 block4a_se_squeeze\n",
            "84 block4a_se_reshape\n",
            "85 block4a_se_reduce\n",
            "86 block4a_se_expand\n",
            "87 block4a_se_excite\n",
            "88 block4a_project_conv\n",
            "89 block4a_project_bn\n",
            "90 block4b_expand_conv\n",
            "91 block4b_expand_bn\n",
            "92 block4b_expand_activation\n",
            "93 block4b_dwconv\n",
            "94 block4b_bn\n",
            "95 block4b_activation\n",
            "96 block4b_se_squeeze\n",
            "97 block4b_se_reshape\n",
            "98 block4b_se_reduce\n",
            "99 block4b_se_expand\n",
            "100 block4b_se_excite\n",
            "101 block4b_project_conv\n",
            "102 block4b_project_bn\n",
            "103 block4b_drop\n",
            "104 block4b_add\n",
            "105 block4c_expand_conv\n",
            "106 block4c_expand_bn\n",
            "107 block4c_expand_activation\n",
            "108 block4c_dwconv\n",
            "109 block4c_bn\n",
            "110 block4c_activation\n",
            "111 block4c_se_squeeze\n",
            "112 block4c_se_reshape\n",
            "113 block4c_se_reduce\n",
            "114 block4c_se_expand\n",
            "115 block4c_se_excite\n",
            "116 block4c_project_conv\n",
            "117 block4c_project_bn\n",
            "118 block4c_drop\n",
            "119 block4c_add\n",
            "120 block5a_expand_conv\n",
            "121 block5a_expand_bn\n",
            "122 block5a_expand_activation\n",
            "123 block5a_dwconv\n",
            "124 block5a_bn\n",
            "125 block5a_activation\n",
            "126 block5a_se_squeeze\n",
            "127 block5a_se_reshape\n",
            "128 block5a_se_reduce\n",
            "129 block5a_se_expand\n",
            "130 block5a_se_excite\n",
            "131 block5a_project_conv\n",
            "132 block5a_project_bn\n",
            "133 block5b_expand_conv\n",
            "134 block5b_expand_bn\n",
            "135 block5b_expand_activation\n",
            "136 block5b_dwconv\n",
            "137 block5b_bn\n",
            "138 block5b_activation\n",
            "139 block5b_se_squeeze\n",
            "140 block5b_se_reshape\n",
            "141 block5b_se_reduce\n",
            "142 block5b_se_expand\n",
            "143 block5b_se_excite\n",
            "144 block5b_project_conv\n",
            "145 block5b_project_bn\n",
            "146 block5b_drop\n",
            "147 block5b_add\n",
            "148 block5c_expand_conv\n",
            "149 block5c_expand_bn\n",
            "150 block5c_expand_activation\n",
            "151 block5c_dwconv\n",
            "152 block5c_bn\n",
            "153 block5c_activation\n",
            "154 block5c_se_squeeze\n",
            "155 block5c_se_reshape\n",
            "156 block5c_se_reduce\n",
            "157 block5c_se_expand\n",
            "158 block5c_se_excite\n",
            "159 block5c_project_conv\n",
            "160 block5c_project_bn\n",
            "161 block5c_drop\n",
            "162 block5c_add\n",
            "163 block6a_expand_conv\n",
            "164 block6a_expand_bn\n",
            "165 block6a_expand_activation\n",
            "166 block6a_dwconv_pad\n",
            "167 block6a_dwconv\n",
            "168 block6a_bn\n",
            "169 block6a_activation\n",
            "170 block6a_se_squeeze\n",
            "171 block6a_se_reshape\n",
            "172 block6a_se_reduce\n",
            "173 block6a_se_expand\n",
            "174 block6a_se_excite\n",
            "175 block6a_project_conv\n",
            "176 block6a_project_bn\n",
            "177 block6b_expand_conv\n",
            "178 block6b_expand_bn\n",
            "179 block6b_expand_activation\n",
            "180 block6b_dwconv\n",
            "181 block6b_bn\n",
            "182 block6b_activation\n",
            "183 block6b_se_squeeze\n",
            "184 block6b_se_reshape\n",
            "185 block6b_se_reduce\n",
            "186 block6b_se_expand\n",
            "187 block6b_se_excite\n",
            "188 block6b_project_conv\n",
            "189 block6b_project_bn\n",
            "190 block6b_drop\n",
            "191 block6b_add\n",
            "192 block6c_expand_conv\n",
            "193 block6c_expand_bn\n",
            "194 block6c_expand_activation\n",
            "195 block6c_dwconv\n",
            "196 block6c_bn\n",
            "197 block6c_activation\n",
            "198 block6c_se_squeeze\n",
            "199 block6c_se_reshape\n",
            "200 block6c_se_reduce\n",
            "201 block6c_se_expand\n",
            "202 block6c_se_excite\n",
            "203 block6c_project_conv\n",
            "204 block6c_project_bn\n",
            "205 block6c_drop\n",
            "206 block6c_add\n",
            "207 block6d_expand_conv\n",
            "208 block6d_expand_bn\n",
            "209 block6d_expand_activation\n",
            "210 block6d_dwconv\n",
            "211 block6d_bn\n",
            "212 block6d_activation\n",
            "213 block6d_se_squeeze\n",
            "214 block6d_se_reshape\n",
            "215 block6d_se_reduce\n",
            "216 block6d_se_expand\n",
            "217 block6d_se_excite\n",
            "218 block6d_project_conv\n",
            "219 block6d_project_bn\n",
            "220 block6d_drop\n",
            "221 block6d_add\n",
            "222 block7a_expand_conv\n",
            "223 block7a_expand_bn\n",
            "224 block7a_expand_activation\n",
            "225 block7a_dwconv\n",
            "226 block7a_bn\n",
            "227 block7a_activation\n",
            "228 block7a_se_squeeze\n",
            "229 block7a_se_reshape\n",
            "230 block7a_se_reduce\n",
            "231 block7a_se_expand\n",
            "232 block7a_se_excite\n",
            "233 block7a_project_conv\n",
            "234 block7a_project_bn\n",
            "235 top_conv\n",
            "236 top_bn\n",
            "237 top_activation\n"
          ]
        }
      ]
    },
    {
      "cell_type": "code",
      "source": [
        "base_model.summary()"
      ],
      "metadata": {
        "colab": {
          "base_uri": "https://localhost:8080/"
        },
        "id": "rIoEJ6GiJFvp",
        "outputId": "ed298c89-c2fc-4723-86a7-ae2b00fe5c2e"
      },
      "execution_count": 18,
      "outputs": [
        {
          "output_type": "stream",
          "name": "stdout",
          "text": [
            "Model: \"efficientnetb0\"\n",
            "__________________________________________________________________________________________________\n",
            " Layer (type)                   Output Shape         Param #     Connected to                     \n",
            "==================================================================================================\n",
            " input_5 (InputLayer)           [(None, None, None,  0           []                               \n",
            "                                 3)]                                                              \n",
            "                                                                                                  \n",
            " rescaling_4 (Rescaling)        (None, None, None,   0           ['input_5[0][0]']                \n",
            "                                3)                                                                \n",
            "                                                                                                  \n",
            " normalization_4 (Normalization  (None, None, None,   7          ['rescaling_4[0][0]']            \n",
            " )                              3)                                                                \n",
            "                                                                                                  \n",
            " tf.math.truediv_4 (TFOpLambda)  (None, None, None,   0          ['normalization_4[0][0]']        \n",
            "                                3)                                                                \n",
            "                                                                                                  \n",
            " stem_conv_pad (ZeroPadding2D)  (None, None, None,   0           ['tf.math.truediv_4[0][0]']      \n",
            "                                3)                                                                \n",
            "                                                                                                  \n",
            " stem_conv (Conv2D)             (None, None, None,   864         ['stem_conv_pad[0][0]']          \n",
            "                                32)                                                               \n",
            "                                                                                                  \n",
            " stem_bn (BatchNormalization)   (None, None, None,   128         ['stem_conv[0][0]']              \n",
            "                                32)                                                               \n",
            "                                                                                                  \n",
            " stem_activation (Activation)   (None, None, None,   0           ['stem_bn[0][0]']                \n",
            "                                32)                                                               \n",
            "                                                                                                  \n",
            " block1a_dwconv (DepthwiseConv2  (None, None, None,   288        ['stem_activation[0][0]']        \n",
            " D)                             32)                                                               \n",
            "                                                                                                  \n",
            " block1a_bn (BatchNormalization  (None, None, None,   128        ['block1a_dwconv[0][0]']         \n",
            " )                              32)                                                               \n",
            "                                                                                                  \n",
            " block1a_activation (Activation  (None, None, None,   0          ['block1a_bn[0][0]']             \n",
            " )                              32)                                                               \n",
            "                                                                                                  \n",
            " block1a_se_squeeze (GlobalAver  (None, 32)          0           ['block1a_activation[0][0]']     \n",
            " agePooling2D)                                                                                    \n",
            "                                                                                                  \n",
            " block1a_se_reshape (Reshape)   (None, 1, 1, 32)     0           ['block1a_se_squeeze[0][0]']     \n",
            "                                                                                                  \n",
            " block1a_se_reduce (Conv2D)     (None, 1, 1, 8)      264         ['block1a_se_reshape[0][0]']     \n",
            "                                                                                                  \n",
            " block1a_se_expand (Conv2D)     (None, 1, 1, 32)     288         ['block1a_se_reduce[0][0]']      \n",
            "                                                                                                  \n",
            " block1a_se_excite (Multiply)   (None, None, None,   0           ['block1a_activation[0][0]',     \n",
            "                                32)                               'block1a_se_expand[0][0]']      \n",
            "                                                                                                  \n",
            " block1a_project_conv (Conv2D)  (None, None, None,   512         ['block1a_se_excite[0][0]']      \n",
            "                                16)                                                               \n",
            "                                                                                                  \n",
            " block1a_project_bn (BatchNorma  (None, None, None,   64         ['block1a_project_conv[0][0]']   \n",
            " lization)                      16)                                                               \n",
            "                                                                                                  \n",
            " block2a_expand_conv (Conv2D)   (None, None, None,   1536        ['block1a_project_bn[0][0]']     \n",
            "                                96)                                                               \n",
            "                                                                                                  \n",
            " block2a_expand_bn (BatchNormal  (None, None, None,   384        ['block2a_expand_conv[0][0]']    \n",
            " ization)                       96)                                                               \n",
            "                                                                                                  \n",
            " block2a_expand_activation (Act  (None, None, None,   0          ['block2a_expand_bn[0][0]']      \n",
            " ivation)                       96)                                                               \n",
            "                                                                                                  \n",
            " block2a_dwconv_pad (ZeroPaddin  (None, None, None,   0          ['block2a_expand_activation[0][0]\n",
            " g2D)                           96)                              ']                               \n",
            "                                                                                                  \n",
            " block2a_dwconv (DepthwiseConv2  (None, None, None,   864        ['block2a_dwconv_pad[0][0]']     \n",
            " D)                             96)                                                               \n",
            "                                                                                                  \n",
            " block2a_bn (BatchNormalization  (None, None, None,   384        ['block2a_dwconv[0][0]']         \n",
            " )                              96)                                                               \n",
            "                                                                                                  \n",
            " block2a_activation (Activation  (None, None, None,   0          ['block2a_bn[0][0]']             \n",
            " )                              96)                                                               \n",
            "                                                                                                  \n",
            " block2a_se_squeeze (GlobalAver  (None, 96)          0           ['block2a_activation[0][0]']     \n",
            " agePooling2D)                                                                                    \n",
            "                                                                                                  \n",
            " block2a_se_reshape (Reshape)   (None, 1, 1, 96)     0           ['block2a_se_squeeze[0][0]']     \n",
            "                                                                                                  \n",
            " block2a_se_reduce (Conv2D)     (None, 1, 1, 4)      388         ['block2a_se_reshape[0][0]']     \n",
            "                                                                                                  \n",
            " block2a_se_expand (Conv2D)     (None, 1, 1, 96)     480         ['block2a_se_reduce[0][0]']      \n",
            "                                                                                                  \n",
            " block2a_se_excite (Multiply)   (None, None, None,   0           ['block2a_activation[0][0]',     \n",
            "                                96)                               'block2a_se_expand[0][0]']      \n",
            "                                                                                                  \n",
            " block2a_project_conv (Conv2D)  (None, None, None,   2304        ['block2a_se_excite[0][0]']      \n",
            "                                24)                                                               \n",
            "                                                                                                  \n",
            " block2a_project_bn (BatchNorma  (None, None, None,   96         ['block2a_project_conv[0][0]']   \n",
            " lization)                      24)                                                               \n",
            "                                                                                                  \n",
            " block2b_expand_conv (Conv2D)   (None, None, None,   3456        ['block2a_project_bn[0][0]']     \n",
            "                                144)                                                              \n",
            "                                                                                                  \n",
            " block2b_expand_bn (BatchNormal  (None, None, None,   576        ['block2b_expand_conv[0][0]']    \n",
            " ization)                       144)                                                              \n",
            "                                                                                                  \n",
            " block2b_expand_activation (Act  (None, None, None,   0          ['block2b_expand_bn[0][0]']      \n",
            " ivation)                       144)                                                              \n",
            "                                                                                                  \n",
            " block2b_dwconv (DepthwiseConv2  (None, None, None,   1296       ['block2b_expand_activation[0][0]\n",
            " D)                             144)                             ']                               \n",
            "                                                                                                  \n",
            " block2b_bn (BatchNormalization  (None, None, None,   576        ['block2b_dwconv[0][0]']         \n",
            " )                              144)                                                              \n",
            "                                                                                                  \n",
            " block2b_activation (Activation  (None, None, None,   0          ['block2b_bn[0][0]']             \n",
            " )                              144)                                                              \n",
            "                                                                                                  \n",
            " block2b_se_squeeze (GlobalAver  (None, 144)         0           ['block2b_activation[0][0]']     \n",
            " agePooling2D)                                                                                    \n",
            "                                                                                                  \n",
            " block2b_se_reshape (Reshape)   (None, 1, 1, 144)    0           ['block2b_se_squeeze[0][0]']     \n",
            "                                                                                                  \n",
            " block2b_se_reduce (Conv2D)     (None, 1, 1, 6)      870         ['block2b_se_reshape[0][0]']     \n",
            "                                                                                                  \n",
            " block2b_se_expand (Conv2D)     (None, 1, 1, 144)    1008        ['block2b_se_reduce[0][0]']      \n",
            "                                                                                                  \n",
            " block2b_se_excite (Multiply)   (None, None, None,   0           ['block2b_activation[0][0]',     \n",
            "                                144)                              'block2b_se_expand[0][0]']      \n",
            "                                                                                                  \n",
            " block2b_project_conv (Conv2D)  (None, None, None,   3456        ['block2b_se_excite[0][0]']      \n",
            "                                24)                                                               \n",
            "                                                                                                  \n",
            " block2b_project_bn (BatchNorma  (None, None, None,   96         ['block2b_project_conv[0][0]']   \n",
            " lization)                      24)                                                               \n",
            "                                                                                                  \n",
            " block2b_drop (Dropout)         (None, None, None,   0           ['block2b_project_bn[0][0]']     \n",
            "                                24)                                                               \n",
            "                                                                                                  \n",
            " block2b_add (Add)              (None, None, None,   0           ['block2b_drop[0][0]',           \n",
            "                                24)                               'block2a_project_bn[0][0]']     \n",
            "                                                                                                  \n",
            " block3a_expand_conv (Conv2D)   (None, None, None,   3456        ['block2b_add[0][0]']            \n",
            "                                144)                                                              \n",
            "                                                                                                  \n",
            " block3a_expand_bn (BatchNormal  (None, None, None,   576        ['block3a_expand_conv[0][0]']    \n",
            " ization)                       144)                                                              \n",
            "                                                                                                  \n",
            " block3a_expand_activation (Act  (None, None, None,   0          ['block3a_expand_bn[0][0]']      \n",
            " ivation)                       144)                                                              \n",
            "                                                                                                  \n",
            " block3a_dwconv_pad (ZeroPaddin  (None, None, None,   0          ['block3a_expand_activation[0][0]\n",
            " g2D)                           144)                             ']                               \n",
            "                                                                                                  \n",
            " block3a_dwconv (DepthwiseConv2  (None, None, None,   3600       ['block3a_dwconv_pad[0][0]']     \n",
            " D)                             144)                                                              \n",
            "                                                                                                  \n",
            " block3a_bn (BatchNormalization  (None, None, None,   576        ['block3a_dwconv[0][0]']         \n",
            " )                              144)                                                              \n",
            "                                                                                                  \n",
            " block3a_activation (Activation  (None, None, None,   0          ['block3a_bn[0][0]']             \n",
            " )                              144)                                                              \n",
            "                                                                                                  \n",
            " block3a_se_squeeze (GlobalAver  (None, 144)         0           ['block3a_activation[0][0]']     \n",
            " agePooling2D)                                                                                    \n",
            "                                                                                                  \n",
            " block3a_se_reshape (Reshape)   (None, 1, 1, 144)    0           ['block3a_se_squeeze[0][0]']     \n",
            "                                                                                                  \n",
            " block3a_se_reduce (Conv2D)     (None, 1, 1, 6)      870         ['block3a_se_reshape[0][0]']     \n",
            "                                                                                                  \n",
            " block3a_se_expand (Conv2D)     (None, 1, 1, 144)    1008        ['block3a_se_reduce[0][0]']      \n",
            "                                                                                                  \n",
            " block3a_se_excite (Multiply)   (None, None, None,   0           ['block3a_activation[0][0]',     \n",
            "                                144)                              'block3a_se_expand[0][0]']      \n",
            "                                                                                                  \n",
            " block3a_project_conv (Conv2D)  (None, None, None,   5760        ['block3a_se_excite[0][0]']      \n",
            "                                40)                                                               \n",
            "                                                                                                  \n",
            " block3a_project_bn (BatchNorma  (None, None, None,   160        ['block3a_project_conv[0][0]']   \n",
            " lization)                      40)                                                               \n",
            "                                                                                                  \n",
            " block3b_expand_conv (Conv2D)   (None, None, None,   9600        ['block3a_project_bn[0][0]']     \n",
            "                                240)                                                              \n",
            "                                                                                                  \n",
            " block3b_expand_bn (BatchNormal  (None, None, None,   960        ['block3b_expand_conv[0][0]']    \n",
            " ization)                       240)                                                              \n",
            "                                                                                                  \n",
            " block3b_expand_activation (Act  (None, None, None,   0          ['block3b_expand_bn[0][0]']      \n",
            " ivation)                       240)                                                              \n",
            "                                                                                                  \n",
            " block3b_dwconv (DepthwiseConv2  (None, None, None,   6000       ['block3b_expand_activation[0][0]\n",
            " D)                             240)                             ']                               \n",
            "                                                                                                  \n",
            " block3b_bn (BatchNormalization  (None, None, None,   960        ['block3b_dwconv[0][0]']         \n",
            " )                              240)                                                              \n",
            "                                                                                                  \n",
            " block3b_activation (Activation  (None, None, None,   0          ['block3b_bn[0][0]']             \n",
            " )                              240)                                                              \n",
            "                                                                                                  \n",
            " block3b_se_squeeze (GlobalAver  (None, 240)         0           ['block3b_activation[0][0]']     \n",
            " agePooling2D)                                                                                    \n",
            "                                                                                                  \n",
            " block3b_se_reshape (Reshape)   (None, 1, 1, 240)    0           ['block3b_se_squeeze[0][0]']     \n",
            "                                                                                                  \n",
            " block3b_se_reduce (Conv2D)     (None, 1, 1, 10)     2410        ['block3b_se_reshape[0][0]']     \n",
            "                                                                                                  \n",
            " block3b_se_expand (Conv2D)     (None, 1, 1, 240)    2640        ['block3b_se_reduce[0][0]']      \n",
            "                                                                                                  \n",
            " block3b_se_excite (Multiply)   (None, None, None,   0           ['block3b_activation[0][0]',     \n",
            "                                240)                              'block3b_se_expand[0][0]']      \n",
            "                                                                                                  \n",
            " block3b_project_conv (Conv2D)  (None, None, None,   9600        ['block3b_se_excite[0][0]']      \n",
            "                                40)                                                               \n",
            "                                                                                                  \n",
            " block3b_project_bn (BatchNorma  (None, None, None,   160        ['block3b_project_conv[0][0]']   \n",
            " lization)                      40)                                                               \n",
            "                                                                                                  \n",
            " block3b_drop (Dropout)         (None, None, None,   0           ['block3b_project_bn[0][0]']     \n",
            "                                40)                                                               \n",
            "                                                                                                  \n",
            " block3b_add (Add)              (None, None, None,   0           ['block3b_drop[0][0]',           \n",
            "                                40)                               'block3a_project_bn[0][0]']     \n",
            "                                                                                                  \n",
            " block4a_expand_conv (Conv2D)   (None, None, None,   9600        ['block3b_add[0][0]']            \n",
            "                                240)                                                              \n",
            "                                                                                                  \n",
            " block4a_expand_bn (BatchNormal  (None, None, None,   960        ['block4a_expand_conv[0][0]']    \n",
            " ization)                       240)                                                              \n",
            "                                                                                                  \n",
            " block4a_expand_activation (Act  (None, None, None,   0          ['block4a_expand_bn[0][0]']      \n",
            " ivation)                       240)                                                              \n",
            "                                                                                                  \n",
            " block4a_dwconv_pad (ZeroPaddin  (None, None, None,   0          ['block4a_expand_activation[0][0]\n",
            " g2D)                           240)                             ']                               \n",
            "                                                                                                  \n",
            " block4a_dwconv (DepthwiseConv2  (None, None, None,   2160       ['block4a_dwconv_pad[0][0]']     \n",
            " D)                             240)                                                              \n",
            "                                                                                                  \n",
            " block4a_bn (BatchNormalization  (None, None, None,   960        ['block4a_dwconv[0][0]']         \n",
            " )                              240)                                                              \n",
            "                                                                                                  \n",
            " block4a_activation (Activation  (None, None, None,   0          ['block4a_bn[0][0]']             \n",
            " )                              240)                                                              \n",
            "                                                                                                  \n",
            " block4a_se_squeeze (GlobalAver  (None, 240)         0           ['block4a_activation[0][0]']     \n",
            " agePooling2D)                                                                                    \n",
            "                                                                                                  \n",
            " block4a_se_reshape (Reshape)   (None, 1, 1, 240)    0           ['block4a_se_squeeze[0][0]']     \n",
            "                                                                                                  \n",
            " block4a_se_reduce (Conv2D)     (None, 1, 1, 10)     2410        ['block4a_se_reshape[0][0]']     \n",
            "                                                                                                  \n",
            " block4a_se_expand (Conv2D)     (None, 1, 1, 240)    2640        ['block4a_se_reduce[0][0]']      \n",
            "                                                                                                  \n",
            " block4a_se_excite (Multiply)   (None, None, None,   0           ['block4a_activation[0][0]',     \n",
            "                                240)                              'block4a_se_expand[0][0]']      \n",
            "                                                                                                  \n",
            " block4a_project_conv (Conv2D)  (None, None, None,   19200       ['block4a_se_excite[0][0]']      \n",
            "                                80)                                                               \n",
            "                                                                                                  \n",
            " block4a_project_bn (BatchNorma  (None, None, None,   320        ['block4a_project_conv[0][0]']   \n",
            " lization)                      80)                                                               \n",
            "                                                                                                  \n",
            " block4b_expand_conv (Conv2D)   (None, None, None,   38400       ['block4a_project_bn[0][0]']     \n",
            "                                480)                                                              \n",
            "                                                                                                  \n",
            " block4b_expand_bn (BatchNormal  (None, None, None,   1920       ['block4b_expand_conv[0][0]']    \n",
            " ization)                       480)                                                              \n",
            "                                                                                                  \n",
            " block4b_expand_activation (Act  (None, None, None,   0          ['block4b_expand_bn[0][0]']      \n",
            " ivation)                       480)                                                              \n",
            "                                                                                                  \n",
            " block4b_dwconv (DepthwiseConv2  (None, None, None,   4320       ['block4b_expand_activation[0][0]\n",
            " D)                             480)                             ']                               \n",
            "                                                                                                  \n",
            " block4b_bn (BatchNormalization  (None, None, None,   1920       ['block4b_dwconv[0][0]']         \n",
            " )                              480)                                                              \n",
            "                                                                                                  \n",
            " block4b_activation (Activation  (None, None, None,   0          ['block4b_bn[0][0]']             \n",
            " )                              480)                                                              \n",
            "                                                                                                  \n",
            " block4b_se_squeeze (GlobalAver  (None, 480)         0           ['block4b_activation[0][0]']     \n",
            " agePooling2D)                                                                                    \n",
            "                                                                                                  \n",
            " block4b_se_reshape (Reshape)   (None, 1, 1, 480)    0           ['block4b_se_squeeze[0][0]']     \n",
            "                                                                                                  \n",
            " block4b_se_reduce (Conv2D)     (None, 1, 1, 20)     9620        ['block4b_se_reshape[0][0]']     \n",
            "                                                                                                  \n",
            " block4b_se_expand (Conv2D)     (None, 1, 1, 480)    10080       ['block4b_se_reduce[0][0]']      \n",
            "                                                                                                  \n",
            " block4b_se_excite (Multiply)   (None, None, None,   0           ['block4b_activation[0][0]',     \n",
            "                                480)                              'block4b_se_expand[0][0]']      \n",
            "                                                                                                  \n",
            " block4b_project_conv (Conv2D)  (None, None, None,   38400       ['block4b_se_excite[0][0]']      \n",
            "                                80)                                                               \n",
            "                                                                                                  \n",
            " block4b_project_bn (BatchNorma  (None, None, None,   320        ['block4b_project_conv[0][0]']   \n",
            " lization)                      80)                                                               \n",
            "                                                                                                  \n",
            " block4b_drop (Dropout)         (None, None, None,   0           ['block4b_project_bn[0][0]']     \n",
            "                                80)                                                               \n",
            "                                                                                                  \n",
            " block4b_add (Add)              (None, None, None,   0           ['block4b_drop[0][0]',           \n",
            "                                80)                               'block4a_project_bn[0][0]']     \n",
            "                                                                                                  \n",
            " block4c_expand_conv (Conv2D)   (None, None, None,   38400       ['block4b_add[0][0]']            \n",
            "                                480)                                                              \n",
            "                                                                                                  \n",
            " block4c_expand_bn (BatchNormal  (None, None, None,   1920       ['block4c_expand_conv[0][0]']    \n",
            " ization)                       480)                                                              \n",
            "                                                                                                  \n",
            " block4c_expand_activation (Act  (None, None, None,   0          ['block4c_expand_bn[0][0]']      \n",
            " ivation)                       480)                                                              \n",
            "                                                                                                  \n",
            " block4c_dwconv (DepthwiseConv2  (None, None, None,   4320       ['block4c_expand_activation[0][0]\n",
            " D)                             480)                             ']                               \n",
            "                                                                                                  \n",
            " block4c_bn (BatchNormalization  (None, None, None,   1920       ['block4c_dwconv[0][0]']         \n",
            " )                              480)                                                              \n",
            "                                                                                                  \n",
            " block4c_activation (Activation  (None, None, None,   0          ['block4c_bn[0][0]']             \n",
            " )                              480)                                                              \n",
            "                                                                                                  \n",
            " block4c_se_squeeze (GlobalAver  (None, 480)         0           ['block4c_activation[0][0]']     \n",
            " agePooling2D)                                                                                    \n",
            "                                                                                                  \n",
            " block4c_se_reshape (Reshape)   (None, 1, 1, 480)    0           ['block4c_se_squeeze[0][0]']     \n",
            "                                                                                                  \n",
            " block4c_se_reduce (Conv2D)     (None, 1, 1, 20)     9620        ['block4c_se_reshape[0][0]']     \n",
            "                                                                                                  \n",
            " block4c_se_expand (Conv2D)     (None, 1, 1, 480)    10080       ['block4c_se_reduce[0][0]']      \n",
            "                                                                                                  \n",
            " block4c_se_excite (Multiply)   (None, None, None,   0           ['block4c_activation[0][0]',     \n",
            "                                480)                              'block4c_se_expand[0][0]']      \n",
            "                                                                                                  \n",
            " block4c_project_conv (Conv2D)  (None, None, None,   38400       ['block4c_se_excite[0][0]']      \n",
            "                                80)                                                               \n",
            "                                                                                                  \n",
            " block4c_project_bn (BatchNorma  (None, None, None,   320        ['block4c_project_conv[0][0]']   \n",
            " lization)                      80)                                                               \n",
            "                                                                                                  \n",
            " block4c_drop (Dropout)         (None, None, None,   0           ['block4c_project_bn[0][0]']     \n",
            "                                80)                                                               \n",
            "                                                                                                  \n",
            " block4c_add (Add)              (None, None, None,   0           ['block4c_drop[0][0]',           \n",
            "                                80)                               'block4b_add[0][0]']            \n",
            "                                                                                                  \n",
            " block5a_expand_conv (Conv2D)   (None, None, None,   38400       ['block4c_add[0][0]']            \n",
            "                                480)                                                              \n",
            "                                                                                                  \n",
            " block5a_expand_bn (BatchNormal  (None, None, None,   1920       ['block5a_expand_conv[0][0]']    \n",
            " ization)                       480)                                                              \n",
            "                                                                                                  \n",
            " block5a_expand_activation (Act  (None, None, None,   0          ['block5a_expand_bn[0][0]']      \n",
            " ivation)                       480)                                                              \n",
            "                                                                                                  \n",
            " block5a_dwconv (DepthwiseConv2  (None, None, None,   12000      ['block5a_expand_activation[0][0]\n",
            " D)                             480)                             ']                               \n",
            "                                                                                                  \n",
            " block5a_bn (BatchNormalization  (None, None, None,   1920       ['block5a_dwconv[0][0]']         \n",
            " )                              480)                                                              \n",
            "                                                                                                  \n",
            " block5a_activation (Activation  (None, None, None,   0          ['block5a_bn[0][0]']             \n",
            " )                              480)                                                              \n",
            "                                                                                                  \n",
            " block5a_se_squeeze (GlobalAver  (None, 480)         0           ['block5a_activation[0][0]']     \n",
            " agePooling2D)                                                                                    \n",
            "                                                                                                  \n",
            " block5a_se_reshape (Reshape)   (None, 1, 1, 480)    0           ['block5a_se_squeeze[0][0]']     \n",
            "                                                                                                  \n",
            " block5a_se_reduce (Conv2D)     (None, 1, 1, 20)     9620        ['block5a_se_reshape[0][0]']     \n",
            "                                                                                                  \n",
            " block5a_se_expand (Conv2D)     (None, 1, 1, 480)    10080       ['block5a_se_reduce[0][0]']      \n",
            "                                                                                                  \n",
            " block5a_se_excite (Multiply)   (None, None, None,   0           ['block5a_activation[0][0]',     \n",
            "                                480)                              'block5a_se_expand[0][0]']      \n",
            "                                                                                                  \n",
            " block5a_project_conv (Conv2D)  (None, None, None,   53760       ['block5a_se_excite[0][0]']      \n",
            "                                112)                                                              \n",
            "                                                                                                  \n",
            " block5a_project_bn (BatchNorma  (None, None, None,   448        ['block5a_project_conv[0][0]']   \n",
            " lization)                      112)                                                              \n",
            "                                                                                                  \n",
            " block5b_expand_conv (Conv2D)   (None, None, None,   75264       ['block5a_project_bn[0][0]']     \n",
            "                                672)                                                              \n",
            "                                                                                                  \n",
            " block5b_expand_bn (BatchNormal  (None, None, None,   2688       ['block5b_expand_conv[0][0]']    \n",
            " ization)                       672)                                                              \n",
            "                                                                                                  \n",
            " block5b_expand_activation (Act  (None, None, None,   0          ['block5b_expand_bn[0][0]']      \n",
            " ivation)                       672)                                                              \n",
            "                                                                                                  \n",
            " block5b_dwconv (DepthwiseConv2  (None, None, None,   16800      ['block5b_expand_activation[0][0]\n",
            " D)                             672)                             ']                               \n",
            "                                                                                                  \n",
            " block5b_bn (BatchNormalization  (None, None, None,   2688       ['block5b_dwconv[0][0]']         \n",
            " )                              672)                                                              \n",
            "                                                                                                  \n",
            " block5b_activation (Activation  (None, None, None,   0          ['block5b_bn[0][0]']             \n",
            " )                              672)                                                              \n",
            "                                                                                                  \n",
            " block5b_se_squeeze (GlobalAver  (None, 672)         0           ['block5b_activation[0][0]']     \n",
            " agePooling2D)                                                                                    \n",
            "                                                                                                  \n",
            " block5b_se_reshape (Reshape)   (None, 1, 1, 672)    0           ['block5b_se_squeeze[0][0]']     \n",
            "                                                                                                  \n",
            " block5b_se_reduce (Conv2D)     (None, 1, 1, 28)     18844       ['block5b_se_reshape[0][0]']     \n",
            "                                                                                                  \n",
            " block5b_se_expand (Conv2D)     (None, 1, 1, 672)    19488       ['block5b_se_reduce[0][0]']      \n",
            "                                                                                                  \n",
            " block5b_se_excite (Multiply)   (None, None, None,   0           ['block5b_activation[0][0]',     \n",
            "                                672)                              'block5b_se_expand[0][0]']      \n",
            "                                                                                                  \n",
            " block5b_project_conv (Conv2D)  (None, None, None,   75264       ['block5b_se_excite[0][0]']      \n",
            "                                112)                                                              \n",
            "                                                                                                  \n",
            " block5b_project_bn (BatchNorma  (None, None, None,   448        ['block5b_project_conv[0][0]']   \n",
            " lization)                      112)                                                              \n",
            "                                                                                                  \n",
            " block5b_drop (Dropout)         (None, None, None,   0           ['block5b_project_bn[0][0]']     \n",
            "                                112)                                                              \n",
            "                                                                                                  \n",
            " block5b_add (Add)              (None, None, None,   0           ['block5b_drop[0][0]',           \n",
            "                                112)                              'block5a_project_bn[0][0]']     \n",
            "                                                                                                  \n",
            " block5c_expand_conv (Conv2D)   (None, None, None,   75264       ['block5b_add[0][0]']            \n",
            "                                672)                                                              \n",
            "                                                                                                  \n",
            " block5c_expand_bn (BatchNormal  (None, None, None,   2688       ['block5c_expand_conv[0][0]']    \n",
            " ization)                       672)                                                              \n",
            "                                                                                                  \n",
            " block5c_expand_activation (Act  (None, None, None,   0          ['block5c_expand_bn[0][0]']      \n",
            " ivation)                       672)                                                              \n",
            "                                                                                                  \n",
            " block5c_dwconv (DepthwiseConv2  (None, None, None,   16800      ['block5c_expand_activation[0][0]\n",
            " D)                             672)                             ']                               \n",
            "                                                                                                  \n",
            " block5c_bn (BatchNormalization  (None, None, None,   2688       ['block5c_dwconv[0][0]']         \n",
            " )                              672)                                                              \n",
            "                                                                                                  \n",
            " block5c_activation (Activation  (None, None, None,   0          ['block5c_bn[0][0]']             \n",
            " )                              672)                                                              \n",
            "                                                                                                  \n",
            " block5c_se_squeeze (GlobalAver  (None, 672)         0           ['block5c_activation[0][0]']     \n",
            " agePooling2D)                                                                                    \n",
            "                                                                                                  \n",
            " block5c_se_reshape (Reshape)   (None, 1, 1, 672)    0           ['block5c_se_squeeze[0][0]']     \n",
            "                                                                                                  \n",
            " block5c_se_reduce (Conv2D)     (None, 1, 1, 28)     18844       ['block5c_se_reshape[0][0]']     \n",
            "                                                                                                  \n",
            " block5c_se_expand (Conv2D)     (None, 1, 1, 672)    19488       ['block5c_se_reduce[0][0]']      \n",
            "                                                                                                  \n",
            " block5c_se_excite (Multiply)   (None, None, None,   0           ['block5c_activation[0][0]',     \n",
            "                                672)                              'block5c_se_expand[0][0]']      \n",
            "                                                                                                  \n",
            " block5c_project_conv (Conv2D)  (None, None, None,   75264       ['block5c_se_excite[0][0]']      \n",
            "                                112)                                                              \n",
            "                                                                                                  \n",
            " block5c_project_bn (BatchNorma  (None, None, None,   448        ['block5c_project_conv[0][0]']   \n",
            " lization)                      112)                                                              \n",
            "                                                                                                  \n",
            " block5c_drop (Dropout)         (None, None, None,   0           ['block5c_project_bn[0][0]']     \n",
            "                                112)                                                              \n",
            "                                                                                                  \n",
            " block5c_add (Add)              (None, None, None,   0           ['block5c_drop[0][0]',           \n",
            "                                112)                              'block5b_add[0][0]']            \n",
            "                                                                                                  \n",
            " block6a_expand_conv (Conv2D)   (None, None, None,   75264       ['block5c_add[0][0]']            \n",
            "                                672)                                                              \n",
            "                                                                                                  \n",
            " block6a_expand_bn (BatchNormal  (None, None, None,   2688       ['block6a_expand_conv[0][0]']    \n",
            " ization)                       672)                                                              \n",
            "                                                                                                  \n",
            " block6a_expand_activation (Act  (None, None, None,   0          ['block6a_expand_bn[0][0]']      \n",
            " ivation)                       672)                                                              \n",
            "                                                                                                  \n",
            " block6a_dwconv_pad (ZeroPaddin  (None, None, None,   0          ['block6a_expand_activation[0][0]\n",
            " g2D)                           672)                             ']                               \n",
            "                                                                                                  \n",
            " block6a_dwconv (DepthwiseConv2  (None, None, None,   16800      ['block6a_dwconv_pad[0][0]']     \n",
            " D)                             672)                                                              \n",
            "                                                                                                  \n",
            " block6a_bn (BatchNormalization  (None, None, None,   2688       ['block6a_dwconv[0][0]']         \n",
            " )                              672)                                                              \n",
            "                                                                                                  \n",
            " block6a_activation (Activation  (None, None, None,   0          ['block6a_bn[0][0]']             \n",
            " )                              672)                                                              \n",
            "                                                                                                  \n",
            " block6a_se_squeeze (GlobalAver  (None, 672)         0           ['block6a_activation[0][0]']     \n",
            " agePooling2D)                                                                                    \n",
            "                                                                                                  \n",
            " block6a_se_reshape (Reshape)   (None, 1, 1, 672)    0           ['block6a_se_squeeze[0][0]']     \n",
            "                                                                                                  \n",
            " block6a_se_reduce (Conv2D)     (None, 1, 1, 28)     18844       ['block6a_se_reshape[0][0]']     \n",
            "                                                                                                  \n",
            " block6a_se_expand (Conv2D)     (None, 1, 1, 672)    19488       ['block6a_se_reduce[0][0]']      \n",
            "                                                                                                  \n",
            " block6a_se_excite (Multiply)   (None, None, None,   0           ['block6a_activation[0][0]',     \n",
            "                                672)                              'block6a_se_expand[0][0]']      \n",
            "                                                                                                  \n",
            " block6a_project_conv (Conv2D)  (None, None, None,   129024      ['block6a_se_excite[0][0]']      \n",
            "                                192)                                                              \n",
            "                                                                                                  \n",
            " block6a_project_bn (BatchNorma  (None, None, None,   768        ['block6a_project_conv[0][0]']   \n",
            " lization)                      192)                                                              \n",
            "                                                                                                  \n",
            " block6b_expand_conv (Conv2D)   (None, None, None,   221184      ['block6a_project_bn[0][0]']     \n",
            "                                1152)                                                             \n",
            "                                                                                                  \n",
            " block6b_expand_bn (BatchNormal  (None, None, None,   4608       ['block6b_expand_conv[0][0]']    \n",
            " ization)                       1152)                                                             \n",
            "                                                                                                  \n",
            " block6b_expand_activation (Act  (None, None, None,   0          ['block6b_expand_bn[0][0]']      \n",
            " ivation)                       1152)                                                             \n",
            "                                                                                                  \n",
            " block6b_dwconv (DepthwiseConv2  (None, None, None,   28800      ['block6b_expand_activation[0][0]\n",
            " D)                             1152)                            ']                               \n",
            "                                                                                                  \n",
            " block6b_bn (BatchNormalization  (None, None, None,   4608       ['block6b_dwconv[0][0]']         \n",
            " )                              1152)                                                             \n",
            "                                                                                                  \n",
            " block6b_activation (Activation  (None, None, None,   0          ['block6b_bn[0][0]']             \n",
            " )                              1152)                                                             \n",
            "                                                                                                  \n",
            " block6b_se_squeeze (GlobalAver  (None, 1152)        0           ['block6b_activation[0][0]']     \n",
            " agePooling2D)                                                                                    \n",
            "                                                                                                  \n",
            " block6b_se_reshape (Reshape)   (None, 1, 1, 1152)   0           ['block6b_se_squeeze[0][0]']     \n",
            "                                                                                                  \n",
            " block6b_se_reduce (Conv2D)     (None, 1, 1, 48)     55344       ['block6b_se_reshape[0][0]']     \n",
            "                                                                                                  \n",
            " block6b_se_expand (Conv2D)     (None, 1, 1, 1152)   56448       ['block6b_se_reduce[0][0]']      \n",
            "                                                                                                  \n",
            " block6b_se_excite (Multiply)   (None, None, None,   0           ['block6b_activation[0][0]',     \n",
            "                                1152)                             'block6b_se_expand[0][0]']      \n",
            "                                                                                                  \n",
            " block6b_project_conv (Conv2D)  (None, None, None,   221184      ['block6b_se_excite[0][0]']      \n",
            "                                192)                                                              \n",
            "                                                                                                  \n",
            " block6b_project_bn (BatchNorma  (None, None, None,   768        ['block6b_project_conv[0][0]']   \n",
            " lization)                      192)                                                              \n",
            "                                                                                                  \n",
            " block6b_drop (Dropout)         (None, None, None,   0           ['block6b_project_bn[0][0]']     \n",
            "                                192)                                                              \n",
            "                                                                                                  \n",
            " block6b_add (Add)              (None, None, None,   0           ['block6b_drop[0][0]',           \n",
            "                                192)                              'block6a_project_bn[0][0]']     \n",
            "                                                                                                  \n",
            " block6c_expand_conv (Conv2D)   (None, None, None,   221184      ['block6b_add[0][0]']            \n",
            "                                1152)                                                             \n",
            "                                                                                                  \n",
            " block6c_expand_bn (BatchNormal  (None, None, None,   4608       ['block6c_expand_conv[0][0]']    \n",
            " ization)                       1152)                                                             \n",
            "                                                                                                  \n",
            " block6c_expand_activation (Act  (None, None, None,   0          ['block6c_expand_bn[0][0]']      \n",
            " ivation)                       1152)                                                             \n",
            "                                                                                                  \n",
            " block6c_dwconv (DepthwiseConv2  (None, None, None,   28800      ['block6c_expand_activation[0][0]\n",
            " D)                             1152)                            ']                               \n",
            "                                                                                                  \n",
            " block6c_bn (BatchNormalization  (None, None, None,   4608       ['block6c_dwconv[0][0]']         \n",
            " )                              1152)                                                             \n",
            "                                                                                                  \n",
            " block6c_activation (Activation  (None, None, None,   0          ['block6c_bn[0][0]']             \n",
            " )                              1152)                                                             \n",
            "                                                                                                  \n",
            " block6c_se_squeeze (GlobalAver  (None, 1152)        0           ['block6c_activation[0][0]']     \n",
            " agePooling2D)                                                                                    \n",
            "                                                                                                  \n",
            " block6c_se_reshape (Reshape)   (None, 1, 1, 1152)   0           ['block6c_se_squeeze[0][0]']     \n",
            "                                                                                                  \n",
            " block6c_se_reduce (Conv2D)     (None, 1, 1, 48)     55344       ['block6c_se_reshape[0][0]']     \n",
            "                                                                                                  \n",
            " block6c_se_expand (Conv2D)     (None, 1, 1, 1152)   56448       ['block6c_se_reduce[0][0]']      \n",
            "                                                                                                  \n",
            " block6c_se_excite (Multiply)   (None, None, None,   0           ['block6c_activation[0][0]',     \n",
            "                                1152)                             'block6c_se_expand[0][0]']      \n",
            "                                                                                                  \n",
            " block6c_project_conv (Conv2D)  (None, None, None,   221184      ['block6c_se_excite[0][0]']      \n",
            "                                192)                                                              \n",
            "                                                                                                  \n",
            " block6c_project_bn (BatchNorma  (None, None, None,   768        ['block6c_project_conv[0][0]']   \n",
            " lization)                      192)                                                              \n",
            "                                                                                                  \n",
            " block6c_drop (Dropout)         (None, None, None,   0           ['block6c_project_bn[0][0]']     \n",
            "                                192)                                                              \n",
            "                                                                                                  \n",
            " block6c_add (Add)              (None, None, None,   0           ['block6c_drop[0][0]',           \n",
            "                                192)                              'block6b_add[0][0]']            \n",
            "                                                                                                  \n",
            " block6d_expand_conv (Conv2D)   (None, None, None,   221184      ['block6c_add[0][0]']            \n",
            "                                1152)                                                             \n",
            "                                                                                                  \n",
            " block6d_expand_bn (BatchNormal  (None, None, None,   4608       ['block6d_expand_conv[0][0]']    \n",
            " ization)                       1152)                                                             \n",
            "                                                                                                  \n",
            " block6d_expand_activation (Act  (None, None, None,   0          ['block6d_expand_bn[0][0]']      \n",
            " ivation)                       1152)                                                             \n",
            "                                                                                                  \n",
            " block6d_dwconv (DepthwiseConv2  (None, None, None,   28800      ['block6d_expand_activation[0][0]\n",
            " D)                             1152)                            ']                               \n",
            "                                                                                                  \n",
            " block6d_bn (BatchNormalization  (None, None, None,   4608       ['block6d_dwconv[0][0]']         \n",
            " )                              1152)                                                             \n",
            "                                                                                                  \n",
            " block6d_activation (Activation  (None, None, None,   0          ['block6d_bn[0][0]']             \n",
            " )                              1152)                                                             \n",
            "                                                                                                  \n",
            " block6d_se_squeeze (GlobalAver  (None, 1152)        0           ['block6d_activation[0][0]']     \n",
            " agePooling2D)                                                                                    \n",
            "                                                                                                  \n",
            " block6d_se_reshape (Reshape)   (None, 1, 1, 1152)   0           ['block6d_se_squeeze[0][0]']     \n",
            "                                                                                                  \n",
            " block6d_se_reduce (Conv2D)     (None, 1, 1, 48)     55344       ['block6d_se_reshape[0][0]']     \n",
            "                                                                                                  \n",
            " block6d_se_expand (Conv2D)     (None, 1, 1, 1152)   56448       ['block6d_se_reduce[0][0]']      \n",
            "                                                                                                  \n",
            " block6d_se_excite (Multiply)   (None, None, None,   0           ['block6d_activation[0][0]',     \n",
            "                                1152)                             'block6d_se_expand[0][0]']      \n",
            "                                                                                                  \n",
            " block6d_project_conv (Conv2D)  (None, None, None,   221184      ['block6d_se_excite[0][0]']      \n",
            "                                192)                                                              \n",
            "                                                                                                  \n",
            " block6d_project_bn (BatchNorma  (None, None, None,   768        ['block6d_project_conv[0][0]']   \n",
            " lization)                      192)                                                              \n",
            "                                                                                                  \n",
            " block6d_drop (Dropout)         (None, None, None,   0           ['block6d_project_bn[0][0]']     \n",
            "                                192)                                                              \n",
            "                                                                                                  \n",
            " block6d_add (Add)              (None, None, None,   0           ['block6d_drop[0][0]',           \n",
            "                                192)                              'block6c_add[0][0]']            \n",
            "                                                                                                  \n",
            " block7a_expand_conv (Conv2D)   (None, None, None,   221184      ['block6d_add[0][0]']            \n",
            "                                1152)                                                             \n",
            "                                                                                                  \n",
            " block7a_expand_bn (BatchNormal  (None, None, None,   4608       ['block7a_expand_conv[0][0]']    \n",
            " ization)                       1152)                                                             \n",
            "                                                                                                  \n",
            " block7a_expand_activation (Act  (None, None, None,   0          ['block7a_expand_bn[0][0]']      \n",
            " ivation)                       1152)                                                             \n",
            "                                                                                                  \n",
            " block7a_dwconv (DepthwiseConv2  (None, None, None,   10368      ['block7a_expand_activation[0][0]\n",
            " D)                             1152)                            ']                               \n",
            "                                                                                                  \n",
            " block7a_bn (BatchNormalization  (None, None, None,   4608       ['block7a_dwconv[0][0]']         \n",
            " )                              1152)                                                             \n",
            "                                                                                                  \n",
            " block7a_activation (Activation  (None, None, None,   0          ['block7a_bn[0][0]']             \n",
            " )                              1152)                                                             \n",
            "                                                                                                  \n",
            " block7a_se_squeeze (GlobalAver  (None, 1152)        0           ['block7a_activation[0][0]']     \n",
            " agePooling2D)                                                                                    \n",
            "                                                                                                  \n",
            " block7a_se_reshape (Reshape)   (None, 1, 1, 1152)   0           ['block7a_se_squeeze[0][0]']     \n",
            "                                                                                                  \n",
            " block7a_se_reduce (Conv2D)     (None, 1, 1, 48)     55344       ['block7a_se_reshape[0][0]']     \n",
            "                                                                                                  \n",
            " block7a_se_expand (Conv2D)     (None, 1, 1, 1152)   56448       ['block7a_se_reduce[0][0]']      \n",
            "                                                                                                  \n",
            " block7a_se_excite (Multiply)   (None, None, None,   0           ['block7a_activation[0][0]',     \n",
            "                                1152)                             'block7a_se_expand[0][0]']      \n",
            "                                                                                                  \n",
            " block7a_project_conv (Conv2D)  (None, None, None,   368640      ['block7a_se_excite[0][0]']      \n",
            "                                320)                                                              \n",
            "                                                                                                  \n",
            " block7a_project_bn (BatchNorma  (None, None, None,   1280       ['block7a_project_conv[0][0]']   \n",
            " lization)                      320)                                                              \n",
            "                                                                                                  \n",
            " top_conv (Conv2D)              (None, None, None,   409600      ['block7a_project_bn[0][0]']     \n",
            "                                1280)                                                             \n",
            "                                                                                                  \n",
            " top_bn (BatchNormalization)    (None, None, None,   5120        ['top_conv[0][0]']               \n",
            "                                1280)                                                             \n",
            "                                                                                                  \n",
            " top_activation (Activation)    (None, None, None,   0           ['top_bn[0][0]']                 \n",
            "                                1280)                                                             \n",
            "                                                                                                  \n",
            "==================================================================================================\n",
            "Total params: 4,049,571\n",
            "Trainable params: 0\n",
            "Non-trainable params: 4,049,571\n",
            "__________________________________________________________________________________________________\n"
          ]
        }
      ]
    },
    {
      "cell_type": "code",
      "source": [
        "model_0.summary()"
      ],
      "metadata": {
        "colab": {
          "base_uri": "https://localhost:8080/"
        },
        "id": "qQpdzF9mJRWS",
        "outputId": "f339ab16-2b1a-4d6b-ce6a-43f6a7f79a50"
      },
      "execution_count": 19,
      "outputs": [
        {
          "output_type": "stream",
          "name": "stdout",
          "text": [
            "Model: \"model\"\n",
            "_________________________________________________________________\n",
            " Layer (type)                Output Shape              Param #   \n",
            "=================================================================\n",
            " input_layer (InputLayer)    [(None, 224, 224, 3)]     0         \n",
            "                                                                 \n",
            " efficientnetb0 (Functional)  (None, None, None, 1280)  4049571  \n",
            "                                                                 \n",
            " global_average_pooling_laye  (None, 1280)             0         \n",
            " r (GlobalAveragePooling2D)                                      \n",
            "                                                                 \n",
            " output_layer (Dense)        (None, 10)                12810     \n",
            "                                                                 \n",
            "=================================================================\n",
            "Total params: 4,062,381\n",
            "Trainable params: 12,810\n",
            "Non-trainable params: 4,049,571\n",
            "_________________________________________________________________\n"
          ]
        }
      ]
    },
    {
      "cell_type": "code",
      "source": [
        "plot_loss_curves(history_10_percent)"
      ],
      "metadata": {
        "colab": {
          "base_uri": "https://localhost:8080/",
          "height": 573
        },
        "id": "KwkIbeybJVVC",
        "outputId": "471e631d-af96-4ed8-e379-8ba92a25ec59"
      },
      "execution_count": 13,
      "outputs": [
        {
          "output_type": "display_data",
          "data": {
            "text/plain": [
              "<Figure size 432x288 with 1 Axes>"
            ],
            "image/png": "[encoded data removed]"
          },
          "metadata": {
            "needs_background": "light"
          }
        },
        {
          "output_type": "display_data",
          "data": {
            "text/plain": [
              "<Figure size 432x288 with 1 Axes>"
            ],
            "image/png": "[encoded data removed]"
          },
          "metadata": {
            "needs_background": "light"
          }
        }
      ]
    },
    {
      "cell_type": "markdown",
      "source": [
        "#Getting a feature vector from a trained model\n",
        "tf.keras.layers.GlobalAveragePooling2D() transform a 4D tensor into a 2D tensor\n",
        "by averaging the values across the inner-axes."
      ],
      "metadata": {
        "id": "c4H7YReOJen2"
      }
    },
    {
      "cell_type": "code",
      "source": [
        "input_shape = (1,4,4,3)\n",
        "tf.random.set_seed(42)\n",
        "input_tensor = tf.random.normal(input_shape)\n",
        "print(f'Random input tensor: \\n {input_tensor}\\n')\n",
        "\n",
        "g_a_p_t = tf.keras.layers.GlobalAveragePooling2D()(input_tensor)\n",
        "print(f'2D global average pooled tensor:\\n {g_a_p_t}')\n",
        "\n",
        "print(f'Shape of input tensor: {input_tensor.shape}')\n",
        "print(f'Shape of 2D global average pooled input tensor: {g_a_p_t.shape}')"
      ],
      "metadata": {
        "colab": {
          "base_uri": "https://localhost:8080/"
        },
        "id": "diL8ZrQRJzmJ",
        "outputId": "fa0e6098-e1f8-4da1-8818-f2a62ef7a26b"
      },
      "execution_count": 14,
      "outputs": [
        {
          "output_type": "stream",
          "name": "stdout",
          "text": [
            "Random input tensor: \n",
            " [[[[ 0.3274685  -0.8426258   0.3194337 ]\n",
            "   [-1.4075519  -2.3880599  -1.0392479 ]\n",
            "   [-0.5573232   0.539707    1.6994323 ]\n",
            "   [ 0.28893656 -1.5066116  -0.2645474 ]]\n",
            "\n",
            "  [[-0.59722406 -1.9171132  -0.62044144]\n",
            "   [ 0.8504023  -0.40604794 -3.0258412 ]\n",
            "   [ 0.9058464   0.29855987 -0.22561555]\n",
            "   [-0.7616443  -1.8917141  -0.93847126]]\n",
            "\n",
            "  [[ 0.77852213 -0.47338897  0.97772694]\n",
            "   [ 0.24694404  0.20573747 -0.5256233 ]\n",
            "   [ 0.32410017  0.02545409 -0.10638497]\n",
            "   [-0.6369475   1.1603122   0.2507359 ]]\n",
            "\n",
            "  [[-0.41728503  0.4012578  -1.4145443 ]\n",
            "   [-0.5931857  -1.6617213   0.33567193]\n",
            "   [ 0.10815629  0.23479682 -0.56668764]\n",
            "   [-0.35819843  0.88698614  0.52744764]]]]\n",
            "\n",
            "2D global average pooled tensor:\n",
            " [[-0.09368646 -0.45840448 -0.2885598 ]]\n",
            "Shape of input tensor: (1, 4, 4, 3)\n",
            "Shape of 2D global average pooled input tensor: (1, 3)\n"
          ]
        }
      ]
    },
    {
      "cell_type": "code",
      "source": [
        "#This is the same as GlobalAveragePooling2D()\n",
        "tf.reduce_mean(input_tensor, axis=[1,2])"
      ],
      "metadata": {
        "colab": {
          "base_uri": "https://localhost:8080/"
        },
        "id": "7P7vQ5YGKuRC",
        "outputId": "5a0c487c-5779-43af-a828-97436f4d3df1"
      },
      "execution_count": 25,
      "outputs": [
        {
          "output_type": "execute_result",
          "data": {
            "text/plain": [
              "<tf.Tensor: shape=(1, 3), dtype=float32, numpy=array([[-0.09368646, -0.45840448, -0.2885598 ]], dtype=float32)>"
            ]
          },
          "metadata": {},
          "execution_count": 25
        }
      ]
    },
    {
      "cell_type": "markdown",
      "source": [
        "Doing this not only makes the output of the base model compatible with the input shape requirement of our output layer (tf.keras.layers.Dense()), it also condenses the information found by the base model into a lower dimension feature vector.\n",
        "\n",
        "🔑 Note: One of the reasons feature extraction transfer learning is named how it is is because what often happens is a pretrained model outputs a feature vector (a long tensor of numbers, in our case, this is the output of the tf.keras.layers.GlobalAveragePooling2D() layer) which can then be used to extract patterns out of."
      ],
      "metadata": {
        "id": "X26Ed3qiLEr7"
      }
    },
    {
      "cell_type": "markdown",
      "source": [
        "#Running a series of transfer learning experiments\n",
        "model1) Use feature extraction transfer learning on 1%.\n",
        "\n",
        "model1) Use feature extraction transfer learning on 10%.\n",
        "\n",
        "model1) Use fine tunning transfer learning on 10%.\n",
        "\n",
        "model1) Use fine tunning transfer learning on 100%.\n",
        "\n"
      ],
      "metadata": {
        "id": "zziMQ8zCLokg"
      }
    },
    {
      "cell_type": "code",
      "source": [
        "!wget https://storage.googleapis.com/ztm_tf_course/food_vision/10_food_classes_1_percent.zip\n",
        "unzip_data(\"10_food_classes_1_percent.zip\")\n",
        "\n",
        "train_dir_1_percent = \"10_food_classes_1_percent/train/\"\n",
        "test_dir = \"10_food_classes_1_percent/test/\""
      ],
      "metadata": {
        "colab": {
          "base_uri": "https://localhost:8080/"
        },
        "id": "yW5H7-wVL9VA",
        "outputId": "c28a15b8-8323-4e5a-e265-a00f6de48baa"
      },
      "execution_count": 15,
      "outputs": [
        {
          "output_type": "stream",
          "name": "stdout",
          "text": [
            "--2022-11-03 21:30:23--  https://storage.googleapis.com/ztm_tf_course/food_vision/10_food_classes_1_percent.zip\n",
            "Resolving storage.googleapis.com (storage.googleapis.com)... 142.250.4.128, 74.125.24.128, 172.217.194.128, ...\n",
            "Connecting to storage.googleapis.com (storage.googleapis.com)|142.250.4.128|:443... connected.\n",
            "HTTP request sent, awaiting response... 200 OK\n",
            "Length: 133612354 (127M) [application/zip]\n",
            "Saving to: ‘10_food_classes_1_percent.zip’\n",
            "\n",
            "10_food_classes_1_p 100%[===================>] 127.42M  16.0MB/s    in 9.7s    \n",
            "\n",
            "2022-11-03 21:30:34 (13.2 MB/s) - ‘10_food_classes_1_percent.zip’ saved [133612354/133612354]\n",
            "\n"
          ]
        }
      ]
    },
    {
      "cell_type": "code",
      "source": [
        "walk_through_dir('10_food_classes_1_percent')"
      ],
      "metadata": {
        "colab": {
          "base_uri": "https://localhost:8080/"
        },
        "id": "9pBMR3LpMHKF",
        "outputId": "94f9696a-f4e1-4e9a-d8b7-3b5144612c83"
      },
      "execution_count": 27,
      "outputs": [
        {
          "output_type": "stream",
          "name": "stdout",
          "text": [
            "There are 2 directories and 0 images in '10_food_classes_1_percent'.\n",
            "There are 10 directories and 0 images in '10_food_classes_1_percent/train'.\n",
            "There are 0 directories and 7 images in '10_food_classes_1_percent/train/hamburger'.\n",
            "There are 0 directories and 7 images in '10_food_classes_1_percent/train/ice_cream'.\n",
            "There are 0 directories and 7 images in '10_food_classes_1_percent/train/ramen'.\n",
            "There are 0 directories and 7 images in '10_food_classes_1_percent/train/chicken_curry'.\n",
            "There are 0 directories and 7 images in '10_food_classes_1_percent/train/pizza'.\n",
            "There are 0 directories and 7 images in '10_food_classes_1_percent/train/grilled_salmon'.\n",
            "There are 0 directories and 7 images in '10_food_classes_1_percent/train/fried_rice'.\n",
            "There are 0 directories and 7 images in '10_food_classes_1_percent/train/chicken_wings'.\n",
            "There are 0 directories and 7 images in '10_food_classes_1_percent/train/steak'.\n",
            "There are 0 directories and 7 images in '10_food_classes_1_percent/train/sushi'.\n",
            "There are 10 directories and 0 images in '10_food_classes_1_percent/test'.\n",
            "There are 0 directories and 250 images in '10_food_classes_1_percent/test/hamburger'.\n",
            "There are 0 directories and 250 images in '10_food_classes_1_percent/test/ice_cream'.\n",
            "There are 0 directories and 250 images in '10_food_classes_1_percent/test/ramen'.\n",
            "There are 0 directories and 250 images in '10_food_classes_1_percent/test/chicken_curry'.\n",
            "There are 0 directories and 250 images in '10_food_classes_1_percent/test/pizza'.\n",
            "There are 0 directories and 250 images in '10_food_classes_1_percent/test/grilled_salmon'.\n",
            "There are 0 directories and 250 images in '10_food_classes_1_percent/test/fried_rice'.\n",
            "There are 0 directories and 250 images in '10_food_classes_1_percent/test/chicken_wings'.\n",
            "There are 0 directories and 250 images in '10_food_classes_1_percent/test/steak'.\n",
            "There are 0 directories and 250 images in '10_food_classes_1_percent/test/sushi'.\n"
          ]
        }
      ]
    },
    {
      "cell_type": "code",
      "source": [
        "train_data_1_percent = tf.keras.preprocessing.image_dataset_from_directory(train_dir_1_percent,\n",
        "                                                                           label_mode='categorical',\n",
        "                                                                           batch_size = 32,\n",
        "                                                                           image_size = IMG_SIZE)\n",
        "test_data = tf.keras.preprocessing.image_dataset_from_directory(test_dir,\n",
        "                                                                label_mode = 'categorical',\n",
        "                                                                image_size = IMG_SIZE)"
      ],
      "metadata": {
        "colab": {
          "base_uri": "https://localhost:8080/"
        },
        "id": "MTkmv8ugMPho",
        "outputId": "55bd5409-3b6d-49c1-92ce-91e19a17d196"
      },
      "execution_count": 19,
      "outputs": [
        {
          "output_type": "stream",
          "name": "stdout",
          "text": [
            "Found 70 files belonging to 10 classes.\n",
            "Found 2500 files belonging to 10 classes.\n"
          ]
        }
      ]
    },
    {
      "cell_type": "code",
      "source": [
        "import tensorflow as tf\n",
        "from tensorflow import keras\n",
        "from tensorflow.keras import layers\n",
        "from tensorflow.keras.layers.experimental import preprocessing\n",
        "\n",
        "# Create a data augmentation stage with horizontal flipping, rotations, zooms\n",
        "data_augmentation = tf.keras.Sequential([\n",
        "  tf.keras.layers.RandomFlip(\"horizontal\"),\n",
        "  tf.keras.layers.RandomRotation(0.2),\n",
        "  tf.keras.layers.RandomZoom(0.2),\n",
        "  tf.keras.layers.RandomHeight(0.2),\n",
        "  tf.keras.layers.RandomWidth(0.2),\n",
        "  # preprocessing.Rescaling(1./255) # keep for ResNet50V2, remove for EfficientNetB0\n",
        "])"
      ],
      "metadata": {
        "id": "mcSATfeONIs-"
      },
      "execution_count": 17,
      "outputs": []
    },
    {
      "cell_type": "code",
      "source": [
        "import matplotlib.pyplot as plt\n",
        "import matplotlib.image as mpimg\n",
        "import os\n",
        "import random\n",
        "target_class = random.choice(train_data_1_percent.class_names) # choose a random class\n",
        "target_dir = \"10_food_classes_1_percent/train/\" + target_class # create the target directory\n",
        "random_image = random.choice(os.listdir(target_dir)) # choose a random image from target directory\n",
        "random_image_path = target_dir + \"/\" + random_image # create the choosen random image path\n",
        "img = mpimg.imread(random_image_path) # read in the chosen target image\n",
        "plt.imshow(img) # plot the target image\n",
        "plt.title(f\"Original random image from class: {target_class}\")\n",
        "plt.axis(False); # turn off the axes\n",
        "\n",
        "# Augment the image\n",
        "augmented_img = data_augmentation(tf.expand_dims(img, axis=0)) # data augmentation model requires shape (None, height, width, 3)\n",
        "plt.figure()\n",
        "plt.imshow(tf.squeeze(augmented_img)/255.) # requires normalization after augmentation\n",
        "plt.title(f\"Augmented random image from class: {target_class}\")\n",
        "plt.axis(False);"
      ],
      "metadata": {
        "colab": {
          "base_uri": "https://localhost:8080/",
          "height": 511
        },
        "id": "xu2OVQqRLGPe",
        "outputId": "56348d04-f138-4126-e922-1ffb8eba6da9"
      },
      "execution_count": 18,
      "outputs": [
        {
          "output_type": "display_data",
          "data": {
            "text/plain": [
              "<Figure size 432x288 with 1 Axes>"
            ],
            "image/png": "[encoded data removed]"
          },
          "metadata": {
            "needs_background": "light"
          }
        },
        {
          "output_type": "display_data",
          "data": {
            "text/plain": [
              "<Figure size 432x288 with 1 Axes>"
            ],
            "image/png": "[encoded data removed]"
          },
          "metadata": {
            "needs_background": "light"
          }
        }
      ]
    },
    {
      "cell_type": "markdown",
      "source": [
        "error in notebooks, idk to fix it\n",
        "# Model1: Feature extraction transfer learning on 1% data with data aug(not sure haha)"
      ],
      "metadata": {
        "id": "U-Krq1E0Ynwo"
      }
    },
    {
      "cell_type": "code",
      "source": [
        "input_shape = (224,224,3)\n",
        "base_model = tf.keras.applications.EfficientNetB0(include_top = False)\n",
        "base_model.trainable = False\n",
        "\n",
        "inputs = layers.Input(shape = input_shape, name = 'input_layer')\n",
        "\n",
        "x = data_augmentation(inputs)\n",
        "\n",
        "x = base_model(x, training=False)\n",
        "\n",
        "x = layers.GlobalAveragePooling2D(name = 'global_average_pooling_layer')(x)\n",
        "\n",
        "outputs = layers.Dense(10, activation = 'softmax', name = 'output_layer')(x)\n",
        "\n",
        "model_1 = keras.Model(inputs, outputs)\n",
        "\n",
        "model_1.compile(loss = 'categorical_crossentropy',\n",
        "                optimizer = tf.keras.optimizers.Adam(),\n",
        "                metrics = ['accuracy'])\n",
        "history_1_percent = model_1.fit(train_data_1_percent,\n",
        "                                epochs=5,\n",
        "                                steps_per_epoch = len(train_data_1_percent),\n",
        "                                validation_data = test_data,\n",
        "                                validation_steps = int(0.25*len(test_data)),\n",
        "                                callbacks = [create_tensorboard_callback('transfer_learning', '1_percent_data_aug')])\n"
      ],
      "metadata": {
        "colab": {
          "base_uri": "https://localhost:8080/"
        },
        "id": "f1qDO-MqYjed",
        "outputId": "8749aa03-3bf3-4911-dedc-af52dee664df"
      },
      "execution_count": 20,
      "outputs": [
        {
          "output_type": "stream",
          "name": "stdout",
          "text": [
            "Saving TensorBoard log files to: transfer_learning/1_percent_data_aug/20221103-213556\n",
            "Epoch 1/5\n",
            "3/3 [==============================] - 12s 2s/step - loss: 2.4377 - accuracy: 0.1143 - val_loss: 2.2190 - val_accuracy: 0.1957\n",
            "Epoch 2/5\n",
            "3/3 [==============================] - 4s 2s/step - loss: 2.1277 - accuracy: 0.2857 - val_loss: 2.0926 - val_accuracy: 0.2681\n",
            "Epoch 3/5\n",
            "3/3 [==============================] - 4s 2s/step - loss: 1.9161 - accuracy: 0.4000 - val_loss: 1.9811 - val_accuracy: 0.3240\n",
            "Epoch 4/5\n",
            "3/3 [==============================] - 4s 2s/step - loss: 1.7939 - accuracy: 0.5571 - val_loss: 1.8837 - val_accuracy: 0.3964\n",
            "Epoch 5/5\n",
            "3/3 [==============================] - 4s 2s/step - loss: 1.6256 - accuracy: 0.6714 - val_loss: 1.7816 - val_accuracy: 0.4720\n"
          ]
        }
      ]
    },
    {
      "cell_type": "code",
      "source": [
        "model_1.summary()"
      ],
      "metadata": {
        "colab": {
          "base_uri": "https://localhost:8080/"
        },
        "id": "2ePJMVEfbTOg",
        "outputId": "2df51c32-3ee1-47df-81f0-d8109b39b045"
      },
      "execution_count": 21,
      "outputs": [
        {
          "output_type": "stream",
          "name": "stdout",
          "text": [
            "Model: \"model_1\"\n",
            "_________________________________________________________________\n",
            " Layer (type)                Output Shape              Param #   \n",
            "=================================================================\n",
            " input_layer (InputLayer)    [(None, 224, 224, 3)]     0         \n",
            "                                                                 \n",
            " sequential (Sequential)     (None, None, None, 3)     0         \n",
            "                                                                 \n",
            " efficientnetb0 (Functional)  (None, None, None, 1280)  4049571  \n",
            "                                                                 \n",
            " global_average_pooling_laye  (None, 1280)             0         \n",
            " r (GlobalAveragePooling2D)                                      \n",
            "                                                                 \n",
            " output_layer (Dense)        (None, 10)                12810     \n",
            "                                                                 \n",
            "=================================================================\n",
            "Total params: 4,062,381\n",
            "Trainable params: 12,810\n",
            "Non-trainable params: 4,049,571\n",
            "_________________________________________________________________\n"
          ]
        }
      ]
    },
    {
      "cell_type": "code",
      "source": [
        "results_1_percent_data_aug = model_1.evaluate(test_data)\n",
        "results_1_percent_data_aug"
      ],
      "metadata": {
        "colab": {
          "base_uri": "https://localhost:8080/"
        },
        "id": "sgeA27MYbfjq",
        "outputId": "256378eb-980f-4547-961c-36d3aa0b0f62"
      },
      "execution_count": 22,
      "outputs": [
        {
          "output_type": "stream",
          "name": "stdout",
          "text": [
            "79/79 [==============================] - 8s 90ms/step - loss: 1.7917 - accuracy: 0.4564\n"
          ]
        },
        {
          "output_type": "execute_result",
          "data": {
            "text/plain": [
              "[1.7917033433914185, 0.4564000070095062]"
            ]
          },
          "metadata": {},
          "execution_count": 22
        }
      ]
    },
    {
      "cell_type": "markdown",
      "source": [
        "#Model 2: Feature extraction transfer learning with 10% data"
      ],
      "metadata": {
        "id": "BLnYcL9mboiv"
      }
    },
    {
      "cell_type": "code",
      "source": [
        "train_dir_10_percent = \"10_food_classes_10_percent/train/\"\n",
        "test_dir = \"10_food_classes_10_percent/test/\""
      ],
      "metadata": {
        "id": "d0Bpbs6ibwfF"
      },
      "execution_count": 23,
      "outputs": []
    },
    {
      "cell_type": "code",
      "source": [
        "IMG_SIZE = (224, 224)\n",
        "train_data_10_percent = tf.keras.preprocessing.image_dataset_from_directory(train_dir_10_percent,\n",
        "                                                                            label_mode=\"categorical\",\n",
        "                                                                            image_size=IMG_SIZE)\n",
        "# Note: the test data is the same as the previous experiment, we could\n",
        "# skip creating this, but we'll leave this here to practice.\n",
        "test_data = tf.keras.preprocessing.image_dataset_from_directory(test_dir,\n",
        "                                                                label_mode=\"categorical\",\n",
        "                                                                image_size=IMG_SIZE)"
      ],
      "metadata": {
        "colab": {
          "base_uri": "https://localhost:8080/"
        },
        "id": "L3_k-9fIb1Fx",
        "outputId": "66261789-22cb-4aea-9107-964fc9587cb2"
      },
      "execution_count": 24,
      "outputs": [
        {
          "output_type": "stream",
          "name": "stdout",
          "text": [
            "Found 750 files belonging to 10 classes.\n",
            "Found 2500 files belonging to 10 classes.\n"
          ]
        }
      ]
    },
    {
      "cell_type": "code",
      "source": [
        "# Create a functional model with data augmentation\n",
        "import tensorflow as tf\n",
        "from tensorflow.keras import layers\n",
        "from tensorflow.keras.layers.experimental import preprocessing\n",
        "from tensorflow.keras.models import Sequential\n",
        "\n",
        "# Build data augmentation layer\n",
        "data_augmentation = Sequential([\n",
        "  preprocessing.RandomFlip('horizontal'),\n",
        "  preprocessing.RandomHeight(0.2),\n",
        "  preprocessing.RandomWidth(0.2),\n",
        "  preprocessing.RandomZoom(0.2),\n",
        "  preprocessing.RandomRotation(0.2),\n",
        "  # preprocessing.Rescaling(1./255) # keep for ResNet50V2, remove for EfficientNet                 \n",
        "], name=\"data_augmentation\")\n",
        "\n",
        "# Setup the input shape to our model\n",
        "input_shape = (224, 224, 3)\n",
        "\n",
        "# Create a frozen base model\n",
        "base_model = tf.keras.applications.EfficientNetB0(include_top=False)\n",
        "base_model.trainable = False\n",
        "\n",
        "# Create input and output layers\n",
        "inputs = layers.Input(shape=input_shape, name=\"input_layer\") # create input layer\n",
        "x = data_augmentation(inputs) # augment our training images\n",
        "x = base_model(x, training=False) # pass augmented images to base model but keep it in inference mode, so batchnorm layers don't get updated: https://keras.io/guides/transfer_learning/#build-a-model \n",
        "x = layers.GlobalAveragePooling2D(name=\"global_average_pooling_layer\")(x)\n",
        "outputs = layers.Dense(10, activation=\"softmax\", name=\"output_layer\")(x)\n",
        "model_2 = tf.keras.Model(inputs, outputs)\n",
        "\n",
        "# Compile\n",
        "model_2.compile(loss=\"categorical_crossentropy\",\n",
        "              optimizer=tf.keras.optimizers.Adam(learning_rate=0.001), # use Adam optimizer with base learning rate\n",
        "              metrics=[\"accuracy\"])"
      ],
      "metadata": {
        "id": "RECLkfH9b5KC"
      },
      "execution_count": 26,
      "outputs": []
    },
    {
      "cell_type": "markdown",
      "source": [
        "##Model checkpoint callback gives the ability to save your model, as a whole in the SavedModel format or the weights only to a specified directory as it train"
      ],
      "metadata": {
        "id": "sS5V9WFWcazD"
      }
    },
    {
      "cell_type": "code",
      "source": [
        "# Setup checkpoint path\n",
        "checkpoint_path = \"ten_percent_model_checkpoints_weights/checkpoint.ckpt\" # note: remember saving directly to Colab is temporary\n",
        "\n",
        "# Create a ModelCheckpoint callback that saves the model's weights only\n",
        "checkpoint_callback = tf.keras.callbacks.ModelCheckpoint(filepath=checkpoint_path,\n",
        "                                                         save_weights_only=True, # set to False to save the entire model\n",
        "                                                         save_best_only=False, # set to True to save only the best model instead of a model every epoch \n",
        "                                                         save_freq=\"epoch\", # save every epoch\n",
        "                                                         verbose=1)"
      ],
      "metadata": {
        "id": "x71hVxBcd1k4"
      },
      "execution_count": 27,
      "outputs": []
    },
    {
      "cell_type": "code",
      "source": [
        "# Fit the model saving checkpoints every epoch\n",
        "initial_epochs = 5\n",
        "history_10_percent_data_aug = model_2.fit(train_data_10_percent,\n",
        "                                          epochs=initial_epochs,\n",
        "                                          validation_data=test_data,\n",
        "                                          validation_steps=int(0.25 * len(test_data)), # do less steps per validation (quicker)\n",
        "                                          callbacks=[create_tensorboard_callback(\"transfer_learning\", \"10_percent_data_aug\"), \n",
        "                                                     checkpoint_callback])"
      ],
      "metadata": {
        "colab": {
          "base_uri": "https://localhost:8080/"
        },
        "id": "LtPbOxwEbi8D",
        "outputId": "14681539-f2ac-409a-ada0-3ea98e3bf414"
      },
      "execution_count": 28,
      "outputs": [
        {
          "output_type": "stream",
          "name": "stdout",
          "text": [
            "Saving TensorBoard log files to: transfer_learning/10_percent_data_aug/20221103-214919\n",
            "Epoch 1/5\n",
            "24/24 [==============================] - ETA: 0s - loss: 1.9699 - accuracy: 0.3667\n",
            "Epoch 1: saving model to ten_percent_model_checkpoints_weights/checkpoint.ckpt\n",
            "24/24 [==============================] - 19s 536ms/step - loss: 1.9699 - accuracy: 0.3667 - val_loss: 1.4277 - val_accuracy: 0.6678\n",
            "Epoch 2/5\n",
            "24/24 [==============================] - ETA: 0s - loss: 1.3047 - accuracy: 0.7027\n",
            "Epoch 2: saving model to ten_percent_model_checkpoints_weights/checkpoint.ckpt\n",
            "24/24 [==============================] - 11s 443ms/step - loss: 1.3047 - accuracy: 0.7027 - val_loss: 1.0101 - val_accuracy: 0.7533\n",
            "Epoch 3/5\n",
            "24/24 [==============================] - ETA: 0s - loss: 0.9883 - accuracy: 0.7747\n",
            "Epoch 3: saving model to ten_percent_model_checkpoints_weights/checkpoint.ckpt\n",
            "24/24 [==============================] - 12s 473ms/step - loss: 0.9883 - accuracy: 0.7747 - val_loss: 0.8068 - val_accuracy: 0.8158\n",
            "Epoch 4/5\n",
            "24/24 [==============================] - ETA: 0s - loss: 0.8327 - accuracy: 0.8013\n",
            "Epoch 4: saving model to ten_percent_model_checkpoints_weights/checkpoint.ckpt\n",
            "24/24 [==============================] - 14s 555ms/step - loss: 0.8327 - accuracy: 0.8013 - val_loss: 0.7075 - val_accuracy: 0.8306\n",
            "Epoch 5/5\n",
            "24/24 [==============================] - ETA: 0s - loss: 0.7262 - accuracy: 0.8293\n",
            "Epoch 5: saving model to ten_percent_model_checkpoints_weights/checkpoint.ckpt\n",
            "24/24 [==============================] - 10s 393ms/step - loss: 0.7262 - accuracy: 0.8293 - val_loss: 0.6411 - val_accuracy: 0.8355\n"
          ]
        }
      ]
    },
    {
      "cell_type": "code",
      "source": [
        "results_10_percent_data_aug = model_2.evaluate(test_data)\n",
        "results_10_percent_data_aug"
      ],
      "metadata": {
        "colab": {
          "base_uri": "https://localhost:8080/"
        },
        "id": "vBiWCJB2eNYN",
        "outputId": "08b1140f-46b5-41fe-f5e2-7d47a134b83c"
      },
      "execution_count": 29,
      "outputs": [
        {
          "output_type": "stream",
          "name": "stdout",
          "text": [
            "79/79 [==============================] - 7s 86ms/step - loss: 0.6287 - accuracy: 0.8384\n"
          ]
        },
        {
          "output_type": "execute_result",
          "data": {
            "text/plain": [
              "[0.6286782026290894, 0.8384000062942505]"
            ]
          },
          "metadata": {},
          "execution_count": 29
        }
      ]
    },
    {
      "cell_type": "code",
      "source": [
        "plot_loss_curves(history_10_percent_data_aug)"
      ],
      "metadata": {
        "colab": {
          "base_uri": "https://localhost:8080/",
          "height": 573
        },
        "id": "AwUiPVzDeUW7",
        "outputId": "548c9261-e19a-4558-8b15-bb07528f5ee8"
      },
      "execution_count": 30,
      "outputs": [
        {
          "output_type": "display_data",
          "data": {
            "text/plain": [
              "<Figure size 432x288 with 1 Axes>"
            ],
            "image/png": "[encoded data removed]"
          },
          "metadata": {
            "needs_background": "light"
          }
        },
        {
          "output_type": "display_data",
          "data": {
            "text/plain": [
              "<Figure size 432x288 with 1 Axes>"
            ],
            "image/png": "[encoded data removed]"
          },
          "metadata": {
            "needs_background": "light"
          }
        }
      ]
    },
    {
      "cell_type": "code",
      "source": [
        "# Load in saved model weights and evaluate model\n",
        "model_2.load_weights(checkpoint_path)\n",
        "loaded_weights_model_results = model_2.evaluate(test_data)"
      ],
      "metadata": {
        "colab": {
          "base_uri": "https://localhost:8080/"
        },
        "id": "VIw__ifBei71",
        "outputId": "8cdf47d6-74fa-4222-a347-58a95b1bc1f1"
      },
      "execution_count": 31,
      "outputs": [
        {
          "output_type": "stream",
          "name": "stdout",
          "text": [
            "79/79 [==============================] - 8s 89ms/step - loss: 0.6287 - accuracy: 0.8384\n"
          ]
        }
      ]
    },
    {
      "cell_type": "code",
      "source": [
        "print(results_10_percent_data_aug,loaded_weights_model_results)\n",
        "print(results_10_percent_data_aug == loaded_weights_model_results)"
      ],
      "metadata": {
        "colab": {
          "base_uri": "https://localhost:8080/"
        },
        "id": "69StOT37encq",
        "outputId": "b6cc5bc4-0dde-4df5-d9ab-acdef98cd1d1"
      },
      "execution_count": 35,
      "outputs": [
        {
          "output_type": "stream",
          "name": "stdout",
          "text": [
            "[0.6286782026290894, 0.8384000062942505] [0.6286784410476685, 0.8384000062942505]\n",
            "False\n"
          ]
        }
      ]
    },
    {
      "cell_type": "code",
      "source": [
        "import numpy as np\n",
        "# Check to see if loaded model results are very close to native model results (should output True)\n",
        "np.isclose(np.array(results_10_percent_data_aug), np.array(loaded_weights_model_results))"
      ],
      "metadata": {
        "colab": {
          "base_uri": "https://localhost:8080/"
        },
        "id": "2WWDzNz-e6TL",
        "outputId": "61c44e89-ab0a-4251-8b76-745986241ec1"
      },
      "execution_count": 36,
      "outputs": [
        {
          "output_type": "execute_result",
          "data": {
            "text/plain": [
              "array([ True,  True])"
            ]
          },
          "metadata": {},
          "execution_count": 36
        }
      ]
    },
    {
      "cell_type": "code",
      "source": [
        "print(np.array(results_10_percent_data_aug) - np.array(loaded_weights_model_results))"
      ],
      "metadata": {
        "colab": {
          "base_uri": "https://localhost:8080/"
        },
        "id": "gRg6YeR_fDVz",
        "outputId": "368bf050-a443-4b1b-bdf7-94819eff1846"
      },
      "execution_count": 37,
      "outputs": [
        {
          "output_type": "stream",
          "name": "stdout",
          "text": [
            "[-2.38418579e-07  0.00000000e+00]\n"
          ]
        }
      ]
    },
    {
      "cell_type": "markdown",
      "source": [
        "#Model 3: Fine tunning an existing model on 10% data"
      ],
      "metadata": {
        "id": "GaILmhHmfNRG"
      }
    },
    {
      "cell_type": "code",
      "source": [
        "model_2.layers"
      ],
      "metadata": {
        "colab": {
          "base_uri": "https://localhost:8080/"
        },
        "id": "1IVaOdIgfSOw",
        "outputId": "ce55fe77-210f-4517-bf35-4042bf86262e"
      },
      "execution_count": 38,
      "outputs": [
        {
          "output_type": "execute_result",
          "data": {
            "text/plain": [
              "[<keras.engine.input_layer.InputLayer at 0x7fab7a931f50>,\n",
              " <keras.engine.sequential.Sequential at 0x7fab7a931990>,\n",
              " <keras.engine.functional.Functional at 0x7fab76ba66d0>,\n",
              " <keras.layers.pooling.global_average_pooling2d.GlobalAveragePooling2D at 0x7fab7a8e4f50>,\n",
              " <keras.layers.core.dense.Dense at 0x7fab76caba10>]"
            ]
          },
          "metadata": {},
          "execution_count": 38
        }
      ]
    },
    {
      "cell_type": "code",
      "source": [
        "for layer in model_2.layers:\n",
        "  print(layer.trainable)"
      ],
      "metadata": {
        "colab": {
          "base_uri": "https://localhost:8080/"
        },
        "id": "pxYQEOcCfmOk",
        "outputId": "538205f5-99ab-4135-a6b2-59e4cb4c0d0b"
      },
      "execution_count": 39,
      "outputs": [
        {
          "output_type": "stream",
          "name": "stdout",
          "text": [
            "True\n",
            "True\n",
            "False\n",
            "True\n",
            "True\n"
          ]
        }
      ]
    },
    {
      "cell_type": "code",
      "source": [
        "model_2.summary()"
      ],
      "metadata": {
        "colab": {
          "base_uri": "https://localhost:8080/"
        },
        "id": "a1pMKvyffsw-",
        "outputId": "39ac5045-849c-4172-9745-e228d2fcf3f7"
      },
      "execution_count": 40,
      "outputs": [
        {
          "output_type": "stream",
          "name": "stdout",
          "text": [
            "Model: \"model_3\"\n",
            "_________________________________________________________________\n",
            " Layer (type)                Output Shape              Param #   \n",
            "=================================================================\n",
            " input_layer (InputLayer)    [(None, 224, 224, 3)]     0         \n",
            "                                                                 \n",
            " data_augmentation (Sequenti  (None, 224, 224, 3)      0         \n",
            " al)                                                             \n",
            "                                                                 \n",
            " efficientnetb0 (Functional)  (None, None, None, 1280)  4049571  \n",
            "                                                                 \n",
            " global_average_pooling_laye  (None, 1280)             0         \n",
            " r (GlobalAveragePooling2D)                                      \n",
            "                                                                 \n",
            " output_layer (Dense)        (None, 10)                12810     \n",
            "                                                                 \n",
            "=================================================================\n",
            "Total params: 4,062,381\n",
            "Trainable params: 12,810\n",
            "Non-trainable params: 4,049,571\n",
            "_________________________________________________________________\n"
          ]
        }
      ]
    },
    {
      "cell_type": "markdown",
      "source": [
        "Now to fine-tune the base model to our own data, we're going to unfreeze the top 10 layers and continue training our model for another 5 epochs.\n",
        "\n",
        "This means all of the base model's layers except for the last 10 will remain frozen and untrainable. And the weights in the remaining unfrozen layers will be updated during training.\n",
        "\n",
        "Ideally, we should see the model's performance improve.\n"
      ],
      "metadata": {
        "id": "FDgWl2HngVTz"
      }
    },
    {
      "cell_type": "code",
      "source": [
        "base_model.trainable = True\n",
        "\n",
        "#Freeze all layers except for the\n",
        "for layer in base_model.layers[:-10]:\n",
        "  layer.trainable = False\n",
        "  \n",
        "model_2.compile(loss = 'categorical_crossentropy',\n",
        "                optimizer = 'adam',\n",
        "                metrics = ['accuracy'])"
      ],
      "metadata": {
        "id": "2JTbJj9wgebo"
      },
      "execution_count": 42,
      "outputs": []
    },
    {
      "cell_type": "code",
      "source": [
        "# Check which layers are tuneable (trainable)\n",
        "for layer_number, layer in enumerate(base_model.layers):\n",
        "  print(layer_number, layer.name, layer.trainable)"
      ],
      "metadata": {
        "colab": {
          "base_uri": "https://localhost:8080/"
        },
        "id": "zGnphMMCgzs2",
        "outputId": "1955fea8-42d9-475a-a89d-26917c05028b"
      },
      "execution_count": 43,
      "outputs": [
        {
          "output_type": "stream",
          "name": "stdout",
          "text": [
            "0 input_4 False\n",
            "1 rescaling_3 False\n",
            "2 normalization_3 False\n",
            "3 tf.math.truediv_3 False\n",
            "4 stem_conv_pad False\n",
            "5 stem_conv False\n",
            "6 stem_bn False\n",
            "7 stem_activation False\n",
            "8 block1a_dwconv False\n",
            "9 block1a_bn False\n",
            "10 block1a_activation False\n",
            "11 block1a_se_squeeze False\n",
            "12 block1a_se_reshape False\n",
            "13 block1a_se_reduce False\n",
            "14 block1a_se_expand False\n",
            "15 block1a_se_excite False\n",
            "16 block1a_project_conv False\n",
            "17 block1a_project_bn False\n",
            "18 block2a_expand_conv False\n",
            "19 block2a_expand_bn False\n",
            "20 block2a_expand_activation False\n",
            "21 block2a_dwconv_pad False\n",
            "22 block2a_dwconv False\n",
            "23 block2a_bn False\n",
            "24 block2a_activation False\n",
            "25 block2a_se_squeeze False\n",
            "26 block2a_se_reshape False\n",
            "27 block2a_se_reduce False\n",
            "28 block2a_se_expand False\n",
            "29 block2a_se_excite False\n",
            "30 block2a_project_conv False\n",
            "31 block2a_project_bn False\n",
            "32 block2b_expand_conv False\n",
            "33 block2b_expand_bn False\n",
            "34 block2b_expand_activation False\n",
            "35 block2b_dwconv False\n",
            "36 block2b_bn False\n",
            "37 block2b_activation False\n",
            "38 block2b_se_squeeze False\n",
            "39 block2b_se_reshape False\n",
            "40 block2b_se_reduce False\n",
            "41 block2b_se_expand False\n",
            "42 block2b_se_excite False\n",
            "43 block2b_project_conv False\n",
            "44 block2b_project_bn False\n",
            "45 block2b_drop False\n",
            "46 block2b_add False\n",
            "47 block3a_expand_conv False\n",
            "48 block3a_expand_bn False\n",
            "49 block3a_expand_activation False\n",
            "50 block3a_dwconv_pad False\n",
            "51 block3a_dwconv False\n",
            "52 block3a_bn False\n",
            "53 block3a_activation False\n",
            "54 block3a_se_squeeze False\n",
            "55 block3a_se_reshape False\n",
            "56 block3a_se_reduce False\n",
            "57 block3a_se_expand False\n",
            "58 block3a_se_excite False\n",
            "59 block3a_project_conv False\n",
            "60 block3a_project_bn False\n",
            "61 block3b_expand_conv False\n",
            "62 block3b_expand_bn False\n",
            "63 block3b_expand_activation False\n",
            "64 block3b_dwconv False\n",
            "65 block3b_bn False\n",
            "66 block3b_activation False\n",
            "67 block3b_se_squeeze False\n",
            "68 block3b_se_reshape False\n",
            "69 block3b_se_reduce False\n",
            "70 block3b_se_expand False\n",
            "71 block3b_se_excite False\n",
            "72 block3b_project_conv False\n",
            "73 block3b_project_bn False\n",
            "74 block3b_drop False\n",
            "75 block3b_add False\n",
            "76 block4a_expand_conv False\n",
            "77 block4a_expand_bn False\n",
            "78 block4a_expand_activation False\n",
            "79 block4a_dwconv_pad False\n",
            "80 block4a_dwconv False\n",
            "81 block4a_bn False\n",
            "82 block4a_activation False\n",
            "83 block4a_se_squeeze False\n",
            "84 block4a_se_reshape False\n",
            "85 block4a_se_reduce False\n",
            "86 block4a_se_expand False\n",
            "87 block4a_se_excite False\n",
            "88 block4a_project_conv False\n",
            "89 block4a_project_bn False\n",
            "90 block4b_expand_conv False\n",
            "91 block4b_expand_bn False\n",
            "92 block4b_expand_activation False\n",
            "93 block4b_dwconv False\n",
            "94 block4b_bn False\n",
            "95 block4b_activation False\n",
            "96 block4b_se_squeeze False\n",
            "97 block4b_se_reshape False\n",
            "98 block4b_se_reduce False\n",
            "99 block4b_se_expand False\n",
            "100 block4b_se_excite False\n",
            "101 block4b_project_conv False\n",
            "102 block4b_project_bn False\n",
            "103 block4b_drop False\n",
            "104 block4b_add False\n",
            "105 block4c_expand_conv False\n",
            "106 block4c_expand_bn False\n",
            "107 block4c_expand_activation False\n",
            "108 block4c_dwconv False\n",
            "109 block4c_bn False\n",
            "110 block4c_activation False\n",
            "111 block4c_se_squeeze False\n",
            "112 block4c_se_reshape False\n",
            "113 block4c_se_reduce False\n",
            "114 block4c_se_expand False\n",
            "115 block4c_se_excite False\n",
            "116 block4c_project_conv False\n",
            "117 block4c_project_bn False\n",
            "118 block4c_drop False\n",
            "119 block4c_add False\n",
            "120 block5a_expand_conv False\n",
            "121 block5a_expand_bn False\n",
            "122 block5a_expand_activation False\n",
            "123 block5a_dwconv False\n",
            "124 block5a_bn False\n",
            "125 block5a_activation False\n",
            "126 block5a_se_squeeze False\n",
            "127 block5a_se_reshape False\n",
            "128 block5a_se_reduce False\n",
            "129 block5a_se_expand False\n",
            "130 block5a_se_excite False\n",
            "131 block5a_project_conv False\n",
            "132 block5a_project_bn False\n",
            "133 block5b_expand_conv False\n",
            "134 block5b_expand_bn False\n",
            "135 block5b_expand_activation False\n",
            "136 block5b_dwconv False\n",
            "137 block5b_bn False\n",
            "138 block5b_activation False\n",
            "139 block5b_se_squeeze False\n",
            "140 block5b_se_reshape False\n",
            "141 block5b_se_reduce False\n",
            "142 block5b_se_expand False\n",
            "143 block5b_se_excite False\n",
            "144 block5b_project_conv False\n",
            "145 block5b_project_bn False\n",
            "146 block5b_drop False\n",
            "147 block5b_add False\n",
            "148 block5c_expand_conv False\n",
            "149 block5c_expand_bn False\n",
            "150 block5c_expand_activation False\n",
            "151 block5c_dwconv False\n",
            "152 block5c_bn False\n",
            "153 block5c_activation False\n",
            "154 block5c_se_squeeze False\n",
            "155 block5c_se_reshape False\n",
            "156 block5c_se_reduce False\n",
            "157 block5c_se_expand False\n",
            "158 block5c_se_excite False\n",
            "159 block5c_project_conv False\n",
            "160 block5c_project_bn False\n",
            "161 block5c_drop False\n",
            "162 block5c_add False\n",
            "163 block6a_expand_conv False\n",
            "164 block6a_expand_bn False\n",
            "165 block6a_expand_activation False\n",
            "166 block6a_dwconv_pad False\n",
            "167 block6a_dwconv False\n",
            "168 block6a_bn False\n",
            "169 block6a_activation False\n",
            "170 block6a_se_squeeze False\n",
            "171 block6a_se_reshape False\n",
            "172 block6a_se_reduce False\n",
            "173 block6a_se_expand False\n",
            "174 block6a_se_excite False\n",
            "175 block6a_project_conv False\n",
            "176 block6a_project_bn False\n",
            "177 block6b_expand_conv False\n",
            "178 block6b_expand_bn False\n",
            "179 block6b_expand_activation False\n",
            "180 block6b_dwconv False\n",
            "181 block6b_bn False\n",
            "182 block6b_activation False\n",
            "183 block6b_se_squeeze False\n",
            "184 block6b_se_reshape False\n",
            "185 block6b_se_reduce False\n",
            "186 block6b_se_expand False\n",
            "187 block6b_se_excite False\n",
            "188 block6b_project_conv False\n",
            "189 block6b_project_bn False\n",
            "190 block6b_drop False\n",
            "191 block6b_add False\n",
            "192 block6c_expand_conv False\n",
            "193 block6c_expand_bn False\n",
            "194 block6c_expand_activation False\n",
            "195 block6c_dwconv False\n",
            "196 block6c_bn False\n",
            "197 block6c_activation False\n",
            "198 block6c_se_squeeze False\n",
            "199 block6c_se_reshape False\n",
            "200 block6c_se_reduce False\n",
            "201 block6c_se_expand False\n",
            "202 block6c_se_excite False\n",
            "203 block6c_project_conv False\n",
            "204 block6c_project_bn False\n",
            "205 block6c_drop False\n",
            "206 block6c_add False\n",
            "207 block6d_expand_conv False\n",
            "208 block6d_expand_bn False\n",
            "209 block6d_expand_activation False\n",
            "210 block6d_dwconv False\n",
            "211 block6d_bn False\n",
            "212 block6d_activation False\n",
            "213 block6d_se_squeeze False\n",
            "214 block6d_se_reshape False\n",
            "215 block6d_se_reduce False\n",
            "216 block6d_se_expand False\n",
            "217 block6d_se_excite False\n",
            "218 block6d_project_conv False\n",
            "219 block6d_project_bn False\n",
            "220 block6d_drop False\n",
            "221 block6d_add False\n",
            "222 block7a_expand_conv False\n",
            "223 block7a_expand_bn False\n",
            "224 block7a_expand_activation False\n",
            "225 block7a_dwconv False\n",
            "226 block7a_bn False\n",
            "227 block7a_activation False\n",
            "228 block7a_se_squeeze True\n",
            "229 block7a_se_reshape True\n",
            "230 block7a_se_reduce True\n",
            "231 block7a_se_expand True\n",
            "232 block7a_se_excite True\n",
            "233 block7a_project_conv True\n",
            "234 block7a_project_bn True\n",
            "235 top_conv True\n",
            "236 top_bn True\n",
            "237 top_activation True\n"
          ]
        }
      ]
    },
    {
      "cell_type": "markdown",
      "source": [
        "#Every time you make a change to your models, you need to recompile them!!!!\n",
        "In our case, we're using the exact same loss, optimizer and metrics as before, except this time the learning rate for our optimizer will be 10x smaller than before (0.0001 instead of Adam's default of 0.001). We do this so the model doesn't try to overwrite the existing weights in the pretrained model too fast. In other words, we want learning to be more gradual."
      ],
      "metadata": {
        "id": "gRrVzyMUhCXp"
      }
    },
    {
      "cell_type": "code",
      "source": [
        "print(len(model_2.trainable_variables))"
      ],
      "metadata": {
        "colab": {
          "base_uri": "https://localhost:8080/"
        },
        "id": "-qooHQKkhDuT",
        "outputId": "c00be303-ba8f-4bc3-9455-37cbddc5f129"
      },
      "execution_count": 44,
      "outputs": [
        {
          "output_type": "stream",
          "name": "stdout",
          "text": [
            "12\n"
          ]
        }
      ]
    },
    {
      "cell_type": "markdown",
      "source": [
        "We're going to continue training on from where our previous model finished. Since it trained for 5 epochs, our fine-tuning will begin on the epoch 5 and continue for another 5 epochs.\n",
        "\n",
        "To do this, we can use the initial_epoch parameter of the fit() method. We'll pass it the last epoch of the previous model's training history (history_10_percent_data_aug.epoch[-1])."
      ],
      "metadata": {
        "id": "btB6NV2Qhqyx"
      }
    },
    {
      "cell_type": "code",
      "source": [
        "# Fine tune for another 5 epochs\n",
        "fine_tune_epochs = initial_epochs + 5\n",
        "\n",
        "# Refit the model (same as model_2 except with more trainable layers)\n",
        "history_fine_10_percent_data_aug = model_2.fit(train_data_10_percent,\n",
        "                                               epochs=fine_tune_epochs,\n",
        "                                               validation_data=test_data,\n",
        "                                               initial_epoch=history_10_percent_data_aug.epoch[-1], # start from previous last epoch\n",
        "                                               validation_steps=int(0.25 * len(test_data)),\n",
        "                                               callbacks=[create_tensorboard_callback(\"transfer_learning\", \"10_percent_fine_tune_last_10\")]) # name experiment appropriately"
      ],
      "metadata": {
        "colab": {
          "base_uri": "https://localhost:8080/"
        },
        "id": "ADGW5OfNhJcN",
        "outputId": "5501fa6c-edc2-4378-e4b0-14df05cde4dc"
      },
      "execution_count": 45,
      "outputs": [
        {
          "output_type": "stream",
          "name": "stdout",
          "text": [
            "Saving TensorBoard log files to: transfer_learning/10_percent_fine_tune_last_10/20221103-220543\n",
            "Epoch 5/10\n",
            "24/24 [==============================] - 21s 513ms/step - loss: 0.6999 - accuracy: 0.7787 - val_loss: 0.4494 - val_accuracy: 0.8503\n",
            "Epoch 6/10\n",
            "24/24 [==============================] - 9s 356ms/step - loss: 0.3400 - accuracy: 0.8973 - val_loss: 0.4428 - val_accuracy: 0.8586\n",
            "Epoch 7/10\n",
            "24/24 [==============================] - 9s 339ms/step - loss: 0.2419 - accuracy: 0.9280 - val_loss: 0.4380 - val_accuracy: 0.8520\n",
            "Epoch 8/10\n",
            "24/24 [==============================] - 9s 352ms/step - loss: 0.1783 - accuracy: 0.9400 - val_loss: 0.5271 - val_accuracy: 0.8388\n",
            "Epoch 9/10\n",
            "24/24 [==============================] - 8s 331ms/step - loss: 0.1242 - accuracy: 0.9600 - val_loss: 0.4324 - val_accuracy: 0.8487\n",
            "Epoch 10/10\n",
            "24/24 [==============================] - 9s 365ms/step - loss: 0.0787 - accuracy: 0.9827 - val_loss: 0.4376 - val_accuracy: 0.8470\n"
          ]
        }
      ]
    },
    {
      "cell_type": "code",
      "source": [
        "results_fine_tune_10_percent = model_2.evaluate(test_data)"
      ],
      "metadata": {
        "colab": {
          "base_uri": "https://localhost:8080/"
        },
        "id": "MRe06rxDgWMr",
        "outputId": "735bbad8-bb7e-4fa5-b63e-e18dcfc8c95a"
      },
      "execution_count": 46,
      "outputs": [
        {
          "output_type": "stream",
          "name": "stdout",
          "text": [
            "79/79 [==============================] - 7s 84ms/step - loss: 0.4602 - accuracy: 0.8604\n"
          ]
        }
      ]
    },
    {
      "cell_type": "code",
      "source": [
        "def compare_historys(original_history, new_history, initial_epochs=5):\n",
        "    \"\"\"\n",
        "    Compares two model history objects.\n",
        "    \"\"\"\n",
        "    # Get original history measurements\n",
        "    acc = original_history.history[\"accuracy\"]\n",
        "    loss = original_history.history[\"loss\"]\n",
        "\n",
        "    print(len(acc))\n",
        "\n",
        "    val_acc = original_history.history[\"val_accuracy\"]\n",
        "    val_loss = original_history.history[\"val_loss\"]\n",
        "\n",
        "    # Combine original history with new history\n",
        "    total_acc = acc + new_history.history[\"accuracy\"]\n",
        "    total_loss = loss + new_history.history[\"loss\"]\n",
        "\n",
        "    total_val_acc = val_acc + new_history.history[\"val_accuracy\"]\n",
        "    total_val_loss = val_loss + new_history.history[\"val_loss\"]\n",
        "\n",
        "    print(len(total_acc))\n",
        "    print(total_acc)\n",
        "\n",
        "    # Make plots\n",
        "    plt.figure(figsize=(8, 8))\n",
        "    plt.subplot(2, 1, 1)\n",
        "    plt.plot(total_acc, label='Training Accuracy')\n",
        "    plt.plot(total_val_acc, label='Validation Accuracy')\n",
        "    plt.plot([initial_epochs-1, initial_epochs-1],\n",
        "              plt.ylim(), label='Start Fine Tuning') # reshift plot around epochs\n",
        "    plt.legend(loc='lower right')\n",
        "    plt.title('Training and Validation Accuracy')\n",
        "\n",
        "    plt.subplot(2, 1, 2)\n",
        "    plt.plot(total_loss, label='Training Loss')\n",
        "    plt.plot(total_val_loss, label='Validation Loss')\n",
        "    plt.plot([initial_epochs-1, initial_epochs-1],\n",
        "              plt.ylim(), label='Start Fine Tuning') # reshift plot around epochs\n",
        "    plt.legend(loc='upper right')\n",
        "    plt.title('Training and Validation Loss')\n",
        "    plt.xlabel('epoch')\n",
        "    plt.show()"
      ],
      "metadata": {
        "id": "09y7X4-ViTUz"
      },
      "execution_count": 47,
      "outputs": []
    },
    {
      "cell_type": "code",
      "source": [
        "compare_historys(original_history=history_10_percent_data_aug, \n",
        "                 new_history=history_fine_10_percent_data_aug, \n",
        "                 initial_epochs=5)"
      ],
      "metadata": {
        "colab": {
          "base_uri": "https://localhost:8080/",
          "height": 585
        },
        "id": "pDrQtmApiUWz",
        "outputId": "2dc841fa-e7c5-478a-fe5b-531195d23a49"
      },
      "execution_count": 48,
      "outputs": [
        {
          "output_type": "stream",
          "name": "stdout",
          "text": [
            "5\n",
            "11\n",
            "[0.36666667461395264, 0.7026666402816772, 0.7746666669845581, 0.8013333082199097, 0.8293333053588867, 0.7786666750907898, 0.8973333239555359, 0.9279999732971191, 0.9399999976158142, 0.9599999785423279, 0.9826666712760925]\n"
          ]
        },
        {
          "output_type": "display_data",
          "data": {
            "text/plain": [
              "<Figure size 576x576 with 2 Axes>"
            ],
            "image/png": "[encoded data removed]"
          },
          "metadata": {
            "needs_background": "light"
          }
        }
      ]
    },
    {
      "cell_type": "markdown",
      "source": [
        "#Model 4: Fine-tuning an existing model all of the data"
      ],
      "metadata": {
        "id": "-95EqWSZidF9"
      }
    },
    {
      "cell_type": "code",
      "source": [
        "# Download and unzip 10 classes of data with all images\n",
        "!wget https://storage.googleapis.com/ztm_tf_course/food_vision/10_food_classes_all_data.zip \n",
        "unzip_data(\"10_food_classes_all_data.zip\")\n",
        "\n",
        "# Setup data directories\n",
        "train_dir = \"10_food_classes_all_data/train/\"\n",
        "test_dir = \"10_food_classes_all_data/test/\""
      ],
      "metadata": {
        "colab": {
          "base_uri": "https://localhost:8080/"
        },
        "id": "jnx4EnFWigdC",
        "outputId": "33d1a68b-211b-44a6-ad40-7544c5d7406a"
      },
      "execution_count": 49,
      "outputs": [
        {
          "output_type": "stream",
          "name": "stdout",
          "text": [
            "--2022-11-03 22:08:54--  https://storage.googleapis.com/ztm_tf_course/food_vision/10_food_classes_all_data.zip\n",
            "Resolving storage.googleapis.com (storage.googleapis.com)... 142.250.4.128, 74.125.24.128, 172.217.194.128, ...\n",
            "Connecting to storage.googleapis.com (storage.googleapis.com)|142.250.4.128|:443... connected.\n",
            "HTTP request sent, awaiting response... 200 OK\n",
            "Length: 519183241 (495M) [application/zip]\n",
            "Saving to: ‘10_food_classes_all_data.zip’\n",
            "\n",
            "10_food_classes_all 100%[===================>] 495.13M  15.7MB/s    in 33s     \n",
            "\n",
            "2022-11-03 22:09:29 (14.8 MB/s) - ‘10_food_classes_all_data.zip’ saved [519183241/519183241]\n",
            "\n"
          ]
        }
      ]
    },
    {
      "cell_type": "code",
      "source": [
        "import tensorflow as tf\n",
        "IMG_SIZE = (224,224)\n",
        "train_data_10_classes_full = tf.keras.preprocessing.image_dataset_from_directory(train_dir,\n",
        "                                                                                 label_mode = 'categorical',\n",
        "                                                                                 image_size = IMG_SIZE,)\n",
        "test_data_10_classes_full = tf.keras.preprocessing.image_dataset_from_directory(test_dir,\n",
        "                                                                                label_mode = 'categorical',\n",
        "                                                                                image_size = IMG_SIZE)"
      ],
      "metadata": {
        "colab": {
          "base_uri": "https://localhost:8080/"
        },
        "id": "fNwSmOeGijsq",
        "outputId": "7fc2ae8b-5515-4bbc-c20e-0fdcf073599f"
      },
      "execution_count": 50,
      "outputs": [
        {
          "output_type": "stream",
          "name": "stdout",
          "text": [
            "Found 7500 files belonging to 10 classes.\n",
            "Found 2500 files belonging to 10 classes.\n"
          ]
        }
      ]
    },
    {
      "cell_type": "code",
      "source": [
        "model_2.evaluate(test_data) (fine-tuned 10% data model)"
      ],
      "metadata": {
        "colab": {
          "base_uri": "https://localhost:8080/"
        },
        "id": "DuwPSSNVjBA6",
        "outputId": "7357be63-45bb-486d-d7c0-59fc39017671"
      },
      "execution_count": 51,
      "outputs": [
        {
          "output_type": "stream",
          "name": "stdout",
          "text": [
            "79/79 [==============================] - 7s 84ms/step - loss: 0.4602 - accuracy: 0.8604\n"
          ]
        },
        {
          "output_type": "execute_result",
          "data": {
            "text/plain": [
              "[0.46020224690437317, 0.8604000210762024]"
            ]
          },
          "metadata": {},
          "execution_count": 51
        }
      ]
    },
    {
      "cell_type": "code",
      "source": [
        "# Load model from checkpoint, that way we can fine-tune from the same stage the 10 percent data model was fine-tuned from\n",
        "model_2.load_weights(checkpoint_path) # revert model back to saved weights"
      ],
      "metadata": {
        "colab": {
          "base_uri": "https://localhost:8080/"
        },
        "id": "3kxrEALnjGDF",
        "outputId": "c6223816-80ce-46d8-86d8-5ddf4d0c2b3e"
      },
      "execution_count": 52,
      "outputs": [
        {
          "output_type": "execute_result",
          "data": {
            "text/plain": [
              "<tensorflow.python.training.tracking.util.CheckpointLoadStatus at 0x7faa15f651d0>"
            ]
          },
          "metadata": {},
          "execution_count": 52
        }
      ]
    },
    {
      "cell_type": "code",
      "source": [
        "model_2.evaluate(test_data)"
      ],
      "metadata": {
        "colab": {
          "base_uri": "https://localhost:8080/"
        },
        "id": "GbQzk32DimIp",
        "outputId": "14783f81-a0c2-48d5-cde6-43628f2bc20e"
      },
      "execution_count": 55,
      "outputs": [
        {
          "output_type": "stream",
          "name": "stdout",
          "text": [
            "79/79 [==============================] - 6s 75ms/step - loss: 0.6287 - accuracy: 0.8384\n"
          ]
        },
        {
          "output_type": "execute_result",
          "data": {
            "text/plain": [
              "[0.6286782026290894, 0.8384000062942505]"
            ]
          },
          "metadata": {},
          "execution_count": 55
        }
      ]
    },
    {
      "cell_type": "markdown",
      "source": [
        "Alright, the previous steps might seem quite confusing but all we've done is:\n",
        "1. Trained a feature extraction transfer learning model for 5 epochs on 10% of the data (with all base model layers frozen) and saved the model's weights using `ModelCheckpoint`.\n",
        "2. Fine-tuned the same model on the same 10% of the data for a further 5 epochs with the top 10 layers of the base model unfrozen.\n",
        "3. Saved the results and training logs each time.\n",
        "4. Reloaded the model from 1 to do the same steps as 2 but with all of the data.\n",
        "\n",
        "The same steps as 2?\n",
        "\n",
        "Yeah, we're going to fine-tune the last 10 layers of the base model with the full dataset for another 5 epochs but first let's remind ourselves which layers are trainable."
      ],
      "metadata": {
        "id": "VcAMA5ZZkOsp"
      }
    },
    {
      "cell_type": "code",
      "source": [
        "# Check which layers are tuneable in the base model\n",
        "for layer_number, layer in enumerate(base_model.layers):\n",
        "  print(layer_number, layer.name, layer.trainable)"
      ],
      "metadata": {
        "colab": {
          "base_uri": "https://localhost:8080/"
        },
        "id": "nsdSQuhXkP4N",
        "outputId": "e26e875b-dca3-4dac-8817-829c2a3c5046"
      },
      "execution_count": 56,
      "outputs": [
        {
          "output_type": "stream",
          "name": "stdout",
          "text": [
            "0 input_4 False\n",
            "1 rescaling_3 False\n",
            "2 normalization_3 False\n",
            "3 tf.math.truediv_3 False\n",
            "4 stem_conv_pad False\n",
            "5 stem_conv False\n",
            "6 stem_bn False\n",
            "7 stem_activation False\n",
            "8 block1a_dwconv False\n",
            "9 block1a_bn False\n",
            "10 block1a_activation False\n",
            "11 block1a_se_squeeze False\n",
            "12 block1a_se_reshape False\n",
            "13 block1a_se_reduce False\n",
            "14 block1a_se_expand False\n",
            "15 block1a_se_excite False\n",
            "16 block1a_project_conv False\n",
            "17 block1a_project_bn False\n",
            "18 block2a_expand_conv False\n",
            "19 block2a_expand_bn False\n",
            "20 block2a_expand_activation False\n",
            "21 block2a_dwconv_pad False\n",
            "22 block2a_dwconv False\n",
            "23 block2a_bn False\n",
            "24 block2a_activation False\n",
            "25 block2a_se_squeeze False\n",
            "26 block2a_se_reshape False\n",
            "27 block2a_se_reduce False\n",
            "28 block2a_se_expand False\n",
            "29 block2a_se_excite False\n",
            "30 block2a_project_conv False\n",
            "31 block2a_project_bn False\n",
            "32 block2b_expand_conv False\n",
            "33 block2b_expand_bn False\n",
            "34 block2b_expand_activation False\n",
            "35 block2b_dwconv False\n",
            "36 block2b_bn False\n",
            "37 block2b_activation False\n",
            "38 block2b_se_squeeze False\n",
            "39 block2b_se_reshape False\n",
            "40 block2b_se_reduce False\n",
            "41 block2b_se_expand False\n",
            "42 block2b_se_excite False\n",
            "43 block2b_project_conv False\n",
            "44 block2b_project_bn False\n",
            "45 block2b_drop False\n",
            "46 block2b_add False\n",
            "47 block3a_expand_conv False\n",
            "48 block3a_expand_bn False\n",
            "49 block3a_expand_activation False\n",
            "50 block3a_dwconv_pad False\n",
            "51 block3a_dwconv False\n",
            "52 block3a_bn False\n",
            "53 block3a_activation False\n",
            "54 block3a_se_squeeze False\n",
            "55 block3a_se_reshape False\n",
            "56 block3a_se_reduce False\n",
            "57 block3a_se_expand False\n",
            "58 block3a_se_excite False\n",
            "59 block3a_project_conv False\n",
            "60 block3a_project_bn False\n",
            "61 block3b_expand_conv False\n",
            "62 block3b_expand_bn False\n",
            "63 block3b_expand_activation False\n",
            "64 block3b_dwconv False\n",
            "65 block3b_bn False\n",
            "66 block3b_activation False\n",
            "67 block3b_se_squeeze False\n",
            "68 block3b_se_reshape False\n",
            "69 block3b_se_reduce False\n",
            "70 block3b_se_expand False\n",
            "71 block3b_se_excite False\n",
            "72 block3b_project_conv False\n",
            "73 block3b_project_bn False\n",
            "74 block3b_drop False\n",
            "75 block3b_add False\n",
            "76 block4a_expand_conv False\n",
            "77 block4a_expand_bn False\n",
            "78 block4a_expand_activation False\n",
            "79 block4a_dwconv_pad False\n",
            "80 block4a_dwconv False\n",
            "81 block4a_bn False\n",
            "82 block4a_activation False\n",
            "83 block4a_se_squeeze False\n",
            "84 block4a_se_reshape False\n",
            "85 block4a_se_reduce False\n",
            "86 block4a_se_expand False\n",
            "87 block4a_se_excite False\n",
            "88 block4a_project_conv False\n",
            "89 block4a_project_bn False\n",
            "90 block4b_expand_conv False\n",
            "91 block4b_expand_bn False\n",
            "92 block4b_expand_activation False\n",
            "93 block4b_dwconv False\n",
            "94 block4b_bn False\n",
            "95 block4b_activation False\n",
            "96 block4b_se_squeeze False\n",
            "97 block4b_se_reshape False\n",
            "98 block4b_se_reduce False\n",
            "99 block4b_se_expand False\n",
            "100 block4b_se_excite False\n",
            "101 block4b_project_conv False\n",
            "102 block4b_project_bn False\n",
            "103 block4b_drop False\n",
            "104 block4b_add False\n",
            "105 block4c_expand_conv False\n",
            "106 block4c_expand_bn False\n",
            "107 block4c_expand_activation False\n",
            "108 block4c_dwconv False\n",
            "109 block4c_bn False\n",
            "110 block4c_activation False\n",
            "111 block4c_se_squeeze False\n",
            "112 block4c_se_reshape False\n",
            "113 block4c_se_reduce False\n",
            "114 block4c_se_expand False\n",
            "115 block4c_se_excite False\n",
            "116 block4c_project_conv False\n",
            "117 block4c_project_bn False\n",
            "118 block4c_drop False\n",
            "119 block4c_add False\n",
            "120 block5a_expand_conv False\n",
            "121 block5a_expand_bn False\n",
            "122 block5a_expand_activation False\n",
            "123 block5a_dwconv False\n",
            "124 block5a_bn False\n",
            "125 block5a_activation False\n",
            "126 block5a_se_squeeze False\n",
            "127 block5a_se_reshape False\n",
            "128 block5a_se_reduce False\n",
            "129 block5a_se_expand False\n",
            "130 block5a_se_excite False\n",
            "131 block5a_project_conv False\n",
            "132 block5a_project_bn False\n",
            "133 block5b_expand_conv False\n",
            "134 block5b_expand_bn False\n",
            "135 block5b_expand_activation False\n",
            "136 block5b_dwconv False\n",
            "137 block5b_bn False\n",
            "138 block5b_activation False\n",
            "139 block5b_se_squeeze False\n",
            "140 block5b_se_reshape False\n",
            "141 block5b_se_reduce False\n",
            "142 block5b_se_expand False\n",
            "143 block5b_se_excite False\n",
            "144 block5b_project_conv False\n",
            "145 block5b_project_bn False\n",
            "146 block5b_drop False\n",
            "147 block5b_add False\n",
            "148 block5c_expand_conv False\n",
            "149 block5c_expand_bn False\n",
            "150 block5c_expand_activation False\n",
            "151 block5c_dwconv False\n",
            "152 block5c_bn False\n",
            "153 block5c_activation False\n",
            "154 block5c_se_squeeze False\n",
            "155 block5c_se_reshape False\n",
            "156 block5c_se_reduce False\n",
            "157 block5c_se_expand False\n",
            "158 block5c_se_excite False\n",
            "159 block5c_project_conv False\n",
            "160 block5c_project_bn False\n",
            "161 block5c_drop False\n",
            "162 block5c_add False\n",
            "163 block6a_expand_conv False\n",
            "164 block6a_expand_bn False\n",
            "165 block6a_expand_activation False\n",
            "166 block6a_dwconv_pad False\n",
            "167 block6a_dwconv False\n",
            "168 block6a_bn False\n",
            "169 block6a_activation False\n",
            "170 block6a_se_squeeze False\n",
            "171 block6a_se_reshape False\n",
            "172 block6a_se_reduce False\n",
            "173 block6a_se_expand False\n",
            "174 block6a_se_excite False\n",
            "175 block6a_project_conv False\n",
            "176 block6a_project_bn False\n",
            "177 block6b_expand_conv False\n",
            "178 block6b_expand_bn False\n",
            "179 block6b_expand_activation False\n",
            "180 block6b_dwconv False\n",
            "181 block6b_bn False\n",
            "182 block6b_activation False\n",
            "183 block6b_se_squeeze False\n",
            "184 block6b_se_reshape False\n",
            "185 block6b_se_reduce False\n",
            "186 block6b_se_expand False\n",
            "187 block6b_se_excite False\n",
            "188 block6b_project_conv False\n",
            "189 block6b_project_bn False\n",
            "190 block6b_drop False\n",
            "191 block6b_add False\n",
            "192 block6c_expand_conv False\n",
            "193 block6c_expand_bn False\n",
            "194 block6c_expand_activation False\n",
            "195 block6c_dwconv False\n",
            "196 block6c_bn False\n",
            "197 block6c_activation False\n",
            "198 block6c_se_squeeze False\n",
            "199 block6c_se_reshape False\n",
            "200 block6c_se_reduce False\n",
            "201 block6c_se_expand False\n",
            "202 block6c_se_excite False\n",
            "203 block6c_project_conv False\n",
            "204 block6c_project_bn False\n",
            "205 block6c_drop False\n",
            "206 block6c_add False\n",
            "207 block6d_expand_conv False\n",
            "208 block6d_expand_bn False\n",
            "209 block6d_expand_activation False\n",
            "210 block6d_dwconv False\n",
            "211 block6d_bn False\n",
            "212 block6d_activation False\n",
            "213 block6d_se_squeeze False\n",
            "214 block6d_se_reshape False\n",
            "215 block6d_se_reduce False\n",
            "216 block6d_se_expand False\n",
            "217 block6d_se_excite False\n",
            "218 block6d_project_conv False\n",
            "219 block6d_project_bn False\n",
            "220 block6d_drop False\n",
            "221 block6d_add False\n",
            "222 block7a_expand_conv False\n",
            "223 block7a_expand_bn False\n",
            "224 block7a_expand_activation False\n",
            "225 block7a_dwconv False\n",
            "226 block7a_bn False\n",
            "227 block7a_activation False\n",
            "228 block7a_se_squeeze True\n",
            "229 block7a_se_reshape True\n",
            "230 block7a_se_reduce True\n",
            "231 block7a_se_expand True\n",
            "232 block7a_se_excite True\n",
            "233 block7a_project_conv True\n",
            "234 block7a_project_bn True\n",
            "235 top_conv True\n",
            "236 top_bn True\n",
            "237 top_activation True\n"
          ]
        }
      ]
    },
    {
      "cell_type": "code",
      "source": [
        "# Compile\n",
        "model_2.compile(loss=\"categorical_crossentropy\",\n",
        "                optimizer=tf.keras.optimizers.Adam(lr=0.0001), # divide learning rate by 10 for fine-tuning\n",
        "                metrics=[\"accuracy\"])"
      ],
      "metadata": {
        "id": "od75oNHof3ID"
      },
      "execution_count": null,
      "outputs": []
    },
    {
      "cell_type": "code",
      "source": [
        "# Continue to train and fine-tune the model to our data\n",
        "fine_tune_epochs = initial_epochs + 5\n",
        "\n",
        "history_fine_10_classes_full = model_2.fit(train_data_10_classes_full,\n",
        "                                           epochs=fine_tune_epochs,\n",
        "                                           initial_epoch=history_10_percent_data_aug.epoch[-1],\n",
        "                                           validation_data=test_data,\n",
        "                                           validation_steps=int(0.25 * len(test_data)),\n",
        "                                           callbacks=[create_tensorboard_callback(\"transfer_learning\", \"full_10_classes_fine_tune_last_10\")])"
      ],
      "metadata": {
        "colab": {
          "base_uri": "https://localhost:8080/"
        },
        "id": "kmYuKlfdkd9Y",
        "outputId": "81079c90-de0f-4017-913c-4db8510e1ee6"
      },
      "execution_count": 57,
      "outputs": [
        {
          "output_type": "stream",
          "name": "stdout",
          "text": [
            "Saving TensorBoard log files to: transfer_learning/full_10_classes_fine_tune_last_10/20221103-221742\n",
            "Epoch 5/10\n",
            "235/235 [==============================] - 59s 248ms/step - loss: 0.6263 - accuracy: 0.8033 - val_loss: 0.3324 - val_accuracy: 0.8849\n",
            "Epoch 6/10\n",
            "235/235 [==============================] - 53s 226ms/step - loss: 0.4279 - accuracy: 0.8573 - val_loss: 0.2932 - val_accuracy: 0.9062\n",
            "Epoch 7/10\n",
            "235/235 [==============================] - 50s 212ms/step - loss: 0.3393 - accuracy: 0.8884 - val_loss: 0.2632 - val_accuracy: 0.9030\n",
            "Epoch 8/10\n",
            "235/235 [==============================] - 45s 190ms/step - loss: 0.2874 - accuracy: 0.9029 - val_loss: 0.2893 - val_accuracy: 0.8882\n",
            "Epoch 9/10\n",
            "235/235 [==============================] - 44s 184ms/step - loss: 0.2432 - accuracy: 0.9200 - val_loss: 0.2730 - val_accuracy: 0.8997\n",
            "Epoch 10/10\n",
            "235/235 [==============================] - 40s 170ms/step - loss: 0.2032 - accuracy: 0.9311 - val_loss: 0.3501 - val_accuracy: 0.8898\n"
          ]
        }
      ]
    },
    {
      "cell_type": "code",
      "source": [
        "# How did fine-tuning go with more data?\n",
        "compare_historys(original_history=history_10_percent_data_aug,\n",
        "                 new_history=history_fine_10_classes_full,\n",
        "                 initial_epochs=5)"
      ],
      "metadata": {
        "colab": {
          "base_uri": "https://localhost:8080/",
          "height": 585
        },
        "id": "PCB0euGqiLi_",
        "outputId": "a52e5e08-bff1-4a4d-b3f8-2c216acc802c"
      },
      "execution_count": 58,
      "outputs": [
        {
          "output_type": "stream",
          "name": "stdout",
          "text": [
            "5\n",
            "11\n",
            "[0.36666667461395264, 0.7026666402816772, 0.7746666669845581, 0.8013333082199097, 0.8293333053588867, 0.8033333420753479, 0.8573333621025085, 0.8884000182151794, 0.9029333591461182, 0.9200000166893005, 0.9310666918754578]\n"
          ]
        },
        {
          "output_type": "display_data",
          "data": {
            "text/plain": [
              "<Figure size 576x576 with 2 Axes>"
            ],
            "image/png": "[encoded data removed]"
          },
          "metadata": {
            "needs_background": "light"
          }
        }
      ]
    },
    {
      "cell_type": "code",
      "source": [
        "# View tensorboard logs of transfer learning modelling experiments (should be 4 models)\n",
        "# Upload TensorBoard dev records\n",
        "!tensorboard dev upload --logdir ./transfer_learning \\\n",
        "  --name \"Transfer learning experiments\" \\\n",
        "  --description \"A series of different transfer learning experiments with varying amounts of data and fine-tuning\" \\\n",
        "  --one_shot # exits the uploader when upload has finished"
      ],
      "metadata": {
        "colab": {
          "base_uri": "https://localhost:8080/"
        },
        "id": "sVBzX4BifldC",
        "outputId": "ded960e9-1599-4de0-a6d6-294321dc4d5e"
      },
      "execution_count": 59,
      "outputs": [
        {
          "output_type": "stream",
          "name": "stdout",
          "text": [
            "\n",
            "***** TensorBoard Uploader *****\n",
            "\n",
            "This will upload your TensorBoard logs to https://tensorboard.dev/ from\n",
            "the following directory:\n",
            "\n",
            "./transfer_learning\n",
            "\n",
            "This TensorBoard will be visible to everyone. Do not upload sensitive\n",
            "data.\n",
            "\n",
            "Your use of this service is subject to Google's Terms of Service\n",
            "<https://policies.google.com/terms> and Privacy Policy\n",
            "<https://policies.google.com/privacy>, and TensorBoard.dev's Terms of Service\n",
            "<https://tensorboard.dev/policy/terms/>.\n",
            "\n",
            "This notice will not be shown again while you are logged into the uploader.\n",
            "To log out, run `tensorboard dev auth revoke`.\n",
            "\n",
            "Continue? (yes/NO) yes\n",
            "\n",
            "Please visit this URL to authorize this application: https://accounts.google.com/o/oauth2/auth?response_type=code&client_id=373649185512-8v619h5kft38l4456nm2dj4ubeqsrvh6.apps.googleusercontent.com&redirect_uri=urn%3Aietf%3Awg%3Aoauth%3A2.0%3Aoob&scope=openid+https%3A%2F%2Fwww.googleapis.com%2Fauth%2Fuserinfo.email&state=3RN3we3zFY8aq0eh4gYsszV6s8TO8F&prompt=consent&access_type=offline\n",
            "Enter the authorization code: 4/1ARtbsJohOzr91ugDmqi_pxRUaqD7Cg_sxvLd8p2G9ZIJIFA_lsg5BsUCAqE\n",
            "\n",
            "\n",
            "New experiment created. View your TensorBoard at: https://tensorboard.dev/experiment/aGqa0r5xQAugDunxFPQnYA/\n",
            "\n",
            "\u001b[1m[2022-11-03T22:25:16]\u001b[0m Started scanning logdir.\n",
            "\u001b[1m[2022-11-03T22:25:27]\u001b[0m Total uploaded: 162 scalars, 0 tensors, 5 binary objects (4.2 MB)\n",
            "\u001b[1m[2022-11-03T22:25:27]\u001b[0m Done scanning logdir.\n",
            "\n",
            "\n",
            "Done. View your TensorBoard at https://tensorboard.dev/experiment/aGqa0r5xQAugDunxFPQnYA/\n"
          ]
        }
      ]
    },
    {
      "cell_type": "markdown",
      "source": [
        "![graph_board.png](data:image/png;base64,iVBORw0KGgoAAAANSUhEUgAAAx8AAAH6CAYAAABmsvG9AAAAAXNSR0IArs4c6QAAAARnQU1BAACxjwv8YQUAAAAJcEhZcwAADsMAAA7DAcdvqGQAAP+lSURBVHhe7J0FYBVH14ZPjJAQ3J1SV9pSd3d3d+9Xd7e/7u7u7tTdS6nQFihtcXdCAsT/85y7EzbLtRgkdN52yL0rsyPHz8zejOJLpUpCqNJvHKjUfyoqRcq1VOhnvlM8PDw8PDw8PDw8PDyiyMyIlSwt2Zn6Vwvf9X/J4B/+xnM+cDJwOsq0FLQQ+WacyLNDRUbPFplXGlzo4eHh4eHh4eHh4eGhaK0+w3LtRQ5dS2TTPiJF6jPkqPOBE2IOSCLnw2U8SitESrT8MU3k4o+Dkx4eHh4eHh4eSxOZ2VLZsoNUtmgrVVktg4MeHo2DjIqFklk6VzIXzlIjuTw46pEK120nskYXkdwskRZaXAYExHU+yHos1PFdUCZy+acif04PTnp4eHh4eHh4LC2o41Heuq9kVsyTrPK5ahiWBCc8PBoHVVm5UpHdViqzWkv2vLHeAUkTq3cWuXobkbwckZbZi7IfQD8ugu330OL2d+CEjJ0bnPTw8PDw8PDwWIog44HjkV0yzTseHksE0Bn0Bt1Bfx7pAf8BP8L5FM7HADWcjzDcxazX8vDw8PDw8PBY2mCpFRkPD48lDegO+vNID/gPzpeIIq7z4TwT99fDw8PDw8PDY2mDPR4+4+GxNADd+T1GtUMifyJh5sPDw8PDw8PDw8PDw6Mh4Z0PDw8PDw8PDw8PD48lAu98eHh4eHh4eHh4eHgsEXjnw8PDw8PDw8PDw6OpISNLMtr2lsyua1rJaN09ONG84Z0PDw8PDw8PDw8PjyaGjDY9JKNVF5GsFlYyWut3dUaaO7zz4eHh4eHh4eHh4dHEkJHf0f5WTR9mBWS0bGd/lxhwesi+dF5NMnsMjBX9bE4QTlEAdy4deOfDw8PDw8PDw8PDoykhIytWliLcki/LvuTkBUcV+pljdq4OmZiM8mGvV1XOGScVQ5+TivE/2I+BlFaILCgXKSoROeTV4MoGQkZeBy3tpap8gVQVTgqO6vEWrbUjnaWqqlIfPFXdouzY98pyqZo7LnYN3l7LtpKh54BdW1okVfNnSEabmh5YGBlSJVULZmuZJRkMnnqSGVm5ejRDMrSOqrJiq0MqteN2gx7P7yTSokA/xvyzKs4tnCNVWgCpMMnOt8/AnkF7Subpc2bWeKlxhtYj2hdD8XSp0jY7uPEAVSWFUqXnw8go6Bq7X+vjXFXpPBsryWunfWgR6sN87YPe6/rQiFi87/r88lIRHcOq8oWxYxBqbhsdD/o0TQ8wpjoGLVqFxlSJjHnRazLa9kk5f5LTMuWYW4oyOy92fUVZjIaC5wG7p4K2zrJ5T0iPro/aNsnW56ZqGzQZ7i/n0qA1+p2RlWM0UQXdBwj3w+i2Ccx5uD0O1fNcrm3R8YvSBojX1qQ8Eanjv8Jb1WOZCDrGUrYwRq/atsUArWap3GSeaPO8yXZ40RjpPcqf0GXc+4HyhpO3Hh5NEWUd15Tcwt+Db42IbOXFLAy/MuWtRXLFYwmghcptE1Eqc5FrTQglbdaUnJmNT39kPMyoj+N8INur5i2yVxoLZDecw1E1X3WvFnSLGlGLdCWZGdqIbRxkZConDbG/4Ll9RQpy9VI1kVroZZk6r2oOStalBwy4MrPD8uq9rCFVs0ZJZdE0qVDdzk+i44S8OjyooYGA4jOjDMNTjQkHDLQMNUy1V/rgYj2QGftuRsdcycjVjlon1ZBUQ1H4kSEcFOrC8MPorVQhYceztHMoWr2ujGvV2NS/GHnSSg0OjD2OcQ/XmnGpo1MWEzAYARlqBJjRw0DTVjVGMlroszB8UODaHnOC3DP0Guq19vBsjgXAaeIZ1ibuVwPUwY2HGQOcVwOoGplaH8YTG44YF21LBpOshoT1gfZTGCsMc/oQvr+RsFjftd0Z2frsHHUsGFedB5s7jjEfGPk2pjqHzGdoTM17VkI2wy7F/OF8pBrzWNt0nhkXfVaMhrRujFLqpq08N1sLxqYaanZ/lB5pK/VwD3WlapvVGepvjhrP6dCaOtNGx/SLseF+jof6oU9rInMejCt9D1A9z4yPjl/suvAcad/pH9eE2pqUJxar47/BWxmZKtuqaUDbxBgYfWmfHB1qP2wc1LGuPu4K48U1nM9UeSVaV3mJ8l4n7ZPSJ+cXosi1bnuGKhCeAe85/ojMr4dHU0NlflfJLokFeBoHyitt1egqIBigMiK3k9oe+rd8Oiyj6CfSeXmVFT0ipYMaZwQ49L5Oq+j37sqHarBhSDm0W1uktdoxdp373rNmPflaT6bqo1Llxbhw9YfusdJVz01RuZBu+6Ln3f36J912Jbquaq6OV6jfhm763JVj12RFxsUhbzmtU9veknGn6FjRrmz0s9oNIDqGoPXqOmd99D6V1aVqBKuIayxU5HaVrAWNR38Y9Znt+6ncZj7UBiUoqfI5o4XaFKoLCW4uCccDx8cC/mo/Vc38JxZURR+5weUzjiH2OXaM2e8xuMAX2FdZqYWqmRxVb1laUMWUzLKPLpbK6cNMEWf2TG+t1lKBGokYCihc8/qYEBcFxcAgKsqkMEAocFC2sPoYEWcxoyYrFhWcO17rmKJF68K4wYBpoQ5HTr5NMpFWi4ZyDQNp3reOWGiADe4ZXOc8dAxMBww2vtMmCp85FgERVow72uBAxJL26o2xAwCDij6okVBVODE2DsqElplRg9qM3iUF13fGskSZg7ZChPGg/a5irhbOtjbbmGLwMKfaZqLpbq4Szp9DqjGPwuYyqJvsDGOF0ZmV5J4QatU2hzRoLYwqxsEckcVpo0nNebqonqOgrUb7QVvT5ImU85xmPc2Ft2rIMBPyHAyUDSXIuhrCx13hfgI3pThSKqugQVXi0FssczvXaNVdz/jG6lrEH+GslofHfxL5/VXPqwNSqTKnaJTyDUEHtT9arxg771Ch50uUX6pLiD8NyoMttS7ETFIQuAnqMJ5UOZan97VTJyEZKpXXazyf+4NzIFX7Ut2fdrtC1yF/uK7VCov3u0CdEh0SQ7Y6IlEU4PDpNYJRq05QoY79fK2zUi3W3F46L7HLFkP+SvpI9IDO09zR2u/geHMDNkk7dTo6aX/UASHTUDnld+3WJCuVk3+Vyqmx740Ogu1k4hVVM/6yVQGJUFW2QKpm/RN8Sx86q0o6H18qJc/tLeU/P2EHmyRI82AoEKkOliagbCtnj5KqOWOVQGtwTXxk5cYMYCLvDuWxaJ8tzSE6q8UMQTzM0BKOqsBoZplQQlA3oK4ARIYzsrJjBk1FiX22aHEEVWpMGGMSZXXgM1U6QwRgROhziGRWLylh8ueMkarZWsJ9W5IoK4oZmC4DEAXzh0HEEpDgvBk7SrQ2rnVFnDFPCJ5PdgajE+OtIlFkqQGQDq0FwDhmjm1O4zlvTXXO00UlzgH5Bx1/Mglp8kQNxJnn/wxv1RImq1hySLYmjzS4dl6VR3Npv4fHUoUttVJZsODvmL6fN1KkeKIatvo9jMq5aiCrsVtd9JowsEkyVB61TuFE8CxXx5w/RWboc1h+kpPE4AZVqr9qPH+c+QHVSNW+VPen3a7QdXNHqKxRmZqhdkANM0C/k5EVsrNaR7bquXCcKKu3OhB6Hgdi9u9al7a1RMe+WOucqYYtTmA88dWin7alddAXnSdtSpMHTkawjyKz+9r26lxKZrc1Y0uY1O6smjHS9A5209IAS5IBDhA6MB6qN55ryWB5Vi2RmbPLnZK16l7B1yWI7HzJ6LBCdRHtbHhtfhQWfdZBwHBkHX8GaSkGKJ6hGwcsrzHDhy8YQ2E4w0aNl+propOuhomty0+gwIkuVmdFMDIdjOEURA5Kg0l0x8Kgfowf6tE+WQZG/9q+CNc+RVXJ3JhTRDtZ095+udir1+LVuSQRGJjWrkwdxyjYK0BfdB4y2/SK7XXQ9ptDUEckHPMoMCahs/akc9vFxpmISmhcGxJp01oYGIc4IbkFixnQTWXObfkSzw/zbbI9CsAi8LEsA+NexTylyxMB/vO8FQ8R+Wl7phxYkkVfjB913NUx8xkND480UUZAQh2QPCLqAe8vmKKyJ/YxbWBIY2jndLNkQPooVIeHICeys/YbeRsP6bRLnYwsvAqVt2FHJqenyiz9W65jYvtn9Lr8AjtlyFc9gsIsUYM7YnrZcxdoiSJLnbo2LMVHn6tjFIojNWXY/kmyCgRqcUTQMVoADkdlikzDkoDt5wDF9QgMp0BmZru+kr3u0ZKzzVUx5bykUL1eLCiq9G2NciKoIrX0U9E0i3RmkLTRAbKJS2UA1QMYIeyJiafkw8aYYFArMVkUdmEsO7LIyAkcFzbl6meOLb6EQ4UU/cK5YrOtGjyWgWH9tRpDYVjGgLEIPFKMI/OetS1NFThttpEVJ9KisrE19xk6bjFhlR5SjXlcsO+A7AqMBJ2R+SDCEG+pz9JChWq20mK11bVtcbIfTWHOLfPIpucw3+rYR1HDScHhy20bc6z0epv3NHjC81YKxJGfNYBSQ5kbtI+ZcQICHh4ei2PhWOUplWuZaoC1Xk2k01oqgzoFJ0MgA9Bp3UWlfSgAYFC5U0SQS/VMK5WDtQFLefV2yUoS+MhUu6fD6otK+37BiQCp2pelMi18vmNkWVk8xG2X2o3V9awZczIYw7DzkYejoTeWjFdHYabqZP2aHfqxPLMBVKbNT9eDUPndVvuHjCtnI3S69y19xHt1LqhkiRVj0xSgeg8kynoANpUnKukgs+zL663DmV1Wl+yVdg4OLwFE1izbWkGIOgXwCFmPXTlntBLyPFWwqlgT7TMIwZbYsLaZL2zsDMNpaQxAdw3GCSgvseVd8ZyjamMML5X+EGnECCDyCJhA6mG9uTp59kYuDF6OBZNbAxjoPJyNRRhXZF9sDeXigCjMSJo9Wg2yYC1nrgpLNb6WChhTxpEOqBEYFziQOB/qhFQWTtA5CZYaqXGaLlKOeTzoJUY3tqZ+qjk/NieMcyMgbVqLoHq5DEGAOI5Rk5jzMnUAwnwbXrYUYDEnhX02zDdtTpMnPG+lQER+1shs0E7aq6OYodeZw1cLHvPw+G9DZVrhnyKzx5iNoQJD+amvGvgR4z4dlGkdLEPKbKcOTB2CpCa0EiBDrfxM5fXqsrjOaDTUaJd+riwJCrpPdVyLbuYfxKDGdk4LPa7yXP8XUQO7HB3cKrJ8qzbQvlI/7cjuLFKg9Xs0K2RWTvhBZN5EnUglZHsdY9OErZEjA+EikBAdS6D4iwOSyjDgOtaFY/yFI6Pcp8aerbtnSYcWDBOWDpFRcRs0EzpHGGNE1c0R0rrJwpgR5J6jN2E01YhQ6rFwGwLYko/K2Fpte+OOGlrRZV4ZBd1i4xBsBjKUEvXV9rNcRNu9VJATvJaYJR6RaLitzWcJC5upWJIEgrG2CHdt25xozNMBAlvv0bt0wHXMdK7NsOV+l4GhTmHZlB5naU5tkS6tRYFhbctl9HOoP012zpMh7KRgwNO32vKE5606ISO3nbU1ttxKHVoIKs5yPg8PjwRgSQwR9cKRIjOG6WfloSx1IMJxjbIJeu7nRWV2gldUF7InVf+26K3MGTuUEjnKq1yLMZ8IFbNqPn9mZE9Kqvaluj8e4rZLddksddZcKVJZTNaoILZvTlqqzUYMjv0vnQfGSgv0m3oPucHGcwsqsRSrFk4E/Zs9XYW7NqjlinZ7cwCrdwD7JMJ7JWzPR14sK7LUEcr8NxYyWW6V0WlVVc6qZGf9GxxugrAopZqqvFqTZRDs9+CVbhgiEG48Yy4KIt8szVDjxF4jxnv+C7QuFDVLOkoLzSBhLMzYyO9oBok9iw2oPAvjJg6qFuq9LpLfkrdmKaNRL8tC2LTjDDE+kxnQc/b+/TAwEjCI7DkK2hGFOVyVamCoMdGmZ8xQ4lWaLCVik3z5Ekw/5qghrc+3sdT2WL8Wzg1OLoIZeTh1tNHGnKLjilOCVI4TPU8H0TFPCOaSdlJa63OZF5wOvdfmGqOU+YAW7BodV3UU2BMQ901W6SANWouHKsavfIGOS4jOmtKc1wN14gnFf5K3UkGd6GqadiW3tRXL7uDgMm6OnsgIkSF2/ffw8IgPXuXafgWzjWNQQ8yMY0Wd2EdlfbGWDPacVVeaBKrLWmO4q8ximVKTQZrtcvscM4IAWh5ZWDLN6uy4t2JRuCw7CCbP1/FB5eX202OxQ4ugz23TJzQfQJ2fOWTeWcY1Lza2BXXITC0FWFZd9ZXZPdgh9psdwW8yte8nmZ1WUv3FmC09VO854ffuGgmZmd0GqIKaLRW/vygV/34SHG56sOU6/DAcWYkcVa7s91CFas5C+H3PSWBGsC274c046iZbHZk60EVKDFP1gpjBZ4bMwjnKC+rsYCBjyGDs8CyIJh54s4UanHq31qvX56qRpHXbmnjOOfAZQ5xz8SKReJwQJIYVy04isB9Lw8hSYWjLc3gOkVycL35ELfysRoRlLFg/H34+r0RljKPQcbXlToyPGj/2mlPtO+OLcVTnzbDRMU+U/dK5s6i5tbWFGbK24Zw2ax023zruvC3JrsHxUBoR5ppr6oB0aS0uFijtYUQHaCpzXm/AS3Xhieg80/9lmLfSAjSl7atRyCrSZugMB5dsEKBfyE2ybry33WOJ4opbH5GfJ1XJK5//GRypHxq6vtpiaT+/0UGQIUN5qd0qanypsc1+DV69a6+AjV1iyFRnvs1yodIzOBEHC/9W+bNIptdElpxz7ePyw6hyee6jEdJ3ve30kOpXIvtx1GnaSNU+DPYa59XAX5RwV6i17861X12k04oJ2hW6ro1e0wYZg7OBrcTyK72H1/ryGlz3ViyKbezXcW6tY1vtRKjR3W6t2G928DsfrbTOjrzYpHPit4bNHxMb26yOep/KwWYAXr/Pa3N5fa45I1oq3Z4PbAUckHb9ZIPNt5P3h0yQH8aUyMnnXR3cnT7WWHt9eevbf+S7UQvkxHOuDI6mhnsDqQW1Gin7kVny3F5S+sbxUjHizeBQ4wJDs3LWvxL+NWmApxV7be4YVZwLFn0P/dquOQRzxsbun/VP7Dweo4tKBDjphOPku5+HyQ8jpsjZV9waHBXZbb/D5cs/p8qXg4fJLttssqgOBjpk7AEzQmaPsWfZ89yzAmOU9tvxkOFM+ypn0YexMWLifDCJYfC7Be5cdDwwWit5rSevD3bPYo8Ezw+8UTOSIF7uow88kzX1GGNLALTVXpEblHjPN4Oe885Zw+Dj2OzR1m5rO/2E2SKw/nI+4pSkGnPGK3xNNQ3VaKue43c3nGcPuM/mK3Zt7BrtT5B6DCNh26L9VdjeAa3HrqfeOLQWnVtg9M9bL0LPaQpznrTfjn4TXAfou51LxRMp5nlZ5i2H6Lg6VPeJc9HCPeyH43wQSQP89kdMlmlfFix6MUN1XToGzRmHnXi2vPPDaBk8vtyM4q//nid3PfWOLL9S7V//2BB44MWPrR38bWq45Ib75acJFfLVX3NljwOOCo6KrLXuRvLuj2Os3Yxdc0J/nec7Hn9Hvhw2T34aW2VG/FvfjJZDjz/bzq+/6TYy6IcJ8t0/JXLSOWkYcEX/qJOh/M6ehFb91QHBmFZDmde+hs2ELJz+DqES37F/6eM/rV0//faL/PTTT1r+iH0Pjl122dVSldlCWB5pMakqlU0LRsUi+/VBqvbRvxrntdRwPvSLO04whmxD3HaFriMIwlhxHQ5Kaz1Gtqh8BhfWRHGg81oETtH8kTr2yHytr4U6G20Ye70/s1LnQ2V2wvHQ56lOIDYlLbgndrQpwDnq4YIj8OTb38l6G28VXBWAwBj27wwdh9Ki2Mqb9tof20+LX9bNXs/Lyp9EiBcYqLRMFLQVZKTSAatCAlsmo9PKSR0QsjSs7qgttFfLLrJzcmSHPQ6UDVT4eHh4eHgsWzjgqFPkpHOvku69+sq8ubNl7L8jJSenhWy67S5yzlW3B1d5OPz49ac6TnMkr1WBrDZgveCoyLobbyEdOnVRm3uB/PzDl8HR5oGLrn1ANttmV8lp0ULGjhppdNC9Z1859rRLZc8Djwmuqg3UmGXDOW8i4ofuCv8SmfG7GscuGDVGzw2JU5zBp0bbDP0+S69TjB31l/w9fKiVYvZDKKZOHl99bOroX+S2iw6VjZbPkUN3WEXGDnlXjfAkb2+M1L840mzfYud/jTkMYI5+jp6fofdH2xX3Oh2roJ8yT8eQYzoni6EiaOdMdeocFuhn2jbn30VjT7sKQ86LPXORcW2ocH0K9aEJAb76968/TT5lqjOx5sCN5Nyr75B+/VcKrlgEC5ryul1+5wOwZNY8OC0sPeYNr2ka+3/8Olj22mwl2bh/vjx0W+0yJwThbLWAPt/2p7Bn1zkhHGMFS/CjiJYhCV4XnC6WaecDdO7WQw45/szgW020Kmgt197zjEXK8BYHjyuTZ94bXO2R4j2S7nr09S/l23+LZcjESnnty+Fy/jV3yufDZtk9n/w+TfY74iS73tXHtZyjXr5z3MPDw8OjYbHqmutKvhrSE8b8K8fssansvfnK8urTD0hlRYWstPrasuX2u9dajnft3ktuuP/5hHI82XmetcHm29p1/A1HIHNb5tlzeT73XPB/dwVnRHbd9zB54+uRdo4Mzutf/WXHAPropU+G2jmeucY6G9rxuuCjd16WMf+MMANorfU2Do6KrLLGuta+mdOnyk/ffGbZpA9+nmjPpPCZY1EQ2IsuC4lGX8lA3ff8B3YNdX3250w5t4EcQ7IaPfv0l4qKcnnxibtl361XlhMO3FImjhslbdq2l70OPl5ueegN6dKtpzmlx51+mVx20yN2L5mRD36aLIPHVMoPo8rkqbcHy0Ada5cp+WbkLHn9wx/lh+FzLGty26Nv1UmXn3fCPnLwTgOsTJ08wY59/+WH1cceuv0qaxOZELIkgL888+GXv5SvRxRbG1/5dLice+Wd8unQWXbtRz9Pk30PW2R7XHOn2jJ6LefIAvG92doeZXPUYleHxX4TpPlj7uxZcvOlp5t8evDWK9UZWSi9+i0va2+wmc1RPLsxP7PUVtxUY/50yZ8/Xq655hr5asgIuzZss5Jp3fPgY+1SsoHwJTzr+PPWR18zeffdqPly1Knn23U33P+C1fP8hz9bO7j+o18nx+SQ1v3UU0/KwNX727WWiVEnxH5YkB9HJCPiXhtM1p3sUy2wTDsfpJtQQutvto0cfOzpwdFFOOX8a2SHPQ+ydOe3n74nM6ZNsWjQcWdeGlwhFk1ZbcD6MnXSBCktKZG+y68s+x91qswrnGME1b5jZznw6P/ZxJ2nniz1VegzEfBZWdmy/e4H1GqtnYeHh4dHekCJI+c7de1uQSYcg5suO0PW75Mj263VVb746G27rjZynKW62+9xoOkFJ8eR68h3kOz85x+8accAf/nu0KN3P21HrsxUPZOX30q2U92w2TY7mwH/v4uuk97LrSCTxo+R2TOmSZ/+K8rxZ11uhvvJ518tK6y6pswvLpIZUydLvxVWCWqsG4YO+U4qysuli44VzhnR11XXGmjn/vj5Bzt+7OkXS4fOXeX3Id/LX3/8Yp8PO+HsOq0iIAO14RbbW/vHj/5HClq3kb0PPT6uTq4t5hfNk/LyMpuDDTfbXrbeaW8ZNXKY7LXFCrJe3wy57eqz5LP3X5PCubPNQfnxm0/k18FfW0aEzEi7Dp1k/Jh/pGheoay21npyyrn/Jy2DHxbMzW0pHTp1lckTxpiztunWu8ipF1xv55YEcJaMZtVhKS1Vmu2vNHtEQLNzYjR7wJExmj3nCrU9dg9sj3+VJrPV9tjtADnhLG97NDVM0/mM0WyWtOvYKbnd6DbvBzj53Mtlhx12iGuz4tDCr2D6lEnyybuvyNxZizJG/4z4Q+XLaAsy9F9xNaOb5VdZw+qCx7ffbX857oyAJ5RPjSe07lP+d4bkF4+JLcMKL0VnWbkeY++KZUlqiWXa+Vgwv1j++OVHaZmXL3sedIy0UGESxs2Xnynr986WzVdqI/87bBf58K0XA6Hc0yYG8P2lJ+41j/W3wd8Ir/wc9utgOWi7AfLKU/dLWWmptG7TTnbZ9zBZTwVzeVmZPH739bLPFqvKOy89IZlKYOttElnb5+Hh4eFRb7z85H0y/LefTMbvd+TJ8tZ3/8rTg360/X1hpCvHMYoHrL+pXf/i4/eYHH/92YdENbTJ9wP0GcnOf/7e62pcTLRn8vee6y+2z2Dsv3/Z8649/0SZPXO6GeE4Fdvsso907tZTRv75q50/99h9ZMrEcdK1Ry858pTzzFHCyUKv7LHJCmpUvBrUWDcM/voTmTN7pvV3tbXXl7XW28SWXKEvMcw/1T5svXon041H7bGJPHjLleqgzZSCNm3NgaoNMGhWVaOepV43XXqaLQH57vMPzPnaMMgQ1Qd//jZY3nnlCSlWJ2TFVdeSmx54VT4cMlUuvfFhc0R///l7efe1p2ThgvnmpA4d8q28/fITsuUOe1pm5LsvPpB9tlpJbr7iNHNQ+q2wqhpcG1jdjMd9N19sjgzXYSyute6ibFFjA2fp5afutWzObz8FNDt0sByy0wB59Rml2bIYze68t9oem6jtoQbtE/ddL/tto7aHjklmZpYM3MjbHk0J0ORm2+5i8grjvrRkYWq70e3VyO8st973uGy44YayxborLWazvvzk/ep4xzJnOKjYtwRbwkDG4Gwgd8iW4MDiwP/8/Vey1U7KE+2UJ5Q/4VP4tXBOjCc23nyb2F7I6cMW/ZggP5KI08ELfOqAZX7ZFd4fniYe3iZb7RgcjQEHg/QWaS5ST4efdI5FDPJbtZbVB6xv1yCwEFxhIJQQdrGNPDF069lH2rbvqF5lS4tiUd++R5xkEZOo0+Ph4eHhUX/8O3KYnHTgdnL3dRfZmmrk7epqUF92yyNy8fX3BVelL8dRxq3UKShRo2CU1geGqXOzcOECM1ZXWGXNpOd7L5f4V6J5Ds/juRgbGId5+QWWyaDdK6+xjnw1slCeeOc728PC+QI1LolU0naikWDB/PotRfn60/dk3KiRlg0aoI7HuhttLvmqC9GT33/+oV0TXnZ1+5NvmXNCJL57LZ0PjByWxWHUXHvvs6YXN9tuVzvXMi/OG+nqAJYtnX3cHuo0vWpGF3O410HHyf3Pf2pLqOKhV98V7C97RVim9H93Pmvzl52dIy10XADzVTQv9up4sgk4A60K2kjfOOv0GwPp0my3Hmp7tFPbQ+2MU8+/zvqz76He9mhKwDl44OVP5L0h4y3LUa6O43uvPWvGfUq70b2gpqpCWrXMkWuuuFi++vmvhDZrMuBk4GyQ3dxY7WGc1xnTJsvQn76VXv0CnlD+pG74Fb5l7zTta2gs887HnFkz5KO3X1bnsVI23HIHFSyLXsd62kXXGyEUqwd617UXyCvqORIBqw+IUH354dsy6JWnq0s49e7h4eHh0TDYfNtdZeud9pKfvvlU9t96DcscsGcBhbnFDns0q5eNjBv1dw29gXHCMqzGwG9qbOAAse6cpT1gxO8/yxh1SnZSnXjs6Zeo4dFB3nz+Ubn5sjNsqVh9UFQ4Vz5WPRzuH8tE6gvWtu+01yHSTg24q849WrZZq4Pced155oT0VmNq570ODa6MDzIng17T9gTlg7eer96XEQaGoL3CuwkDh/jLj9X2CPXniw+97dEU4Dack/EE8Bp7PxxS2o1VVcKPE5567GGywy571tlmxcnA2SDwPmD9TSwA8dcfvxrfO/z5q/JEqB0fvPG8yaaGxjLvfAAmeeSw32zAGWwHIk6kUkf/PVyeuPcmWbBgvnmcdQFEBUFQP2+0uPT0I+Tu6y+2Nb6//vBVcJWHh4eHR0OB/RBX3/WU7StAvpMJcYY1GQOiirWBk+NEkfuvvLodY90z+wBYlvPPiN+Tnh8/uvZKesrEsbYUgqVI76uiR3fQj4ULimXw15+a4cIyDfaEALIl9cXP331h+wbI2C+34qoWUf/lx6/t3HJq0JOtYKnV+68/L5PGjZaMBHqRpT60Hb1JGwFr1h0mjh1lS0uYi3Fj/rG+vfXiE6YXv/qo/q/03Xzb3eSyGx+RK299Unbf/2g79vpzD8nM6VNsmRLr1+MBAwzQ5ifuv0EuP+sImTljqh6fJKP/GW7n6FNB67b2uUevfvYd3c4btZoSZs9SmtV2kZniL32596bA9hjsbY+mALfh/JkHbzN+XmXNdeWAo061pZm1sRvra7PiZOBswI8rrjbA+J6lloD9ZACeePyeG6wtM6ZPlelTJ8nQn2N7SRoS/wnngzQlHiIprjBmz5xmgpPXnvFmjn0OO8FSWHXBSJ1Q1tJSH6/35c0lrD3edrf9ZKe9Dwmu8vDw8PBoKHzx4dsWNWTfwqtfDDc5fugJZ5kynzppvPw97LfgyvSAHGdPCHqADei8nWrvQ08QtWQtu/KS6pFk53m1Jdl2sPo6G8iDL32S0AB2+PgdlgZPtDczXnP3M9aHE86+QrbddT9b189eEZY9HH3aRfL6VyNk6533Du6sO1h69e+IP8xwoS+TJ4yVd1952s5huPPcjl26ySU3PWiFpUzx8LMaSBjy1MG+St7SteNeBwdnRT4Z9Kr8+euPlok69PizrG83PvSy9WHn4G1e9cHnH7xhzgCO2/8uuN7eEvXyJ8NtczaZgBF//GLLyTD4WFLFcqyLr39Q2/WKZUfYeHvfsx/La5+PlEOOPdM2bXfuEvsdBeo85bzr5I0v/5GNt9zRHK0h339u55oSRg5T2+ObwPbY/UDry5Nvqe2xy36y457e9mhKYN8ZWQ+M/53VLoQ2a2M3prJZC+fOsT0gvAGOt2Ctse7ib8bD2cDpgPcJtvCSCfDxu8oTej/ZxPtf/NjacujxZyoNHSS9+8beeNWQ+E84H+CNFx6TH778yCbO4ZE7/s/eDkBKlRQtURoUGYISwVNb3HDJ/+T91561ieVtJa3btpcfv/rYNhJ5eHh4eDQsyGpTMJ4xllGcLI9Brt9y+Zk1lhOki6vPPU7ef/05i5wTaWSt/4dvvmAbONM5/87LT8rEcaMte8CyJvZuJAOOwD3XX2TOAJu6yUQUzpklT95/s3z7+Qdy/02Xm8FCfV179La3OWFg1BdkiFiygU7885cfLEgHXnriPutfWWmJtZ99B7NmTDNjxWU3wnj1qQfs7Tqt27azTfLsJ3GgTpZtffPJIH1Opc0PjuFHb7/UIHoRx+P6S06Sbz4bZPsgcCY6d+2h7Z2qjuI98tDtV9o1H779gunljp27STcdw1efeUAeuesamTJpnB3DWJug+v+xe66V6UFWhH5PnzpRuvfqZ3V/+/n7Vl9TxE2Xq+3xRmB7LBfYHl9/bBvQPZoO4Ie3X3rSjHxkxz6Hn1gruzGVzfqW2rlkZ1vk5tr5ePyKs+GWf/0zfKgFTMAryscP36E8MVF5QmVpT3U44IlH77xWxuvfhkZG8aX2u5AG7PJKLaUVIgtUthWViBxSvxdreHh4eHh4eHg0CMrbrSg5C8dJRoUaKI0ANqlfddtTtrn8pstPlXdfjWWEPDyqsnKlrGUfyZ7T8HsgllU8t69IQa5IXrZIiyyRTH6tXct/JvPh4eHh4eHh0byRWTpXKrJjezE8PJYkoDvoz6P+8M6Hh4eHh4eHR7NA5sJZUpndWspzu1gk2sOjsQGdQW/QHfTnUX/4ZVceHh4eHh4ezQeZ2VLZsoNUtmirhqH/LQuPxkVGxULLeJjjUVn//Vb/JSRaduWdDw8PDw8PDw8PDw+PBoXf8+Hh4eHh4eHh4eHhsVThnQ8PDw8PDw8PDw8PjyUC73x4eHh4eHh4eHh4eCwReOfDw8PDw8PDw8PDw2OJYIlvOF+tfWtZRcvqWvq0jv364rh58+XP2fNkhJZhWjw8PDw8PDw8PDw8mi+W+tuu8rOy5MQ1lpP1urQPjsTHT9Nmy4N/jJb5FdoIDw8PDw8PDw8PD49mh6X6tqt+rfPl+o1XT+l4AK7hWu7x8PDw8PDw8PDw8Fh20OjOBxmPswasIJ3y0v8lUq7lHu71aDysPmA9ueeZQXLcmZcGRzw8mjc6dOoiex18rKy4yhrBEQ8PD4+mC/Qvehh97OHxX0GjL7vCiUgn4xEPX0ycIQ8NGx18qx022HQbGbjJVrLqmuvK/OJ5cuHJBwdnRAast4kcduLZ0qNXX6msrJQpE8fJMw/dLr/99G1wRfMCQuvk866WX7X9j9zxf8HR1KjNfQjItXXc7r/5cvnzt5+Co00LBx79P9lw823l/psuk5wWuXLIcWdI3+VXlszMTJk9c7q8/NQD8sWHb9m1x55+sWy6zS7SsmVLWbBgvnz72fvy6F3X2TloY4vtdpOC1m2kpKRE/vjlB7n3xktloV636dY7yz6HHS/devRejHZ69l5OBm68pZWuev7jd1+RV/SZoGVevtHkunpu5dUHyNh/R8oNl/zPzoFkNLnaWgNr9GXKpPHy2jMPyzefvRfcvQjJ2peqDQ605YSzLpPionly/okH2LFwveXl5TYmjNesGdNS9vuY0y6S9TbZWnJzc2XOrBny+nOP2jVh8Myj/3eBfDrodWmhc7LdrvvJMw/eJl9/Oii4Ij3svNfBss/hJ8rn778hzz58R3DUY1lGMl522EzPH6X0lZ/fKjgSQ1lZmbz98pPGF7369g+OLsIfv/wo1110ij1jm533lgzWCwRw5wDO7n5HnCwrrjZA5hcVNmk5Cb+ecPZl0n+l1ePKxjD2OfR42XHPg6pl4U/ffiaP3X29ycKoXArXk4rvwzJ24cKFNeqtK3jm2Vfcqv1aTZ6458Zay47Gwk0PvhSXtgA0NG3qpAbRrRdff5/RH/T82jMPBUdjx9t16FQty+uL2ugjh2S0ApLp3DA23Xon5eMLpVWrguCImA5yY5eOLADJ+Lk2/JEK6erc2iKZzgXJ7N8ljaWy7IrN5XV1PMCWPTtZHbUFiuaY0y+SPsutIKWlJUpANTMoex50tBJnntx21blyxzXnG4FwzKP5gjlca+BGMvrv4TJ+7CgTdHkqoG6+7Ay59oKTpGheoex18DGyvComDNuNttzBFN7/DttFhnz3hX3n+B4HHCVbbr+7fP/lR3bu43deltXXXl/2P1INCzUw9j/yJJk3d7ZcedbRcp86OTx3PzV2weEnnSM773OI0VxWtnJaCLvtf4QccvyZ0l6VQGVFhQm1MJLR5MHHnl6jL9y/y76H2jVhpGpfqjYArt91v8OlbfuOwRGR7j37yF6HHCtlpaVW7+vPPSIrrrqWPitmeCXr954HHSPrbrSFfPjWi3bvtCkTbR6iUT6uwRAc/M2nwZG64b03npfj993KOx7/ESTj5TAwRI/bZ0s5ZKf1qssHb71kvPL3sKFmmIXP3X39xTJbDeZ/Rw6z+7NzWsjUyRPknGP3qb7GOR4YAseecYl06d5TXnr8Hjn3+P2arOMB4OXuvfrJsw/dbjyJbEQ2wOdhEBDYdtd9ZeyokXLa4bsaD8On8DRyIpmMTcb3u+57mBmaTsZ+OuhVWWfDzWWH3etnHO9x4NEml6qIojYhhGlrguomjNwoDTUUcPS22mGPRs2ipKuPHFLRSjKdGwV8WKZ65ol7b6oeQ+6B39KVBSAZP6fLH+kgHZ1bFyTTuans36aCRnU+eKtVfVGXOlA0Jx24vVx0yiEya/rU4GgMMGWXbj3lj18Hy5Dvv7DC585de8gqq68dXLU4iF7c/vgb8tDLn8pz7/8kD7z4sey23xHB2Zjn7s7xl4gRIGPw4EufyF1PvS0Pv/q5EQbnOPbse4PlsTe+tmsc4yaqh+dfd++zcu+z79l97tx+R5wk5//f3bbcZJud9rLrkuGIk8+VR1//0uo48ZwrJDckMIhu3/roa3bu6Xd/kKtuf8wUK3VSN8/gWTyTSMb/3fWUXcf1Nz/8iimrZEh2D88gQuMQTkUzNqecf408/uY3dt8dT7xp48c1Dnj67dRgHj70Z+nXfyXr19Ah38vQn7+XYUOHyD9//SE5KnCoq9+Kq0hpyUL56qN3LGrC39KFC6Tv8itJe+3jnNkz5dtP37Nzv/74tcwvmie56hh0UhohUvLLD1/L3yP+kO+++FAmTxhr5wARjZMP2kG++OAtqSgvt2MORCVOOnA7uUKFGRmFMJLR5NY67vOLi+QbbY/ry1/DfpO27TqY4A4jVfuStcFhd1UEPfssJ+NG/x0cEYsktm7T1tpFvW88/6gZJMutsIqdT9ZvriFyxD3c+7leg+BfKcRrzMkqa6wjY/4ZIUf/70LZ55DjpE3bdjrnV9scx+OhMJ/AQ0SyAOfgTWiUcYWGrrj1EbsW2oF/tlTl7LFsIBkvJwNybc11NzReipfxXm/TrWXB/GL5+uN37XtHlQulJSUyeeI4+x7GZtvtKq0K2qixcoe8/+YL9YreLwn0VfkI/9JWeBK+hr/h8zBat2knWVnZMlLHiLH9fch3slDHpLXyZioZm4zvkUcEib744E2r95cfvpISHbMuPXoFT6490CObbr2jjP13xGIyqDkgMytLDj3hLNONT779nZxz5W02jsgx5BlyDTiZFtZ9YRSrrsgvaG1yPBHCshNbgLrIjFx7zzNy5W2PBleJyWLkZVivo3PS1UcOqWglmc6lTuyua+580urq3K2HGfDFRYX2PYxksgCHF92B0Q6S8XO6/JEOkulc5pZ5wCZizmM21+Ny+iU3mE5LZlcl07nJ7F+wyz6Hyr3PvW/1h2ltSaNRnY/VO9Tf+WiIOsKAybJzcpQ4F01KRUW5GW1RDzIKmOG5R+6UK848ytLIO+yxv0Wb8dy32nFP+XXwN3LmUXvK38OHWsTIEU2+evxj/h0pj911nbRt30HvO1CG//6znHX0XvLJu6/Ihptta1GfVPV0VgP1o3deMW+c52+4+XbyzstPyU2XnmbM9un7byRNrWLI4mAQeeHZP3z1iWRn59i5aHT7uYfvkB6qoHfZ7zCrk7p5Bs+CoWAcouNE6YnW00cYPBnqcg9gbIiifffFBxaBGzlsqN0bxpoDNzIBBuON+PNXOe/4/eTJ+26yczBWz979bMyIZHbq3M0E6N8jfrfzlZUVFi3LUKHGPdxLHaB3vxWMXqZNmmDG/BlH7iFvvvi4ncOA6dC5q0VQ6oNkNDlN677+4lPltWcftuPrbbyVrKwKnAhaNLpa3/ZBZ5tts5PRX1Hh3OAoKVLExKL0NKBOUuQow2SIRnpmTJ0k5WWl0rFLt+BIzGHIy883pUP06bXnHpHCuXPkvpsur14OGOahjtonHAjaSYTrZ1UOG22xvUVT4wHHDr6F5rQzlrr3WDaQjJeTIeYwtJafv/siOLII8AGBqD9/HSwTx8eW/bZSWiezgYFAwWAgmAJWUB0Ar55w9uWLBY2aGuhXXn4rmTFtSnCE5dZkCjICPl+E2TOnmTG30moDLPC05sCNpUVuS5OFqWRsMr5HliHTuI56N1Z+ZL7IQNUFPBuDigj18N9/CY42L+DoTZsyySLxZH8JxhBQqy1w4gZ/85k6eQNkn8NOCI4ugrMxhqojiY3x9SeDzI7Ybrf9TK9iY6yzweZ2LXSNnA8758xZuvrIIRWtJNO5nP/8/TfNeQU4+S1y89RhuiwWTFIjmrkHyWTBrz9+I5+997oM+fZzO5eIn2vDHw0BHPKZaleddfSe8t7rz0k/ddp7911ebrn8DLn/5itMx26xfXy9VhfgzO2454EWlMSW4pmrar/JVC5pNPxohtCnoP7eVEPUEYYzpGIEVTtMGPOvMsGb5g1/Oug1Y4KV11hXVlMDrHDOLHldGZL08neff2gRoxVXW8vuK5w7Wz566yUzDrupkV9RXiafqBPBtdTz5cfvGCOmqme0MqKLJI1UxwTlmSjaEA947jAkzEz9GHvF82JGJksMXn7iPnn49qut/s+0nxjznbt0t/NRvP3Sk/LALVdUR+onjR9jRnQy1OUewLjQTsYMB2joT99JiSpFBxxABOUwFX7xoo5HnnK+pVE/035zHsVYVVmZMkKJEbKLOkes0/zw7ZoZJQQoWaQWLXLlY21XfZAOTWKgP/LaF3L2FbdIjgrmQa8+E5yJj7q0b+e9DzEF/o7OUxj//vWHzCucIwM32tLGmjT2OutvGpxNDpRH+46dhU3gOEM77HlQjSVdYJ0NN7N5/eaz94MjiyPMQz+pAnlUnZIXHrvb7vv95x/UWatIGDn9RZ0U+Baam6hKMh2a82geSJeXwyDQst4mW8kopc14NLfZtrtIucror1UuO4z+Z4Q5uxeedJDRHeusWZ4IiPoS2R302rPmDI/5968aQaOmBAJsOEoEN1IBY/KLj95W2bqmRdsx8jBa33rpieCKRYjK2HT4nkw39RI0wMCty5p6gIzu1W95+VDlQzr9aoqYq7r2o7deDPTyN0nlWSp8pzQ9Vmkw3vIrZ2O8+vSD9qznH73LAlxrrL2+6VVVQnrNQNlIHRLm768/fwvurIna6qMworQSRjydSzDtk0GxzceT1WZAHz1021W2fGve3Dmy014HmV5KJgsIIhCAIusCEvFzbfijIYBzP/jrT2N6bMj3qn/nWiaJdhJIpX84pg0FnLPS0lLTgetuGFsW+dCtV8lP9VzuXBdk/7jtZ8HHmIfHJlU2lLLpZ/78+VL84RXB2dqjMjtfKrPq599UVlVKcevkKfRkKGvRTspzWlfXsSCvh1Rou8ryulUfK8vtJOXZrWRBq756bPF0HqCOshbl1ffMqmpr9WR2WE4qWnaQzr1XlJueWLTBjbHM67qSlClDlGXmSXFeL713trTusbKUZeVXf/9HH/fPs2/bPRvufEjCeqLPD7cZ8JljycaqPK+LlEiuzM3uYtdxr7tvZnYvad1vXTn09D2kffv2xoBgWmGpXRsdo8zOq8jh++8v3bp1UwcptqZw/PjxSZ+f7J5k/WN8iytyZOhkFQh6fmF+T6nIyqvub/8Nd5MKvX/wX5MXe/4pp5wi62y8sQwaNEje+up3u78ku41UtGgjlV0GyIIFC2qMg7t/nXXWkUOOPVbmlpTKA0+/auMjQRIuLy9PTjr7bOm5wgrywgsvyLd/zbB6Hax9ShulLbsu1h4Q7Ws6NPnB4H/kgyOPlzXWWEOO1XYdfNqV0vXTT2W//faT/Hy9t6xM3njjDXn++edTtg9E23DggQdKjxUHyEsvvaQ02VLPLeIbaPSVdz6WQw45RC6763kpLi6WmTNnmrD/cZSeDOqI1+/n3/1Kuq44UHbY7xjZ6YDjZOLEiVK4sEKmzc+ya1ZaaSXp3G91+e6776rv4X7qoT6OMRZhHhpfkie7bLWPHHPe9dZXQP+5b2F+RXUb4s1rVB54NG+kw8tRrL/rwZLfoYd8/+GXi12z5ppryorrbC5/Dhsmv04srabtOx91wYccGfnhj9J/3W2k3/JrSfd11FFReho5ZpI8+85Xer6dfPLdb3KE8lLPtbaO8V4TQlHLXqZ/KvMX8WiU3xy22WYb2WavI+SHX4bKk08+KZtttpnsvffecvBZN8kjjzwSXBVfxqbie3DJdXcY/yJ7tlMHZO8F2fLMM+kbsYD52mSnA2XIH8Nk0Hcj5OCD14nbl6aCqNwFUVkflqMg3J9k9G2yTc8Vtewpr773hZx44omy02Fnmg3iZB66dKG0NBnPPBXrfXNKMlXn95Cvh0+VnWbMkz5rbKLP7iILKnPi6lQQTx+NveEGmTRpUnBFfMSjFYdkOtfh9c9/teLQ89ufjSb7rb9LrWRBIn5u03+DtPmjtojOfbRe9Bt6LtzeePQSRphW4l0T1Xfo8oeeesl47sCTLpRDTr1E/vzzT3nsscf0msZxuH7d9CqzUdiPlK3OHXYD9mUmRmCywkV1LaPn178z1BGv7nSLg/s+Y8YMM1Q6duxYfcwZMEQb3LFocXDfW7WKvTWFN3XgsE2YMEEOPfRQ2Xfffa1gFD744IN2jbufv7NmzbLBd2PLszdWZlxxxRVT1gPc891nh/CxRAVHhsmHCPjurgfrrruu7LnnnjJmzBg588wz7dk4BiB6bY8ePaxdOKhXXXWVXTt0aCxlzjXxSqp7HNz17jPgHtpNHeHzgM+0nXH79ddfq89TDj/8cBvb9957z4xwd3z69Ok2fyuvvLJ9d0zB+PCd40cccYTRye23326K093LfCHUmS/q/PDDD6vPhYtDOueS0SSO2hVXXGHCguMIiiFDhkjbtm1lzpw51kfG8qCDDrL21LV9G220kXTo0EFOOukkef3112XAgAHSp08fMwa22mor+eyzz+T444+3ObzwwguNfqdMmVKjToqD+w5/3KBKifYdcMAB8tNPPxmdjxs3zs5vsMEGdv3gwYMT1uE+u7/0d+DAgfLuu+8ar9x1112mbNz5MML3hc+5774075KKl6MF/oB2kBcffPDBYuc32WQTk89ffPFF9bH11ltPrrnmGtlpp51qXOvoCGe8oKDA6o6ea2pl+PDh1t5OnTpVH2PMQHTMGFN04ueff25666233jJZRcDAXZNIxibje2QZMg0ZxXXvvPOO1b/CCitU359uwSHq2rWrOUrILZ6FbESHYejGu2dpFofosfBf9zmMZNfGO/fjjz/Kl19+aXPVpUsXO8Y55iCsS6FZaBf9w/cRI0bY9WuttZbp/z/++MOOu8KcJdJHYbqIVxLRCiWZzg2XCy64QE4++eQax1zf0pUFyfh57NixafNHbYtDsu/hv/GuiVcc0jlHvxij++67z3Qn88Cc7r777jXua8gS9ifCJZNXkkULg+0Kgriu5c+5ZUHX6w7qiFd3usUNgPv+119/ybRp04y5MHwoq6yyinnsnAvfGy7U0bt3b9luu+2MuHfYYQcTnAjzkSNHmuF23HHH2eQykTfeeKNsuOGGdh9w9fz999/GENtuu61du//++8upp55qCjFVPeF+ROsFCBH3PV75999/bdLpQ/fu3Y0JuYe68ExpF31C4SBcnDHMvfzlfOvWre0eaAODr7Cw0JiYsQm3L1pS3YMhzXccCfq7+uqrW584x5gh3DA6GRciJNAp92666aZmoDMP4ecRpd9xxx3l/ffflxdffLHGORws2rL11ltbfZtvvrmNC+NDGzDAAUIQugjfiwHO82Hajz/+uMY5V2iXK8nOu+/JaJJ+0UaULM+F9hgbspLRtlHSaR8l2oZzzz3XHAtXcAxRPkceeaR89dVX1dcxN6effrrNx9dff119nOLqDNfrCn046qijbE7++ecf+f777+342muvbYYgx9y13M98tGnTpvo7cOehVQCtdu7c2Rwn5jP8fArXAvfZ1RX+7kvzLql4GZqDH9z1u+66qxlXBCrC9VDgLeQP9/7222/Vx5FX1L3lllvaNchPFDZ0O2rUKDPQkEEY2sjVLbbYwmQo9YTrbyoFvu7fv7/stttu1h94EPlLX8gkMGYcnzx5so0tMhaeIziFoe+ynslkrCvx+L5FixZmqKIDqZe/6D3aFa+OZOWhhx4yHerk1ssvv2zzRUCCoF28e5ZmiSd/+A6i11DQC+hdaJixhLaQi9E63H3hehgLnD1o0l0/bNgwadeunRx88MF23NGso/fff//d/nIsnj2E/qYdifQRTuAxxxwjPXv2rHFfMlpJpXOZV+7lM8BucXYYupLgJHoylSxAl0Hfqfg5GX+E21Xb4uY0+j18DMS7xn2PFnc+0TXRc3379rX5YSwYg3DAPXxfQxbmxJWwn5GJMRmvYCziIcWrLN0yoriyumN1LdQRr+50i6snfIzlKRDs+eefbwXGIWoSviZaqAOvHO+ciA4MTOQMwn711VctOgQjPPzww8ZoRIWJCkSfT0QNBiSyjODECGfJCXXUpp7wdwQKQgbD8Lbbbqu+JlqIXhMNIVV67733WpQPL596fvjhB4uWwNicQyEgaCAY7sUB4DoiSiho2tmvXz8T8ggwxpC1n1Gh48ro0aOT3vPJJ59YVObSSy+1Z7D0z/WPcUZpoQQZMwSIi0LwmXYSWQs/D4MUGkYxubGlEDXBKGfM119/fRtnHD8MacYH4d6rVy9ZbrnlrJ3uPp67xx572LxheCMs3TkMfYR5+Pkg/D1caLfrmyuJaHLq1Kny3HPP2fWXXHKJXH/99fZ8FAtjGq4D5yXd9sVrQ7jEO3/HHXfI2WefbdEylmE4ByJc4vWbZ99zzz2mFJinu+++244z1rQVRyd8vYvOYrTQj2hbyOagoIjcoKwwJhGitIvz4TZE741+96V5l2S8vPzyy5scQy5yLYYucoEIKTIlWhfGCEqR+sLH4TP4DVqF/6BJIvVE7Dn/9ttvGy9gICE7MXQ4F6XrplJee+01iyxjgNAfxoWsBrJmtdVWszHD4CKzyFgyfs8++6zxG/rOGY/JZCznE/E9so4xhv+pl2UzP//8sy35dG2sTwnzf1Mr8eRPvGOuD+hrHGV0NToIGU/QJZ4Mi9bD2n7ocO7cudXH33zzTeMN5pfo9/bbb29zwZxwHluC6P+8efPMqXZ1uZJKH6266qrWVoJC4fuS0UoynYt9BD1SqAfawzk44YQT7Nk4w2RSoMtkssA5LNByKn5Oxh/hPtW2ROeH4ubZleg18e6Jlmgd4RK9H5mE/iTLyPiSjWK+WQYXvq8hC34Ecx/1MTImT55cvcsVgw4DEKKFwDEAWM9XH5y7QisZ2C72RqXa4quZZXLfaFYlLhnATBizUXz66acWqZk9e7Zce+21wdGmCbz9o48+2hgmDJgLxYgj05hINoYQe11BJIZIHKCPMA0OE8IOY/XRRxe9ItCjeeC0006z9P/VV19tDqSHh4eHR/MF+h9D86KLLgqOePzXgW2GA0Jgh6wnDok5RUVFRXGdD4wBPWfRjvogXx2z61crkE4tYh5auphRWikXDSuS+ZXBgaWMm266yZwPPGGPJYudd97ZUqAfffSRRYKIVLAfgeg7kQ4PDw8PDw+PpQcCtCz7RSeTPfDwAGQ3cUhZmVDD+SgvL0/ofJB6YwNXfdE3L1POXK5l2g4IjscdoxfK2AVNxPNQsNSKdX/89ViywGMmm0MalWVgOMWkDlmW5OHh4eHh4eHh0fTAckqWWS3mfKjDkdT5YJNvQ4AMyIl9W8q6bZP/kN/Xs8rl6QkLm0zGw8PDw8PDw8PDw8OjdmD/Tjzno3ZroeoBnInbRy+U6/5ZIK9NLpERxRWyoKLKCp85xrkHx3nHw8PDw8PDw8PDw2NZxBLLfHh4eHh4eHh4eHh4/Dew1DMfHh4eHh4eHh4eHh7/bXjnw8PDw8PDw8PDw8NjicA7Hx4eHh4eHh4eHh4eSwR+z4eHh4dH2hgS/G1OaKllJS11+7FXDw8PDw+PuiDRno8l7nzMb9NTigt6yIK2vWRhfic71nL+DMmbO0FaFU2S/MKJdszDw8Nj6aM5OhtLGjg1rbX005LBAQ8PDw8Pj6XvfFRktZDJ/beTee37B0fio/XsUdJ91MeSVVEaHPHw8PBoDIzQUhz76NHIaKWFVb4UnBX+4qjwl99+cp8pWaHv/OV7+Hr+UqJAlVWE/vLO9njf+VuuheP8dcfKgs/8jQecq46xjx5NAAQGBsY+enh4NEksVeeDDMfElXaV0hZEx1KjRek86TnyXcuIeHh4/Jfxj5aS2EdDrpZ8LXnBZ5YUYZACrlugZb6WIi3ztHh4NCa88bv0EM1K+rnw8GhqWGqv2iXjURvHA3At93CvR+NhtdVWk7vuukuOPfbY4IiHR1MDkemFoTJXy2Qto7QM1/KLliGy775D5L77/pBNN/1XOnSYLHvuOU9WWEFPRaAkrzQvSvPBgVqA+vbcU7T+4ICHhxnA4TJai0fjITzWywbQv+hh9LGHx38FjZ75mLDiLimXWiVC2+nDpcfoT4JvtcP6668vAwcOlFVWWUXmz58vF198cXBGZK211pJDDz1UevToYf2dMmWKPPvsszJ06NDgiuYFhNZJJ50kv/32mzz66KPB0dSozX0IyAEDBsgDDzwgw4YNC442LRxwwAGywQYbWBtzcnLk4IMPlr59+5qnPXv2bHnllVfkyy+/tGuPOeYY2WSTTaRly5ZG699995089thjdg7a2HzzzaWgoEBKSkrkzz//VMP2Plm4cKHds/fee0u3bt0Wox3oCZpbd911pWvXrvLJJ5+Y1w94DjTJuZVWWknGjh0rN910k50DyWhy1VVXrdEXzr3++uvy7bffBncvQrL2pWqDA205/vjjpbi4WC688EI7Fq63vLxc/vjjD3n88cdl1qxZKft99NFH2/nc3FyZM2eOvPHGG3ZNGDzzqKOOks8++0zefvvt4ChIb2kUYmrbbUX7KtK6tWhbRb74QuS554ILAqDfleSV5kVpPjiYAOE6v/lG5JBDRLbcUnTsRd5/P7jIY6lDWVnpE1oT5WVRXhbl5eBkCEqmctxxIv1VHWVlifJGbC5hI+5V1lAaFuUNUd4Q5Y3gxhCUTJU3lCKVJAPWaCCwLK2NFrJ6fG68lwPAr/B3fx2IeLIxDHh+hx12qJaFQ4YMMb5HFqaSS+eff77xdRjwN7oG+bv11ltbBNQBmXLDDTcE38JIz9Fo2XJTOfPMM61fTz75pPKsMm0TAH3q1atX8K0m6PP06dMbRLciq1dccUV55513bB4cON6uXbtqWV5f1EYfOUTvidJcMp0bBnroyCOPlFat4JEY0EFu7JLp9TCS0V9t+CMV0tW5tUUynQuS2b9LGksl88Hm8ro6HmBu51Wtjtpi0003NYOnd+/e5kjR2TD22GMPI4rbb79d7rzzTvvMMY/mC+ZwzTXXlDFjxsiECRNM0EHst9xyi1x33XVSVFQke+65pwmUbdWi3HDDDU2Rnn766fLzzz/bd47vvvvussUWW8gPP/xg52BqnLT99ttPVlhhBfuLU37VVVfJ/fffb891Dvphhx0mO+20k9FcFtZNCLvuuqu1CSWAU1AbmjzooINq9IX7d955Z7smjFTtS9UGwPW77LKLtG3bNjgi5nAwdmVlZVYvzgNKjmeBZP2mD+uss4589NFHdu+0adOsrmiUDyFK/YMHDw6O1B04BieeuLjjUV9QH/V6x6PpAOdQWVd5WZRfRXk59p3jUey1V8wBef55UVoUpbdYJkvJW3lDlDdEeUOUN0R5I7gpBNhNWUN5IzjQoMDBJqP3rxaCYOEIf7SoZ1QP7KUD0b17d6Xn54wnkY3IBvg8DByHbbbZxgymM844w3gYXk5XLiELRo4cafLBFRfkys7OlqlTp8q5555bfW6R4xHtb3pAdiOXQvHUJgGMftdHdBNG7uJ9bhgQ4Nlyyy0Xk68NiXT1kQPHk+njZDo3CugGPYFz6caQe3A8kun1KJLRX7r8kQ7S0bl1Ae1NpHNT2b9NBez0azQUF9TecYiCOmr7BiwiHi7q4bx+B4i6S5cuJgAgTrDeeuvJ6quvLiuvvLL89ddfdiwKCJNoOh433nlhYaG8++67VkDYc4dYP/jgA4sGkDGgfrx5mO+pp56y54ejSXjnRKfx8hPVw/OJOGMU0h+i0pyDsHbbbTdrG548wjdZhOPwww83RkcgzJw504SVQzRqPmrUKHn44YeNkV3k5rzzzrPICswOU7lIxqRJk6oj7IkQjX6E76F/RMWdAAhnWmgHzMQ44jkTKWIsf/rpp2plhqfPuHz++edWP/36/fffrYB///3X6qPf/fr1M6b86quvLGrCX+iC+xhj2kEUh3O//vqrbLTRRlZfp06dzGPn2D///GNlq622qqYvF9GA+WH8MPD+XWTC9dEhGU1SP5ELnun6gkKnLwjucKQsVfuStcEBWurZs6eMGzfOBDTgOUQuPv300+p6aTPjCJL1m2uIHL355ptG31988YUpL6JAru3MCbyHkcM8osigeYwdljqdeqrI33/HotlKBjJwYMwQVPZQHohFr8PQZigfiSox+gzNi9J87B4leZ3L4EKFkqQZnTr1SpOiNBnLdGBkrrFG7JqTTxZZZRVRuqiZCdFm2nUMr5KT9kfk8cdjxizZFSVTHUtRmRG79+WXReoQPPNIAkiQsVcWVn6N/VXStPmMok2b2DxAM0BFgvJRbBkddBKwhvJG7G8Uyho2n8oayhvBwaUC9kIm2w/ZRQvLnMNGOBvqY+jT5yrL7MTGoUplzrfqZMDnZErtEkPr1pPUsHnfeG/WrEqVP0OVt27V41V6rahcOkZlDcdj148cOcjGk3PwQtu2x9qcxMDzKbEsZocOJ9q8hZ9XH5BgQX8hQ+piJC5toA8POeQQk5/oXmQ9kX+MV4xn9CQ2DXI32WoF7IL8/HyT42HdEEbYxiA78P3335teOOecc8ywv/rqq+06MtFEz7EBnF5HF6SrjxxS6eP27dsn1LnUeaoqAGyhK664Qjp37mxjRT+jSKbXCajh7HDsmWeeUfrrYNeStYmiT58+RkfYVwCdjBNOW+JdnwzJdC5Bwe23394Ccsw7/cLWoe2MDf1PZFcl07nJ7F+AfmU8OI6942gtmmVqbDSqS8TrdOuLhqgjDAYco4oJdqioqDCjLepBRgExPP/883LllVcas0A4RJvx3Ik2IBDOPvtsFdZ/G7G6lDPCAGImXY3zwH0jRowwZsegY6kQx1LVA+N9/PHH5o3zfO7D+bn55putP6S0kzkeGKIIaFKaPPvHH3+sNjCj0W36SWoPIqVO6uYZPAtmgnHoC1F6ovX0kWuToS73AMaGiBtCkggc48K9YZD1YExgOhzICy64wBw9gICjL5yHuTt27GgCFCMaIOyJlkED3MO9zgmFsRkjBATPP+uss+Stt96yc9SJEONcfZCMJqn7xhtvNGMcoAww3ImgRQV9fdsHnSHMoD+EvQPtiII6UV4I92RAoIYxY8YME3jMgQPPxJlE6UCbOOQ4I4A/OAtMBwFXJQN1SmJRboxA9bfN2EwEJXmledF6RWlelOZrGo4khYhkK0kqTcKrMYcCPcGQFxaK3H//4ku0VDcqv8acFSUXHXNRx18kHKxTf9Ki7NQLaIdHwwIyUlZWXo59V1ZWXoZmY9/DUNIzB2THHWP7d5ZfPuaMqEhICUQwTi3L9UKs0UQBv5NBoWOujLGy8spjlNfGqROuzCOU8Tpe4+1vRgZBvkVl9uzJaqBNVrqerHJkqsrYqdKixVTj/VGjkEvTlEdijtDAgTNULs1SuTRL5dIsNdRmKd/O1XvnytNPz1XdN0/OP7/YMk8Ahxz+ePLJWMHeJRBQFxBUIBCAzEKvNkcQ3CGoRnCPoBryj0BMbYHs5H50BIHEKJyNgcGJjYG+xI7AwUGvYmOsvfbadu3yyiBkB8KGL/ozXX3kkEofJ9O5nCdgRQEEfwlAEpx8+umn5e677zZjGiTT6+gWApNkRQD1EPAjg0LB4SI4yrijiwjMOrhMWjw9WF84vY899v7775sDRaD31ltvtcArOpZgcUMBB4rA9+TJk82W4pkszVoaK38a1flYmF//1xI2RB1hOAKqS2oWBoMJIG6McZgAYoVoyYTAkDAMRiCODFkIwDmiuBzHyMewJLXItTgfeOMwYqp6Ro8ebRFkno+ggIEgpnTBtTAkTEj9MKSLIPB81jU+8sgjVj/XcIxoejyQ/XjwwQctKkDBQ4962FHU5R7AuNBOxgxGRRgiZB1wABGUw4cPj+u9H3HEEZZGpU+cxyBm/lN5+hjjCDYcR+YvDAQoWSRoAIewPkiHJjHQH3roIXMuyHK99957wZn4qEv7SOOiwJmnMIhSsZSLpVGMNYrKKahUQHkQ2cKxReEg+MJLugB1Ma9Evrie5yGE4RXVa/rsmPOgOlUefliUB2JR7pEjY46EVp8QsAcGqU690rwozRMdDE4q6KqSpNJjrOBMpEGS5vAwXUwD99AmZUlrr9uQzrPQmdQ7Ue25dOr1qB3wbZmHdIJ2OIjYFGTCrrwyZgCTuE7nXmUNczoirNHsQHwNcaMqKCWwJcnU4ajxkgZsPALX4S1ZOGQqllQuicqlGD8AHMIx6u+w/wanH/EJbyj7GziHI3fRRSIvvijStWvM6a8LaBeJeWQ0urU5Yu7cudZ+p5fpB8ZxXcBKCnRWvOVXzsYggMizXnjhBftLlt05GdzDciXkNlmNeKitPgojqo/DiKdzCaZhJwGMZvQD2RiWb6GXdtxxR9NLyfQ6tgYBVWwEwPJsgmwXKQG+qATIvgkCodhb6OMlRUdkX1hqjP7DIUT/Mua0E8eQ/uGANBRwzngmdpdbDs1Y4rAuaTSq86FiLvhbHzSst9lQXiyTCDDyIHoMJdYzktI7+eSTLZLhjCyeidEPYOjwd9J43IMDkqqe+sIxFcQXBQyLo4EwIaKAE8Lym0Qg80BalqgBbUV4pUJd7gGMC84Ghmk8IFDpG8uWoiBCQnQGx8UJMMae65m7REAIYrzj9DAeYYHGfaSCSc8iGKMp0doiHZpEEJ1wwgly7bXXWltY80lKHgXAWJJVc3s76tI+omREnHCqo6llvpNhgxZJfe+///4mFOGBRNEuB55PNBLH5vrrrzchz5ji2AKUBoooHLFE8JJlxCkhUopRT5OYAjId994r2ufYGv5wFiMeGFL0SBySN5DpUJK06Ct1pkmSceulS+rr6TgFBzwaHYhR5iIJK1eDeSbzcc89bIaO0dQBB8SM62QggMzKBmUNu6c5A5pF3KRI8hsIuG63ncgvv8QyjS+9FOMPtR2rweoOFUsql2L8qWJJdVhsnMgmslQSp5/9Umo3WrYJkEm8++6Y4z5okCj/xxyIWsTSDNjWm28ec4rqsiF4WQQ6fpAOKlF1ll+FgS4l8+xkPLoEeYxuxukh00GQkmAeqyDi6VQQTx9hu6RCPH3skEznOmAso0cIzDoDHV1BEDgdve7AkjWyJjgljBX6h4wDDh/6ONUqmMYA7Xe2QGPB2ZuMMUvgybCwXD/eWDc2GtX5aIjf6Wjo3/ognQZTsRzFgTQbk14bb9ct+2HSIJqJEyfKcccdZ0xIgYnivWWB9e8wCEIAwCikV11WIt166gLHVETDo4Dx8fyJOJAC5dlkeuIBIUMkG4eAdYxcm0hIOdTlHgfuQZAmEm6sj2Tcokb2gQceaCllBBaRHgeW/jB/GL6A8WBcHONznH0J0Mm9aukioByYr6OPPtqEM3VGBWhdkIwmEYbMh0uhI3BREm3UisKARwEwlrSJ9tS1fdAgjjFvAUE4rbHGGiaMcW6IcqHYTzvtNKNHlh0yXiiqVIA/brvtNmsTbyn5RS0Z6NzRFtkUQCbMgaVXODYoKaKpzr/B2WCNP0aQdtmWRakeTQqmFD0Sh+TNSFKSVPqKLbOizjRJMlQvio7M5EBp124XlSFbq0PC+qp1tKykBQceb4S3s7gyMPK9NoW6UpX/DlhKhSh2DgTzzLwErFwNtU1svwaBT7VbzOhlrrk3SCwnBKtfyK7xVi0cVPYCYSgT8Sfy35zAyha1O2y5mgPLGkF0zBhTVOJXwX4anAQyRzgQOAksN3QrexhXMn04d5xnb9Qll5DVjJ0Pg2Oc45r6guWPnTvHHCXkFnIS2UjgDkP3vwqWF5FJRpexlMoB2RvWpegLVlCgfwBRd4KQBAbjLaXCTkmkj9A5yZBIH4NkOjcMlgqho+IhlV53IKh1iRJgvI3o7HXEMA8vC8a5AdF6miOwMRgjsh3Ymax2Yd4IDi5pNKrzkTc3vvFaGzREHWGwrpC1lTAXhg+FZU2k89yaw0QgE0AqE+J23iL3sASKNBaGGZPLRLJvAuMpCpY0wRDUw7UY5BABBnRt6okHhEgykDnA6WHvB0YtTOjuwdilXfSJyAjCBWM0DIQW10O8MDab1UgXw8TJsiQg1T0Y0nzHCaK/rEN0YMyIurNelXHhGicQSA/Tl+haX96UwX4ZBB0MFgYOFm1h0x31bbzxxjYujA9Lg5xwu+eeexYTgqSM2V9CnQ3heIBkNEm/aCMb8HgutOden8f5KOraPl7FhxPjCo4hygfnhuiSA3Nz4okn2nyQ3k8X9IENlcwJ48ybTQBtxXFkjh2IzsALrCVmyZXzS5hyjCElH1l11VjUE0MzGUiW4eez94NVDBg+jk0wPDFWeT0rdaKLomTMvTUzGVtr4e0qp0pGxg+y887PKM2sYo77iitepe0+TOcFJXyPljO1oORxQp7Q8oYWR9f8rUuhrlQFeZFu6a4lEXCscIi5hoFhCWZyGbOkoaxsc0j0W0lMeTk2Z8w7WTNej6wkZkY3mSmcEL5zDicCe4LIfDLwlkocU1dwWvCdifiHWKPZgLazId/tfWEcGBvGDL5izDhOcJyx5e1hBJNZFoUdiyNC4p/xxvhnPLkekc1xxBL1McbwHdcROID/2ORfWBg7huPGfaoKzWGhXbShNiAup+oymJvDbMkyy4p401+8DdnNDSyJQi+j85yuQvamg9dee03Gjx9v2WYHnAUcBbLk6M199tnHzruN4Mh9dCHH4i25Qu8k00foVOYhGihMpo9T6Vz2I3CvA8uFnB2GPiI4iQ5NpdeJ9LtlZ5wnqEYd1IUBjr7jWv6ySd0t5yIQh33CueaDSimZN13mFxXZ3IwdN0lmzi+3gCLzw1gwBg2zvKxMCieNlWnFtXPOGtX5aFVUu7dUxUND1BEFS0EwsvGiKXi67KVIBZYrMWlEflkKBSNhNCHwiAzDCPxYEIyGAUUENwqu4z4Imo3X2223nRli1FGbesIgOoHHzn2sg0wE1lh+/fXXxoCk24hC0HdAG1j3h0PCORgSRwFmBhiDgIgSgpB2sqyHty4gyKgnWXYCxk12D8t9YAQ23PEMF4kBjBeb43E0GDPWpBLBAfQF5nIbyRx4WxSOEq/NIyLmCtEwUr70FyOfcabPRIkYHwQWy4BcO919XMdaVOYN4e0yBJTwkqe6IhFNMv+sSQW8FpBlTygfIkdRYci4NFb7ABkrlnPh+FEvqe90wLN5UQFKgQwHb9YAvPyAvsRbFgZNMwZ//12s4xI7ptNmxg1vv2LZDKSJ8YgTkQjs9VCSN6NKyVppftGeD4ZPSVLnWnSuY5vPi4uXV5pcS2lyQ1XUW+n3w9QYu1zH8169A96KvbGEvvN7JCg1NmDSR3iENdTNC2ohxnVKKKxBW04L18DXvEIKByjeteESy2YtCUAT+LHKyrYvAedSWdnmnSwZhq2KRQPBVuhH2UjnLGYcs38hIjqWebyhPjD2HW95U3EieXmxvSw4GzhnjBkOCZkOxlJFqTzyiMj++8d4hre2cW0glmw8qQebmDHmGsaUOnEqWH5FhhHH48MPY+e5juu5D7vTZVY8aoLl2MhHdDW6jwAVeiIdcB1Ligj2OSCz2LeK40BGmiAquhD9A5C7GPEsq41nd6TSRwSMaCuGbRjJ9HEynUuQEluEAl5W4sOhYvm2e/sVb6XCDkum1/lM0BUbiXbSXtpNHehK9lwwVoBXyeMAYetxnsAs+yDpe/NApSyYPlGmFGZIi/wCC/z27JInpdMny2c/DrU9oGSwoCeyUdiObDyvO8qlpCxTneTabWVYAj8yuKvMa48Cqz3azRgh3UfVbzNvbcBbnTDeosAwJhKN95voFaVNBXjzLG+B4MKAuer7I0bpINkY1icShYPimJ8+8rpAHBKiLmQHnniCyLJHc8Ipp5xiSsetG46PhrQMieSTGWi8H3DzWNbxH/NUmg1weGtn/Hg0PND/OBmXXXZZcMRjSaNqwXSZMK1KOvTuIq1C6YX508fK9Iwu0rdTSymeNk4Ks9pI5oJCWZjdUXp1K5CMkkKZMWOOLCivkoysPOnQtYsUBKqyMnROMnKkdedu0iEvU8oLJ8vE2Ys2PuZ27CXdCrLUH5kvM6fPlOLSStlu54NlyxPPlyPW7WjB7MyFY+SDRx9ofOejIquFjF7jICnL5ddb00eOdna5P16QrIoEO0WXMHA6moPzsSyC5WdsrsZjJxLEUiCiJE899VTa0XcPDw+Phod3RpYuWAoY50ddPJY4yHqQyUAns4rDY2mgyhyL2TndpFf7YDOXQ1WlVFRlSFZmqcyeMEUKJV86dG4v+TlZamfPk8mTi6Vlly7SrmWmlM2ZIpOLW0r3nu2lRVmhTJpUJC27dpX2LbOkcv50mTQzUzr37mjhPFkwQ8bOyJCu7nvVApkxYYZUdugmnVvlyBOX7yn3vpoth959pmzSaoF8ddOF8nz5to39tisx56HX34PMmUgXXMs9TcXx8Fi6IG1KxoY9H6QKWY/JUizveHh4eCxdRJecJSoDtLCznf0z/62XAjQ8wuPqHY+mAvaIsBndOx5LEwttD2Nuy4jjATIy1fHIUOegXMoqsqRN587SOjdbj4nMnz1bqtp1MuciQ/9r0bat5JWXSClbQrIL1LHoLh3snNr0ObmSVVlZ/ROm5SyR12NuPUHpnFmyoGUnczy4vs2A7WTjDmNl+Gj9Mv4D+WD06nLkOQc2fubDgQzI5P7bp1yCxVKrLmO/9I6Hh4eHh4fHfz674rMbHh5poaJIpkwolPwePaRNotXFZXNk4qQyad+3s8QW5y+QGWOnSejnrwLkSac+XaSVlMv8WdNlZnGpVDpvIROHJJbpWDBjrEwTlnPl6bdyKZw8UUIrsexHonNyOsh2F9ws24y+Vq76Z2e594xNl5zz4TC/TU8pLuhpv1y+MD/2A3a8Tpe3WrG5PL+w4TeYe3h4eHh4LFtAdaMvU7/yuumCPVg+E+Th0SAIlkgVRJ0PllxVqs+QlSkZ86fL2Nk50qNnu1i2IqnDUiFFUybI7MxO0rVTvrTIzNBHTJJJ89vYPpGs4Py8/J7SvQ0/urVQZo6fKpWd+kpnfBGF29zPxv1hj54uD2acIg+dus6Sdz48PDw8PDw8PDw8PBoS82X62FmS3a2XhLd8lMyeKFMWqsPQvbVUzpkok8raS9/O7qVEC/SeGZLZtbd0tE0bIVQVy7Rxc6RFj57SLnBMFkwfK9Ns4zreRczZqFJnw77aa3cnyfw2wcZzRdj5mPDGpXLzrMPM+Wj0PR8eHh4eHh4eHh4eHo2JPCloVSWFs2bLwvIqqaqqlNLiaTKtsEpat28tuANlZeWSza/3VqOlFKgfUjR7jpRWqb9RsVAKp06QKUXltk8kQ8pl4cIyqazUv4VTZcZ8kZwWZDkACYssyczg19n5niN5BTnq7MyS+RVUVia/PX+TXP7c3+qWiPRfbXXJG/mlfDGjzDsfHh4eHh4eHh4eHs0bGZLXqbt0brFApk0cJ+PGTZCphRnSvntP6WBZjTIpLeU3ssLOh97TsYu0zyqSKePGyriJM2RhXifpXICDkScdu7SWytmTZPz4STKrPE9aOb/DoI5Lgci8qeNlZvC2/Jw2XaRzfpnMmDBOxo6bLB9n7yhn7L9ibInXGvvLcevPkJcu+Z9fduXh4eHh4eHh4eHh0bAIL7uy3/nIzJSMjAyf+fDw8PDw8PDw8PDwWDJY4s5HXymRzarmymEyXc6ummSFzxzjnIeHh4eHh4eHh4fHsokl5nzkVlXIflUz5NCq6bKFzJM+VSXSUiqt8JljnOMarvXw8PDw8PDw8PDwWLawRJyPrlWlclzGdFlJgh0pScA1XMs9Hh4eHh4eHh4eHh7LDhrd+bCMR8YsaVtVHhxJDa7lHp8BaXistdZacuONN8rTTz8tF154YXDUw8OjIbHpppvKtttuG3zz8PDwiI9jjz1W7rrrLllttdWCIx4eyz4a/W1XLKNKJ+MRD79Jvryb0SH4Vjusv/76MnDgQFlllVVk/vz5cvHFFwdnYgb4oYceKj169LD+TpkyRZ599lkZOnRocEXzAkLrpJNOkt9++00effTR4Gh8nHXWWdK/f395/PHH5eeffw6O1h4IzAEDBsgDDzwgw4YNC442Pdxwww0yZ84c+9uQSNT/bt26yZlnnikjRoyQF154QY4++mijw5YtWxpPfffdd/LYY4/ZtcnocNVVV5WDDz5Y+vbta2+HmD17trzyyivy5ZdfWl3J6k1G+8w953l2+/bt7XnffPNNcFbkmGOOkU022SRuvbR18803l4KCAlm4cKEMGTLE6IjPYaRqX7I2pNvv3Nxcm9c33nhDPvnkE7s33L6SkhL5888/5b777rP2pcvzp5xyinTv3l2uvfZaufLKK+tMO1dccYW94eOOO+6QCRMmBEc9GgPJaDYM5v64444z+svKyjIaeP311+Xbb79djGaLiorkq6++MhoByXgKrLDCCqYrV1xxRTvflOUi43D88cfbOER5LIq9995bdthhh2qeCvN8svEEzMvGG29sb7mJjmdjgHlD9tKeJ598soZcW5pAfvTq1Sv4VhN//PGHTJ8+vUF0KcFE6O+dd96xeXDgeLt27Ros2BiV0dF5j4dkch0kk91hwOfQJHo2KsdT6YcwoM2tt97a3rrkwFwwV+G2glGjRtkz/vnnH/teG9AmZMe6664rK620kowdO1Zuuumm4GzNfsMjH3/8sY3LsoSl8rYrNpDX1fEAA2R+nTahE3WECHv37m2OFJ0NY4899jCiuP322+XOO++0zxz7LwCmLC4urpfj4ZEYCBro6ddff5UDDjhA1l57bVMGp59+uh3bcMMNZZdddrFrE9EhfxF+MOstt9wi1113nQmmPffc0xRrsnpT0T7GAgZBvHNE6qkHA4N6oRG+c5y6EZI//PCDnfvss8+sDdtvv31w9yKk6neiNqTqN2OzzjrryEcffSRXXXWVTJs2zc7hfO++++6yxRZbVLcPhcPx/fbbz+pOh+cxIJdffnkZPnz4YkqvtqB95557rnc8GhnJaDaKvfbaywzm559/3uanrKzM6AdDBjoJ0yyGCLyEsZOKp6gTY6ZLly7y8ssvy/nnn9+kAzKMAw72c889Z+MAj+266642DmHgsG+zzTZmMJ1xxhnGd/Cf45tk4+nmhflgPAmMwZ/x5qWhgAzA+A7FU5sEMPoPO+wwK8gDaMt9b+igGPp9yy23bNQsykEHHVRDRuME7LzzziZT4yGVXE8lux2QzxwjKA693X///Va3C5An0w9RZGdny9SpU01GR+eC+tq2bWt6giBGp06dFmtLuoCv6DvOH+MUlh3wAv2GN84++2zTOxzbaqutgiuWbWRdSXgvBBi3oqJCysvLTdC+9NJLwZnaY62qYnUe6rd3Y65kybiM+ESdCOPHj5d3331XPv300+pIFh4lgBBhTjxrFM3kyZOlT58+0q9fPxk9erTMnDnTrosCwoTB9tlnH2O+7bbbzo7//fff9hcP9tRTT7VzRIpycnIs+k2E/IQTTjAjDY8dj3+99dYzYc61EGfnzp2N8BjzRPXwfIiSOg455BDZcccd7dzqq69uihHPebnllpMNNtiguq9RUAcM3KZNG2N4GBDA8EcddZTVTQSGPsHgKF7OHXHEEaZo3LlLLrnEPiNMNtpoI6vnyCOPtH59/fXXVif9pl0oLoRCdAzWWGMNGwP6whjA4L/88ovdmwjxxgZPmvasueaaFuliXFD+1E+7O3bsaEaBY2j6gxHNc6EF5tv1H6FDfxBaCCYUK5ki+uHOzZo1y9od7T/zB6APDFf4BkHCnBLRIiJLW2kX9Innn4gOuZ8oCUoKQTpjxgw7Tnsw5DEKEtX7wQcfJKR9gGB///33bbyhl99//93uAxga0OJrr71m80Y7EOY8A8OC6OagQYNk0qRJJiM4hxKJzluyfjNOidqA4Y/zlqjf0DbjRr3MEWAsiHAh3KHrt956yxQ87WOOqINIWjo8TySMY9wPTdSHdjA4dtttNxv7RLwLX3vUD8loNh5dggcffND4mLkmIg1dEOUsLCy0iDn3Mj/QFlHpVDyFXoB2n3nmGYvuQ/tNGdAqNPrEE0/YOJB9JKMDDzpZANAV8NBPP/1kTgS2AQ4a8puxTTaeOGp8Z5xGjhxpRjEyAN5zsrIhwVyhZ4iEt2rVqoZca0rAboBGnZ4ERMWRcThO6FEMZuiJMebzaaedZjKO/iB3LrvsMrs+St+bbbaZ9R15i2x1mR+Oh2k2rEehXWQcchA9inz74osv7DrkGnp84sSJRi8AZwHdhDzmOuQrvEP5999/jV+iSCXXOZ9Ids+dO1cuvfRSCwCgd6Ch77//3rKbXAs9YvvQN+yIRPqBduNooCfIkmCLoLfffPNNu85h5ZVXNlntdAUyBVrm/mT2YSJA68gOxgodFJ579A1jj+yiboLC0AL6irllbpyNBG07mmjq8iWKAw880PgfmYoNwRw1fuYjo/6bxhuijjAgPogOYekAsTMYDEwyMIBEedxyDAgYAY0hD2E5DxYDHaUI4YP8/HwjYtLVeNTch+FxzjnnmELDqOJYqnpQsjAZXj3P5z4I++abb7b+EI1OllrlHAIApsWg5l68cuflP/XUU9K1a1dzNIheIfgwOnke/UZYEL2mHp7FM3k2abVUCI8BgpC+ItQYAyIe9MUps3hINDYAhY8Ri/DhGoQWihWHh77SZ4xEng9IAcLwCLtwlIOoOO10EXqiIYw5bSZaA51gQDL/8frPPCFMaCO47bbbbPmNAwKaOuh3MjpEyF5wwQU2H4DxYuyZc1LAyeqtDzC2WTLi0stEajA4aBNpdfYK8fwOHTpY5oLjzEMUdW3fX3/9lbTf0Ygz84wgpt3cw73UAVAYjC9KKF2eJ92OgofW60s7UcTjXfrnUT8ko9kooBeMHJw/l+VytEWEk3kE0BxRe4yAdAxl6uF5LGXCAcH4QU40RWBcETQJG1EuUxAdM5wMApAYxfA8AR4MW2fYJRtPZ4QiE7mXvzynvjIqHuAjDDUCIc3VoUeuMGbnnXeeOXvMEwZ7bQHNcj8OQjwadHoU5ww9ioPidC+yHDmFQQ+YT5yO8NJU5hY94JZ14YzzLGRlomxfKrmeTHZzHsOdgtNBMBDZC6gD2nL0mEw/4OR8/vnnliEFOGnoaoINlKuvvtrkvzOOw4BXMJxx6BoS0eega3BAaBfODgFWnHUcEIJ1BAhc1nFZQKM6H12qyoJPdUdD1BGGm3AncGsDGAwmQNFhfCKIERIQLVEzGBJGgEkgYoQ24BweP8cx6jF8iP5yLc4HxjOMmKoevGM8dZ6PoICBINK6Ai8bhsL4J7JFm8aNG2dRYdrD2sNHHnnEngfjcqyuDBgeA4xRxh+Gop8IQJQc0ZBESDY2b7/9thnsOEsYmkQqiYAlAoIXxwthSXSDyB39p1APdTCvPXv2tGuZc4yQ9957zwQk5+OB8cRZGzx4cHBkEXCUiEBRH22vDR2SwWGZBHNA5CSMaL31AcKb9kSfEQaOJ5sjiZChlOKtEw+jPu2L9htFRJSWeUbxIJwx/qPA0MEYwWGA5tIZa7J80HZ0D0gU6dBOPDQ073rEkA7NOmC0YEgcfvjhFkBgDpjL8L1kqViTTYQZuZzO8ilokMAU8gFHdcyYMTWCRk0JzrhCB6UCfYe/cSzgeXgK+kfegmTjyX0Yejhx3IuRipyvr4yKB9pFxgVeT6dfTRFE+Gk/ug1DmX5ghNYFZAWQfTgZ0HEYTo8SMONZ7EvkLysonOzjHuYNWUvWKh7IRDz00EPmDGCYQ/vpIpk+i8puAJ1hJ4WBAwPdYYO5jE4y/YBsJqjkggnwKEHCiy66SF588UULuhI4gubdeKDPoVucM5yhhgZtoP3oUuaapZs4f4CACjYR+sQtJXv44YfNsVxW0KjOR02/rm5oiDrCcAZI1OusLSAOABOgAHEqWM9I5Ovkk0+2SIYjfJ5JRA7AHOHvGMkuXZ+qnoYGYwBTwXQ8j0Jak8gYDgLGGMLl6aefNicEY7yuCPeZ59In0qA8k82bRDCIUCRCsrFBgJHKpF4EUCqDOKygiFaTXib6Qb0IHcA8Mbfha5kjronn2HAtkSKEZvQ86zpZjoWweSqI/qRLh6S9EYA4hlEBHK/e+oD5oT30JREwztiz8eGHH1pkjv0dOCSMC4XzDvVpX7x+o4SIbO60005y/fXXm8IgUoRT7IDyQilxHLqFNtIZa6J3XItxlQzp0I7HkkM6NOvAXBGpv+eee2xpJnwK/WJcO0DLOBAsbyCinywbG4ZzLsmusfEWI78pOpfQL/xA+1IB/mWZEGPBmLz00ktG4xiPINl4EnXHaENOcC88TH1E3hsSGMoYb/BtKrn/XwFzzPJYdDtLP8NAj5INcDoKmYesRJbh9JDpgG7RZQTSiMbHA44k2WFezEEdrBJAP6dCMn0WT3bHA7zOsjGCpOgE5zSlox8ceDHP3XffbU4JY8V9OLD0nXp4NrYPdgZOAPYemcCGBGNA4JfxuPXWW423WPJJBoz5QafQflancJ5lWonGpDmiUZ2PqRk5wae6oyHqCINIDUyFseuAsY1ADhsWqQCzAogBBUg6GaPMbV6CieK9cQUCRlkiBACMhBEH0demnoYAfUYQ8UYI9zwKaT4ieTglGNOkRDlO5qchwHMZBwzV8HPDb4GIItnYMIYwJvPKOKZrMCAsiZKQqnZtccKW9jG3YSVN3cxVPEOHSBDOEAI8DKInLM9hOQ8RQCc80qFD1kqiwIl6RJe2Jaq3PiBNDV07Y4yoDP2nTRgT0AFjwLPIWjFGfA/PI8YbqE/7EvWbOljSxZJB1kZjFEEXji5pN+uYGdd7773XFAtINdbQASltFFDUcUyEZLTjseSQjGbDcJlMIp9E36EN5ot7yZ4SdUTuARwIAg2psrEOGCZE/dNxgJY2yNxi0IQDPch6EB0zxhT+YCwYE4w0eAnDNNV4UjD6kBPc++OPPxr/Ii8aEuyzIlqMY4OxhpzCIcJoxND9r4KsE04wc+ii6QB5iVPiHAVoFtpFPgIyHQQdMYTjLaVi/tADbkkX84/OY8yhi2RIps8Sye4oaC/yn2dRR9iBSaUfHFhWxv6WRHYCzgx9xL7A3kDGswc2nSxobYH9wjN4FvyFXYgOQlfBS2Q7OM8qFPqMY7WsoFGdj7FVLYJPdUdD1BEGwhfPEubCQKIgKFlb59YcJgLCllQmjOK8UO5hGQXpMQgIooFAWNuNRxsFyy5QjtTDtRgwEBcbrGpTTzwgRGoDsgQYkAhwCqlK1oES0cA4o530EQcFYUM2IAyEmHsmiobxIXpBezHmEsGNAelVnsmzSduTJk2EZGNDtA0By5IsjBGECvU6oFzjGQYwN8YK0QbS3tznsjvMK84OdEL7mHPmif0wbmlNuP/0GwEVft0gx4gSIkhZT85YOqSiQ96uwdINBHX01XvJ6q0PcDRdGpgxZl8HwhA6IbWO8EPJM5b8ZRziOaT1aV+yfjvQNjbhcR1tI3rEfGNAAiKxYeWVaqyhIWjBpeTDqAvteCw5JKNZaAI6Ya8C84yMwmjmO+fI8mJws8yCOSaKjjzmMzQBzUMjqcDmVJZNkOXjL0v4MNppQ1MEPEtm2+3VYBwYG9rLshzGjOMYQYwtS3AYE4JRyFmciVTjCf+hL9i8y70YnWwMxnlpSGC8oRNc8AMdwLIi3oSU6rXzzQGMJboSmeromyBXOmBvGsEfMgAOyDgcBQJDjmY57zK+OJDwD8fiLbnC0aYd6ETmHTpxr5+GV+BD5iGaBUkm15PJbsA+B+4F6BWeSx3RzIlDIv1ABsEtO+MaAoa0H1sM3QZfhHmWa9mTyh4UnOfGAvxBhgrbAvuFjAhZGMaRNtPW2gTGmwsa9W1XRPjXktjypLri64y2Mlfqvt4u+qYHgNBE0ZBShokQiPSTiU8E93YrDBdnJBPVgSiJmLL8h7pQXizhwFgm5YzQgBFZq4cB5JQlQoRrSR0SOWI9YrJ6EOIYce5NCbTD1YtHjmGFR4+Qh3gTITwebNBDYCA86B/9Ys5IX9MmBBCRfpQOgsrRBHsgEIAoG7fxGOFFG6iHNYoY4vST9sG80TEgIsHbsUjD0xfaQZu4Lx4SjQ314cTwpg3exQ39Ui8ClugPSpY5wFhGkHMfqWWiIjheGJEYGmxWRwAxJjgVRD/oEwKIlwEgoBCwzBPPCvefKCL3UieGiAMChTFhHBGgCHoKc0Rfk9EhQpYIFHPj7qOg0DFyk9XrEI/2HXguUSz6iIICLB1hnqmHeukX6XXS0PQZIYhhheLiXvrL6zqhizBS9dshXhuS9Zvn8WxS7ghnvrMckOdDu8wjbWS+3H3wDfQGrSQaa9oIXTO3YdSHduBFN/Y8MxHvQr8edUcymsVIQVagz4jOYjRjLBO4gF5wLtijgLyDvpHF8Ax0Q51E/DHgwojHU7SB50InyErkHlFM2tEUQVAF55v2uowx2W8MU/oHvWKgsbeDfuF8YDzCk/AR+wSQ08nGE8M1PJ7oAORxPHnRkIgnU5oSorIAROUB44bcga6wMZBD6GHkDMEu9C0GOnIoDMYaveTqYZzJcjEmyDdolnlBN1Ifuhc5inGOMc/13Mf10Dh72pBzYSDjmHd0H3Pu6Ac+Qe4he5GJ6MGwbEsm13FoE8lu2s0xnAdkMPxF0Asbw11HP5C70G8i/YBTBJ3SVuwX+kHAF12FrMbRdsFLQAYfZwCahpeh6/oi3tzjAPEs+AgZxItyGHP0DHIEW4Z2MCfQA/OUyEZqqkj0tqsm/SODv2e0krelZrS9MQERwFRRsLncpZHDa9qbIiBmUo4YRmEgMHgLS2OkDhsK0BrCACINg4iEW87TFEHmBeOH8SWr49F8gJJn7To87jbSenh4eHjUHuhpHCReB+zhAVgeh1PMahocKjJrS8T5yK2qkONkmrSV2qWN+H2PR6SLlGSk3hi3JIDT0RycDw8PDw8PDw+PJQkyw+yzYdUEWQQPD5DI+Qj2fMyV8aNmSMO+1DYGnIdXpKM5E+mCa7mnqTgetUXlglkyadxYGTt2uiwIjsVHmRROGivTk1/UZFBWOEnGJmpsebFMnzjOlriMHTdRZi2ouXmxKaGqvERKl70llB4eHh4eHksFLOlio7Z3PDzSQcz5GPW+3HXjkzK4ftszEmJqRgvLYoyU1G8DYakV13JP46J2hj/pxPSyHgtl9oxiyenUS/r27Sx5wdF6o6xQJqV0ZpYWKqRo5gwpzesivfv0lT69ukrb3IZ+SXJDOWqVMn/mFJlWWBJ89/Dw8PDw8PDwWFKIOR/9D5SbHzxHNqm5TaBBYRmQjE7ybEZn+Upay7iMXCnRx1P4zDHOscejuWY8YmDpWpbk5jTnPtQWlVJZIdIir6Vkqs+RkZktWY36HrX6IFNade0rvdrHXi/p4eHh4eHh4eGx5JBx7y9VVad0e18uv2KU7P3AybLWpEFy6eV/yyp7LZBvXv5dXn/vY8lp3Vm6dcgzT6WypFCmT58tC9XYzMhpLa2y5klJXg/p0Sb6exzlMn/mNJlRVKbmeIZk5XWQrl0KxK5aMF3GzsqQti1LpZDz6mzkdegkbSoLZcacBVJRlVHjmVI+X2ZOmyFFZVX60GzJa99ZOrduYT9AuGD6WJmdG3o+dc/OlR492kiOfc6SDi0Xyux57jldpUvuApk0afaiZWb5XaRv5zx9zEyZNqNI7DFZedKhaxcpiPczI4naQ3YiTr1hVJbMlmlTC6VE+5iVly8tSoslo2NfiV0Wf8ykcJJMmr1oUVx+l9j16baXOZsxfY4sqODCHGnduZt0yGNkySZMkpL8jlJVNMvOM6edu3UQO11ZIrOnTZXCEj2u9ee3KJXijI6RPi2Q6WOnLXqnGX1uV6bjUCLtyfzYmJRIfscqKZoVZ24jfa55LkC8cQ0/ww4GfWmvY5Od/JlhmrHPWR2k5cLZMk8HsuY4htoG7bTKlbIikQ4NmdHy8PDwSBu8KWqilnhvZuT15rV73bqHh4dHYyLhno9N1g6uqIHfZcS0beS0a66XPt3biMybrYY2xxeoMTpbqtr2lD59+0rvTplSmuBFVqWzp8r00nzp1qev9O3TTQrKZ8r0wkUGtJSXSmWrrlZPr065UjJzqsyqbCc9bdlOB8meN1Pm2sqYhTJz8nQpze9m1/bp0U5kzlSZke6egrJiWZDbRXpXP0eN8Jw20qNvD2mvBiaGvBnTFUVqoKvB2q2P9O3bR7oVVKiDMVtKg2oWIUl7rN4ukq8uVvseQb1hVC3QOoskswPj10d6tsuW8OubE41ZTpse0rdHe601X7roM63a0tkydXppqL3lMnN64SID3aFqvsyYMlcy9Jm8sq9XpxwpnjazxvKt+QvKpE13radPd2kj82S2TXaVLFDDuyizQ2xOeraT7Ljvms6TztGxXAzzZUFZG+lOPTXoSUdz5uRFfe7VWXIXqLE/PzK38eYrJRI/M4qy4gWS26W3jk8v6ZRbIjPVAQYV86bL9IW50rkX89FdCioXmur38PDwaFwMSVB+05LolfAjtISvbaR11B4eHh71RGZc30PWlJ32XlENUZGMFq2kIKdMSrC6FhRLkRRIu9bZlnXgXKs4kXaQ07ab9O7WTlrELpRW+dlSZpUEyCmQ1i1jS5Oy8ltJSzWtC1rFshkZWbnSMqdCyiv1y4IiKcpoIx3aBeeyW0lHNdrnz5uv5nEayGkr7VvF2puVX6DPKZPgxzxrQr2xTKmQ0pJSKa/KkBbtaH/bWKYmjPq0Z2GxzM8okLYF8ccv5ZiFof3q1rubtItdLC1a5Ut2WcnixnFGnnTq1VM65YfHuuYY5LdrLzYVPLMgJ3jmQimenyEFbQsk27Un0WSnRL60a9/SXjlQg57UBSoqypA2HYI+Z+VJm9Y5SmYN8aN5iZ65OHLatpdW1sksyS9oqd6Ijo+OZHFRqeS2bSd5NnTBOQ8PD48GR9hpoDQE+NHMhqzPw8PDo2FQY3VLaqh5nZVjBl0qZKjxVjR9oozj7UdaJs1NYPkZMPwSQZ+ZmVWjoVnZ2SLl6pwE3xsEGfnSuWdHyS6eKZPHj5VxE6ZLkT5g8ZbVpz2L3xtGrcZMG1ZeNF0m2lu1tEyam+D5GbbUa8r44E1UY6enHQ+r0pY29t6NKnX4CqcEfaDPLC8rXyizJy06tnTeBqZzBblnpUPtHh4eHrVB2NFYEs7BknyWh4eHR3LUzrTMyJTMygohIZEcVTJ/xhSZlxVbssNynx6smakT1MqOPLOCX0i1TEUDoqpSKjPzpEO3HtK7Tx/p2T5D5k6ZFeftUvVpz+L3LkLtxqxq/gyZMi9LOvRk2ZVeb8uy4sCWZ5VJQTeWFVEvy8LSg7otUpF6suuFDMmWtixRs7YFpXv72LK14Htaq6waHDqfOqFVleqBeHh4eNQLI7U0FQcg3A6Wanl4eHgsWdTOfm/ZSvKrCmX2vHKCwlJVWizFcdfRqyGvRmtGVpa9/aiqYqEUuQt7riRVG+8rHY66ULKOv0WqtMje50nLbfaXrF4rxa4JI69ACvSZs+aUxp5ZMd8+57VpZRmY7NwcKSsqju11qCqTonm1W7LDjyoayubKlPFTZV45T9FG6/9xkaI9SWHjVyRzi+KNX5Ixq0bsGvsUu1iyYhfLQjcGUeh1lWRbbKarpKx4Xpq/N99SWuVXSdHcIrEhqSqV4viTXQ/oM1pVyrxZ86SUZ2j7SudNl5nzE/8IR/V85eSos6VjNJ/vVVKxcF7CPR11Q5ZOda4smMNGfL5XyPyihlgO5uHhsewjbOBT5mlpiijW4to4hwMeHh4ejY5aJg9aSoeuHSRz7iRbGjR+Rgn2bxxkSUHHjpJdNCV23WQVvK3bSrv9T5Gqvc8Q2WRfabHcKiK5eVaqeq4sLbfdX3L3O0OqdjlBqlqEY/MtpWP3ztJifqyucRNnS1W77tI5P+Yd5LTuKG0z+Q2MsTJ2/HQpzUr390FyJK91rpTMGC9jZywQadFeunTKknmTYsuTJs6qkIIuHeK81Sh5e5IiI086dmkrVXNiS6vGz6qS3OptBHHGrEWO2tWV5qhITp60zi2RGePHCs3NKugoHbOLZArLrsZPVtXWQntUJYsF6lu2l06tymTmBPo1XmaW5khuWhmNDMnr2EXaVs2JLe0aP0uqFjW2gaDP6NRd+zEv1g9t37QFuVIQ7AWqich86cx06Nwy9l3vm1xYJTnZsSsbClkFnaVLXolMn6BtGzdZiir9EiyPpoRCLWEDtymXP7VEhdOygtFaov1tjvhXS3Nuv4eHR3NBRpUi+Cx8JLJcWloqCxYskHnz5sm+++4bnI2H4PWm7fqq8R0cioOqTr0kY9cTpap1h+BIcmTMU0P33QclY8aE4IiHRxOAvSI6R3r0bBd/iZuHR6NgWTYG+2npGPvYLPBfM8wHBn89PDw8ao+Er9oNzqeJEpk9YbLM5kc+FBXz58jcslzJS/J7bVUt8mrleACutXv0Xo+GxVprrSU33nijPP300/ar7R6JUVk8VSZMK65edjZnznzJbMl72Tw84uOGG26o5qtNN91Utt12W/scxbHHHix33bW5rLZab/3GkhwXcY5XaoIqteplBGO0JO/v0kVTbtuSwH+130sOxx57rMqCu1QWrBYc8fBY9lHrzEf4B+syMltIQaeuwQ/WxQfLqKT/gOBbLTH8O8n45JngS+2w/vrry8CBA2WVVVaR+fPny8UXXxyciRnghx56qPTo0cP6O2XKFHn22Wdl6NChwRXNCwitk046SX777Td59NFHg6PxcdZZZ0n//v3l8ccfl59//jk4WnsgMAcMGCAPPPCADBs2LDja9IAxOGfOHPtbe9T8AcTsvA7SJfihzET979atm5x55pkyYsQIeeGFF+Too482OmypTgs89d1338ljjz1m1yajw1VXXVUOPvhg23BPpGD27NnyyiuvyJdffml1Jas3Ge0z95zn2e3bt7fnffPNN8FZkWOOOUY22WSTuPXS1s0331wKCgpk4cKFMmTIEKMjPoeRqn3J2pBuv3Nzc21e33jjDfnkk0/s3nD7SkpK5M8//5T77rvP2pcuz59yyinSvXt3ufbaaxfrV2JM0zJdy0KlM9F2QXciV1wh0rq1yB13iEyIJHGVfJR+ROlHlH6CgwkQrrNXL1H6UndF/ZWrrgou+E+grZYVYh8jSEazYTD3xx13nNEfb7GDBl5//XX59ttvgytmahljzt0BB4iMHh0bc6Cko7QlSluitCVKW6K0pTOuJKIkqzQrSrP23hGlWVGaFaXZ2L1NDToMcvzx8GHq9u69t8gOOyzqt7K88nys3yuv3F35JVs6dmQ5KlIxS+VNljz5ZJbyc5bOR4bsv3+FbLxxufJrmQwaVC6vvsrGvFIdzzIdzzKtt0yKikQ+/jjWBpHV+adOYP6Rvczvk08+WUOuLU2ge3rBuHHwxx9/yPTp0xtElxL0WHHFFeWdd94xunbgeLt27Ros2BiV0Yvz0eJIJtdBMtkdBny+txIlejYqx1PphzCQGVtvvbVF4B2YC+Yq3FYwatQoe8Y///xj32sD2oSuW3fddWWllVayJf033XRTcLZmv4uUET5WRmBcliU0UOZDhVVuG+nSK/aGpT69uyd1PNhcXmfHA6y6cayOWoKII0TYu3dvc6TobBh77LGHEcXtt98ud955p33m2H8BMGVxcXG9HI//DrIlv2MP+zFJfsixp/uF/iRA0EBPv/76qxowB8jaa69tyuD000+3YxtuuKHssssudm0iOuQvwg9mveWWW+S6664zwbTnnnuaYk1Wbyrax/jaeOON454jSk89OBXUC43wnePUjZD84Ycf7Nxnn31mbdh+++2DuxchVb8TtSFVvxmbddZZRz766CM1vK+SadOm2Tmc791331222GKL6vahcDi+3377Wd2Lj/V2ekytqFBUe4UVhsjyyx8rw4fvokoPw2XRueRlvJbFHRWcg3PPXdzxqA+oizr/W44HmKtl8bHfdtshSlunKs2uo/O+ndLsPvr9Dj3OC8UxdMkq4RyOlb32el8N7z3l+efX1PFbTcrKtlH6uVsNGVffGDPMcT6UBKuhpKW0JUpbos8QpS0CPqK0Bc3GHA+uV5JVmhUzppUszbhvithrL1EHW+S552J0RHt33ZXASXBBAPXXZZttdOTGipxxhijfifIfvBQ7n5MzWaqqxqtTMUYOO+xvLSPkhBP+VKMfh/4XOeKIn2WzzX6TH3/8Uy67bKQaIaP0+Hgd36k6nrPkt9/mydlnL1R+W6jHFspWW6Xr7McHMgDjOxRPbRLA6D/ssMOsTFAGxsh13+sWFEsM9PuWW27ZqFmUgw46qIaMxgnYeeedTb7GQyq5nkp2O6ywwgp2jKA48v/++++3ul2APJl+iCI7O1umTp2qsvTcxeaC+tq2bWt6giBGp06dFmtLuthVGYu+4/wxTmF9h16l3wSNzz77bOWD4XZsq622Cq5YtpF1pSL4bIBxKyoqpLy83IyDl156KThTe1StumGdnIcamDdTMib+HXxJD+PHj5d3331XPv300+roKx4lgBBhTjxrjKPJkydLnz59pF+/fjJ69GiZOZPo1+KAMGGwffbZx5hvu+22s+N//x1rGx7sqaeeaud22GEHFcw5Fv0mQn7CCSeYkYbHjse/3nrrqTA/w66FODt37myEx5gnqofnQ5TUccghh8iOO+5o51ZffXUzNvGcl1tuOdlggw2q+xoFdcDAbdq0MYaHAQEMf9RRR1ndRGDoEwxOlIFzRxxxhCqsvarPXXLJJfYZYbLRRhtZPUceeaT16+uvv7Y66TftwtNHKETHYI011rAxoC+MAQz+yy+/2L2JEG9s8KRpz5prrmmRLsbl/PPPt/ppd8eOHaVLly7VDE1/MKJ5LrTAfLv+I3ToD0ILwUSklEwR/XDnZs2aZe2O9p/5A9AH0Rr4BkHCnBLRIiJLW2kX9Innn4gOuZ8oCUoKQTpjxgw7Tnsw5IniJ6r3gw8+SEj7AMH+/vvv23hDL7///rvdB7ZRSwNafO2112zeaAfCnGeUlZVZtHjQoEEyadIkkxGcQ4lE5y1ZvxmnRG1YfvnlzXlL1G9om3GjXuYIMBZEuBDu0PVbb71lCp72MUfUQSRt8bGerHXHotuO5bfeWuyY+lVy8smxSPcXX8TOKXlYtmLiRNF2xoxQJS8z5PQxyhexbARigWAdbECgcbfdYlFdouOqX6weDL1WrVCAIj/9JDJ9eiyyrqSttC3qpImOjUh+vqjRJkrDojQsSsMxQ/Ccc0R5LfYMjGXaqv6cGcP0QcW29Yv2UpSNlT9jBjFtZ7p0epYJYBwrySrNMjbzdOznKF3OUrqbof2cqlcwuWzMn690GXvLxoMPivJxbK4JSJPFYA4AjgRGeHGx3qH+C2OsLK60JUpbMedPScvmXElLCrVqJVml2ZhxzjHqZV6UZKvrbUrAVlPxJk88ERuH9u1FVlkFvRkrDqoqrJ/QKLEqbPq1145lSqAhtfPNGVH1ZCUMHBcyJgTDn346xhsO0Cj0zJxBp4z1uuvGMiu//KIDVwcgB9AzRMJbKXOF5VpTAnYDctXpSUBUHBmH44QexWBGFiJX+XzaaaeZjKM/6KzLVChwfVTubrbZZtZ35C2y1WV+OB7WA2E9ik2DfsT2QY+iG78IhB46ET0+UYUe+hDgLKCbkMdch3wlEE35999/LYsTRSq5zvlEsnvu3Lly6aWXWlANvYMe+f777y27ybUEubB96Bt2RCL9QLtxNNATZEmwRdDbb775pl3nsPLKK5ut4HQFepBAHvcnsw8TAX2HPmas0EHhuSfzwtijb6mboDC0gL5ibpkbZyNB244m0K3NCQceeKA5xdhr2BDMUZ0yH7VBRq+Vg091R0PUEQbEB9FhRDpA7AxGqh+UYwCff/55wV+DoCFgjHkMeQjLebAY6BhyED7IVysCImaJCh419+FQnKNWBEYiRhXHUtWDYQiT4dXzfO6DsG+++WbrD9HoZKlVziEAYFoMau7FK3de/lNPPSVdu3Y1R4O0JoIPo5Pn0W+EBdFr6uFZPJNnk1ZLhfAYIAjpK0KNMSDiQV8wWhMh0diAr776yoxYhA/XILSeUM2Kw+MiTTgYPB+QAoThEXbhKAdRcdrpIvREQxhz2ky0BjrBeWL+4/WfeUKY0EZw2223yRWsvQmAgKYO+p2MDhGyF1xwgc0HYLwYe+acFHCyeusDHDWWabn0MpEaghG0ibQ6e4V4focOHSxzwXHmIYq6tu+vv/5K2u9opoZ5RhDTbu7hXuoAKAzGFyUUf6xbavtFeT44oMBBwF7B2KJbGLUYWwCjHf2LTsOIV7awqLGyhbYx5jAkA/dgwD7yiMitt9Y0/iF7IuuQDU4NNsWGG8aWxCgJm8GLccu56KoMnBUi7C+/HGsPup9nuWAfy744dt55sX6pbjVjeVkBjhlOglsRoSRrRjJzG4WSi83BjjvGDGvmVElLaSt2HnGy5prIk9j8OkCOSlpKW7HvSlpKTzFa4BjnApJVmo3RQ7jehsHANEpqMP9kacI2lEsURMcMJwNHFidDWd7GRu1a6zdQtlKDIuZgP/NMbAkhTjRQ+9SuVbFuzgdLtXC+GZ/oc6BtHBAVnXUCcgJDjUAIerU5Ap2E4X6eMupPyqgYwRjstQWGK/fjIKCronB6FOcMPYqD4nQvshx9h0EPMHZxOsJLU5HD6AG3rIsAF89CzyZaMpZKrieT3ZzHcKfgdBAMRG8D6kAXOUcjmX7Ayfn8888tqw9w0tDVLM+jXH311bbcyhnHYeBwYDjj0DUkos/BTsEBoV04OwRYCZThgBCsYxk1TsiygkZ1Pqo69gw+1R0NUUcYbsLrkpqFwWACjDOMTyIMCAmItrCw0BgSRoBJIGIiGYBzePwcx6jHECP6y7U4HxjPMGKqevCO8dR5PoICBoJI6wq8bBgK458lNrRp3LhxFoGnPaw9fEStJZ4H43KsrgwYHgOMUcYfhqKfCECybERDEiHZ2Lz99ttmsOMsYWgS/ScClggIXhwvhCXRjQcffND6T6Ee6mBee/bsadcy50Qw3nvvPROQnI8HxhNnbfDgwcGRRcBRIgJFfbS9NnRIBod9CMwBkZMwovXWBwhv2hN9Rhg4nmyOJEKGUnJrdhOhPu2L9htFxB4R5hnFg3DGcYwCJxBjBGcTmktnrMkOQNpOz7q/GPE4AkSHR46MGZUsycWJwODVptmxZGyBwccyF+wiJSWlJZF/eatpAL6zReHFF2ORaB0qlRGpjTHqVVYy423QoFh7lIXNMHZO09y5sYi8soxF4tOptzkBe4NpTUKy1cBmweg+/HAR8v1kn1QM2L1kO4jIj1fnM7Cr4oI4kJKW0lZsXKMgG8ZcQxfptCkxBkZKOkh9Pc427AAdpAK2JOyNo6Ysb/2GNlXcGnDmoGP44fzzY2OirG68BFsyvmQ21HZSWR/LrmA7jRkTc0zILEKLxxwTc/TrCnidPRXwOrq1OYIIP+1Ht2Eo0w+M0LqArACyDycjuuTI6VECZjyLfYn8ZQWFczK4h2WyyNqRCL04IBPx0EMPmTOAYY5uTBfJ9FlUdgOcDeykMHBgDldGxgZzGZ1k+gG9TgDVrVAYo0RIkPCiiy5SufuiBV0JOmITuPFAn+Nc4ZzhDDU0aAPtR5cy1+xDwfkDBAGxibA13FKyhx9+2BzLZQWN6nwk/KG+2qAh6gjBGSBRr7O2gDgATIDRhlPBesZnnnlGTj75ZItkOMLnmUSRAcwR/o6RzD04IKnqaWgwBjAVTMfzKKQ1WU6Eg4CjgXDhzVg4IRjjdUW4zzyXPpEG5ZlsiCaCQYQiEZKNjUtlUi8CKJVBHFZQZDpILxP9oF6EDmCemNvwtcwR18RzbLiWSBFCM3qedZ0sx0LYPBVEf9KlQ9LeCEAcw6gAjldvfcD80B76kggs3WPPxocffmiROfZ34JAwLhS3bhbUp33x+o0SIrK50047yfXXX28Kg0gRTrEDygulxHHoFtpIZ6yJ1KIHMa4AhjqZDnx7IuREwjHyuQZHQ9nCIro4IanYwhl8C/h5mjjA4VA9JzfeGIsgk+0gOp0K8eplKMiqpHP/sgBECmOQhGSrwZI3Mh/33BMzlmFTNpZjXBO9Z1M1RnIi4HjguBClZ+4jdpMtcVOSNQcwwqppAIchXOqL+HUhzmAHaCcVyMaxjJBMHFk3VmAjHnGwAHtgYHfGTG076zN1M57AOb7QN6tbyKQQX2J8uJexIgtIndBwXZaoYShjvBHcSCX3/ytAZ7E8Ft2+G4QdAnqUbIDTUchHZCV6EKeHTAcBTXQZgTSi8fFAwJCVBe7FHKwSQD+nQjJ9Fk92xwP6iWVjBEnRCc5pSkc/OPBinrvvvtucEsaK+3Bg6Tv18GxsH+wMnADsPZaLNyQYAwK/jMetygjYHixTJgPm7ELaz+oUzrNMK9GYNEc0qvORMaN+y0BAQ9QRBik0mApj1wFjGwOlNlETmBVADBhtLCnBKHObl2CieG9cgYAxghACAEbCiIPoa1NPQ4A+I4h4I4R7HoU0H0vMcEowpkmJcpzMT0OA5zIOGKrh54bfAhFFsrFhDGFM5pVxTLZ8KwyEJVESUtWuLU7Y0j7mNrwUj7qZq3jGOZEgnCEEeBhET1jaxXpdMgZOeKRDh6yVJOpC1CO6tC1RvfUBaWromqWEgKgM/adNpPChA8aAZ5G1Yoz4Hp5Ht+yvPu1L1G/qYEkXSwZZG836V+jC0SXtZh0z43rvvfeaYgHxxzpmKDHU6EyismQmwn4jQT8cDYwjHkEkGAOUJVZEeVluo122c8ngDL5EDgHRYDIVH3wQ27tx//2JHZUw4tVLUo4gnXb3PwGi74hiZ/ASUYdlGZcwyBLhJBL4JAEHacDq3EukniVFBB1xSnAA2QuyxhqxiD/BY+pniRvjqqRl94ehJGtLjDC201iFqoAW4zsIDY9Fz/nrLwyy2HI1BxX1huiY0WdojGVoOBBk18gc4YwDMhZkNeIB+oUOEySJLdMHrePMUS/qMBKzSQvsuSNaTKADYw05xf4BjEYM3f8qWF7E26eQiS6aDpCXOCXOUUCXsYIC+QjIdBB0xBCOt5QKeY8ecEu6yCSg8xhzHJZkSKbPEsnuKGgv8p9nUUfYgUmlHxxYVsb+lkR2As4MfcS+wN7APmAPbH3eRJYI2C88g2fhBGEX4nigq9DFZDs4zyoU+oxjtaygUZ2PqgnBItl6oCHqCINlM3iWLq1GYekOa+vcmsNEIPJPKhNGcV4o97AEivQYBATRQCDsk8CjjYIlTBh01MO1GL8Ql9vMnW498YAQqQ3IEmBAIsAppCpZB0pEA0OYdtJHHBSEDdmAMBBi7plEFxgfohe0l/WJieDGgPQqz+TZ7KMgTZoIycaG6DsCliVZGNAIFep1wJGK5zDA3BjYRBtIe3Ofy+4wrzg70AntY86ZJ/bDuGVX4f7TbwRU+HWDHCPFjCBlT0nYAE9Fh7xdgyVLCOroq/eS1Vsf4Gi6NDBjzL4OhCF0Qmod4YeSZyz5yzjEc0jr075k/XagbWzC4zraRvSI+SZtDe65554ayiv+WIuONefUJFP2wggNMvLVwDjFKOraNeaIAAx9jFu6RIYBHRxhi8XAM3gWLKFsL6uuusiAA5Amhh8Gm3bN9mRgRIeBgRglYerFCcJIxiGC5KkfgzHiAy+zoP+MFUt4GDslWZszJQsbDyUTcywYKwKgOCF85xzjxriz4RwjGkfSFcia+Sfiz30BaVnWJGoXsdFfSdEcjwQkq0CuLHICRJbTsjTQS/v2qPTte7XsuGMXczAYB/rImEGbjBnHcQYYW5YdQnvQGHas2zrFfhAcM1664MYesPwP+oM/oEfGWtWc8ckYftYlAHUSmOd+nEgyIrUFxhs6wQU/0AEsK+JNSKleO98cwBIgdCUy1clkglzpgH2NBH/IADjgLOAoEBhiqQ+Zac6TOQIE35D5HIu35IoMAO1AJ/KSF/Qiup7j6C50B/MQzYIkk+vJZDdgnwP3AvQKz6WOaObEIZF+IIPglp1xDQFD2o8thm5Dl3G9A9eyJ5U9KD/++GNwtOGBPiVDhW2B/UJGhCwM40ibaWttAuPNBY36tqsM1kytulHwrW7I+PE9e+NVXRF90wPAUCZdy5snYCIio/STiU8E93YrDBdnJBP9hShJ2bH8h7pwJtiAhbHM0hSEBozIWj0MIGfgIUS4ltQha+FZj5isHt7AgBHn3pRAO1y9eOQYVnj0RBYg3kQIjwcb9BAYCA/6R7/IypC+pk0IICL9ZEAQVI4m2AOBAGSJltt4jPCiDdTDGkUMcfpJ+2De6BgQkeDtWGyAoy+0gzZxXzwkGhvqw4nhTRu8ixv6pV4ELNEflo8xBxjLCHLuI7VMVATHCwcEB4bN6gggxgSngugHfUIA8TIABBQClnniWeH+s1yMe6mTt2Q4IFAYE8YRAYqgpzBH9DUZHSJkiUAxN+4+Cg4gDlKyeh3i0b4DzyWKRR9RUIA9Rcwz9VAv/SK9ThqaPiMEeQMaiot76e9zzz1ndBFGqn47xGtDsn7zPJ5Nyh3hzHeWA/J8aJd5pI3Ml7sPvoHeoJWaY/2QjnW5GT3aRDOk2DwehpKW3hMzkt55J7ZshD3z2i1zEDDGdLjMyOJ+9nMgJnBMYFPWv3MvXSZijMODDsVIU/1nTgxvESKgxrIvrud+6sPJwQDGJmBfh5KwLYNhDT1vGHLPwPhmAzRGHhups7NXkjff7Kv820P5ak3luz7Kdz21L11U1nTUelprHflqhBB3Yh0zXg4Fb4joJ441UXmipRgQOPH8RgF/4xWuw/tqowXviLoIodekicYC48EcKGnZPBLR5yU/SrLmZGD0OmcMoxnng+AhIpzN0uz5iLdaJzyPXIuDqqSltMUb7WLFvX2MvRBkyHAu3bl99iFYc7jSKK8IZpwKrN6mAIIqK664i9LTmbL11htKWdl4eeONyeZ8OxqEPtnbwXjifOBg0T9lI3nhhdjbq7BN2d/COKgYtyVtjBeZDHgHnoBPOAcNQ+vsa4K+1e4TkqTMB/tGePMW/BUbq7ojnkxpSkD+hPU4COty9Bk2AToLeYyNgQ5DD6OjCHahbzHQkX9hIO/RS64e5CLLdhgT9DayF4cC3Uh96F7kKMY5xjzXcx/XozfYD4mODAP9yIs70H3IXLfiAEcHnYnsRQ6jB6nLIZlcJ3CYSHbTbo7hPKC/sUUIemFjuOvoBzobxyqRfsApImBJW7Ff6AcBX3QVdhPZBhe8BGTwcQYIupGRYI9ofRFv7nGAeBZ7TNGxvCiHMcdGwX7ClqEdzAn0wDwlspGaKhK97SpDjbXqZCsfMQqZcKLBdJLJrA+qdj1RZLnY25pqi4wRP6jmrv9a9nQBEcBUUbC5nKg0xmJ4TXtTBMRMytEtC3NAYPAKusZIHTYUoDWEAUQaBhEJt5ynKYLMC4Y140tWx6M5ACeRHx+M7QVQFq/eSNv0wYsZEu+PatqIvW1m2QG/UL8M7eBf6vOjXp5HswV6GgeJ1wF7eACWx+EUs5oGh4rM2pJxPlrkiRx0kUibWirLwpkiL1wvGaVpLH5eAsDpaA7Oh4eHRzqIOR9NF2QiEiyYX6ZQoiX+ptamCQJpqX5qdFnA0nRCvAPSHMGqAvbZsGqCLIKHB1hqzgeo6tRLZJcT0ndAcDwGPSQZM1Ls5FyC8M6Hh8eyhCXhfLAfiMJyJDKR7Axv1G12yxCaSobEG8IxjNWSeFlyw8KPuYfHsoKl6nwAy4Bsf0TKJVgstar68uUmk/Hw8PBYFsFmyugrodybzZyD4P5yvLsWnAiPpQ9+sZz1/A3hPPIaczbkpreJ18PDw8MjfSx156MaPVeSqp4r2C+XV3WKvVmI1+nyVquMif+ITFz8DQseHh4eHh4eHh4eHs0HTcf58PDw8PDw8PDw8PBYppHI+fALkD08PDw8PDw8PDw8lggyPvvss8UyH7zzmHck89sFd9xxR3C2+YO+8d5r3jmMB5YK/K4DiL62dkmDTBTvql7a7fDwaC7wPOPh4eHh4bF0wY9Bo4exu/k9luplV19++eVizgc/+Oacj9tvvz042/xB3/hxGX5AJx3nA0cF1PaXwxsatIPfvkinzfUFP3QH+IG5hkJJSYm1H6JjKR9L+vjBIb57eNQGOBX8eBU/TJWMH5Ykz3h4eHh4eHgsjmuuuSa+8/Hjjz8u5nzw65n8SiY/rHfzzTcHZ8UMd6KJDlRApe5H4fj1SLIFbhsJip9j7hp+OZ063HnuLygosF89jMLVxX0YHMBdj/Hq2kFnOAZcZiP8U/TuHhB+trsvWZvCx12d4ee5NtI/BpTrGWCMbXcf31nr5sA1ru2u3+E2RuH6hMPkxrkx4X7hE+egIVBYWGhjxC9ne2fDo75AFvDrr/x6eiLHYknzjIeHh4eHh8fi4OcpnPOBPq52PoYPHx6zkhUYzCjuiRMn2k/u86MxeC0Agx9jm40j3Mi1RLEBx9x3DAKMberhO8edMc/3jVr2kA3zuss6WZ1kheD1hv/IPPmlYob8WjlLfqmKRd4x0DHUaSj1A+6nXjrCc9w17jufgTPkXRt4Nsfcd7fxJXoeUAfHeSYGDM9w9bvrXR85xzVkRmgn5wD38h1DCcObunFaGEOOufN8x1EJOzRR8Ayu4zzj3thoaOdj7ty5NgbdunVbIu33WLYB/7AsFHqCD+NhSfOMh4eHh4eHx+K48847zUZ2wcBq52Py5MmLOR/jxo2Tb775RlZbbTW56KKLgrOLA6MSRY8xjbJ3n53Cx7B2xnfbrFw5V1aTbXJ727lE+LpqqtxY8bvMKp1f7VjgMYHw83gGbSWyjiPgroki7BBEr6d9tLtNmzY2IFFwL2MS7lO4Ppwx53zgwFA3BhFtBuHnMejRtjqHjbqpLx7oM3B1gmnTplUvj6LePn362HMxzMha9ejRo4ZhxvWA7APXML+03YElVpwD4WtxHOhf9+7dq/sfPZasPq6lPcC1k/EO388YsMyPawHj07t3bxtPsk3jx4+3+ugv9wL617Yt7+dPD4zh2LH8SNYiROsItxWEz7t2uOeH2xgeL4foGHIftMBnV294DkF4HkGiZ0KztDN8baJ5B/HaF76e54bHP9qOeIiOZ3isqIf5hZ9mz55txzgXpqFkc+7AuXjz4drOZ5wQEG1zPJ7x8PDw8PDwWLJ49NFHq50PdHS186EG/mLOB4bF559/LmuuuaacffbZwdkYMH5chgFgMGAIOKMcQ94Bg5Rr1y7oLte1WF+6ZSxafpQMU6oWyMWlg+XXosnmuGBcAIwa6uR5NB4DDYM+7KAArlu4cNEPUHE/7YpeH60vCq4F4T6Fj7n+0UYGNNqW8PM47651/QHxnhEG56mPwtxgeHE/y04AfSBT1bdvXzsePY+zhnPAd+pwn90+Fu4fM2aM9OvXz46xpAVwDcYj5zH8nHMWPkZ7UtUXrSPe/Vzn2svzOY8xCTgP+E6GiHOuv26ckwF65fqePXtWX08b2Dfg6oh+5x54wN0Tr43MPX3gPuDOgegYMiduPEB0TNy8gmTjwjP5jlPSvn17KyBaXxjxxit8fbT9yeoCnKe4+XD05drDOfpC5ow6ozTrrk8059RJHYnmg/N8hqdcG6NtCvOMh4eHh4eHx9LBs88+a3YvQcaw85GJNxItKG0uchdSiMDOmjXLoooY62z4xAAwDyZU3PXuAW0yW9TK8QBcyz3cG6/O8LHwdxwg2oiR1qFDh+pNqYmuj/c9XOKdCx9zn6Pf410fLvHOh4+5gjNIcfOA4YYxR7/cNWRM2rVrZ5FiDC+yBMwR13GesaB+N/Gnn366fPbZZzJkyBAZPHiwPPTQQ9XOESXcnnhtCx+jvhVWWMHa4M7znET1Rb+7toX7w2eOcc5dz1y6MaB+DFnXv0TllVdekQceeMCup438decwfKmDugHjRWbAXcPfVVZZpTq7FW0jUXxn6HKO4s5Rwsf4y3iEn88cufv5zl+Y092T7JnwJte66D7gM8dcfeFCXynwL9/D1/MdmnLPpUTbFi7uXtri5oO/fJ8zZ47Nieuvazv1MLbcR9Yi1Zy7ZySaD64DtNO1kf5xnOdHeaY5Fcbx+OOPlwEDBsQ974svvix75YorrpD3339fNtxww7jnffGlORdslnh+RiaZi2hxN/EZoMwxDDACUPoodkBkH6VPwRBwit+Bz1e0qp3j4cA9Z+etXW1sOLjnuc/uL4YH7cFAwVjdYYcd5Oqrr5YvvvhC3nnnnerrwBZbbGHG6bBhw2TkyJH2IyibbrqpnQsj/CyH8LHw3+gxED7G+IDo+FDC94SBYejmBNA/HKzhw4fL77//Xl3WWGMNe0HAZZddZpMKiBYDrsc4c88/8MADrZ5DDz3Uyr333mvGXjzEa1e8Y4w90XjaQttcfS+99JI888wz9tkhfD/GqDMSHWgn7eWcuzYcwU40VqlAn//9919r499//11tdDP+PCtelJzxxFHbZpttarQxCvZGHXXUUfL444/LJ598Iueee25wJtbeu+66S77//nuboy+//FIuvvhiO0e0383hKaecYtestdZasssuu5hzyBvn2Hv18ssv16DP2267TUaPHi0///yzfP3113LjjTfamAEylZ9++qk9i6WTvCqb/RE8a+edd5bXX3/dlisxBtD9XnvtZVkGxmPXXXeVxx57zPpw0kknWX2AunfbbTe55ZZb5I8//rD+uHZTeDEF7aS91MtneAwMHDjQ6IC9RFz73nvvySGHHBJ3zun3G2+8Ud2+cL85z/4z+kUGkfFx48gYX3DBBfLtt99aG+Brt84U7LTTTpbJ5V5XBg0aJOuvv76dd6B+xsz13T2TMeYexjWaCQa08c0335Sjjz7a7v34449tLGuLbbfdVg4//HDZbrvtgiMe6QA6cHMU5q8ooMWnnnrK6JMCv5Ldd7jnnntq0AgFGRAGcw0NQ9MO4XoJ6Lz22mtGy00V/fv3Nz537YUX9txzz+BsTYTlCX+RUw7Uw5KKeP2O8k54Xu67774aY+xKeExrA57Js2nDd999ZzLPZVWbAuhXvP5SGIuGAnUhv0444YTgSAwcr+vYxkNd6D16T5TmwnQGzUA7Tn6HAf9hu1EHdUV1I/ecd955JoPDsjwKaJE6Es0FcoHvtCWerqgNkskVZD52Kjbq888/b8eWNTgbNloSW1RxgAHngDHjIpUAxwQj1BmefF61pJVs3aKXfa8L9mi5nKwtHYJv6cEZURdeeKEJR5Zf0VGAkYLRc+yxx1p7zznnHBOmfMZ4BBjtZE9of0OC52LgMm6ubsYqPKZR0JewUYyRTFSZvTgwhyvLLbdctTFHX2FAnA7qpv9ueQ7fOY9hhzL4559/7DN11gXOoP/zzz8tk0BbaFtd6wOMTZiu6gvm86+//jKDFKeUNuIsOGesIUDkCoOa+XG05nDYYYeZkMWJgS5xhrfffnvZZJNNZMKECdaWjTbayIT3b7/9ZveceeaZwn4QjNnLL7/cxtMplP3339+uxQDabLPN5KOPPpJ99tnHHEloePfdd682fhHMCE2EMU7NiSeeaE4A7XH1kgljTMgSnXbaabZ8CYTpEoP4rLPOsqVU0CRZE0d7FN7jTTYUpwt+4jxtB9TP9wMOOMDax/0oBI45MOe0j37zfAIHOBPhfp966qnWX4ym1Vdf3eh3xx13tPHdfPPN7Xk4vltvvbU899xzpuyOOeYYuxcegg54c996661nhTFE+Tjst99+Vn/YuaWdHHvyySdtPFF2/MWZCQNHi36hPOsD2r3VVlstU683b2zAD9BLmL/4zvEomE+CZ+eff75cd9115pSffPLJwdmYEwwPOhqhYAQ5IFehN+oIw9E49Msz4B34MZ7x1BSA/mMZKHQGj7BM8YgjjrBljmEwhnvssYcZcQQpcPj33Xdf2Xvvve089aB7XD3IP45Rj+NXxzsYcY5fkRHhMYZ3WRqKLqoteBbP5Nm04ZFHHjFZEp7XpQ1kn+vrqFGj5Mcff6z+HnbmGgLIOuR7fYzlVKgtvXP8jDPOqHEP9gnzjiyHJghuOb2FM4NMZ9yiQIdgr6Fr4GN0hLPdAMeQ7dSF3kKvxQNBT/Qv9BydC+xGnBOW+eI4wAdhXVFbJJIr9BU7lZUZ6Keo7bCsIy3nA4XMngQULEYRBQORiYfwOI7xS9YBY5fzGBEbtOwW1FB3rJOV3u9NhJ+Ph73uuuua4GQ9OdFtDBz6AVFDVAhUFBVExWcUEUSHc8AyJmfMOxA5ICrL9WRLiA47AwvgyBB1JbqLEeKMJl4zhuB9++23zePFyEHQwxwYxBhM1157bTXjhiMARMIR4oDn4x1zDxFv9wwYmUg0y1QQOlzHONAPnCgIGscAYURql+UrRPKpA4GB0oYBECj0iT4SVXdRhZVXXtme7yIX9J01/E888YT06hVzLHE4GD8ALdBH2s94YmT/+uuvJmCIIFx//fV2HSArwhwwP7SbtYEffPBB9Y9cYiwDmBMhQFSLdtM2F1lPBRw8IsnUR9uZv7feesuMVIDQQ6kyrtSLcUu7aQ/jSb+ISCRTZowjBg/10v+w44pwZckT8w8t8pe52XjjjW1sURbMBwYN8+32MTBXCCzGgz0OCFzA/EHjPAtFxphRP04MNMCc45jwLOgaIQ898Js9gDlAyUfr/d///mdGNTQAT4cdQAQ4EZojjzzSlvcxXw7QFfzEuDKX0DV/6QdGCn199913jV6ZO/pEX1ddddWghlgGkCVH9BteGTp0qGVowu1jHtgrcv/99xv9ffXVV9ZGFBrLlKBxnoNCefjhhy2b42jX1e02uEfBfOPAkb0LZwGZG+iY+hhP2kZbMdwc4Nu1115bRowYYQ7TcccdZ/IDh4zoFoUxZd4ZFxRONMrnIsKcY/zgaQr3EVmG7sO06bEIjh+QjcwRf+EHsnFhrLPOOkaTjk7JVDGmGK+cAwQnuDcRoH+M7bCRDH9D4/Ar84QsgX4J+CAXmyIYG2ThCy+8YPoKRx79HuZJwHWMB2MKXxFxxsh319FHghmuHoJQ8CtyyPGr4x1kkePXKJDPGGjQfm1BW2g7faAN8At9gy6aE9DTGObQJHREdhvZghxgXJANAHmLDI9m5BzcvlJoNRHC8odxu/TSS23pK7qE8XPgZUPoknBmoS70jm6iL+g3dw8ZdBwAbEgK8hOehFaQ7chh7Aueh02CExvVNRQ+w9fwMO3EsEc3YnehHx2wP7geOw1Aoxj86JgoGGtoigwatE1/64NEcgV9RSCSwCX9jgK7Aj1NH8M0sawgrvPBBOMROoMSoLwZRAwHCgoWQcNnFD/grztPWS9n0Rt26op1Mhc5Hww8z3XRSdcmlx2IPh8CgqkpXAvoG9ezRt1lQhB8XMM91Oeu5X6KA/3F0MfpwLhhCdOWW25p67SJDLHsg78IQcYPR4dnIQxQWETbeD6eOsYwxhnRTow+FxnG4HWRJhgUr9sxP28EcpEkhD4GIU4Axj4GO8xLPbQTxuYYz6Y/EDBRVZgcIUB0AEMVQ5MCuA/DmbbTLow32sbYELlgfGAIjCXagmDE2KYA6kFJ4aQgBGB+mAahRPYhCjfObtMzY0N/MOTpH4xJ+xGW1MFSGoxklpZFU8vJQDSEtvOXftBPnC1Af2g3z7z11lvNsCSShnOAA8LbopgDhJkDwoiMD/cxvxi1CDKAcYox5IDhS2SRuQSML9eEI+w4yhjUOHsIdRwiBA33YWyyhAAhyTMRmigYxhPHAiFNXczRTTfdZHMHbQEcDngCoxrBy3fqZfxcvdAldOJAn2if4+kwHC9hgLj+Mq4cI4vmnC76Tx3QAjRy5ZVXGu9CS9AFNIjgdWD+iXbRb5bCMOcoQ9pHHdTrorAO0CZtxVGGZ2kP/SADQ/u4J8zHKDgUNnyAQGfeHVDUtI/jYcCvZI0A4wW/Md4oTwf4iLpRmETOiLwiW8iGuah5mP/pk4smw8cof+icjFUU0CnjCK3Dj8wfdOqxCIwn/BDlL2gyDGR8mOcA9AL/Yrxg5MAXRM2dsifg4Zw9ZDD0i4wPO7EY3Mw7e+cAQQ2cUWQf9TQ1YKRB62GeZ8ycDAmD7+ExwzBG5rigE3XA/wcddJBlQBlD5DaBHGR22ADGAHX8GgbOHxkS+INAWG1BGx2fO5BFgecbM/rf0MCuQQcgvxkH5omgVG2BfOJ+AjLxdKSzMbABsDFwZHD+eC6BIebWBfaYT+QvssqhLvSOPqJ+9BOA/tCzjlaoizqpG34mQ8a84tRwDGeCAq2hl9wbHAE0BY3C3/QZHkZOOx52Bjt8i45h+S2APrA3oGkKNgsBVkC/qRN9gYPmAr11QSq5kgjch33Jy3vQiwRAw9n8ZQE1ubYewCALL1dCAfSviv/bFbVBQ9QRhhOorp21AcYfBj7OBZFZjAMMRwwq+o7hAbN++OGH9hwEMiALBPFQMEaJABFFoj6iDTAWjJiqHhgVgxjjB2MSosawIbIdFsB85riLLDjAhNSHgKIPCGmupR6MN45j5BChhlmZU7IOGP4IBZgXRsVBQFkQdcIYJtJEfbSP7whSlBRw7cJ4hibCYB5oI+PB80lHY6AxFtRHv4hY8ByEJVEI2kXfEZLpKBciMkTuUYQwPcYtbcGxpr9EJDBeMSwefPBBy0qxjIDxc04t1zIvtImC0kV4MpbUj8HLGGDk08fwmHMNtIaBBOgzx+gzdXEt84uARqhynPPUjxFN9ocxZP2peyb1cY57XRujwFgi7cw84dQwx1wPDSB4SVtzjKgm8+z6xitweR7PiQeOM2duzlGY9Il63VzTJsYBQwPlcfDBB5uzxLInlAR05PpP4fmub4C5xRGkPvaZUAfzwVgDnH+nQHEYuI/nJeJp5pvnsLYWZwjnwBlM1MNGT5whjscDPEfZYIMN7LqwkmWcmTecxkSA/1988UVrK8rv//7v/4wWiXbBT7QbRRgF9Imcoe2OH3HKPBYBGmH8GJtkYM6Qd8gMAkYYTRhdzsmGP3GKmUeCQswXRhUGAICGkWkEf+IBRxK55Ggcud4U4ZwwjLZUYDyQERg/8KRbiuJAJg55gSxBriKvMeKic4HhSR2OX8PAEee+ZPyTDDid8C0GM/xMkIJse3MDq0WQMc7YZ37iyYR0wBgjn5FtUR3pbAx0Hc+6++67q/mC+YGXsGngDWQNDkA81IfeCQIi77GlwrSCjkO+QiuMAecBdMb+ROR8MtsN5wQ9wWqSqMGOc0Tw0gWO0EfIVPiaMSCYir4E2APoSvpEP7kWGnZB4NoglVxJBO5DR7LUmSA296G/cISWFTSY84HxARGiaGEkCBxCqS8aoo4wYGoMFWco1RXOmMQBoS6IFwbBU3Zr4CFi4JgFIYtxThsQmNSBoY2xy7KMVPUAdw3HUJwsA6DeKDDU3LKeMGBgGBRBTT2ML8YoxwDPC2e8uB9BgRJi6REGJUYThhhzTnSGulyhLdTr6qB+Ira0k8/Ux/nw+POd47SBa50RChgvriXiy5hgpCMkeDbCJh0QXUPYYsxhQGBsYkAzRmSyEA4YpQhsnB+ud4Yu4Pm0y/Ux2kb6ynHXL/rh+s93+hadI8acexBCzCNRp/B8cR7hSQSM5WmMO8+EltwzAPQXBUKS9DIRWox3BDz30m4Ky/xwKhHqRGLCfXM0kQzwubueqDHXh8cD8J055xqWFmHw4UiRFSGbcMkll5iMwOnEeHfLC5lX2ofDSb9xbqjDzQeZPe5FwbhIGmAM3dhFgeBmflHKKB+ifSgXaJf6UEzJlCfXuCwFygoDB9AuaIVlhcnAnDkZAO8wFjiE0DPRNdriUTc4foBuUoGgCcEGeIKsFLSIDIb+cFAxiuB/jDKWXBB1JAJJ1BN+wWnmunjAaArTOAY5tNHUQJYa/Rfl13iARgmA4ajhBCPzGS8cDsByXfgSfoRHCL6wbwy+cMAAZvyi/AoYH2QVY1pX54N7cXjQW8gzdBQZY9qZKBK/rIM5RnYip6PLr+AVjFpHx+gG9AT6CfkG7UPzvMQG2YxDEg91pXeWeOEoEnzFzgmD7Ad1EmQkewEthZGO7eacOOQsS8jCy2/DgP9ZJovsZ6ywK8hG0HdAIJX7qQfahF/qsowymVxJBu5DTkHLLMdj6RnOS7Jloc0NDeZ8AAwmDEJXRmUs+j2QuuJfiUXQGwoQE1FjjFoHt7zBLR9KB874gxhQgBAUjENkgUIkAYILAwMJgwtCJjvAGPEXRoMY061nSQOmZ8wQ7q5dFAwyt8SnscCYMDdE6MPPZglZOgoLgcgyKhwPhBv3kmEBGCzQAWlfxpxN2Hwnst5QwHjmOQhzAK2hFBhTQJQOxyKc2uZ6FDtKHKcpLKRdfaxppg4iI+H6uAehjeJA0CNcHZLVW1fE4yeMaeaMaCnRLJeyxvDHEYHmURKOzlniRnYqVfu4nrrIGKI4XNQMBQNvOYePOee7M/iJzrl9FWGwph0HCaOKKB7OPm1j3wbt5h7uBfQThcu4uvXk0CBwqfx0QBSOSBYKlv6wPCsaKfZIH6n4Kwx4jCWqyFSW+iC7CZZhpHIcOcDxKHBS4TPWwOMwQi8YKtAMS24T0bhrU1MC8poATDjARGCJAEK8MUP3MCaMGQ46hh97OQiKwDv0F6ceOUMWD73IEhOQiF8d3Lji4NQHRMh5kx9tRHYz/xh6/2Ww9Ar9iCwlQOSATEQ2OkcB3sFxQ4YDMh1cD40zp1EHDjulrvTOUmdsHZxa9u45UBd1Ujc0QtCNoKzbW+SQynaDrulbqqAk9Ayvw/PxQD2MCWNTXySTK8nAShOej5PEvehHxoeM/bKCBnU+ovhNYm/OqQ8aoo4wEL4oLAQVwpHCWkE8zVSGNMKWSA4M7TbTskQJhiVFifcP0bCBiPS829QcBktIYBDq4VoMY4xEIkC1qSce4mVAGgJErTDwWJvOekwUL9kajLVUQDjAREQSYGoEFPcTPSbingrsJcA4x0hnPBgXDDZSqChMlqTEKxiJGBc8n/HG+cDQ4LnMI0Dx4ZCgGJlTIjhRcC9OdV3BsifaQBqYtjOGOJ+MKaltUutRuiNSQn8RyFEDnPowFqAJ2uzWx1If44rBjDAmGhl2PECyeuuKKD/RJxQX/ARv0GeyVjgYtJeUM3SAkx1FsvbBH5ynXjInYUMG2sJwYukcz4O3iMi6fQCAtjneJfIGPeDg8Dzn0EJXZCRZ9ghdQLf0Cx7lM3VAD9AjIIPGZ+gtDAw0lFc8QAsYALSftjKPHPOoG5LxF/xA1BDaC4OlGEQg2YfgNjnjDJPhRa5TD04FvIm8RuE7GqEQvIC3oAcM59rQeFMAzgB9d0sPedse8p0xY2wYM447QPtE0HGcyXoQtYbvMRDpK/1mrOEHZA/yIBm/AupEVnAtmciGALzE/jJ4L7q8q7mCJVHQM3MEnSHvw1n5ZMDoRX8SBHLAeWbVBBkLjkPn/MVxBGQ60Ks4J2TjoyCjlIze2btG1j2aBUGewls4Hsj3MMhYY1hzL3TBUjzaCJ0C6I5lT6lsN4ILZHXYywI9Irexp1g2xXf2e0Lf2AE4MDistB+9wPPhafgdhwved2ODXkG/oGdqi2RyJRnItMI3tJn76NeyhsZ1PqoawPlogDqiIP2O8UEamALjhN/ykAgYtBAD61thDtJ7GB4wOdEXmIHoKIxGdMhF2MPgOu5DUBPNxzPmdanUUZt6woBZEDLcR0S1oQFzswafcWLdIctYEC5OYCUCzhRRYvqLsmNvCwY/30mPp5tCZNMYS6KI6DNmGIyMCYoO4RGvINAwSlhSxT1EuXkuy2/oB0YkCKfsoQUyU0RegFvvSvQBoVEXuKULbk4xfIlIsYwBIYowD0fOOUahTS7SSmF5FG2nPugFgUl0K1wfCgFB5/rq7kW5s8E6Wb31QZifUCx8hp+gG5a1AYw9xhjFCZ1HhW+qfhMlRQi7LIU7Tz9ROjgr0BhzzVI2lOjTTz9tdRNlw0glq0IbUCjwSdRpiIK2s6QK5cczMZaonzQ9Com20r4wiARCXxhw8bItGG4oaXjb7QEjmodD6VF7JOMv6AE+cRkqAH1SCEBAh9AugJcI9BAcYY6Zc2gUWZcMtaHxpgJ4E6eZ12fTXjKVyEH6wnp/xgz9BMhuIz8YD4w4jHvnSNBH5Bf9ZpwYU3QjY5mMXwFBILIvXBt1TOoC6mW5JjIffbGsOB8sx0bGONmDjES+pgPGFVmFTnOA3rExcGZYysNb/tAn0AHAlkDXYjTHsztS0TuOCNmNcHYCwIMER6EjRwsUlp1SB23g5R3QCo4u2RQX7ccZcS8bSWa70XbqwjaBHlkKyFIyjmEz0FfaQTtpL+3mHHKarIrTF/wlKIFthhzBcYE/wqsT0kVd5QrPgqbJ/nAftg86rDHsu6WFDDXgqncB85GoHMoQw5CJxeOsD66SAbKJ1G2T5IcySW6W2nubdQVKCWEZBcyKQUukB6OhKQNlQcSJCEIYrGsmshtNo9YXMAjMGQZeOgyH8GhMJJsv96ahhkJDPwsByZIeIjbh1w97NA9g6DCHRBAbwnjy8PDwaO5AT7JSgBfFeHgAAoM4ngQG2GvLygCya43ufBRItjxQtaF0reWvnE+tWiAnZfwgRZL+PozGBEZ2c3A+PDw8PDw8PDyWJMh6sNzXreTw8ACJnI9GXXYFcB6ukN/MmUgXXMs9TcXx8PDw8PDw8PDwiA+WqLKczjseHumg0Z0P8G9GkWUxvpXYj8klA0utuJZ7mhJYP+izHh4eHh4eHh4eHh51xxJxPoDLgJxbNUSellEyVGZLsR6j8JljnGOPh894eHh4eHh4eHh4eCx7aPQ9Hx4eHh4eHh4eHh4e/y0stT0fHh4eHh4eHh4eHh4ewDsfHh4eHh4eHh4eHh5LBN758PDw8PDw8PDw8PBYIvB7Pjw8PDw8PJYJ8OvXw2MfGwU5wV+QFfwF4c8upsmvXLeLffTw8PhPYqn9yGAUq+6wrQzYaEPZcK0Bsmb3nnbs98kT5Yehv8lv3/8gwz/8xI55eHh4eHh4gNlaRsU+NnsMDP56eHgs61jqzkd+xw5ywe23yK6rrRUciY93hw2VG886V+bPnBUc8fDw8PDwWFYxVEtZ7ON/Fq20rBL76OHhscwgofMxatSoxZyPsrIyWbhwoRQXFzfID+v122h9ufuWW6Vvm3Yyt7REnvjrd3lj7N/y64xpdn7tTl1kr74rylErryltW+TK2MI5ctq558iY7wfbeQ8PDw8Pj2UDvwd/PWpizeCvh4fHsoL77rtPWrVqJS1btpScnJwll/kg4/H0yy+Z4/HF5HFy1OeDZMy8ucHZmujXuq08sdUusmX3PuaAHL7/AT4D0sDYZZdd5KSTTpLu3bvbXH/zzTdy9tlnB2eXHbz00ksyY8YM/6v0Hk0e8ON+++0nt99+u/z000+y2267yY8//ii//17TSF1//fXlqquuku+++06uueaa4Gh6WHPNNWWDDTaQd955R6ZOnRoc9ag9hgR/E6GDlmwtxUHxSA//3aVYl112mWy88cZyxRVXyODBPuDqsWxhqS27uuqpx2ypFY7HVm8/HxxNjs93P9gckOcHfye3nnxacLR22HbbbWXLLbeUdddd1/px8MEHB2dENt10UznrrLOkb9++1t9x48bJHXfcYYZ4c0RtjJInn3xS2rRpI7fccot5ovT/s88+C842LJamA9AQz05XKfTv31+22GILo7c+ffrIyy+/LA888EBwVuTiiy82p4/xnj9/vrz//vty3XXXBWdjOO2002SbbbaRyy+/XHr37i3HHXec/Y1Hn8nqw5HEeGWOS0pK5IcffrB+kMXknkT1JusDUYutt97azg0YMEBGjhwp//vf/+wcSMZPAwcOlDPOOENWXnllEzrjx4+XRx55RAYNGhTcvQjJ2kcbLrzwQmtHvH6fcMIJctBBB8Xt90477WT3FhQU2LVg2rRpi80rvMMcPP3009b36DMLCwvNeL/tttuCO2Kg/+eff7688cYb8vjjj+uRP2MnDLlaSmIfE0B9D9lvV5HbdbjbttW+qKh681P9fntwQQBlc7nqcpHvfqStwcEECNf57rui8yOy5zYiD6kIfu654KIlhj5aWsc+NgLS4S8AjV9yySWyxhprJKXF/fabL/87crgMGy8qP4jciWzQOzgZwqgFIgccEHwJwLxss7bI0zrmIRHQpKDDIJdeKrJ659jW8OlaHnxEae5NO10DylZy4O4ibfQzVPzZryI33KBuVcSvivZbxa/0zwtOhvBjMKaLo+7OR1hulJeXG+9ff/31TcbJRhdBe/FAkGHy5MkN4nwQYUY+o+Mfeuih4GjseKdOnZRWI8RaR9RGpjtE75k+fbo8+OCDSnMxogvrLVbdYJPcoISG/A4jle2GzEbn77jjjmbsOlkeBTJj7733NiPYgblw9gLBmpNPPlnWWmstk/v1mZt77rlHNtpoo+BbDPQbfZPMTl1WsFR+ZJDN5TgeLLUi45EuuJZ7Dl5/Y6ujtth1113NaFhhhRXMEMnKCr+JQ+s/6igbiHPPPdeMhvz8fDv2XwD9RtjBrJ988kmjOR7/JSA4DznkEHPao7S2//77yw477GDjDF1+8cUX9p3jDghMhNPw4bG31Jx44okye/ZsOeaYY8wZgT4xrkGy+qDh3XffXT7++GM7hwOBY0pkHWGarN5kfTj88MNN4KPAKioqTHiEkYyfTj/9dDP6zzzzTGsH9x966KHW5zBSte/UU0+VzTbbzBQrffv6669NwRx22GGmkAiS/PXXX3buxRdfNGVHPSA3N9fkwM033yzrrbeeFQyWsDIh80D9YWVEe8PPxKjhL85MGDhtGD2ffqoeg2FhqJDlDX9PXp57bqFstftCdTzin69roT7qpf545xu3jNRCxiBemaSl7kiHvxyOPfZYWW65lpZhgjZKS6/TY2+pIbOoPf37D9F7h0u+3RED9sh6aoC7cvTFIhMrRf7+O7gggJKQbKYG+CIKaprQYZB+6njc/qzIMdqXQrXvjjhCdByCCwIoW8m+2t+RE0R2O06N6I+U1rV/AVtVI16/sXPDY3bJPSIz9Xgg4hoMGKHMK3KLOcUIxmDEcGwqwOh3cmfUqFFm5LrvDR2YQ9btueeeJvcbC+nKdAeO43iE78HQPvroo2X11Vc3GY7j4fTWa6+9JptvvnlcZymV7cYxZDt1obfiOR4AI3jChAmmN6JzgaOIc9KzZ09zHJAl9XEKs7Oz5bfffqt+DgXHg74ms1OXdTSq87HOJhvbX/Z4JFpqFQ9cyz3A1VEbvPvuu7L99tubMRWNfsCUEBXEhKKi8LlHjx6yzjrrBFctDqIXRDYxMFgageF+5JFHBmdjxps7x19nNBF95dq3337bngXBcY5jPBcj6tJLL61m3ET18Pxnn31W3nvvPbvPnYOR77rrLunSpYsJHa6LB/pNZALGYvkFnxEYMCl1UGjTo48+ahkUDK3HHnusOmKDMffUU0/Z8ei5KJwREH0WfxkPByIyrr2J+geoByFAuzj3yiuvmMGZLsJtj96PoELYcTzcL9rDeDKujC/jkwhkATB43nrrLTNCw1hllVUskuOWu/CXrOKKK64YXCEWbe/QoYP88ssvRocYwDiHLLv54IMPZOzYsSZwQbL6aOusWbNsDDlHHQh5BHSqepP1AQFOhAZlQX1hJOMnIktErohEM3dDhgyRoUOHSvv27WW11VYLaoghVfu6detmUa6HH364um/sTUOh4bgg4HkO56BhImtE2QBLDHGY5s6NL4OY73322ccieETOHVDk8KF7JrxKdrhfv37BFTHFuvbaa8uIESNsHuGhAw+MndNm6XiKXHst18Wiw1+/LfKTlk+1BORdA8o68rGec+R23nkiX+r3wVrUH6thFCtZK12L/BCcV7I2g5FI/XFaDy85vUrrgeWoj3qpHyg7ygfBfd9oueMOka5dY9mVQfpdbThrI+ff06Ks0EiYrCXsjITLeC1EPpkTinNmiMGzQbtM+eFpWVi8vvLBGTpHI/TvSbKgaBXlB9JGY7Xg+JCJGqJ0t5PMmLGKvPDCeUpjT8iffz4oeS1+U77R0wEQ6S1baqvUuUiE7bZTg0I1p4rOaiAKlYRk/OxYS5syED0jJ4qOg+g4KH19KdKmhciqqwYXBGinBIQ5pHaTjq0oD8dmg+MO6fZ7q61EikpjWbiGxKraaKLlX2onkBvwPplZ5GRzAoYnhjk6CFlJdhXZgt5xRjlwejysR8MoKioymRi2TaII2xiMG/ZH586dTf8yfg4XXXSR6ZKwrsVZSFemO6y00krWl++//776nj/++MMcAHQTBflJNgA5+9VXX5kc7tWrlz0Pu4sAUCrbjXZi2KPDyJrg6Dng4HD9OeecY9/RlRj86JgoGGtoiozKC8ok0exLbYFuR0dHkcxOBdhM6EH6GKaJZQWN6nxssEZsAxmby2sLd4+ro6HQsWNH2/TCsgsHPHcMHwyYZMAQuvPOO80Iw7ghWorhg+eNoYpBtNdee5kQxKN2TIsw+Pvvv20pAISIR//zzz+bcYYhjGHHsVT1wHhcT4SHJUXcR1qRSAT9gXkTpVYhYAxtF3nh85w5c4KzMdA/jCuM/ueee06WX355M0gheCIXjB2RBSLIpLiJOMUDTEUqMfwsFEIqxOsfz8YwRrAx9vQVoRWOdqQCAty1nYgJ8wFjAxgfY5tnEhHFsKRfjCPjybjyzEQRlFToqhYdCgFhC0gVM8bhKAdZj5kzZ5pSQdjsscce5gQBDOP/Z+884Owqyv/9bi9JdtN7JST00Am9i4BU/9JE6UVBFJSOAoIFBAWkS5UO+pMOShHpNUBCCCG997I92/f/PnPPbE5ubttyN7vJ+3wy2XvPPXXOzDvv952Zc9gHURpItL8//elPrrwgYoD7R1nHqU6239aSqD6xb6JJfggAw5dw1CkXlMcwyc6PBjPcoNKgcZzZs2e7OkXkc8mSJe43GgvyxffQ0JDQwNFgc1yO5e8/sF/KGcvDUF8vwftXOB/KI40ijaeHss2+aTAp6xx7++0jv+20k9apDJEvv4xEi4kaEz3+3lki0xeJHHNkxNmPh5oHOXRfrbtadY79qaiwWfctCwiKPr1ELr1Z5GJN3fMiooIA3v3q5FG7r7ln/SFa3/2uns+JIrPVAT3hFyIPPicybrRIOFg8RIXIbSpA2C8RbbbpeChTUzURLichIkiUfZ4QNUnLyNdSsWaq1gfai1l63+dpfVio9YHGfIUmxDKCRbR8aH6plj1Rrx1hqH6NrFCnecoU97PWHZHxes9wkNUviQm9A3vvrfdvpki405iiiV8QVYQ6HcTXumkeBFXFoVXF3ePowCtVmpyjPGtVlD32UGGm39WcNJPKddN87bCtiu7P9A6189OCsXvRPbELFy50dR5ntavQUxXdokWLnP2mFw9nmmBGS8E+sT3Dr3zwLoz3MRAC+Bi0OQermua4ROdx+OnJBRx/7C/+iOfrr79O2aZ7aI/YP+0TYGtpZ2njp2jlY1/sk31j8+nR5r4ialiGmCAl8924ZoZeYqejHfYPPvjABRn/97//ue0oH/gbPphKcJIgJXDd7JP2IjoI3FLYF+dEb5w/JwKptCeJYLsTTjhB5syZ43qFnnzyyXV68zcG0io+tg3e4+GfatUS/DZ+H+0FhZqChXPSUmbOnOkcUkTBs88+65x1xuqhtok40+VLZX3ttdfccRAmwFAShoLg3OC0E7HFyWZd9kP0moqYbD9UVCITHJ/EOLp40YbWgOHifNg3lRVHiogIXaBU1Ndff91FDzh3xFQ4et8exLo+HFIi2BhLohBUXiox55Nq40LU5Nprr22OllChGUIERCSKi4vdvjDaDPch0tJe0DBS1uJFT7i3GBqMXPQ6GE3EEsaLcZOQbH8eBCvdztwnhl+FibXf1pJKffI9YYhWGgkibIlIdn40ZBhkygR1inPw89ViQXSL8nTdddc5IYroZn4IeU9DPH78eCeYo8W4h14wEr14rBduZMlnGkMigTSUiEIiyDipOG1ltYwlFm3ARK67VbR8R6LIRJOZDRKOukfDfhr0r5octQeiTkBkEJdHi7Vce51o3kbSHBUTQbFOCG0s+2XuB84g5zRJnWnvZMIHes4cl/3OUmczlf1uCPA7ue1JqoMDXbtYM/BiFWgP/UGkhzrN9ByxLfeLCP6MuaLOULBBDNQcSY9c0fsdLFDoFfKiJU4R6jQQX0NoqM+WFIr5iy+pjRqq16ZC9OTviHz0lcjDD0d+T/W6VZ9LXZNoOxcsaEeob9RbHGbqM0Nk9txzz+DXrgPBJ2yMd/ZxqmnjWgM2kWAfti26jfQ+BvMtONbtt9/uxBrrYU+xofg0CBLafgRALFpq08MQBER84EuF2zFGQmBfse3kAb8DASnagWRtDeKEwCLDl6MddsQRwUsfOGKILj4OcyzIA/wy2ksgmEVAiWviOlmXNscHgVsCgUJ6dWgfCDbjByLWEBaJYDv8RPwU/C+2o/1CCG0spFV8ZKwzCrR1tMc+wlCpcVSioyUthcIBCBD2ReGlguBEMvkbh5ZCDFQWX2FQ9mFHCcfoz3/+sxuWlWw/GwoqPQaGrkvOi4QjhpOYaKhae0CeYHDogfHHxqhiHDA2qUCUg7GVRDjYHgPsYUgVxoHoN9EVIhzxjFtrYF9cA3kVC86F64uOGrH+73//ezceFOPro0/J9gcYSbqXGWbEgwXCBj7efltLKvXJ94Qxp4MhYwiLU045xTVe3A8EpR/Wluz8uPfcIxoYH0nz0a9454DhZv80yjQ+RPsoP0QW6eGiYUrUeLIOjRBDFGis/HwCnB3GnH9J10YAUb4CdfCIjjM6C5FBzz697vRkvPZUZNjVGYdFnomUCK12wgC4GD32Di3WWq4jw67Y5y4p+iqx9qu+j+TpCTHhvStBVeW2J6gOzZBXvfT6mH9w/C9E5qtYu+CCSC8IEfwePUQdlmDlGCBQ8D/mLlkrPlhGZzMCrQX+1waDEZU8YYYykAzExXFHiLyjgoPeutufVrGheaW+Y8rXje+747jI8C5Se0P7SdSadhJ7wVwPJgjTPkfb1E0FevIfe+wx12ZHD7/CRuLU+uFGtA20EwT6sG8IEoJhPJSBYUkIkljEsunYwmQwxAuhSAAzOrBE7wf7JMhI7wUPYQmTSlvjRVys4bdhmHNx2WWXOdtPXmG36Y3g2sEHQtkPwgEfqDWBXvIZsUUvOnnLUC6Cn/448WA72m7KMsPxCIgiXmIN3+qqtM0DT8JXiyNDJniPR0vx2/h9tBcUJoZoMObP44cbRY91TwQKGygMOIQUKCoOziSJSEKsJ65w/LCjhLNFRaMwtmQ/HQmVnjzDuPvzIuGQ+SE+6YI84d7QOxQ+9v777++MQjL8hER6dTBubMvwGCDvKQd0+5Ln9HrwnWF17QVd6RwHYw6UNRoF8hSI0jF0KOxksz5iCeeWCFXYSCfbH9tgtGk4MPQYV0+i/baWRPWJLnyiWb7LGsefeRMMMaCR8OWcJ72Eny4V7/xYn33RA0nD4UUVDQzd8cwLAe453yk7QHSOCYTR0HM3atQoJ6QRQoh9zo0n53DebMO2wHXS4JKvfjw5ZRB8Vz5QtipqOFd15nMivR7ACMUttG2+XR01JuAyLCrZa+W4pQgUzc71oJ1nn1qs5bxrI/vkSUKpEGu/6Ph69Ur1VnYptDpItzzR+hD5zjVxbUF1aIYYySjNswlqrhgiRLX4+GO142qGD1MhOF6d5MEZIrepQEHI8aQmnnDF/BcfPGYUTF8VOa+9FvkOhxyi+1URyLpvq7Bkjg1TIphzw9ybzgFPGkOddVN73U3KK7tpXWEAVSTl5+dIhuRonoUH9UWGpZGN9Gxo8VcnTWRJWWR5qtfN/BjCh6r30wYR8sP0JtJWYruxhzh6mzL04tM+YkuZE+HBJmIbvVDA5iLcsOFATwfrYxNjDaXCT4ln032bFA+GL+Pr0BN/9913B0sjTypkn+wbm06PBSNBmM8TJpnvxnxEri1ZUJKHiNDmM2w+FuyHPCFv2grH4FgcsyUQpOb4iCS2pX0kf+ix31hIq/j4ZHIk1MELBFuK38bvo73AWcaBw1DhzJAYK4jSTOZI46gQeaVC+8m0zN2gwtJFifqn0DCPgKE+jIeMhqEZVBD2w7o4xjiJRKtbsp9YEL1IB0SZcfCYHMV4TCIEzI/AWUsGxoFKRCSBSo2BYnuix8xJSMaMGTOcc46TTn6QLzz2ji5UPicDkUh+Iz4Y/sZxuY9AlyaCBEeWe0oEJxq2peektTDsiTygG5jzJQ+JopCndG3TtR5d7oiUcL0Y5GgHPNH+yFccZowxjxQNCw9ItN/Wkqg+UTc4R3qtEBjkMV3OlANEdjSJzo/6we/sl3kY4d4cyhbii6dQcTzqFhMg/bwY4Lx83SXyRnlA4HA8L2gpVwzhYNgj5YJyy3VRR/nMPigPlEdguBafGdLl4fwYqbD9IJESddTefTeyHKcYR06LoBv2hEO7rqu3PnpL3YRfItCq41zU3XdMEPvQU3Hig33SGTMq6nGwGPdYPRmMPGC/Wp20zDAZMzLng8uIcVs6NVodBA2l1UHvvWh9iFwbece1XXhhZK4CVWzFKtHyF/nOb3r7XC8A/tX3gqcy+cRjdBFzh+tnfscPwZFepHkddqTvu09kz9B2zLFhBBLiUotQmqGrSwtT0jRWE4I5kmbO/D8ZO3apOjLXa304UXbffYosr5yieXakls1zNM8e1eWnybx5t0hu9zJ1GJ/X699Xy8ktMmhQqSxb9l+97p31unfWa46ka+65WkoKVut136fXHTku+9hjj53lG71HbexgTQnaSYbX4jhGz9/qqjAkCvvOvEBsG+0vti0VcHppPwkCeehpZiQFPRYsP/vss91fRgUAPR0ERxEnzAGJhh6lRDadpy3S6x7dC4I9xWdCeGDfw/BgDxxrtsXOMtSacyTIBAybYthTMt+NAB69OsxloS3EbuNPMWyK78xbZRgWfgACBsHK+dMucHzaS/wzP6zb5w3tCu0L7UxLIcjGEDOunXxjn+yb4ySCnn/aOc6Z7biujY20io8vPvjQ/T11i+3cCwRThXXZBvw+2pOHH37YOR8M2yBRccJPeYgHUU8KA8/yp3LQvYfjQSUn+kJlIDpKRePJPD7CHob12A7HhWg+ypi5FOyjJfsJQ2XByLAdXZbtDZWboWHkE+MOGcaCcfEGKx6IKaLEXC8ThBnWhMPPd7rHU+1CZNIYY1iJ6JNnOIzkCZGQZFDJ2YYoN8dl+A3XgRMJ4S57ygLjYYm8gB/vSvQBo9EaMLbM3fH3FMeXiBRzazCiGPNw5JxlJM6Jp43QWISHJiXaHw0Chs5fq9+WYUZMsE6037YQrz5RbhjWBnQ3k8c0nJTzaOOb7LoZIoUR9r0U/neuk0YHsUIZ414znpZG9NFHH3X7JsqGaKNXhXOgQaGehEVDLDh3hlTR+HFMxCL7p5ueBolz5fyioboyKJO222sktBQ9Ir/7mcgd19LgRsRI0IEaE72l8vJb6sap7/js3er8HrR2zgfZp6ciYwaLPHObyE9OESnX6kSxpt1HYJQ3qvN9Es+0DzYKwC97UM3EKPVdn9Ztf3pCZM5HcKu6FExnek1vwX4qKpiXwKT+f78TyTstDnK05lnQQaXlDudJy6LmB9fN9T+k+RCeOB4PxN3Aosi6Id2bJrBNYfEQL0V6+loKdRPRzOOzqQ8MQcQOUl8Z748zRvtEOce2UPco/zzuGgcsHLVOBM5dYeEbaq+u0m/h8w6eyNCOYAcYrklghvZiYxEfDMfGxnjbg43E1qYCARruIW2aB1uNj4GYYSgPT/nD/6AcAL4EbS1Ocyy/I5lNR4jQuxHunQB6iQmOYku97SYxqZt9cA48vINyxlAxelN8tB8xQoJEvhvnzr7wTfBRGC7LUDKW4TNwrZwH58n5ct78RsAOX8K3F/zlCWP4ZrSrCBfqR2uGKNMDRQCZoCv3j+vn+JxfIjgWZZreH7bD96ENS4d/t6FI+0sGr3vkITl86+3kf4vmyQEvpfaSwbeOOEn2HzxcnvrsI7n5J2tfZpZuUOQ4N9FQWVHIdAUiCDozDIUiQkwEIQyTYtv6EqNYUEGonGFQ6VS41j4hKlUS3S8EQ3vS3sfCQDKkh4gNL8QyuhY4OtxDIojhXpgIa5+GZRjJwSE3jK4P7SQjBZgfahhAYBDhSWCgQ99wXtintzz2j2dkeFFPJ0BOf/uVuO/8oMfjof0Od8JjXlmJ/Oi446Vq5VrVviHBye4K4sMwjA2NiQ8jFsyxoKtr3SEphrExQK8Hw339SA7DgA0mPmD4bjvLrTfc6ARISW2Ne4Hgc3Omy8SVkcfpbt+nvxwzcoyctsV20jM3zwmPCy+/TOZ90nkacRMfhmGkhomPjQ/rnTAMw2gpG1R8AD0gl9/yZzcEKxEMtbrrqqs7TY+HYRiG0V50BWFmQsMwDKM92ODiw7PVIQfJjnvu4d5cvt2gyFMYeJwuT7Vicvk3r73plhmGYRibCmWaeEt5RzFSU2rvCTIMwzBaR6cRH4ZhGIZhGIZhbNzEEx9pfdSuYRiGYRiGYRiGx8SHYRiGYRiGYRgdgokPwzAMwzAMwzA6BBMfhmEYhmEYhmF0CB0+4XzIkCEyePBgGTp0qPTt29ct4/0ZCxYskEWLFsnChQvdMsMwDMMwDMMwuiYb/GlXHPTggw+WzTbbLFgSm1mzZskbb7zhzsEwDMMwDMMwjK7HBn3aFT0cJ510UlLhAazDur5XxDAMwzAMwzCMjYO0iw+Uzve+9z2nfFKFddmGbY22ceaZZ8pf//pX2XrrrYMlhtG12XzzzeXoo4+W3r17B0sMwzC6JtZGG5siaR92dfjhh6fU4xGLb775Rt58s3VvPN91111l5513li233FKqqqrkyiuvDH7pmnAfDjroIHn88cfl/fffD5YmB8O2/fbbyz333CNTpkwJlsbmhhtukJKSEve3s3LeeefJoEGD5Pe//73Lk3322Ue6d+8uNTU18vXXX8tdd90l1dXVbl7R2Wef7coe3XyrV6+Wf/7zn/LOO+9Ifn6+nH766a588Jmy/uGHH8qDDz7ojnHyySfH3S/7o2yNGzdOevXqtc794Jjsc6eddpIBAwa4skuXo+eMM86QPffcM+YxWX7sscfKwIEDXR2cO3euPPnkk64ORNPa84u+7oqKCnn33XfdOsD5HXDAAa5L1DN58mRXHji/U089Vbp16xb8IrJq1armcoUg4H6MGTPG1bdY5S1877iGVMtlND/84Q9lv/32k2effVb+/e9/B0uNTZVE9SrMFlts4cpgnz5r32xOWf373/8uEyZMSFg3ErUnW221leutHzFihPvO0GG2mzFjhvve2UhkG2NxxBFHyHe/+10pKipy6zzwwAOy1157OXtQWFgYrBWhrq5OXnrpJXn55ZddnmELx44d6+zZn/70p2CttWCnOJfKykq5/PLLg6Wtg/t24YUXuuvinraknUwn2E/muMYC+7p8+fJW28Iw5B/2l/zHNnpY3rNnzzbnrydc3ik/S5Ysccf74IMPgjXWJ3qb6DKXqE0Lk6ydpAwcd9xxsscee0heXp688sor67TBnmTHS6U9SwXOJ1E94FoOOeSQ5vPADj300EPrXXdXZoMMu2JyOYagtVBg2UdLwTDSkAwbNswJKS7W6PpgEEaPHu0MzXe+8x3Zd9995eOPP5af//znztEncvSDH/zArXvMMcc4R/eJJ56Q3/72t86ZoDcNo3X88cfLDjvs4Iw023755Zcyfvx4J5SPPPLIhPs966yznGGLVa5+9KMfyaGHHup+y8rKCpZGQDhyDIwL+/3888/dd5ZTRzB0iH3O9e6773bCgfOJpi3nxzrh66bho65g0CE7O1uWLl0qF198sbsWkhei/IZjQaPuf2MfGGScGRzA/v37yz/+8Q+59NJL1zPU4XvXVsPKPT333HNNeBgJ61U0OTk5LsCGQ+LL8DnnnOOc1ER1I1l7Qt0tLi6W2267zYkehgz7+tgZSWQbo+E6sDnTpk1z6yI8gDwj73w+kl577TVnw6ZPn+72h7OJ04uTGKsNxjHDxpF37QHnibMYiqd2CnD6fR7xYB3Klv/e3oE+HG4CM+nsRTnxxBOdI3nzzTfLH/7wB3d/DzvsMHc/Y8FyykJ4G8ocvde0fcnaNE8q7eQpp5wie++9t3zyySfym9/8JqbwSHa8VNqzVElUDxDeBx54oBMkv/jFL+T111+XHXfcUY466qhgjY2b9S1CO9Ia4RBNa/aBYSTCddVVV7nobCpQ+Oj6pGLcf//98uijj8qtt97a7JhRICmEqFJ+u/HGG13hCW+HYcbQsO7VV18tDz/8cPO6KN9U9kOFQWXz2+233+4qCftEIRN5+ulPf+p6M+KBYONc2J7rINoXBsXP/h977DH3O5WMxvVvf/ubi85su+22zV3Ae+q133TTTW5fOJ3XXHONO/9ExNvGX1/43Lkub3w57+uvv95tR96QL0QiODcP0SGceow3RodeGqIt3GMEBBEKjC8MHz7cVer//Oc/LgKJU4L6xoDhHBCtee6555q3bWhocMYx2X6JeBJd4xwwJmGIaJx//vkumsP+wowcOdI5LkRT2S9/+U4kiPvKMsot5/rRRx+5p77169cv2HotbTk/og4YUX/dX3zxhVuOIwIMY+KcyJtoOBcMJxHKaDD29IjgzJDfscRF+N5xz+lh4XiXXHKJa1BY9uc//1nuvfde95nycN1117kyRJnw9QRY35cNytMdd9whv/vd79y6lJ1f/vKXcRtCY+MiUb2KBieXOkB9iSZR3UjUnmBfqRtETrExb7/9tnz11Vduu2jb21lIZBvDIEaI2nI9tEX06MQDG0/bgUiZNGmSc/rIM5zEWDYD6FGhfZ83b16wpPVgG2h7uK5o29sVwLbSoxttw8K2DmK1o2HIa3qjyNt4hH2A++67z+0L55j2F7/Fc9ppp7n77u0uUEaoP7Q/lAuCSdxz6lZ0+fFQF2mfWN9vM3PmTBcM4BoTtWnsk3aBcpSsnfR+FHUQ34unp3oQKLQtCL5kbWgq7VmqJKoH1DnaRMQ650HecCyWA4KO/Pc+0cbWrqVVfMTramwJ7bGPlkCFIIJ1yy23uK4hr+hR+1SEp556yjmZNFZhhUqB+de//iUvvPCCK+BUCAoMQgBjiHhIZT+obboROT5gUHHG6NYsKytzat9Hn2JBNIFKirCg0tbX1we/RKKEiJmJEyc6xU8DS5QQw0cUy0dl+I3KwL6IdlNxOCcamFjReA+NVUu38bAOwyEwGgzLIc+ItofBIZ0/f75r3B555BG57LLL5Ntvv3W/EZVk/WXLlrlGHyGxcuVK9xv4aBj39C9/+YsTRR6MI8fDkCXab1vg2jBwfigGwoBz4nwwflwzERjgPpFvft0wbTk/orKUbWD/3Hu6en2XNQaX8kcDSML5J8/9b5RVGiqMIUaRugH0aHAdDJ+gQaNho7yHCd87ROdbb73lyhhC1Uen6HrmSXfUjXA0mbpAgxqvHFH3GLqAkPnss8/c/cdpMjZ+EtWraHCwsO84Zr6c4ohBsroRD5yH6GNhdzhOZ3xoSjLbGIZhItStUaNGNduEeAEo77AhZFIBRxGHmraIKHhboF3FFrGfqVOnBku7Fu1lwyizbM+9i7bBQNSfnhEcXZxZHPnddtvNtTk4wfgt9AACdp2ecGy2BwFKIMgP62IoIsfCd4jXO0BbRZtF2wXcL8oQAoD9JWrT+B0xQUrWTnIetFFcT7TDzrb/+9//XA9psjY0lfasPWDoGYESeusIxG233Xbu/DkPfESGYy1evNj1itDLz5DPjalXJBNjnSi1hfDY2tbSHvtoCRgvKiZGlG45CgVDaXBQccxRwvzOZxw1H2FjGeNccWKJ5vCdCkPj9eqrr7qCTpdasv1QSdiO4+MM02CmCgaLiBvX4I9NhMHDdxrZp59+ullpc74cPxoMA2MyETFUbiouyxI1qK3ZBjhvonEYPwwL24bPGxBh7CdsCD00ZDQ+RL3ouvQOAdeWDLo9aTjJCyIpYaL32xYQeDTyiaIoONwYTIZ4kG844olo7fkhZhG+RImIFPtGY86cOc4ZuOKKK1wZYd6Kd/gxgtwTImUIarq+GQfOcCpEAlEjyjnClf2Qr5wfJLp3YdiObm7qAMNfiFRRD0hEseLVhdLSUnf9GG22jVemjY2PVOqVh/dJUYaxUfQ+U2+o+5RPT7y6EQ9+p9xts802rncbZwznB2emM9IS24gjiuOGLSIqTiSY9oVhW2EIOnHdOIpEk1OBNhWxQD1vK9hAgpTYgFSuqzPSnjaMOU+U7VjDrwgCEcQk4MOxCPT48uvtM9sgvukhoFcjFn60xEUXXeSENrY/VRgaRTnCP4iut7HaNAK6//3vf91niNdO0g4hgGfPnr2ew077EWsOZazjJWvP2gtsB6MkaEPpzeI88ENefPFFF1BBmNDm4TdybrS9CMuuRixdQUoqPjDsrU3RkZTWwD5i7TvV5In1WziF8cuIInB81Ch/d999d6eESQwboYBS2AFjwTZUWAy2/06igKHEMTDJ9gN+O0/4M/jfo5NvWJh06ZeFQXDQQBK54Nj0dhAFg/C6fGYfOIwYF84dQeGHwPl9R6dE24Tx63v8eWMUo38DvhPVwFBROf06JAzCj3/8Y9elyTE5B5/37NevF8Yvoxfo+9//vjMuREP8clKs/YZ/DxNeHu836hLXSNmItw5OEV3dDCPCANKDRk+DLyt+OBzrtuX8iPr4ni8EBBEklnO/OAaiFyGNiKVRJwrDeG5EBw0bRpOIGeUW4QgYfIasEFHFASHv2Y79xrp3Yfx3/xuJng7ygmgr107j6NeJR/Rv4f1Z2jhTKvXKJ4ILf/zjH51TQRnHoWE5jb9fJ17d8MkTXoZzRPnG7jEsFqcB54HIZni9zpBStY1+OddFPhEYwpnDScMmhNfDESVyj9McXu6Tx38niky0md5Pghqe8DapJuwhE4exLQTcwsRaf0MnT6xlEP09TKx1w8nDPWZeEwI4PPyKdRDrjIYg3/lOu+GHalHm6enAbhP9ZwQDwdHwMXx67733XM8APRGUEdoqRGisdcOJ9gyhSpCRFP4tWZvmU6x2kuXgRRzt0PPPP+/qIEMzo/dBinc8SNSetTZ5/Hf8D959R75jc5555hnXziHOuD+0e5wbc0YYxYKvSF6H99kVUlhPhFMmUeboRHSIKAZOGQ54axMFOdbJtCSxj1j7TjVREbnQWL+FEw0G61Ex/TIKHNtTAPiLEWZSkk887QODG96O86Xh4dz9fjDWdGWyj1T3QwqfO8v5jEHwv0cnKg/bEInwy/x2XB9RbCocjiUVFkeTa/PHZD225zMREqJTlAPmEHCejM31v8dKibaJlb/++jAYXFes82Y5vU84sBjCcJmkt4TJ41RIhlJxXJYTvScyT9TAr8u9ZH/+O12cNILsj0gnERT/W7z9hlOi+8Gy6GtlHgUOEvvmO+A0sS4Gh94GIlX8RkSIxhQhR4PqywlikV6A1p4f5eyCCy5wn4kEYfzZB+Uz+hxI/v7wme3Y3v/mr5G/5DXXxvVE/xbv3vnzo1zwnc++bLENwwOoRwz94tq5p/5cwtcWvR9/7HDeW9p4U6J6Fb1uuPyTwjYpUd3w65PCdcInJrcSaeUpO9hVyi32hLoaXq8zpFRso084XixHWPhl0ddPXmNLGVJJu+KXhxPr+7pNwvnk+ESufWCBIBU9nX64W6ppl112cXYSAcK+6JXhfH/yk584BzXWNhsyRecFKZEN87/58hyrHfXJ3xvWIThE0BOHmdEjLGcd9oMAwcby3Qt3yjrfCSzxGz0GCM3oMkx9YGgY9pnvOM5E4xky6+tgvIQd534h/nkaXPi3VNq0RO0kQ5co11wbQorf2RfXHZ3fpETHS9Se+XVak6LPBVHEPrE12ByG7dMLxXLyE/GIwMKm0GvD8EfESnifXSHR7pO/6IqwzsjECEQn1KRPGKbWJsYBthX2EWvfqSYKECnWb+FEoWU9HGi6uTCCe+65p+stYIgUkTJ6Dah0dIcysZiKQH6xHduzH7opWRcnH4NIJWbCEQ0TxjzV/ZDC5+7/JronHBvFTCWlkNIo4Pj5/VIpgQrHsemBIXodPgY9IRR8X/gpPAgpKipGya8bKyXahgJIo+yHWCFS+Ot/o/HifFlOnoXPm3tBzxCReH8stqWBYR3mH+CEhM+FckNlJfLD/pjwjMjhWDR+RGCo8DxUAAOQ6n594nd/ftG/scz/7pchwshrohfkPWWD5URYWI+xq768UP64fhwYuon9PkhtOT/uP5NCaQS4V+QrvXrsgyEQGHGiMZwD5QeDTj6SZ+yLhoPl/M7QEho5yhyTbYl6MZ/JXweGlu1i3TsS54XYZH4S3/358hnngbyinNIQUCaIlPrf/brsw+e1v07/3a9raeNOieoVdQUHlPrEMhw2yj+22K9LOaFRTFQ3wsdLVLawX9hyhtAiSGKt0xlSItvINZBnLCdgwHLyieWsz3bhNpmAFnmJqAkfI5yi84zeJWyFTziQ7BObjNMc3jZZYv4jkWG/L4YT0YN+5513up7cWNtsyBSr/CSyYcwDoU2lDPsyi83064aT38b/hjNLu4ptZjnLaE/wIcgrbDV/GQLFveZ3/5dl2HY+hxNtO+0EwxU5J8oJvU8EPqkrDE/iITaIlPB2TKbnCZX0SjC0NvxbsjaNYVb0QvJ7onbSD1ejt5J9Us/xPxBRfCfAQDlOdrxE7Vl4vZYmjufvA4lANbaLnkNsDvNlGerse2sQ5/SCcN/xp9g21n3v7MlrCVJYZ2TdfPPN13LhPuEo4ICSKRR6urhi7TCVREbhzPtMb01CVROdj7X/VBIFh+uhizfW7z5x05ngReXyj3HFIXvxxRdd4aXg0ahQuRAOZB5DUBhHzHYoVm+AWZfrpsLQKOJ0M7aSBrEl+wmfO3lJxeExqlR+xmeGz98nxBJOI04ihRpDzH2kYlJBcf65NiYzUVFpdHHCiXhQ4GmI9t9/f9cIsB1OJo0OlZHGG0edLtdYx2Y/rBdrG64BZ5P9MwYTo+EjE/zG9dPVS74Q2aCysT7XiVjD0SUP/bFwSBERGBfyGUNDwvDQkJGHHIN9sYxzoBuVuTccH4HG+REp89uSt1xzov2Svxyf7YkqYawRlP68SNxfxCf3muOxjM8YEZwajsk9pDuX8kUDw/VxXBpz7htClev1x/Mp2XUnOj+iDxhe7j9OFmWee8nkQZwMyjs9dOQPeY5R9k//Yd+UD8oNZYt8YhgG9ZNrI7pGXnPfsR1Et7g+DGr0vSPRgFKeEfjsC3FB3aMucC6US8QOdYRhMZwb5YGGgfz118a4dO4jETrOM1beW9p4U6J6ha1hGbYEB5ehQzhV2GTKJY0hdo6ymqhuhI8Xrz3hSVgM4USwMOSFfYZ/70wJOx3PNnL9tH/UN+oUjh31iXqNOCMPcR5p0/AVcPxxPP2w1VjHY3++bsf6PdU2OpWUyC53hhQrL7Dn8WwYw135TpuKLcRHwy8iyBgt+MhH7KrfD20r9wlxgA0mf7l/lHv2Rx3A7jK3FdHG/aPdIQ+J/FOO8R/Cx2B/7JuyQFtE+aGNp56Q57QP2G18Ddbz2+H4Uzfxi3ybRWIZdS1em4aPwj7pGWNYUqJ2ks+UZX9ttFf0zLAd6zKngv0hKBK1oZ9++mnc9iycFy1N0feeoAfHIQhMoJb7xP1hviX2CFuCT4hd4Z5QHrhP3IPofXfmhIgir5mSQNkjuEhK+0sGec4x0ZLWQLQ02aTblsKEQlR5GAos44G5wVToRE+T6gxwT6gUOGNhqDg8SSjdxMtDJg/6Jxe1FIwdDidGBIiC4QgTKUEMYThxKIyuAw0oUVS7d4ZhGBs/+B+IUl4ZYBiAT4jYIMCAoCKQ7joX0i0+OBjdVyjyloDiRtFyLh0BqpOuuK4gPjZGGG+NoGHcLqKKSAkRcCY500NiGIZhGEbnhN40goYEcv2jeA0jnvhI63s+APHgu+9ShXXZpqOEh7HhoYeLLkners3kTQQHQ/5MeBiGYRhG54Y5IsznMeFhpELaez48KB7GvCUbgsVQK57SYMLDMAzDMAzDMLomG2zYVTRMHCIxxIbJRsBkY+YrMEGMZBiGYRiGYRhG16XTiA/DMAzDMAzDMDZuTHwYhmF0Oko0zYx8bHd4Gl5+8Dc7+JsVfO6lyTAMwzDSh4kPwzCMDcJqTbMiH7ssOwd/DcMwDCM1NtjTrgzDMDYdJsRIXV14QKzrIhmGYRhGy7CeD8MwjPWo1LRMU+Sll0aqWA+JYRiGEaHTDLvaqnuWbNktU7bukS3DCyIdL/PWNMqU8nqZWtko31Q0uGWGYRjpo0bT5MhHI40w52SbyEfDMAxjk2KDi49C1RnnjMiXnYuZ7BifCaX18re51VLVGCwwDMOIS5WmbyIfjS7CGE1FkY+GYRjGRssGnfMxoiBTfr9lt6TCA1iHddnGMAwjwhJNseYcmPDoekzXFH0fDcMwjE2FtPd80OOBmOibmxEsSY0VtU1y1dRK6wFpI2eeeaZsv/32cs8998iUKVOCpYaxoWm5w3n55SI9e0b+br65yDbbiLz7rsiqqGkZe+0lcvLJIm++SdQlWJgibJufH9nW2JB01uFaX2uqjnw02pFNd66QtdHGxswGG3Z14ajkQ63i8c7KOrlvPmOzW86uu+4qO++8s2y55ZZSVVUlV155ZfBL14T7cNBBB8njjz8u77//frA0OS0xbDfccIOUlJS4v52V8847TwYNGiS///3vXZ7ss88+0r17d6mpqZGvv/5a7rrrLqmurpbBgwfL2WefLZtttpkr7KtXr5Z//vOf8s4776hzmS+nn366Kx98pqx/+OGH8uCDD7pjnKyea7z9sj/K1rhx46RXr17r3A+OyT532mknGTBggDqwb7qK5znjjDNkzz33jHlMlh977LEycOBAVwfnzp0rTz75pHzzzfqR/daeX/R1V1RUqPP+rlsHOL8DDjjAGQbP5MmTXXng/E499VTp1q1b8AtO/6rmcrW5qgHux5gxY1x9i1Xewveuujr1MuwJi48f/lBkv/1Enn1W5N//DlYIaIn40Oqh9UP0fEXPV+Saa0QNpcitt4osWBCsZHRCdtQU6R0/44z+Wj5rtUzXaL2q1XpVrfUKgUBiWF6F+7zVViInnSQyYoRumdlNlizppuUnXz74IEe3rdC6UaF1o1Ly8kTtoMhzz60vQrVaqV0RqayMlEMPYpimUou/lv+15akzombKXYOaCs0HUdsoahu1vX0nWCEG0ddNHVNzIIWFwQoBdXUiL70k8vLLovmpkkI1hZoavS+i90X0vgQrrkfbxQc27cILL3Q28O9//3uL2sl0gv0cOnRo8G1dsK/Lly9vF/Fxud4Y7O9LegOexTAGsLynGk7+tgdbaUU6SSvSCK1ItK1Llixxx/vggw+CNdYneptwewyJ2rQwydpJysBxxx0ne+yxh9bjPHnllVfWaYM9yY6XSnuWCpwP7TE+wdixY935/ulPfwp+FXcthxxySPN5TJgwQR566KH1rrsrs0GGXTG5vLXCA/btk+P20VL2UsuIkzVs2DAnpLhYo+uDQRg9erQzNN/5zndk3333lY8//lh+/vOfO0d/6623lh/84Adu3WOOOcY5uk888YT89re/dY729773PWe0jj/+eNlhhx2ckWbbL7/8UsaPHy+HH364HHnkkQn3e9ZZZznDFqtc/ehHP5JDDz3U/ZaVtW65RThyDIwL+/3888/dd5bTWGLoEPuc69133+2EA+cTTVvOj3XC103DR13BoEN2drYsXbpULr74YnctJC9E+a1OPQsadf8b+8AgI7oQLv3795d//OMfcumll65nqMP3rj0Mq95WOffc9YVHW9Hs1+s34dH5+ULTBK0/E7Qevar16k0tj+9pvfpEv0/S5dP093maVmiKlLcTTxRtAEVuvlnkD3+oVOdlmRx22Dx1EGbKUUctlR13rJTXX4+UgWXLRI4+WrRuuU0dONFUyeLiYEEAzrwWfy3/ouVftPx3XuEBahrVNkbqENeqplFto6htDFaIItZ149efcw42b2167TVRGyYyfbqojRW1NREhomZCbazofYnsZ33ap9cD24izGIqndgpw+r3NXKCGBbvrv7d3oA+He7/99nNtQro4USsSjuTNWpH+8Ic/OBFw2GGHOUc7FixHeIS3oT0+WisYbV+yNs2TSjt5yimnyN577y2ffPKJ/OY3v4kpPJIdL5X2LFXwObh2xB/5FG6TCRAeeOCBTpD84he/UNvzutqgHdUWHRWssXGTVq+cp1q1hIaGBuc0hWnpPoCIB1HWq666ykVnU4HC99e//tVVjPvvv18effRRufXWW5sdMwokhRBVym833nijKzzh7R544AFnaFj36quvlocffrh5XZRvKvuhwqCy+e322293lYR9opCLiorkpz/9qevNiAcRBs6F7bmOLbbYIvglAoqf/T/22GPudyoZDujf/vY3F53Zdttt3XlwPnvqtd90001uXzid11xzjTv/RMTbxl9f+Ny5Lm98Oe/rr7/ebUfekC9EIjg3D9EhnHqMN0aHXhqiLdxjBAQRCowvDB8+3FXq//znPzJjxgzn7KO+MWB9+/Z10ZrnnnuueVvKHsYx2X7pQSO6xjlgTMIQ0Tj//PNdNIf9hRk5cqQr2/Q0sF/+8p1IEPeVZZRbzvWjjz6ShQsXSr9+/YKt19KW8yPqgBH11/3FFzhwOCLqiSi9e/d250TeRMO5YDgrCX1GgbGnRwShR37HEhfhe3faaadp2Y44J0AVu/POiMNCdPq660TLjmhZEC0HkahrNESZtXi4CCxt3gUXiJabyHZaVfRYwYoK+9ci6fbH7/RuUIwpegccwHWLXHJJZJ8EB70/wDo4kuyXbbX4qlMb+c0fX6t583H9fo2OQ6uVltm1w+/4y3d6N8JotXc9EgRnv/pKVASLTFN9gkPNb+yHHoDnnxetgyJvv43gFhk7NtiBcsQRIkOGqKRB04TQ4q/lP+LMa/HX8h/80ElR06i2MXKuXKuaRtfbRz7EIt51h6Hca9Ph8nTSJFEbK2pHIr1H3BfEByYR8ZcOaENpe7D50ba3K4Bt/eEPf+jaTNq/X/7yl85px9kOt4Ox2tEw2OfCwkK9Z3rT4hD2Ae677z63L5xj2l/8Fk/ETt/u8tZD+0l7Q/vzlVYkgknT9KYXa0Xit1jQxtE+sb7fZubMmZKTQ49jfsI2jX3++c9/dmIjWTvp/ai3tfLiey1atMgtBwTKvffe6wRfsjY0lfYsVRA/+KKcf3TbiT9Cmzhd1TrnQd5wLJYDgo789z6RLxMbC2kVH1sXtb7Xw9Me+2gJVIjbbrtNbrnlFtc15BU9ap+K8NRTTzknE0curFApMP/617/khRdecAWcCkGBQQhgDBEPqewHtU03IscHDCoOOt2aZWVlTu0jcuJBNIFKirCg0tbX1we/RKLviJmJEyc6xY/zSfQdw3fOOec0R2X4jcrAvoh2U3E4J0RErGi8h16Flm7jYZ0+ffo4o8GwHPKMaHsYBMr8+fO1cZskjzzyiFx22WXy7bffut/o5WL9ZcuWOcGFkFi5cqX7DXw0jHv6l7/8xYkiD8aR42HIEu23LXBtGDiMJiAMOCfOB+PHNROBAe4T+ebXDdOW82OIF2Ub2D/3nq5e32WNwaX80QCSrlMVQJ773yirNFQYQ4widQPo0eA6GOZGg0bDRnkPE753HI8AkLYTDoasoJOmTo049TiEnCZVgGEdyYoPUdvttosMG0FEzJ69VnwQzdUi6YaDaJHUMhlxlNgnQuOttyLOEeIkOkhGpJz2lGg22y5fvm40nHaAYqW3zvXA4KDtsUfkt7ahO3LR4HiJQAbzIUZrQjgSks7RtOmh1cqJCl9VKEfcEy2O6zBrVkTI+tEoDAdCWNDDRVAzFJB0rFghajsj+wf8L/w/NZ2upyCMFn93PIYlafHX8h8RwJ0RYlEIgJBpdPkF0XkGia47jBdgCBlQE+vEuAcxiCZQE9vu0K5ii4imT8WIdEHwHxh+dYkasM8++8y1YQzXaSnYc7ZniE+0DQai/vSM4OjizOLI77bbbq7NwQnGb6F3HLDr9IRjsz2ztCIRGPTDuhjCy7HwHeL1DtBW0WbRdgH3i/YHAcD+ErVp/I6YICVrJzkP2iiuJ9phZ9v//e9/buRBsjY0lfasPWDoGcE+eusI/G2njRjnz3ngIzIca/Hixa5X5N/awDCFYGPqFUmr+Bie3/bdt8c+WgLGi4pJpJxuOQoFQ2lwUHHMUcL8zmccNZYDy15++WXnxA5RL4TvVBgcrVdffdUVdLrUku2HSsJ2HB9nmIhEqmCwiGJzDf7YRBg8fMcBffrpp5uVNufL8aPBMDAmExFD5abisoxeg3i0ZhvgvOmpwPhhWNg2fN6ACGM/YUPoIeJB40PUi65LogkYD64tGXR7EukgL4ikhIneb1tA4CE2EkVRiHJhMBkySL698cYbwS+xae35IWYRvkSJ6IHxjcacOXOcML3iiitcGWHeiheOGEHuCZEyBDVd39/97nfdcCqiXkSNKOcIV/ZDvvqIWfS9o15pm+ZEBzBOnu/8zDCNe++NODEkglfJqgDOX1mZ6PEjw2W0CrnoN2g2uvHsWiSdg6pF0i1LUiSdk0aV1Oopr7wS2ZY2T9uo5h4bbuV//xv5DeeM76lXV0REvBRn/EszeIlEwDgYXS1kJHkda1+tSUkypxOBaMB5TjU4iSP9t7+JXHQRgaZImQHESa9eEXGJONV2f51hRtoEOOeb8hkN6xE0ZV9a/LX8Y1cijntnA1GOyEjBNDoSXbcHgY+YIw/pWYqGvECcqIlVGxssbEewgfTaYwNTsfmdkdLSUnf+OJ74APHa5VRgLiFtQqzhVwSBCGISkedYBEH5u8022zTbZ7YhMEUPAb0asfCjJS7SikTAFtufKgyNwk/BP4huD2O1aQR0/4uhDYjXTtIOESSbPXv2eg47vSCx5lDGOl6y9qy9oN1llARtKL1ZnAd+yIsvvugClQgT/D/8Rs6NthdhubGwnmePU0IB5YIZA4eS9jAcg5tIBJNMIkUP0SCi63+vVKsV3t5DpjLhlkThix6jSeTc/16r20cPH0lE+Pgkot9ERMJGie4v/zspfA2ci98e1c054DjizO6yyy7OeUcNMzGXAspy1qGHgWNwbTi/5BPOGsuoHAynQnVzLhRiKk/0fnDoiDRwbFQxUAij85jv0cvAO92cTywQHAz/InLBsentoIcgFtwXHEaMC1EEBAWiKhGt2Qb8eWMU40FUg/2TN2HIyx//+MfunnJM1iHPuY/sNxH0An3/+993xoVoSJhY+20LlEuukShMPGgQMKh33HGHM4D0oNHTwL0i+eFw0JbzY7ib7/lCQBBBAnrU6NGg7DJRDxFLo04UBuP3xz/+0Qk0DDgRM8qtH9aHwX/++eddGaM7m7xnO4h17whQMtyJQ9PL7NsEejpOOy0yjEkv2T3RKhk4oG2qPeMAAK33SURBVESpY1QJPW5EaOBsajY5EZJCkdTzjzhp4aqEaOE4LRs6sqWmsGPvU2eGQEiscx6gqXNB08B9SlCt1kGLrZurQG8VZUOrmHOe1b9xZRJnW4u5Cu/I5GruOUHPYcMivWSxyhjQ28aQLXrRcMApP0Hx71TQDNLcJjGNjlSuGxB01GFEfzRqYtXGRgRZlIltF7CHTBzGtvjJy5s6tH/Yb6L50cOv8GXwVbz/gF2mDWGoFqIH/wO7TfQfP4zgaCyw//gPkYeHVLu2ipEPyaA9o7eEIGNYUECqbVqsdtLjRRztEO0RfhRDnmOR6HiJ2rP2Av/j4IMPdu0w7fEzzzzjRCDijPtDm8+5MWeEUSz4ivHypCvSLD5wWBkrDjgXZAhzJnDMwgICZ56Z+XQRUfHJHO8oU+i5aShhfl+ZXegKe3h7nHPA6SWxrl8G7INt/O8zymucMk8V1vXHJ9FzAXRpAueLqKAgha/BO77+L4WAdajAVEicRyoLE50Zm0mBP/fcc9eLxLMuAgNlTwUG1DhCDkeNvCMygZChK4/9MAGaKADrEW3GWeM6MBIcn/PzAoy/fPfjAsN4pzueoCACQJcqvS5MTGYIVzyhQsUk6k1EgC5KzpOu1US0ZhugQnHu8c4bo0YEA2c4LLqIGDCMDSN55513OqcZ6GUijxjq5MFRBi90EWFEUBCaOPXhSh1vv21hxYoVzsCzb6B7FYPG+XBPqGteBHgHn8gXZYV8JGGgiJa09vyY30NECDCqft4Jxjn6HKJhO7aPBQKZshtLWMW7dzh6wMgCvfWu54C2i8gz5oJ5F3rJruchGVQNeiRitX1aJN0QKy2SWiYj+0yhSLpzoqiEiyS9GtnZfTXfaYR4UR5D0nyPw0maLtHEcMmww7726WBdH57YE7420oaF4VEI1qBaab2KONZBNW8Gv4H770dPIHZxlouKIj1nVH+GCqlP457ixHQoyhVlhTJKrwjFH0HM3AYeXkQPCo43w74YcpSqANqQMNJETWPzcDIITON6eZbsuoFrpicQExSMhmmGaY4Mo1QT6+ZLpcNv2n333d1QIRw5nDXa1FTmRm7sEOjEaaat8HMiAP8Bn8ILBWw2tpu2BOjpIICI/xNrKBU+EW27H4ZEO4VoIc+9vxOPE044wQ2JQhwgIMKk0qYlaifx4/BluLZURoskOl6i9qw94Rzwe/w8UAQj/jX5iN+Kv0BvB74aI0pYziicjYVm8cEQHxxvLtRD7wfK0osL4MayDHCeKMRkHJnoHThf2KeU1TshABR6HC2SXwbswzuGgPBgmWdqRaMrIN75Tgbn4ysWEG2mQHroXeD8KFzAsbipVB6OQSFGYCAO6HokT6jIFE4cViLlOLWMB/zVr37ltgtDBIYhKkzcxjAiOBg7T0FHAJHPKH8UN/shv6nMOIBcO/iIMudNQoSQ+N1XiFgVA6ebY+Ps0eVKD1bYILAN+U8lpXAzphQnOAzHZj2EAHnDPeXYGBu6YRORaBsEH4KACsc4TQyIf/wgvyECyHuWs074vMkvKiKGxsM+vDNMBCTaWGE4GcrmhwZxP+ii5ViIJKILbMMciLDwSLbf1oIgI6+J0pH3PJGK+8n5UO4os3vuuac7V0Qx10+9izb+bTk/7it5zLwcPpOv1EXKDOWc86I7nXOg/HAO5CPnCNgDlvM72xJUoMzxmEIaAOoGf7kO7AHbxbp3gGZHi+jp6DVEhi7hRFIc0cOlpZFekVR6KRihRzU87LDIE4dwhnyxRjxgTrjFWiSd8xldjDEPEXPA7OLjNf1ar2tnvWePa7n5VMXLbzTfGSv9T72uF7Sx3U/XUS9VHta0vybAxhyjaa0t2zRAgITT+kGRdIKo5F5rtdLyG5lzgxmlyDJ8ikcya3VyAoHf1SS771qE1U5Glmvxb4Z12IahQuzj4495iMPaJzp5QYwooQeFnhQt/q7cEeHnrxZ/J16DatPp4NwZUqim0eUDooIeHs6XKV5cP8uTXTdoU+l6FgkehEH0q4l1dZv5WyET264wEoG21AdoUp0b2VUgCEmbSpvl241YgcdYMAeVdpWApgc7jM9C4M3bbH73vdL0dNAusSzWkCscc84D34Z2irYAf4PltCO0b9yHsA8GBF8ZuoTwwJEOk6xNI2jKtsnaSUQQfgdtFPukncP/IIDOd3oQ8ImSHS9Re9aeEIzDJ8DPpD0mcItvij+Nb0Q+cs7kN8ff2Mi6VuED4+15DBpKixvCJBsqNoUfR52IPRF9KkK48OPMUtn5HSeOTKJw4/ST9umd49bhM1CAwmIgjBcnHMPzxJwyWVC+pnmfqUKBZO7A/vvv7xxqxv/hBOGA8jc6ys5NR1xwjTwejXkACBXG39GbQ6LQ4sxSGRBgRBao3BQeFCvzNNg/IoOKgYihIlAxeXIC8zCIZCM06A7FACDmULwcC8NCz4l/ChHnwHlyDuQLUQMSFTDamfNwHkxgorKyP+4N+cm5UUHpVWG/dPdRUdk/DibGB2cdI0cUCTXOfUKgUCmohKxPpJzriAXCCqMVaxu6WXF0eeoR1845IoIoDwxLI8+IqnC/MGBcL+szB4GIB/tgzKaHyVg4tlRM8hlDQWJ7HH0MEcfgWuiuRMDylCfyjeMT2eFcuZd+W/IWw5tov74HDSee8yXfKANhmL9CPlJm/H3iM/nBMTgmwpOua8azcs+5PsofkQ3uGz0ljMflb5hk153o/BgGyLlx/9mG8+E+00hRXyj7/v6Q5xhHGnPOgX1QbjkmZYsyRZ3ikYZcG9dDXnPfMaiUaa6Pa42+dxEWOxEwalRkmAqP5yTGgQDRy3OTyNGfekpOHCBWEBVqo7W8REQL0WzaTIojbR2OJb0c2dk8bnOk5scYbez66n3eRcvk1vrb1nrNu2mZ3E/P6RDdjh7EE9X5uk3z/AK1L/nqSO2nx9jSlUnyk8mI1GHqPfWBrngibtH5i/0gYBGuv5smhNSZhxJOIe++ndGip/dUtF7hpEQi+jjGDKNCZNCTRrv93nuRIVE42szn4ClnBHu16LuyBUTpzz8/Et3nFjJED8EaDfMXfDkEzoHjavF35Q8xpMW/2UHvbDDpm3lWnK/PB55Khani2rRp0HZjbe+kJ/q6+XziiZFgwcOqw8N5xWgfhkzi93Jf1Ny4xH3y26+FMtI+JLLLnQHaXfyk9yiQAdh92nTG82O/w+0HNpZ2mTYVvwRfDD8IhznazmDX8c38fmh7CfiRJ9hgbBqCAl+K/TH5HCeXOXgIAtZnO9bHGeaR7OHAM9BG4BwTzKMt8m0rbQijQGgfaJ9w4H1bBAT76FFBqPg2i4Q4wHbGa9M4b5bhezEPMVE7yfH43V8b+Ybfw3asyzacK3mdqA2lTYvXnrWF6HuPz81x8B8RZ+QNy7gefFeOS5vCawO4J5QH7hO+YleCHi98cPw5/AavDZpfMsh4MxxkxAdCAseQi8RB9vhhE2FVS/QT55VCjJNN4WScv4/iXzQqX7YtaGw+KDc/3NMRBuFCItPhvVX1csPExevtMxGcI4UQgYGzxHH9eeNsobUwTmEBxDnhUHDzGTfKDWa7aLyDFj6X8DKyEpVN/vieFa6HZeQNlYzf/DI+U8mjt4kGA8I1kMfkNcPjqCzhHiTgN8bzpxsmLPteCw95iLGK7k5NFfKBe4ZhA7rMcYCJlGAU3nrrLSfCjK4DDSiPa4x971r+hvP1UZVidEGINKZPkBhdDavHGwv4H/gxzHE1DMAnRBQT6Ma3x3deR3ygfhlGRFclyjue+MDJDDvf3jHG0UfV+c/eec9rapCrR2XJ0KJCd0CUKSfA52jC4mNFbaNcNbVKFq5c3+GPR9ip9448kXUi8jjqLPdChM9hUJZMoCKqj/KMJZBiiY9wnsQSH+H88XmCYGM9HHhuCOeH4Is3rInrIorDDaRnJbyvjYULLrjA5QfjdrlXvE2byWM8WSk8LMrYWKBL3w+lpEuZxPyJ8ByqQk3DNG1qQ5k2RQizr/8Oma6Bn4jq27RwOxVu5/zyWMugNduHPyfCT+jgr6930Z+B76l8Dm/nP4f/xlqXOu4/hwm9TMXosjCqgqAhgVz/KF7DiCc+mq0cUUq6oph8g/AAHF2GaoS73liGUwg4xTjWdF/hDBO9hnB329yly+XXny6QlXWRoVckuvc8OOw444EGciA8bp1dLVWx7FQKIHA8DBvjnD1kAucfngTPNTBciUzhOsLXy3rkAX/JOPbl84dlPi8SwfX6aybP6KHw58gxER5+3gwgmBAb/jx83tLViqjZ2IQH0CVMfvJ2bSY3IzjogTLhsbGCw8GToEg80so/xpC/PjGL2ITHpkG8p4KRIu3KhoEgEmUx1nn5RNCIxERXEvMAfWKIsk/si4So9olr84myTqJH2yd66H2iuSYhOHxKFb8+2/v9sX9/TH8OnJM/T87ZXwfX5a+ToXXM6yTxOFgCeSQ/zI5ecYIGJJ6cNipI1GfqfXQyNgYY0sX8VRMeRio093wAQ4PoNmMcOotJRKF9RB4nHccYJ9k79ESrwxF739Pgf/fDn3rkZMm5I/Jlp+Js53h7RxsxQi8Df1n273kl8nxZrqxpihjWWL0NicCBpVfBO/cMdWL/OPe+x4DeiPDkIT8cCqLPH8HBdr4nhPNBPADzNbg+8i1ezweEtwH2x/59bwxErxOdr/6cGTIW3rdhGIZhGIZhdDaSDrsCPuJ847inOuejpWzVPUu27Jbp3lw+IniB4NzqRvdkrKmVjfJNRUSUGOsSa/iWYRiGYRiGYXRGOo34MFoHeU/vS7x5IYZhGIZhGIbRWejy4iN6qFQsNsYhSX4YGcO7Uh16ZhiGYRiGYRgbknYRH4ZhGIZhGIZhGMlI+rQrwzAMwzAMwzCMdGLiwzAMwzAMwzCMDqHDh12V99pMynuOkoreo6Wq+yC3rLBisXRfNVN6lMyWHqsTz+swDMMwDMMwDKNzs8GHXTVkF8jMcT+WaTufI4tHf8eJkIacApf4zDJ+Yx3WNQzDMAzDMAxj46JDxAc9HFPGXyAl/XmTcWJYh3V9r4hhGIZhGIZhGBsHaRcfrsdj+x9LbUHvYElyWJdt2tIDstdee8k///lP+fTTT+Wuu+4KlsbmJz/5ibzxxhvyve99b53PnQHOg/PhvLoCPO74nnvukY8//tjl/bPPPis777xz8OvGQ2crJ4aRCj/4wQ+szBpGJ+I3v/mNvPLKK7LrrrsGSwxj4yft4mPO1j9okfDwsM38sa1vJJmr0r17d7n44ovlvPPOC5a2D7xL5IgjjpCbbrpJXnvtNbnjjjuCXyKEhQ9O+D/+8Q+3bFPg2GOPlS233FLuu+8+Ofvss+Xhhx+WqVOnBr+2L13daKcqYJKVt3POOUf++9//ymeffSbvv/++/OUvf1nvfTeUv+eff15OP/1099v1118v7733ntvmnXfekSuvvDJYM/H+Dj/8cPnXv/4Vs2wjMh955JFm4cm9Ofroo91vya5hm222kZ///OfyxBNPyOuvv75OniBoH3zwwbj7DV8L5/3LX/7S/RZNsutmu3jXHe/8+Pv222+7bcLpww8/XC9ggOP/v//9b51gSKL89IwYMUKeeeYZueKKK1xZ5/op+y1lzJgxcvLJJ7vz2JjgHsa7p2HC5ZP00EMPyXbbbed+S1Y+E5WNrkai+hRN+Lr5G25Lo+s75ZjyDMny86CDDpLrrrtOXnrpJXnyySeDpa0jXIeod7feeqsMGDAg+HXDQ931diE6JQuMtgT2RdnEfodhOefQXiS67/FI1DZAuJxRl7HTsepXInvJ+qm2BYmOl8hOtIVY9r+17LjjjvLyyy83lyMS7RDtEfsPL/epPctAe5BW8cFcjlSGWsVj5eBd3D5aQ35+vpSVlbkb0t78+Mc/losuukj69u0rDQ0N673477TTTnOTaxA+l156qXtBIMs2BbjWqqoqmThxonz55ZfO4eUFkUbrSVTeMLwI7W+//dYZnqefftoZzzPOOCNYI8K+++4r9fX1zuCef/75svfee8vf//53tw3G97vf/a786Ec/Srg/DPC5554rq1evdt+vvvpqd79p7DDcv/jFL5zgv/DCC53jzQMrEDs47snqzK9//Ws55JBDpLq6WrKysoKlEc4880wZOXKk3HLLLe641OtTTjnFOeUcJ3wtNBb8PfTQQ4Ot15LouqmfRx55ZLMYpFHD0fcCIt750QDst99+sssuuzQnjDx59NVXXwVrRRy+4447zuWXJ1F+hjnwwAOdPcGxaAvTp093wQHuycYCecp9eeutt9x9w97zneXRcC/79OnjbPIf/vAH97Lcn/70p+63ROUzWdnoaiSqT2HIw6OOOsqVu2OOOUYmTJjgbANlCBDj4fpOviFusQWJ8pM8vPzyy2XzzTd3L9GNru8tgXPmenhIDtdy//33y7hx45rva2fg+OOPb7YNvCj5k08+af7e3oHRvLw859SnMyCX6L7HIlnbgP1FqPr6hbjYZ599XL6FSWYv2W8qbUGy47GfeHaitcSy/22Bids8IOqxxx5rLku0Q7RHlCm/jEQ+L1y40Nn/zsS6HkA7U9FrdPCp9bRmHzT+u+22m7vhPgLJsrDibEvUnGFFRG64qVSiMOyPN5GjzGkISXwePHiwU6vxwOmjUUumtqOVPxEsrhMwAP/5z3/cb1y3j86RoiMCYQcnOrrlf2O/RKzYF/t89dVX40bIgPzl9/79+8tf//rX9fKdz48//rjbD/tLdCx6jqIjwGHYV6JjQfge85m84fjkWzh/IJx35FO86GksEuVvvN84z7POOkt69uwpv/3tbxNGshOVN8pIdna2/Pvf/5alS5fKAw88IMuXL5ctttgiWCNyDjvssIPrgZo7d64zpvPmzXO9U2yDc1FXV+cah0T7owzzlArWx7Emv9gfjvHYsWPdcT766COXtzgqkydPdkYSg5voGuCkk05yDQINM0/cC0PEftq0afLUU0+54xLdLioqkq222so1tuSrvxbyGaOMcxVNouumHK1atcqVTf8b5+kbi0TnF4ZyPH78eCe+2Yfn1FNPdQGRxYsXB0skYX6GofwuWbJEtt56a1fWOVfKPuWdck+Zor6wH74nshGp1seuAr2sCEIi6Nw3/vKkRspMGGwv+c11YpMJipA3OK/8lqh8JisbXY1E9SkM65GX5OmCBQtcGcPJZz2cRoJK2Alf3ydNmiS9evVy5TRRfuIgfec735Ef/vCHLj/bAufCuXMNXAv2imujXHQlEGA45tFtE/U53DuOLUjU81lRUeHsGfYmHuH2nnwjsNKvXz9nC8g/Dz2tlPlwO5zsvsciWdtAom2iTlIe3n33XRfAHDp0qDvec8895wRFMnuZqC1AcFDvf/WrXyU8XjI70Vpi2X9vu+llIV84Dn7fDTfc4M6dc4jnByHq2V8qgd2DDz7YtemUI4jnJ3Y0aRUf5b1GBZ9aT2v2gYLFSSDKsMceezhD2FGgmHNycmTZsmXBEnGRASoNBSAWFGyisqyDAULR0+AR0QkTHeW57bbbZNSoUa5iUUlPOOEEmTNnjnOS6Mr2EWu6+4gIIG4wYkS1iWBRqInq4chQoYluUan9b2yHQbn99tvdfkpLS2NGyDwobior1050JFa+I8yoUOxvxYoVroGi4P/sZz9zx+Ka2BbDlKi3iHuc7FjR4OgvWrTIXR+RUowJUWWi35wP5YWoHsMEqLCxoqexYFt6FnDmyF8iDOQlDUW8vMfQE6UrKSmRa665xgmU1tC7d29XHnBOAWOEcxyONOKMYnAxskDjE26caBwoo7Nnz064PwwWkVCcWcChZXgDjskXX3zhrutPf/qT+417itHnHk+ZMsUtaw3cI/blzwc4H+oKDTaRqUsuucQt53woTzQkNHDRJLpuzpvz5zpg9OjRrh7Pnz/ffU8V7jGPFaTh8rBfBAlOF5FeT6L89FAPqTMffPCBK+OUdco8Zd9H6miEqJs0WtTfeDYiFvHqY1eB/MLhwpkBygYOR3Q0HdtLmQlDmcJhwdlIRHuVjc5AsvoUhu/hPMM5QkjgpH399dfO3v/tb39zvx1wwAEuwIENxanpKDjH6F5UorwIEuxvVyFe29RSsH1sv/3228cMJPj2HiFAG4WQoa3juARMuLe0ZYBPgS3CN/C05r4naxvYF/tk39Rn2mPuK6KGZS+88IJLyexlorYA+0lAhmFPiY7XFjsRj3j2H9gvwT3uBUN6Ec3YF3qKrr32WleOvfAMg/jAR6I980FN2rdo8NXwP/BJKBeJ/MSOJq3ioz2eWNXVnnrlDTYGPVWI3hB5oAChRKlkOLLR3WRUVqKWOKo4GTggK1eudBFdGmCiuBRKuhAZLsOYWvZJBeScKNR0dTMOlzRjxgzXLUdUD0eYSozjzTUQASfqxWfOj+vhuByf82gtGBuiK5w/CUcNg0JkHYNINI48wJDhGLVnA0Jeka/eoOJ4cgwqH5+piPxGtIdoaqrRM/KYvOa6iKRgxDEqCMhEed8ecH/8+3nigQOLw0q0KhoMI0aIvKfcpbI/oAFhWCGOL8/xjoYuaxoYymgq0Zl4+MaA+5MI7iuJHk+MfDIHKPq6w5BfDBuh/iEaUwVDv//++7sy7vOaZd///vfd/fYNdizi5Wd4uFw8qKc0zi+++KIb6hjPRsQiVn2MF8HsjOB4UlaTlTHKA04p9oThCThNOF2IiJbQ2rLRWUi1PgHRYcoj9QSnlN5g7GUYHCOENjaNfRNU6UgQnQRwqCe0WQSM9txzz+DXrkO8tqk1YM/o/UFkRLefvr2/99573bEILPp6gS2kLu20006ubuCT4JDHoi33PV7bgN3CdlPeyAN+B8RGdBuTqP2J1RYgjgjEhINSsY7XXnbCk8z+Y7ux7fgN5D9BJPKc8+TcKNsI02gQqognroEgFPebexI9xAzfCpvu26NEfmJHk1bxoVYu+NAG2mMfHQhGA+ctOhqTCBQ1hTvs8NHNeOeddwbfIlBRcSJuvvlmV0mo/FRioPuR5YzfpfeErkqi+BRuGkm686gIdLH5cbEUeM5z2LBhrgKjoBkCVFxc7CLgVHoqJBWRz2zL8dviTMaCc6BBZKw250DCcBKtpycp3eBwc71cH8e+++67nXAgKpIK5LHvMWF7oggYZEiU9+0B5Y28i1feaJA5Nk5pNOQx0bFvvvmmOSqVbH+A4f/973/vxBTlIhwZA7rxcQaIqMcSJi0BxztWJDsaDDDGl2EEDJGiYSKq58tTeJhCrOv24FzSNU8jQH1qSVk/7LDDXEMRzg8iUxj/RJNq4+Uny4lU+eFy8SB/yCdIZCM2RrCZlFXyKhk8/IK6St4gzggw0BgjzFOhLWWjs5BqfQJsFzYNB4ynFuLMkV/hoSM4SDhpjMUnP6l32JuOgnrBsBXaLOoOY/NpAzlPyv+mCPeYuQC0QeGeXqCu4Hx6e0IZpjxjo7CdCBJszrbbbuui9DjEsWjtfU/UNtAbwT4JQNJrccEFFwS/rEuy9ie6LYg3giHe8dpqJ8KkYv892LKwD5gIHnpCWae3BGFFflKv8S083A9sFvfai49EfmJHk8mQg+hElwwnSbcy3fetTQVlC4PDtB72EWvfyRI3ghTvu7/JVEQfBaLShj/7dROl6P1SefmLsvTLiIKzDjfYLwsnxqFzHuH90JW5++67NzsVnBfGn2FPDN1BTVPQZs6c6bZjzCXHYcgW6yFcMCJURIaXcE8ZAoQypmcBtY+iZ7/cc4ansT8SXbZ0+THml+5Kun/ZlvUYp4thCp9/OIXzle/h/Al/jl6X5URv/TmQiGCxzK8fnRIdK/r36HXD+coyuj5xSMPH57vfV3QKlxPGNdNzw1NW2I6oEvvkt2R57/cR6xixUvQ10iWMcPXlDSFLo8O++U50g/UxVn4bEkaJ6yMiw8RQJvGxPNn++I3IFaKGMoZR9fskMXwQQ45BJ9IU/s2n6GsIp+g8YagHhhIh6NfhHBBINI5MXL3xxhvdcuwVxpTl1AXy2N9LxAfrxLtuEj1dDP+jsbnsssuc0+9/8ynePeOc6N6mPhIFZBn1hO528pC8QAQxHID6iTCijifKT8Q4ThXd5X4Z5Qooz3yPPp9ENoLfw3kffR+i60hXSNhbnBHqH9/JT8prrGsgH4kEYt/IJ3oliQLjvITXi84XUiployukZPUpvC6JdoC8Is8IiOG80g5g1yivfogfdg2hi/gmr8L7iJWfqfyWakIkYXM4R4YXIqxoU2Otu6FTrOtN1DZF1+/o+h9O7BdYh94PBAJ2ZdCgQc3HZH/UD2wS37n3DO3x954hUvxGwBEbGV03WnLfo1O8toF9sU/2jT2mnNEex9pfInsZry1gv34dUrLjpWonkqVk9t/3Rie6t7HKCyl8rSRfZsLbIqxoxzmWX5bIT/TrtHfiXqAn8IO8xiBlMh44OhEpQzUREWdcWWtTUckclyFtgX3E2neyhDEl+e90a3LjieIwxo+hNkBh9lEgKmX4c3h/8VL0cegGpkuMQsekOhLjN8l8P8kqOtGFT+HHyUcEsA3KHkPKeQDnhZHgLyKGAkljSCPC8RkqwQQxIhDcN2/QaCy4Xno0iMhTGFgf2DdDLYjy06XOdowJpUKzDREDlD+CI7wdeRbrOkg+Yu7XCedP+HN4XV8Ycd44PufB9dMDkagMsj3HoXeE74nucfR5hfOVCDjLEREYIJ5sQ0SB4RXh44VTuJzg/GDUadS5f4hG9sdvifKefXBe/vxTSdF5iJPJsRE05BUih14cumT5HQFHpcdZ8tuQP9xvyiSGHKOX6v6IXHGf6O6lV8xvRyKSwvo4Awiw8G/hFH0N4RTOV7+MyA7OJU419xQBQX2h3hBVoq4RBcKw+i5yri28X1Ki6+a+M/cGuEYMZnhbn2KdH4m6SiOPWPfLqO9E4MJPHuFamI/GPBx6oxLlJ8KRqCQTBf0yrg0QJXyPPp9ENoLfw3kffR+i60hXSAgrJpwSvaO80vvE9VOOuafcZxrh8DbUUfKbMvXmm2+u8xspOl9SLRtdJSWqT+QNecZyvz71isemI9rp9aAXBKcO54n8Jn9Zn8ScEARh+HjR+Znqby1N2FraDRxhgi2x1tnQKdb1JmqbCAbxFxtB+cYucz/YJrwPEvsFvx+GUyIg2M4fk+E8tDfYBdpKBAG/Y5P4nd4i1sUHxDfw+/Yp2X1nOCt+CIHL8HaJ2gZGOOCoEyzh2liPc6Sc8jsTs+nB4HMie5moLaAOMx+E8p3seD4lsxPJUjL77+ddedvtbXv43sYqLyTaLsSDv3/4LKznfUyui/qAL0rvpd8ukZ/o12nvxHHQE5SpsM6IlPo00X31zOBT62mPfQAGE3VIdBqH2qvMdEC3HWqZIR0kKmb4KRLRUDlQoBQACjvbUDAZphMGJ4SxeTglXA/qnO5AlCyqnHGOzM/g6SR0IdKYEGWga5ICjzNNlAKHlMgIXXGMQ6QSY0iIlNAVSdSI9TlnRAFDDdgnBYZJW37iZXvCtTJukfPmWJwj55BoeJIfj8r9pHFs7T3m+hkaRSSEMZBE+1rSbU/3Mev/7ne/c0/s4n7gwPPUkUR5T0NA2cAwt+TpWmG47xyfcyffmExGV/mjjz7qelpwUolOhUHk4pBivDgnPzSJ8pNof0TDSOwTA+a3Y/80EMx3oAFAaPnfSIme5JUKvhzSU0F+0ng88sgjrt7w9CeceI7JtdDgcN4MO4gm0XXTy4BxpNHku/+NqBHXnAjEJ8KGOkvjmiqJ8pPIFPWNSHUYyiQOBfWVuh1NIhuxMeKHBnn7xZAO6hbXThlmiB3l0oN9JZG32D5sdTLaUjY6I4nqE+P9yTOcOMB54jqpXwg6bCNDdXzdA+wt+8HhIU8JVHQ03BeEB0KUtiR6HldXhXlc2ANv1yhv+BapwH3CDhK191Deae8IkNEzgAOOUOP+AfaFdphAHu1WNMnuO7259G4Q0AyTqG1gH5wDDjl2maFKPO2JB2wQlceGkRLZS9qfRG0B7S7XynkkOp6nNXaiI+FcOWfOHbtHgJu/fngVgWNEIr044eGhifzEjiajifBYAB99tw2RMxwjlGxbmLn9KVLSr3UTGPssmiAjp2yYSX0YXSJA0WOJGfdHFKw140kpzDg+0WAMcJa7ChReoiZhcPTpvkzlqVMtYUPmGQaNyu0jEh6iF3RTtifpOBaNMREHxuV2xfHpmzI0CoglRAgRSMMwjM4O7TW9r/GermdsehDMRHgSGKAnhCC769FJt/hoyC6QKeN/LrUFvYIlqZG7ZrVs/fFfJau+4yfCGIZhGMbGzgHV1XKKtvOZ2vbfXlwsU3NyxD8QvkSdBMNIFXo9rrrqKterQG+BYcAGEx/A43LpAUlVgCA8Rk98RAor1j5VwzAMwzCM1jO2rk7OKyuTEfo3Ux0AREc8avX3JVlZslydhVXZ2bJS/64m6bIFmuYHcxMMwzDisUHFB9ADMmeb45IOwWKo1bBpL1mPh2EYhmG0I1eVlMju1dXBt7ZRqk7E1zk5MkMdijkqRGbq51W6zDAMw7PBxYenvNdmUtFrtHtzeVWPyBsjC8sXSY/Vs93k8h6rZ7llhmEYhmG0H79ZvVp2q1n3LcvtCb0hU9XBmKV/p6kYIRmGsenSacSHYRiGYRgdy+D6ermypERGBO8E8NSoI8CSOv3LWyXq9S/PRuvZEHnHRFuo1H19npcn36jTgRD51sSIYWxSmPgwDMMwjE2QISo4roghPN7Nz5d7ioqkLMZwqTz1B/qoP9BLRUgv/dsz+DxI09bqI/BbS6nS43yhDsiUQIwwwd0wjI0XEx+GYRiGsYkxNBAew6OEx7PdusmD6hS0FkTIZnV1spnud3P1GbbT1FIpUZKVJZ/m5ckkdUo+1xRLBBmG0XUx8WEYhmEYXYYJwd9U2VHTus47woOhVsPaWXjEgvdrj1YxMkoTT9XaXv0IBEpLeLWw0PXGfKVOimEYXR8TH4ZhGIbRKViuaV7kY5oYVr+VXFFStZ7w+JcKj4faWXjEg+FeW6gQ2RIxUlMjg1MUI5/k5clr6qx8rELEMIyuS6cRH2Ob1sgOGWoQpUaGNkWeurEgI0/mS5582VQo0zIK3DLDMAzD6Nq0tPeifRjckC1Xre4tw+vXHQj1fyo8Hu4g4RELJr1vQVIfYxcVIwOSiJGPVHw8r+c82eaGGEaXZIOLj0JplFNlmewgVcGS2Hypa/5d+utaNvbTMAzDWKZpfuRju4Aj254R9fLgb+egf0OWXFnSR0bXRQuPChUepfppS03d3LINzZi6OtlW/Y29q6vdUK14vFxYKE+pCGGOiGEYXYcNKj6GNdXIT2SJ9M1Irct1RVOW3CMDZX4GD/wzDMMwNg0YIjQx8tFoMb0bs+SK1b1ly7p150z8q3uFPNQd4RENImybyMcNDHNE9lIRclhV7AAlwoN5Km/ZUCzD6DLEEx9p716gx6MlwgNYl23YtrXstdde8s9//lM+/fRTueuuu4KlsfnJT34ib7zxhnzve99b53NngPPgfDivrsBmm20m99xzj3z88ccu75999lnZeeedg183HjpbOTGMeETbkB/84Adxy+1vfvMbeeWVV2TXXXcNlqTGgAED5Mwzz5TtttsuWJIKCzQxLCmcTHi0lu6NmXJxSa/1hMdz3eIJD+Bt59H3IH0vIUzERHVM7ioqkp/37StvFBYGS9fCe0d+WVIiv9K0MdHaOmcYXZm0iw+GWrVEeHjY5rimFcG3lkOPTffu3eXiiy+W8847L1jaPnTr1k2OOOIIuemmm+S1116TO+64I/glQlj44IT/4x//cMs2BY499ljZcsst5b777pOzzz5bHn74YZk6dWrwa/vS1Y12qgImWXk755xz5L///a989tln8v7778tf/vIXt00Yyt/zzz8vp59+uvvt+uuvl/fee89t884778iVV14ZrJl4f4cffrj861//ilm2EZmPPPJIs/Dk3hx99NHut2TXsM0228jPf/5zeeKJJ+T1119fJ08QtA8++GDc/YavhfP+5S9/6X6LJtl1s1286453fvx9++233Tbh9OGHH64XMMDp/9///rdOMCRRfnpGjBghzzzzjFxxxRXBktYzZswYOfnkk925xGaWpj9pqnTfItAbsUTTWgd1110nyCsvTtA6GPl+0EEfyY+P/aMcfPAH+p3J1AyT+tr9Fj8t1dR2uIXvvSjymaZ3NIVu6TpoMZIHHhD5WNf5VJNmu+Z/5DdusxYNtx9+e1VTrCzi1vCb3o5ORX5ThlyiwmO72nVHC7zcrVIecEOt1kI+aHVqzodXNAXVKWCypsg9OuecCfKm3udPNb2n6frrJ2heRX7bbLMJmp9fy8cvzZZPX5qh+TlD83OG/jZN15mm607TbabqtlM1z6ZqflIeIumccybpfifpb5PW2+/s7IlyW9F0ubL3Cvksb/3RD/tXV8t5ZWXBt3XrEPXu1ltvdWK4s0DdjbYPPiULjLYE9oXdwn6HYTnn0F5E23nynnuQiERtA4RtL/YZO+1tb5hE9rIlbUGi44XPlfTQQw+1MKgSm1j2v7XsuOOO8vLLLzeXIxLtEO0R+w8v96k9y0B7kFbx4SaXJ5njkYg9MyrcPlpDfn6+lKmB4oa0Nz/+8Y/loosukr59+0pDQ4PrRgpz2mmnuS4mhM+ll14qhYWFbtmmANdaVVUlEydOlC+//NI5vJWVYUfGaCmJyhuGF6H97bffOsPz9NNPO+N5xhlnBGtE2HfffaW+vt4Z3PPPP1/23ntv+fvf/+62wfh+97vflR/96EcJ94cBPvfcc2X16tXu+9VXX+3uN40dhvsXv/iFE/wXXnihc7wZtonYwXFPVmd+/etfyyGHHCLV6lhkRY3rJqI+cuRIueWWW9xxqdennHKKc8o5TvhaaCz4e+ihhwZbryXRdVM/jzzyyGYxSKOGqPUCIt750QDst99+sssuuzQnjDx59NVXXwVrRQTUcccd5/LLkyg/wxx44IHOnuBYtJ7pkf+nT3cBAu5LRCB4IeCTNtYNf9a/j4aW0RuxUFN8nnhilex/xHy9R9P0G09xYp4GUfX0olkqh+wh8taXKgTPEnlb//Kd5dFoMZJR/UVueVzkDBUotbWRZVqMNP+1juygjuLrkd8Wqi4641TRMhBsrOCbaFGRPsH3zkK2ZMjFpb1lp9p1hyP9p6BS7umxfi8B1zyy39p8KFPzrNXJ5UMYfLr/d6RKiQUiR2jekjfkEXkFkfysllseWyVnXFGq+Vmqy0p1P+W6TrmuW67bVOoxKjU/9e+p1Zqf1brfat1vne63Tvdbt95+PV/l1shve/XSa1h/gjxDsw5Zs8bZAOwDQ8WpQ/fff7+MGzdOfvrTnwZrbniOP/74Ztswa9Ys+eSTT5q/t3dgNE/FGk59OgNyBGHCdh57TkAjlliAZG0D9pfAlLe9iIt99tnH5VuYZPYy1bYg2fHYT58+fZzv9oc//EEGDhzY5vIUy/63BYYvMU3iscceay5LtEO0R5Qpv4xEPi9cuNDZ/s5EWsXHFhltb3xasw8a/912283dcB+BZFlYcbYlas6wooMOOsjdVCpRGPY3ZMgQp8wRPiQ+Dx482KnVeOD04fAkU9vRyp+IMNcJGID//Oc/7jeu20duSdERgbCDE44ChH9jv0So2Rf7fPXVV9eJVkRD/vJ7//795a9//et6+c7nxx9/3O2H/SU6Fj1H0RHgMOwr0bEgfI/5TN5wfPItnD8QzjvyKRwRT0ai/I33G+d51llnSc+ePeW3v/2tO794JCpvlJHs7Gz597//LUuXLpUHHnhAli9fLltssUWwRuQcdthhB9cDNXfuXGdM582b53qn2Aantq6uzjUOifZHGWasJuvjWJNf7A/HeOzYse44H330kcvbCRMmyOTJk52RxOAmugY46aSTXINAw8y8szBE66dNmyZPPfWUOy49FkVFRbLVVlu5xpZ89ddCPmOUESvRJLpuytGqVatc2fS/cZ6+sUh0fmEox+PHj3fiOywWTj31VBcQWbx4cbBEEuZnGMrvkiVLtNG9Q158cZI2iJN0KRHmqXLrrbPl//5vkTphy7Uel8l/X1omn700V9578Wstw148XCeyZjf9e7b7/swzE7T8sXyZCkvRfI1EwIn6azFphqqhRdctp1fhv5oo1lrV5K9Xi6gfL0frbrXaaSMu8ob+zm/Afh95JBJdJ2l11sYx8hvrazV0PQgc1++3NWy5ZUTivPSS6H2L/CVcpUVmPdSPlRX6I9eLLvz6a5GCXL0OvRCqy/KaSM8Iv72o58TgpXB+6C2UUUNVwK0NuncKzi4rlvHV6wqPNwuq5I7i2MOTyJtpqiV9Pmh1kiK9WK1O66CmSZDZWpRd3mq1dv1hLIfW5mey/a5FC5HyshbEn/Tt6x6/G+aC0lLZa9AgZwuwCdQh7BW2gt73rgQBDRzz6LaJdi3cO44toE2L115UVFQ4e4a9iUe4vSffCKz069fPtY3kn4eeVuxhuB1GLBBMpH3wdn7SpElaFnrJ1ltvHay1LsnaBhJtE4FKbO+7777rAphDhw51x3vuueecoEhmLxO1BQgOfLFf/epXCY+Hj8Zx8ANYn3W4J4jcRP5bMmLZf+4t94FeFvLF+3033HCDO/dEfhBBPPaXSmD34IMPdm065Qji+YkdTXp7Plwz0DZasw8ULE4CUYY99tjDOT4dBYo5JydHli0j8heByACVhgIQCwo2UVnWwQCh6HGGiOiEiY7y3HbbbTJq1ChXsaikJ5xwgsyZM8c5SU8++WRzxJruPiICiBuMGFFtotsUaiK+OPFU6GOOOcZVav8b22FQbr/9drefUjX2PuIcCxQ3lZVrJzoSK98RZlQo9rdixQrnkFLwf/azn7ljcU1si2FK1FvEPU52rGhw9BctWuSu76233nLG5MADD3TRb86H8kJUmGFBVFgiFanAtvQsIH7IXyIM5CUNRby8x9ATpSspKZFrrrnGCZTW0Lt3b1cecE4BY4RzHO5ZQLBicDGyQOMTbpxoHCijs2fPTrg/DNZRRx3lBC/gaDO8YcGCBfLFF1+46/rTnxiyExE8GH3u8ZQpU9yy1sA9Yl/+fIDzoa7QYBOZuuSSS9xyzofyRENCAxdNouvmvDl/rgNGjx7t6vH8+S17yhL3mMl14R5X9osgISpVU7N2PH2i/PRQD6kzH3zwgdbNOi1bdeok1mkdLNU6X6n1f5U2pItlt93myVEHTJf3v5gv3ztzhbzzVbV8Zw+RI48MdhQHTEwvbXd+d7/IL64VCb8SQot1c28AvQrTF4kco/sja3+uegYL9/wn1MXI+h7asV/8Qm2hOqdX3yFy4R8iywkeetMxpEgFyXORyDsOrN42t11LYXRNhWap+jIOdCFPUInqPHNQhPqon3LiiYh2HCk99mrR8qkNYVRLqGZCavWv6lUH7T8B1A8+FbWDkWWdgd1q8uXwqnUz7t38NXJrsV5YDPCfumkehKqTyzNeEBidZzRhCLvtt4/kszalbnq6rxKtzc9k+43FQm07eTdJjdb7MFto3Y3uRSXKiyDB/nYV4rVNLQXbx/bba+aGA4we394jBGijEDK0dRyXgAkOOG0Z4FNgi8JBlK9VYdLO/+1vf3PfDzjgABfYou3EmY1FsraBfbFP9o39oz3GtiNqWPbCCy+4lMxeJmoLsJ8EbRn2lOh4+Gi0LWFoexA2iJLWEM/+A/sluMe9YEgvopm2h56ia6+91pVjLzzDID7wkWjPfFCT9i0afDX8D3wSykUiP7GjSav48O/xaAvtsY+OhEJM4U0UHY2GCC6RBwoQSpRKhiMb3U1GZSVijqOKSMD5XrlypYvoEvEgikuhpAuR4TLXXXed2ycVkHOiUG+++eZu3D1pxowZrluOiC+OMJUYx5trIALOE8/4zPlxPRyX43MerQVjQ3SF8yfhqGFQiKxjEIlukwcYMpyu9mxAyCvy1RtUHE+OQeXjMxWR34j2MLwm1egZeUxec11EUjDiGBUEZKK8bw+4P/4pdfHAgUWkEa2KBsOIESLvKXep7A9oQBhWSPSFp1lEQ5c1DQxltC3D7nxjwP1JBPeVRI8nRj5eQ+iJvu4w5BfDxKh/iMZUwdDvv//+roz7vGbZ97//fXe/fYMdi3j5GR4uBx9/rOtmi+y+u2jdFSlUC/7llxFB8LvbRJhKQzSZ9biDWrzjgiM6Yphu+5WKiOcj+/BOPHDI626NRK/ZJ5FqYs9arBOi5keGqPB4/U0EViSyrbdE+qmPzHnDFHU02a+aAJd6FIrECZwmBL+ToppKEcNnWazC4eKTRR5SQdRDz4feGbb95hs9P704xJj6LdpArzu86qSTROiw+/vfgwWdABrvH5WrigvxaV613Fy8Kvi2PsS/cK2SVCcHVejFl1RYDNX7p+L05O+IfKT36uGHI7+3Nj+T7TceC/Tk/6rOWJhCdaII4FBPaLMIGO25557Br12HeG1Ta8Ce0fuDyIhuP317f++997pjEVhErLEethC7v9NOOzlBgk+CQx4LHGICLLRl2GiCaakSr23At8B2Y5fJA34HxEZ0G5Oo/YnVFiCOCGyGg1Kxjse6Pj8YxoS4Ii8IRLWGZPYfHwvbjt9A/hPgJc85T86Nso0wjQahinjiGgjEcr+5J9FDzPCt8LF8e5TIT+xo0io+ohVka2iPfXQkGA2ct+hoTCJQ1BTusMNHN+Odd94ZfItARUVo3Hzzza6SUPmpxED3I8sZD0/vCV2VRPEp3DhQdOdREehi8+NiKfCc57Bhw1wFRkEzBKi4uNhFwKn0VEgqIp/ZluO3xZmMBefAfWZMPedAwnASracnKd3gcHO9XB/Hvvvuu51wICqSCuSx7zFhe6IIvpcrUd63B5Q38i5eeaNB5tjMv4mGPCY69o16Cj4qlWx/gOH//e9/78QU5SIcGQO68XEG6OGKJUxaAo439Yl7lAgMMMaXYQQMkaJhIqrny1N4mEKs6/YgPOiapxGgPrWkrB922GGuoQjnB5EpjD/CNh7x8pPlRKr8cDnQ9knKakTLUGRoy6oq0euMiAOGNf1DnTmGSP3mLJ40mBjviGrxjQnLtVjLa09F9nnGYcwvSA63it4H1e/NEO1mGUN12hNMJkVVsyopl1+uxy8WuUoF2vG/EJm/UOSCCyJRe812mTBdRYY6wk+qiFOTKIyuWr48MiRs8xGRCerBbdhAMPdhW00MRxokx1f0kFFRLxF8unu5NCZoMunZitczFI1WEznuCJF3VBjQ83X70yLjNa/Ud3S0Nj+T7TcRX0UNvdpc6+mj2lbSZlF3GJtPG4iTlSwAsbGCzWQuAG1QuKcXsOs4n96eYN+wddgobCeCBJuz7bbbuig9DnEscIxxzpmDQaAOe0s7k4xEbQO9EeyTACS9FhdQmGKQrP2JbgvijWCIdzwekkObjv0n4Mr1UZ4I4LWUVOy/B/8vWdDPw0NPKOv0liCsyE/aSXwLD/eD9ox77cVHIj+xo0mr+JjvRnm2jZn01XYhcCoZtoLz6mFMIgUDoxALVCwGIezw4fDTXRaGgsSwJyKydJ0RxaDgAY4ylZLKwnYMQ8KInHjiic3dpz/84Q+dEmZsIWoflUxhpwuOSugnKHFsujAZBsXwNdajErMe+2jL2MdYcA7kz0svvdR8DiSiyLGi9e0NDjddnwx9Cx+foWCpwFA4em6IIrEdAoP7CYnyvj3gvBGuiELA4ISFLHkIdDeH4X7jgM+cOVMuu+yyZic72f4oY5er14GoIXoW3YAwBA5DjuhCxLUVuuyZe+HPB4h2IZC4b8zNIfoG1D0aRRpN6hzDzfy99MPa4l03cE00QGxPI+nrViqQL0SS2Mb3llBP6G4nuEDUDRHEcAAicn4uUqL85PxxqvxwOcBn+PbbyPh8EpqSS6DXfJ8dRJ56Va/xRJFr7tHlwTbx8I5o1BSTZohab6H+xO2Pi+xypMj9L4vEfw3cWvS2OFGjt6kZzCHWrb3bOIbzdFN/VH0lB9eCQOIcwmCyRum1TPgi0hvDraV3qLueFO01eciohT30Osdreu+9SM8RHZSMfumrn684LSLCdlNHejM9ztv6OcaIiDYwWhPCIl4aqynifPdsHCgnV6zbC/Bk9zL5Nidxg8mownK91lB1cveJ+xWdZ2q6hEVapZy4VX9WlqiCYHlb8jPRfpOxWtvIeUFgB/j0tdYZhD/1iTllON3Y3E0ZhtjQdmJXwsOFsOPYcy8UsD/YGHwWIOrO+tgobFm0gKM9I9ruh3QRoWd+AkEXBEsi4rUN7It9sm/sMY46oysYcRFNInsZry2IHsGQ7HiIGYZLex8Mx5xJ7i0Vs8nsf/i+tJTwtcaDYXv0cBAU9STyEzuatIqPaRKnVWsBk2tTCNGkAIWL+RE48HSltbcD7cFZQkxQcHF0SIy/RHH68eTREIHF6WNdhgDxl/F+0QUCh4oIMBUGY0El8iKHKADjHRkrSAHzzi9QCIn8MjcEBY+j78HY0L1K5ILtcJLpdSGPGIfIfAQqYthJa2/okmTcPd3lHJ/z4LhUWD4nAkPKuEho7T2m+5L9kD8YB8aAEv1A4KUC9wVHGAPF/ePesz9IlPeA4MT4txaG+HBsxAx5RVSfyX9M6AOMH3nLEDcP+UPXN2WSMhO+t8n2x3bcJ4x3rMgVURQaF35vLxAKzM+gPtDo7L777q6+UG8wpOQ3ApDP1B3ynmuOJtF1c98x6Nyfq666qkXCA4i2IZDCUTjqOxE4L4BI7BdBj7CgMUuUn8xXIyoZLcAJRvbW4lWknpc3KTjdOHdcElVGi39S68u2c+erW7tdJBqtRbfZiQf2iZOoxdr9ptns3g0epsf6DyJSsSSyULf5zkGidSmyLVp7tfo3URq4zTAyletUPe+u+zvfETeZmWE/DPe58MLInAKudcWqyIRnvvObVg0nvhAwHvZx0UUixx6idkH3zRxNzDDiy6dPNM9mqYjaTz/jQLeM3poQErHS+sMr4rFL1NjxOepwP9UdceL3FR+tTjJ2yNq5GgyFW67lhjzjXpFnLJ83LzJJXP1FrVuRJ30NUlNLALgt+Zlov6lQHgrSQSQsEpl/QLuJPY0eStlVYQgQbT42D3tM24Q9TgWG+dC2Mo/DgwNMLz89Fizncfj8JSgG9HQQ2EGcMHw4GtowzoNRCtgn7DFzPggQEZzkiYH0HHtx40nUNjBEGQeYbbHhBOk4R+w+MJKAYbKQyF4maguw7/hGtM/JjudhXR7bTNvjJ2u3hGT2Hz+xtSCq2B/3j/uB+Oa++WFyXBfDxTgGQseTyE/saNIqPr5tWvcJHK3hq5r2OUVedkfPA4UJ1ZfOTMdxZaw/QzpIVMzwUySiwRliiBWOKJWKbZjkxDCdMFQAxuYRYeV6qDQYAyoTTg/jHFHv9CAQwaWHhC5FuiYp8IxjZ6gWlRfjjFODgWJoFRWVSAFGgicCsT7nTMXFmLBPHHsmbcUTUW2Ba2XcIufNsThHziHR8CRf0bifVMLW3mOun6FRGBnGQNKAka+pRjowgqz/u9/9zj2xi/uBA89TRxLlPVEjygbdny15ulYY7jvH59zJNwQTDcijjz7qBAQNMXNowiCIMDxEYDgnPzSJ8pNofxh2EvvkSSh+O/bPkzvoZaGLmcbC/0ZK9CSvVPDlkEf1kp8Mx+MJIdQbnnTGkDKOybVgcDlvhh1Ek+i6aUwZwsiTtfjuf/M9FInA0OP4UGd9r0cqJMpPHjpBffNOQRiG5y4si4y397rkn/9UB3S5NvI/iAxzGTQoMsE33PsQC8zSct3Pr88SuSOYcF4XeHO07Uzm/t3PIr8x4gUxosVa64bIDNV3+20VedpRGATQbXoOK1WAXKfb3qXbMsxHb5Xes2ClNsM4q7Ga3zvLax8eLvvtcrC8/NDesu/Ou8q/3xmntmCMluEhcvTBxVouI1sw5FqrqdyqVe1pPb9R6oA/pOf+1luR33lS17/uVyFzoAqoz3laXmR5y0GREfjwQiCcRmlqO/2iuin+q0rRO+ERwsdcF+75bHX0LzpZ5ME/8Hj0yFwN7s1OO6kQVVGAkKAK/fs9rTda/N/WfDr/BJEpuo4PWrc2P5PtNxHdmppkmyBK71miwos6y1AcAkG0JRuL+HjxxRedPfB2DXuBb5EKBFewg8zx8OCb0N4hZhhyw3wEhvBgV4E2j3aYOSi0W9F4mwu0s2yHGMKPIIiHEKF3IzzyAxK1DeyDc8Ahxy4zVIneFB+Vx88hJbKXtD+J2gLaXa6V80h0PA9+GAkbzLWRb50JzpVz5tzx2wi08tcHqhhqRjCMHrBwkC2Rn9jRZDSFQrF8pFuOqDpdTThGKE6WEVUmAQWLsfgoLaK9VAbUOb/T5clEKQoanCdLZPtWvuvj7dpcuXlFppvVz3g7nPNB2qpS+BLBdRAxZBuuBeeALi6cwvDvOAs4q0TO2a+PVuNI4owzNs5fh4dHpVFh/Bh6rp/1uWb26Q0D4wRxZsg7jsNvTGTGSYmGyVqodfKOAsP1ce5sy3fyGUcaUcB54nxtSCi8RBLCcH70mIQrcHuAAcBZjAYD6ofSpAsMGpXblwsP0Qsi3e1JOo5FY0wEiihXOnuujPaHRgGxhAhZ22u1/hO8Ng3Wd6A3dX5RViYHh5zQP/XsKe8mU5oO1F/rHxjSsax/34/Qaz5Xr90zVX2DS3rTm2R0Bmiv8afo6TcMIJiJH01gAF8ePx6fNqn4QC36iTaIDiK6dOWwMxQvzjdDIHC+cYqZyEK0evjw4W5sdmNFmfwub7kMyGnZxPGVTVlycWkPmbFoids3BRon3++bi4gH54BypzsRZ45z5Fr4zoXzBAGW8R2Hn8gAzhnfuW4EBp85f/aFqOKYZBiP3kQAeCETLT7YFqHjRQvrc+7kFUKHsagMcyIqznd+R2zwOw48v5PPHMtfK+fI+XEf+J5s8q3RceRqnQmXbF+ZmvT+eZorWBSNa6seT1YIPkRYN4ppGLApiA8TGqnwR23ftg317F7cp498GxW4SA0EzDeRj52OtWWhUP2S76vwOIGulhD/162bPBwVIDQ2DPR6MGSVXoVYT3YyNk1aLT6YHIvY8I48sBxHG4cbR57xZ35CKPtgnCIHwqHm87iehXJJ9wrpk7FuV3E8ljdkyF1NA+Tr8hp3Hjj7nCzCh3GF4ej/znpsXjbUi/PWdXgOeJ0mOmaXqJO+Sh33qfr5AzXWpXq+6sk7h58xfl4gcM1cB98RUggL/5QlroffOB4iIJn4CJ+vz0+f2UAvCJ8Z/kE+Inx42hTrACKD66S3hp4OhAifwwLQSA/5er966/0i9dJ70JPP+re7Li/UVKDf6fbvpn+7ayrS1JrmPhWYVHmXitavE4hsY1NjYxAf2FzeANiyYJSxLo9qO9VTbZPnVG0XVgVtSPuDyMHpp8eh43pNejbsIDuqL7KLpn21XY3FRdpOz2iV6DIMoyNotfhg3HisyZc83cA73GHxATjU7IMIvx8q1Ds/V06TZUmHYH0o3eUZ6atrZTrHPrxvLz74jkMOt6qoGJ3i2H74Ug3VJ3ptC4uLZY7uI2ywuXbEEqKJnokwNJWNevxo8VGi51gaEh/ReUE+0IPBbz6ryRfWib6+aLzgQAhxXITHhh5y1VmgxwGxkKeJzyTuSPg7bjvfc4Lv/jcGJ/A5T+83f4v17wBN4ca8M/CZlrHfalk0jAgdIT6s56ErcL+KjwEhe3Ve374yPzuVByF3TgbrtQyor5dB+pc0WD/vpm1jPNao83Kj+iATgnbYMIzOSZvER6LhPrEcaIY8MYQoLD4YwgRjm9bIkMoVsm1ug4xW75Dj8UjeGZnd3AT1aRlrn9GSivi4RY+1eQvERzTL9ZoqNSOqNEPcY+n1eD3UiBfoMpzbfD0//iYy6xyd/SzVdVfoumtUIJTq/kp0+QwVYtV6rg0qdlbqfhcsibxaNhXxwfwR8p7HpflhZBv7kCt6G2hU+2vqR2Ok33tooqeBHgh6G0iIho2dT7Rhvd7Eh9FMW8UHNpgnww1z34yuy6WlpbJPqDfgzqIi+XcnDkxhs7HpfbHrwef+at8RHUP1b0tk01xtR2/R9nSm9XgYRqen1eKDR4URdWdokBcQYaIdaPbBvAd6BvywK+Y8+Eni/M4yxAPLoodA8TvH5ljRPQmxxMcO+vvPy8rWe/pHZ4VnN03XtKh7d5mmRneinnu1igq9I+538p57wPVzveQPN4vvG9OQKyJbQ/T6iHIN0c/DNY3QhNDoSlRrJaLk+WF1WqEif93/Efzn5r8x1vFkBvuZpyLzTq0fU62BNQwjikOrquR8bTs8TDZn0vmGhqDQMLXjw9SuIypG1tW5kQl92sGuT1Nb+LH6Fc9EjUowDKPz0qYJ58z5YDk9GETeGVbFd3o2EB/MkyAqz86Z/8C8BnpKECDsw09I58DMn2B7fmcOSaLJ36mIDw+ue7aeP65a2YoV0lBdLWP69pXRagCH6Dltp+e7VSftNSjRG0EU52s9v480P5aoGKsLxBh5x7AtHvkWfc2dkUy9Bz01Feu98r0U7rv+ZR4FIoPGqDO61MwZYp7QMk0rtYKs1L+81KpCE938VZqq9TMDB9fwV1Ps10YahmGkDxz8u4KnTwJ26DhtFzvKHtHeIi4IIBFI4nw20zSqDaMQYjFJfQZ6gL/URI+HYRhdi1aLD/+oXYb/eNHBHASi8AgRhAOCA+HA0CB2ztOewnMmEBE40OyXk0A8+DkTHJPf/WNv6S1hMjb7i+5VSSQ+wvjz5SlVHIfzZV/bqHjaRs95jJ7HGL2+3XS9VHFraoaBy6e12SY5wfL2hKFgOL3Etlbq+WZw43RZjp4zjruf45AV/HVzHFpwPfFYe1Wto6NEBQ8WqNBUo3mEMGAAAsv4Tm+Ef/iAS/ob333yy9yDCTQhKlZruSjRbQ3DMLoCt2v7NlLbTM8bhYVyW9G6bz1vKwyP2kwFxXD964ZMaWJYLKKDQFN7QdCHh2ws0MRnEgG5MrPJhtGlaZP4SES0QOgoECv0CkTjJ3OnCpOMmWXCvA4ceOec6nccUxKfcVYbNcUDh5v9EN0nFel+ioLvPIULg00aqMlMaWIQFHO10VmsjdBiLaTL9e8qXUZPg5+bw1/uk2EYxqbK0VVVclZo6BU8162bPBD0mrcU2rARmuidphdja23XmZPRHmCzmRC/WEXFMv3LHEnSCmy8Juy7YRgbHxud+OiqEEliboOb41BXJ2P0L93XmxpEtmZrI+QaJE2L9DupRJNhGIaRGAYhXaXt7y7a/oZ5vHt3eaWwMGGvAU+WQmgM1TYIoTFG/7aX0KDHYrYm5q3Rk8HfpfrXMIxNDxMfnZg+avR5YtdYbQS20LxHjLTHBL0NxQptbIho8RhjxATDmco18QQw5lPQIBEJMwzDMFoPTwf8tbbBW2j7Ec1kbeiZs0YPvn8vkeud13ael/a1lUVqx2dqwp7PV7vOd4JJ1ittGIYnbeLDSA+80I7hYO6v3hfeVdGgN4wmxv0NPtNnUqc30/3V1Fb805ZaC01a15VNhmEYXQsmfP9WBQjDetsb5s8x6Xt6MBSWB3GsCoJLJjIMw0hGq8XHqaee6iaUG4ZhGIbR+RhbVye/Ki11QqS1ELz6Rp2DWSo0eLIUw2LtXRqGYbQWHjz197//Pab4iDkolB/8Xx7xahiGYRhG54R3YJzft6/cW1SU0ruBGArLI2yfVueA94P8TLf9/sCBclXv3m7C+hvqKJjwMAyjLaAfwnoiTMyeD95OXl1d7Xo8vv76aznllFPciwC7wnsmYsE18XQsHrnrH/FrGIZhGBsjPA6XF7aSkBD+0e08TbBS/zKcyjAMI53cfPPNsvnmm7seEF6Uzbv9Yg67Ahx13reB+KiqqnJvIUd8MBSrrKzMDcXqapj4MAzDMAzDMIz0wRCr0aNHuykb++yzj/O9CwsLnfjg/X2ID4gpPniZH2KDjc4//3zX+8FqF154oXz3u9+Vr776Su666y6ZP3++7LXXXnLuuee6lwMyT+TRRx+VF198UfbYYw+nbnbaaSc54IAD5I477pDx48e79cMsWLDA/cYxjjzySPnxj3/sxoY9+OCD7iWGH3/8sVvntNNOk6OOOsqdPG9Af+KJJ9xxeBP6mWee6Y7D8b799lu58847Zfbs2c3nxv7uv/9+GTFihDz33HNORP3kJz+RAw88cL2uIA9P8br33nvl/fffl2HDhsl5550n2267rcuHTz75xB2Dt7NzTieffLI7Rqxjky9cy6677irbbbedE3V//etf5bDDDnPC7vHHH3c3hd6mCy64QD799FN3rtH75pxZ/tZbbzWfDzf4lltucfnGvump4vuPfvQjGy5nGIZhGIZhdAiuR0MTfjq9HPi2+K8E/ZnvgU8fV3zw1fd+4BDz9vFrr73WOcLbb7+9e3P4H//4R/npT3/qnHkca4ZkHX/88fKvf/3LCZJzzjnHOcvXX3+9HHrooXLEEUc4wcDJcAIe3ph+0003yXHHHSfbbLONPPLII25o1w9/+EO5++67nQDy+/rDH/4gJ510kuyyyy7y0EMPue1RVrw5/S9/+YsTSTjznBtOP109r7zyisydO9cJlz//+c/uzetswzL2f8UVV7iXEkbDtd9zzz3OyefcERuvvvqqXHbZZbJ48WInSi666CLp27evm0xDjwoKL9axETn33Xef7L777rLjjjs68XHjjTe6/ESYcF0/+9nPnHiYOXOm2/fFF1/s8uFPf/qTy7/ddtvNnQ9Ci/PhLe9/+9vf5JJLLnHibOHChS6fpk+fLk8//bT86le/ckrTMAzDMAzDMDoCxAcCAwGCv0/C9/e9Hj7gH1N8eAFCDwjDrH7zm9+4R+7Su4BjTg8HY7jYCc7vRx995JxfnG+EBI403HbbbU6gHHPMMe57NJ9//rlz0i+99FJ3gjNmzJCnnnrKOc841+FtETb0xJxwwgly3XXXuW2GDBnifqP3AHD6//e//7ntuVB/rqitW2+9VU488UTZbLPNXK/G1Vdf7QQE36Ph+ulFQLGxn5UrVzqRhPig54F90iMBCCQSPTexjk0+0dNBTwjCiWWIsu9///tOtHG9nAfH8vtiG+CauVkIG0QK1zxgwIB1zg8xRG8LQuqll15yxyaPDMMwDMMwDKMjwW8l4Xvjk/oeD98zAuuJD2CRT/RYXHXVVU5UEIGnNwQnlwg9EXg466yz5PTTT3cOMA4yw4GA3oaRI0fGfVcIz//99a9/HXyLMG7cONcrQe9GeFt6H959910nRugRQOjgvAP74VxYn78IgDA4/GzDcCTOjR6X6HONZvLkyW4IE8dFSMQ7L48/h+hjA/mAgCD/OBeED/lJj8ljjz3mzgMhQa8Iw9boAVqxYoXb9ne/+53ssMMO612zB7Fyww03uKFt//73v+WMM86Ie02GYRiGYRiGkQ68uPBiIyw6/G8QU3yAX8yk8yuvvNJF05mzMXXqVDfMCQeaYUD/+Mc/3BwH5itcc801bsgUzjLgMDP3AEc7FsyneOONN5y4QR2Fid6W4USLFi1yc0I4Nsm/Vf3hhx92f7faaivngPv9hXs+cNCZOE/vCOKDIUsIEL5Hg+BCFB199NGy7777yqxZs5zjT+/Hm2++6X5nKBeEez5iHZteDLaj54PEMvKTXhjEB0KD80B8vP32224eC8fu2bNncx4cdNBBLm/ZN9fMvQn3zPz3v/91c2AYVub3ZRiGYRiGYRgdjRca0X89Md/zAV6l4NySGIaFgsHRZhIJ8yuI1DPJmvWYo8CcEHpFWM4QqS+//NL9xnaIGBxyPvs0duxYN9SK4VeAsHn22WfdZ7Zj335fzLlg3gSRf7ZjuBL7Y14Fw5323HNPN4SK3odp06Y5Bx0xQO8Fw8f8efgU/T2c2LampsaJA74zFwPRwGeu8b333nPzLDg+PSGcS6JjM1SKoWnkIXNi6FXxxwqfB8coKipyggWBxLXxO0IEYcGQL/bBcX75y1+6+TdsxzA3hobRO8N98PuzZMmSJUuWLFmyZGlDJHxYUjRxxYeHWeoHH3ywG1rFk6JwdJn7gRBgAjgO+vLly50oYSgSvQxMrCZSj1DgsVv8xjwNhk35EyERxSdSz9OuxowZ4+Y1sG/2we9MJv/BD37gIv/777+/OyYTV5hfgihBCDDR/Oyzz5Ytt9zS7Y9hT/QQbL311q6Xgh4ZriF83GQJYcX1Mhdj5513dhO5OS4T3zkOw7e4do7PhHy+Jzo2k8QRJUyqZ+gWf2Mdl2vkOOQxk86HDx/uRA7LuM5Jkya5bdkvE/6ZEM92CBZ6m8if6H1asmTJkiVLlixZstRRKRlxh121Bh4PS28AggSn+be//a1zyHHYWwpPhGLIEU/RShf0LvCY3okTJwZLIjz55JNuiFlXgfOnx4jhXOGniRmGYRiGYRhGZ6JdxQfDk5in4N9FwdCgww8/PCUVFE1HiI+NAfKJuTNMaqf3yDAMwzAMwzA6K+0qPgzDMAzDMAzDMOKRdM6HYRiGYRiGYRhGe2DiwzAMwzAMwzCMDsHEh2EYhmEYhmEYHYKJD8MwDMMwDMMwOgQTH4ZhGIZhGIZhdAgmPgzDMAzDMAzD6BBMfBiGYRiGYRiG0SGY+DAMwzAMwzAMo0Mw8WEYhmEYhmEYRodg4sMwDMMwDMMwjA6hS4uPxYsXy8SJE4Nv6WPKlCnyt7/9TSorK4Ml6WP69OkdcpwVK1bIggULgm/po7GxUSZNmhR8Sy9z5syR0tLS4Fv64BgcqyMg78jDdENZoEykG8o2Zbwj+Oabb6S2tjb4lj6WLl0afDIMwzAMIxnW85ECTU1NwSfDMAzDMAzDMFqLiQ/DMAzDMAzDMDoEEx+GYRiGYRiGYXQIJj4MwzAMwzAMw+gQTHwYhmEYhmEYhtEhmPgwDMMwDMMwDKNDMPFhGIZhGIZhGEaHYOLDMAzDMAzDMIwOwcSHYRiGYRiGYRgdgokPwzAMwzAMwzA6BBMfhmEYhmEYhmF0CCY+DMMwDMMwDMPoEEx8GIZhGIZhGIbRIZj4MAzDMAzDMAyjQzDxYRiGYRiGYRhGh5DRpASfOz2ff/558Gktc+fOldGjRwff0sOSJUtkzpw5stNOO0lubm6wND0sWLBA+vbtK/n5+cGS9FBaWiq1tbXSr1+/YEl6oHjNmjUr7fcIuE89evSQbt26BUvSQ2VlpZSXl8vAgQODJelj5syZstlmm0lGRkawJD0sX77cle3i4uJgSXqorq6WFStWyNChQ4Ml6QPbMGTIEMnOzg6WpIfVq1fLfvvtF3wzDMMwDCMRXUp8RJ/q4sWLZenSpbL99tsHS9LDlClT5IMPPpCTTjop7Y7t9OnTZfDgwWk/Dg4gjmC6ncDGxkaZPHmyjBs3LliSPhCIvXr1SrsDjXDD4Rw5cmSwJH1MmjRJtt12W8nMTG8nJaIXwYvwTScIt0WLFsmYMWOCJW2godGlpvqGtX9L10jts59I3ZuTpXFZqWR0z5fs/baW/LMPkszBvYIN2xds0KBBg4JvhmEYhmEkoksNuyL6G51wytKdOA7E+s2SJUvtlKjTKiIyaxsko6pWMsqqRVZViiwvl6bFJdK0YJU0zVkuTTOXStO0xdI4fYk0zlomTfNWStPC1aoCymTNDc9JzZPvO+EBTRXVUvfy51L50/slo7Im9nHbIRmGYRiGkRrWahqGkR7qG6Wppk6aqmqkqXyNNJVUOTGRubpKGhatksb5K6VhzjJpmLFEGr5dJPXfLJQGFRT1s5ZKw7wVkXVURDSuVPFRWuWERFO17q+uQZoam0SyMiUjL0cyCvMko6hAmlZXSv3ns4ODr0vj4tVS++KE4JthGIZhGBsKEx+GYSQnhpBoXKGiYFmZc+wbF6yUxrnLpWGmCodpi1VILJD6aYsi3+focoRGICYyVSS47dlPVa001dZLU0OjZGRmSEZOlmQU5LrhUhnFhZLZp4dk9i+WrIE9JVOXZeo6wjksLZEGFSt1734jtc9/KtUPviXV9/83ONnYcDzDMAzDMDYsXWrORzTM+Vi2bFna53x8/fXX8v7778vJJ59scz5aiM35aBttmvPBnAit3q6XgERV528MFi5YIAWNmdKruGdk/gTb+rkUfG4NiInsLNdD4XopNFXVVsuyJUtlRL9B0lSJkKkWqayWxjIVIioOGktUmNDLocl9VpHSxN8KXS8ZXFqCefnM+yg49zvBt/aDOR8DBgwIvhmGYRiGkQgTHylg4qP1mPhoA7X18tUXE2XrsVtIRk19s3hwVTZaUPjfNL/d9xZCPeJpVz17qviIAcLBiYhsRERIUOixGsurRCpqpLECAVEd6RnRv42lQQ+HFxT6uaGkQjLW1AV7TQ5X0pCRIY0qvhq750tTr27SVFQoTcXdpLGoQKS40P1t6lEgmSpQiu7+d2TDGBT+8gjJ++Hewbf2w8SHYRiGYaSOiY8UMPHRekx8xIF5C3UqKNzfBtfL4L+7IU70OiiUBx5T3KqeD3oe2I6hSjw0IfyX30LLFi9bKvlNmVKcW6hCQoVDJSKiWkSFRWOZfg4ERKMTEcFn/SuIohg0SobU664RDvWaGoO/7rueUxOCQQVEUw8VFIgJvncvkEYVEaIio7F7njR2K4gMv9JlGd3yIueagEVlNbLmkkflkKXLgiVrmZ+XL1/dcIqcvM9mwZL2w8SHYRiGYaSOiY8UMPHRejZJ8eGEhIqHsMBATPjvKi5SgfkP02bPlDFbbSmZhYHznZHJPycY6I1o0r9hQeGXN8OwqdWVbn5G44qyyDwN/5mJ3O5zuTTo9wzOOUSDCoiIeIiICJ+8iHCCIjtLGl3vgyYVCQ0qJhpVRCAaEBGZfNZlTkDo35pskeUVpTJ8+PDgKMnJ1uvK0lRR0yBr6hqlorZe1mge8r1Kz7lCBVBFbYNMW1Elr3++UH4yb57srfdnr5ISmdy9h3zVo7vcuNlmcvoR28i13zHxYRiGYRgbEhMfKWDio/V0JfHRVF+vqU497Xpp1M/8bSLp5wZ1mBsqyqS+dLVULF8uVavLpU/P3lqB1DNXLZHBsxvw3alNbhiUfmEYVBPDoFQAuGFRKj6C35pIfG/S42Q06k91uinL9HjBX3bGy//69O4jWfkFkpmTo4Ik16XMjGzJrNFj1uiRq5sko0rXrtJjVjRIZqUet6xG6strpKG8Tur1kA16mggVJx70bBvVmed0vaBwKVeFRFG3iIjonueeIiXurx5P/0q3XBEmg3fLEcnXc9HvTTnsmGvjGiPXSsrUZVl6hExdlqXXWl5dL5UqHErKq2RFSankFPeVqsZMqWzIlCrNw3JVOBV6kuV6UuV66WV1mVKqy8pUYJSquGDbZPSpWS0r8+K/y+PSYZVy4/lHB9/aDxMfhmEYhpE6XUp82BvO2w+i97Ub0RvOceSXLVok3Xv1XivcdBkCQspWS2N5qTroleqgV4hUlWvSv2sqXWrkb7V679VrpKlmjTr0pOrIMv7yHdRJzsooVKe6IPI9HnrNTkCoqNCTiHxWJ7zJqRT9zN8EZDRlSnZGD92+tzRlFjvfPiOzp/5XuDZJrgoGFQsZma4Hwn1WARQRElmRHQU0iooQl6r18xr3ucl9j3xu1OV8btT/w7g9OvHA3wapyiqU6qw8WZOV6/5WZ2riL98zSZHPtZk5UpFdKFXZBVKpaU1W28pyg7vGTMltqJUCFWl5TTVS0FinSb9LneTr38KmOr3dTXLfsCODrdbn3Ozpct7xewXf2g96wewN54ZhGIaRGl1KfESfKj0fRB3T3fNhbzhvPe3Z88H9b6pVx1lTo4qCxuBzUx2pXhZ+M0lqnrzLiQUERYOKDaEnI0XYf0bw2X2guOlfejWycoolt6CvZBZ0k6bcfGnIVmeYngH8fIY7ZUVSk36PzLPI0r+6zP3V7yoK3ERt3Zf7q850U1O21JVn6XnmSH1ldiRVZUpdTabUuLFV8VF9IpKjsiZbxUyOCpsc/ZtVLw1ZtdKYqY54Rp1WbhVPUiUZ9bWSqU57pv7lc7nkSKUeuzJD/7rPWSos8l2KiIpcqdG/lTmFUplVoMsREMlFN7nnxRBCiM++xhaqWOiuQqdbY410b6iWblKvy2qkUD93b1gjBXpeBQ2VUliv69RVSoGmQk35tfq5plzXqwn2lAC9fz/c/SaZ1iP2cLgPh06S3c67MPjWfmCD7A3nhmEYhpEaNuwqBWzYVetpjfhg6FOzuNC/TXW10sBf/Z6IaVO+kcYbfhZ8Uyja6uhnFXZzoiGrW4/mlNm9SLJ7FEtWj576t0iyinpFftPl/m9mYXd12LMlo0ZFRNBZwUvtKvKaZHV9dUoTzmvqG6V6calUzVoqVXNXyJp5mu8LV8uaRaulriz+eycyBxRL3uDesqawSfpuMVJyu+VJTp8ekt27m+T07i7ZxYWqZzKkrLpeSqrrZPWaelldVS+rqmr1e72sqKyVVRVrNNW4VFJZrb+r8FijQqSxQaVBU/OQKN+7gUBiorgTEO4vPSuRZaICqlt+rhQV5GjKlWIVXsX6uWe3fOlZGPnbqyBbU06Q/Ods6al/0WFQWVkpixYtkjFjxkQWtACe5NVYWR4pH1omIsKTz/ytlcqvJsgb99wtl+12jizoly+Sq/lbnyt5lXny+w8fk5OOOUAGn3t5sLf2w4ZdGYZhGEbqmPhIARMfrSeu+NBih8BwvRi1KjRq1IH0fxkuFQOcbTffITdPMnJzNeVLZWauPLAkU55cwByJCAOzG+TCoY1y4OBCJyBaDOfmJmmXNU8Oz8jNlsx+Re7Fd+EJ5/UNTVLT0Ci1dY2yZsFKqZoTERhr5q9SgbFKGlRkiDr8scjMzpSCgT2lYEhvKRzeR/JH9JXMYX1laVF3WVLdIAvKqmXCtLlSn18sjU0ZskLFw4rKOicsVlRFBEdr6KNigdS3m6bCXPe5oKla+nTPlyF9imIKiN66TnvQFvGRChdce57cMXhE8G0tuyxZKB9ddL2KzfZ/GIGJD8MwDMNIHRMfKWDio/UgPr6a8JlsM3qU68loFhx1sR1yyMzKkoy8fJEcREaeNOnfJv3bmJPv5jQwZ1t9fv3bJHfPXCPLX3hC9vj8XzJs0RRZ0WuorOo9VJ753q/l/D2HyehuPBmpTqrrG2RNQ53U6Pm47w0sb1DhwOcG971G/+aV10qxpoaaOqlVEVSZ0SgL9FSW5DS6bVmWs6pSj1UpQ8obZUBpnfQrqZWBK/31BCH+oFZl6ve67AxZ3TtfSjUt65Uni4vzZEGPXJnbPUeqahs0NUml/q2oaZQ6XujHJHa9TveX8VUN2bqjYDnjulimnxkO1iMnW4rzVCDk50rP/DzpW4CYyJV+BfnSv3ueDCjMk+HF3ZvFRm8VE+w6GuYaMc+I+UbpJJ3iY055qYx68p7g2/o8tN/hctoW2wXf2g8TH4ZhGIaROiY+UqCrig9ubJ166g3qqNbrbSaI7/7qD8tXrpLqGnWaBw507jIOqfdJ/We/HHB1/TKmU/vPmXXVkqnOfIaKiQz+1qsT7j7rX/3O051mzJypzubmuva6NKqoINWTsvOkVlNddq7UZmT7UU5Jeeb3v5Mj3/xr8G0tVfk95OIzb5dP6r4JliRA86RnTZMMqmqUvKDTpVb9+6WFmbIqP0P9/AwZXNEg+y6sl70X18lWq2KfXWlehgqKTJnXI1PmFmXJXP3L5+W6n85CkYq4vMwsKcjOdn/zVOjlZ2VLtgor3iWSk7N+DwcmwhsJ/jqToTefP25Z8++Rv83L/VL9EyySBhV5dXV1koe49FCQAkIfA1jC1pG/7t0ka7+u87e8tla+LV2lX2Jzzc57ybU720sGDcMwDGNDklbxceONN8q9994rQ4YMkYceekg233x9B3TNmjVyxRVXyAsvvJBwvVhsquKjWUQ0f1anTp18/iI2+EuiZyAeJSUlUqvio/+A/sGS9cloapQcFRFZDXWSrX9dauB7vS6vcXMHklGXkSXfzp0vI7faRoUF4iJfhUauVGblSVVDk6zRxBNi1+gJu+/uL70Tkc/Ven1VepGR9Zqkks964fxVvSB3/G4X+bjHlvLksMNlcUE/6VFXKYOql8svp/1dvtr+ALlz9+0kL1ud7MxsyVXnOl8/5/I5K9M53n3rMmVwVZP0aMxwy3ic7erCPFmuf4uXVcrQqctl6LerpOfyKsnW/MxXJ72kOFdKVGgsKM6Tmd1z5euCHJlYkC0luUwojwLnOET3vEwpysvWv1lSnJ8j3XIypXt+tvTQbVlWoN/BOfS67bLlK6S+IF9/z3U9M5FU73pgavVzLb0x7m+D3nt+a9S/9OLwN7J8jf6+SUBxj8rvMCY+DMMwDGPDkzbx8cwzz7gnRP3xj3+USZMmyQ033CAPPPCA9O7dO1gjAgIFLrvsMvn444/jrheLjVF8fPXtDOk7cKDk5he6B58iIprFRvC3JeRkZEhOVoZkqWfGy9qyA+ds1apVUrumSgb37RN5GpIm13NRV+P+ZjIsSh1XDyKgWp3/Gv9XU4VkS3lGrv7NkfJM/duUJZW6rLIpUyp5h4M69FW826FyjevhqAoERaVuGyl2nIz/3DLyG+tk5NJvZLM3npC/bHFasHQtiJC/LHtSznr0qWDJWjjcmpIqyVxZJtm1kXkTvDhvaV6ufDVlqVR+MkO6fTVX+qwqk+7quHfTNC8vT17tP0D+b+AAmVnIo27XZ4AKkWHF+TKsZ17wV1PzX12mf1sKdWfbbbdd7w3nDXoRDSoOEZ3ur/ueeFm53tvq+noVcfXub50KlxpEi17f0pUrJCtbRVH39efIZOmxI4O8RM8j0geWpflFL0Qmid/cX37nGw/+ivwerQUY6kfZQ2C3N5NWLpcrPn07+LY+Jj4MwzAMY8OTNvGBqBg1apQcf/zxztk488wz5fLLL5fx48cHa6zt9dhzzz3dejNmzJBLLrlEbrrpppR6PzYW8aH+vJTWNsnK2kaZOWee9O3XVwoK4r9LAscOEZGt3l528+f1l/H01zAl5ZWyeHW5LFtdIfOWLJGyNbXSWNBDxYCKhEAw8LdKRQPCgUewIiiqVFDwroXIeyUy1HnX5MLMbaNIT7JAT5JUmCVSqCdPTwCfe2U3SlFmo/TK0pRRJ8XLZkr3+VOlYN4UyZ73rTTMn+Xmj4zf7R73TolYHFsxQf51x2Uq2lQo1TS4N2PXVdZI5YLVsmJFhSworZbZJdWyet5q6bZguYxfvFQ2q6pWsVGvoqNRvtF7/bw6lc8GgmOgiovN+xbK8B5ZMkQPud2IgTKiV4EMKcqT0X2SvPujlcQTH+0BPWNenMydP9/N+ejft68TG0iIiOhoX9I94XyHfz4kE1ctC76tpTg3T778f6fLSJtwbhiGYRgblLSIDy8qeC8GYiNaZIRJtYckFl1dfNCDUFKnSUUHAgQWqhM4YmA/KepW6EREVkZTREw4USGS459ZGoOVKmAWr2mUxdUNsriqXpaWlMuq0nJZXVohpeUV7niVWYVSrs46L3+ry8wOtkxOrh42T0VCvh6foUFONATiodAJhgzppidZyDJN3TU5MaHLVyyaJ9uN2Ux65OhyXbe3/nXvnWis17/1kqGf3fs49DMv9aueM03WzJ4mK+bMluWaHyuXrZLyjBypyOkmFVkFev7dpCS7uyzvPkAe775bcIbrs139Ejn0wPEyZ/UaWbGySuqXlUrlqkr3aNntyypkXHmZ7L56tQyt4aV1kTvwbVGRfDZ2mMzfZaz02nyAbN6nUMao4BiryQ+JCj/tKt2kU3yE2RgmnMOXK5fJhR+8IW8vnh8sERnRvUhu3fNgOWZkeo5p4sMwDMMwUict4iO6pyOR+AAECOseddRRToQkivqH6Yrig8wuQ3BoYt6CJ0+d+t65mbJs7gwZGmfOx9IaFRZOXDTKEk2LvNDQv8sqaySjukryqiskv7ZKcuqqXdSaF8bRM0BqyMmXPnmZ0ldTD6mTvrlNMqBnkYqGiIBAMNDz0C2LHogMFQtZ+ptIsS7L0vMjJdA+68KwLRUVPNXqm8mTZeDQEVJSsUZKK6qlrLJaSnk/RVWNCosVsnKVOvPlVbqsTsoaspzAQFxUZ+ZIrWRJjSb+1gov38t230OvA3Ts0LhEivUXmJgxQEoy8t0bsRlwNljFxYCaWtm1tET21rK5e1mZ9Khf+5ja8uH9pGG/bWXA0TtJ4cjkb3w38dF60i0+PCW1NfL8hE9kj7Fbytg+6X2Lv4kPwzAMw0idDdrzEb082bCrqVOnBp8i8NScefPmydixY4Ml6WHhwoUybdo0d555eXnB0pZRr25wWX2GlDdmSkMox7tlNkpRVpMUZEYWvjd/ldT06Oec5+W6/or6TP2bJcs0hUFc5NdUSp4KDRKTwXMzGqVHVobk5udJTl6B5Kgz2V2/98yODF/qmd0kRblZ0iM3Q+qrylQf1Er//vEnnMdFi0xGo16ROvDub2ODlKj4WVpWI8vLa2V5Za0sqayTpZUN+rdBVqnQWFcsZKj0QUh4UbFWYPhlrN89s0F6qVDqVZgrPQuy9HOW9OS7+6x/87Pk6jfny7P1/5L9G+cF+45wbdbe8nDOHvLbsiUybvEKGbpopWTXqdjLIJ/1+kf2kdrdR0nNnqOloV/L3gVSUVEh5eXlHfJWax5AQF1wT3lKI4j43FzN5549gyXpgTkfy5cvl2HDhgVL0sfs2bPdcbKzU+/haw0EW8LDSQ3DMAzDiM8GnfMRLTaS9ZAQNQ3DuyqWLFniIsPp5Ntvv5XPPvtMjj32WCmMM9k4Hup7y2rXy+GmVrtl2epH9szJkF6aZq9pkgkljfJ5aZN8UcYEYLfKOuhNktzaSuldXyUjMqqkX0OV9FVB0Tc3U/qokChUsZHfvYc05RfKmowcN6HabafH6aZiozgvW4pCT1KClStXSk1NTeyJvyomMnhCkhsKFRkOVVNdK4tWV8ri0ipNa2SRCo2FKjQWu8R7NNY98VrJltoMFRgqJOrU2c+tq5GC+mop0OsorKuUnnXl0kvFUN+e3aRf/z4ycOhgGTBypPTXv70Ls6VPQbbraUnGvNt+I1stnxR8W5evZ28ng+erWAx2kzF2oGQdsI1kHriNyMDWj/0vKytzTwsbPnx4sCR90Ou21VZbpb3ng94IhHWfPn2CJemhqkrLz+LFMnr06GBJ+qDeYoMQVekE4cZxDMMwDMNITtrERypzOWL1fJx++uly8803pxRJ7KzDrujZKKlrlNW1TVLbuDZ7mRehOkQmldTLp6vq5JNV9VLG46xC9MlqkG27i2yeWy/9GtfIYKmS3o01MiBPHfjA/2zIzJaq/CKpyOnunjhVzzNZA5h4Xpyf3ZziOfArli6R2vJSGcyjdutrpam+XpaVVsqiVZWysKRKFpZWy0IEhqYFpTWyskpFSIhIb4UXGNmSn5cjA/IzpH/Naum7YpYMWDBZhlQvlSFrlssgTd1HjpbCsdtK4RbbScEW46TblttLVnGvYG9t4KKDgw/rU7eip6xp3FdyvzPOpcwhyecRpYINu2o9HTXsCr755hsnctItPmzYlWEYhmGkTtrEB8R6zwe9IBdffLFceeWVzd/pFZk4caLbBpESq9cjFp1NfPA42lU1DW5Oh+8HYNmsykb5prReJqyukwVr1u0h6JGdIbv2zpbdeufI+GJ1zj59S/oWF60z7yUjK0uqC4qlUsVGueSoQx15XKynMOjdKM7nXREJhpjw6Nyqcvl27lL5dOpcmb6iSlbXZTqBMbekOlgpAoIieljUwJ6FMrRPDxnep7uMKsqVwaXzpP/8L6X3V29LztcfqCpa+2jegs23lh677CPdNc0v6CXjxu8R/NIOVJSotzxdb8xHIu89HyyMwbCtRX65/gsI24qJj9Zj4sMwDMMwNm3SKj7STWcQH2ReqYqN1bWRF+HpH/m2vEGmVTTI1yo4ZurfcAbTe7F9z2wZr2IDwbFlUZZ7PwLULV0oM7+cIP0HD5bcXv2kMreHVGTkSrnun8fFeujMKAp6Nnrm57j3eMSjvLpOPpu+SCbPWiRT5y2TyUsqpbIuIhLKM/Kkmt4L5l/o34L8XBnau7sTFzxSdmSvfNmsd6GmAtmsR6ZUTPpUyj9716XKyROkiWFZAfkjxzix4VN2z0gvQ2Njo0yePFnGjRvnvreY5QtEFs7UNCOSFmgqXx38mITResyf/SX40n6Y+Gg9Jj4MwzAMY9PGxEcKxBIfDJ9aVdPo5nPMCITGZE3T9XN4JBWyYIseWTK+T0Rs7KDCIy+GH9nU0CBlM6bKpCWrpWDYWFUp676QLpeJ4wU5zcOp4jFj5Rr5YG6JTJq1RKbMWSJLlq1SabG2t6VSxUxGYQ/ZbHBvGTegUHYcOUA261PgHikb3i/CAoFR/tl7mt5xwqOpNvI0KcgdMkKKEBq77uvERk7f2M5XyuKDuSWL50TEhRcai2aJ1KwJVgiRnSMyaJTIkM3VO3/X9ebE5Jifiuz3/4Iv7YeJj9Zj4sMwDMMwNm1MfKRAWHw05RXKV6UN8tnqOplcUidTyhukqiEiMjxDCzKd0NhNBcf43tluaFUieAHe4pWlUtqY7Z7e1a9fPzfsqkcwlApRUJCz7tOuoKa+USYsLHdigzRxznKpryiTXk1rJDsQHPSSDOlTJGNGDJRxowfL7qP6qtAocJP1efLQ0KFD3XoMmar85svmno2KLz+WxuqqyG9KTv/BKjL2liLEhqbcgcF2SYgpPqorIyKDoVO+V2PpXFYOVghR0F0zVEUGQsOl0SIDRvAq7cjvMyaKPHB1ZJ9hBm8W6fVg+3bGxEfrMfFhGIZhGJs2Jj5SAPHx4KSFUjt2vIqNRikNXhFBxiEreFM3PRsIDQTH4PzUHEUmcS8tr5WqYBhUVlODlC9dIJuNHC6DehetN1l8WUWtvDcnIjQ+mFuqwqNMsuprpbdUS28VHLnSIN1UpGwzsJtsO6SXbDNqkOy4+WAp6rH+PJUVmm8VUydJwbypkd6NLz6Uxsq1PQjZvfq6Ho2iXSPDqPKGt+7pRI1V5TLvrZdkZHZdRGggOFav/wZqR89+KjTUKR2sxxqmQoO/vQcGPyZg1RKRT/4jFfNmSs6AoZLXs09aejw8Jj5aj4kPwzAMw9i0MfGRAoiPy2dly+KC/k5w5Kkm2LFXjuzRJyI2xnTPWqfnIxH1DU2yrDLyLoy64IUfvOOjZ9UK6Z3VIAvqM9zjbwsKu8lXSyqc0Hg/EByzV0cmheeoyOijYgPRsXmPTBk3sLuMG9RDxg0pljHDB0hm9+L1hm15GDq14oXHZeFDt0jD0oXBUhU+RT2lx057uV6Nol32lvzRWwW/tILFs9Xz+ySS6JmIxUB13OnFoDfD92wU9gh+bB1z5syRXr16SXFx6x+jmwomPlqPiQ/DMAzD2LQx8ZECvuej33bj5aAh3WTXXi1/admaugZZWlEnq6rqpFGznHdwMJyqf7dcyZn/rXsT+CTpK09NXiqTVjXJZ4sqpKJ27dOjsqRRejdVywEDs2SPgXmynQqOHQf3kN66vRta1K1IJD/+k7ga11TK8v97WJY8ervUr4z0PORstaMM+O6xrmejcMs25uGUjyNiY8pHIquWBgsjrOk1SAq23lUFxmaa1OkcvkXwS/ti4qP1mPhoPSY+DMMwDCN1THykQKwJ56lSsqZeRUeNlNcEQ6syM6RvYa4M6JErpdX18upnM2TChMny7sI18kXOui/861eYLd8Zkif7D8qSXfpky46DgmPjiCI06ClAeCR4+3VDeakse/IeWfrUvdJQVuKWFY3fXwp/cLY0jdlu7ZyPllKiAoZH3SI6pn8houKpmZw8kTE7imyzuzRutZtMnr+k9U+7agEmPlqPiY/WY+LDMAzDMFLHxEcKtFR88FRchlUxR4NJ4ZCXnel6Ob5dUSWvT18pr367wk0W36xivuQ11sqigv6SU9xb9lOxccTmRbLP4HwZXaDb8m4OQGDkFUYER6EKjsz1J6CHoXdjyWN3yvJ/Puh6PaB430Nl8FmXSOHWO64/4TwZTAafPTkiNkhL5gQ/BPRW52vr8Zp2jwgPnkiltPlRuy3AxEfrMfHRekx8GIZhGEbqdCnxUV8fzPQOoNEnpduxxYn58MMP5YQTTkgoPmobmmRJOW8Dr3dDqwDxMXFJhbw9a7W8ObNESqrXXkPvxio5orhSdhvVR/bYd7xs3y9X5n/6vvTt00sdwchLBjNy86XJCQ5NWcmHe/GukKV/v01WvfRk5NG4KlqKDzhSBp19ieSNWjvcCfFRU1PjXgAZl8pSyZz6qYqNTyRz+gSRQMQ41BluGrG1NKngaNpqN2niCVQxQHwg3rbbbrtgSfqYO3eu9OzZs0PER0lJiYwYEfua25OvvvpKttlmm7SLj4ULF0peXl6HiA+CBrxgNN1MnTpVNttssw4RHwnrkWEYhmEYzXQp8eHfgu7BscXhTHcUlUjt7NmzZZdddnEOWjQVdY2yck2j/m2SBs3O6SUN8vWKWvlyeY1M089hRhdny56D8mSvwXmya9NSyamrkoze/SWjuLfkVJbIitnTpahPX8kp7iMNeYXSlILggKbF86T+xUek/sPXJUPzpUmd1ew9D5Hso06VjAHr927gPNfW1kr//v2DJREKVi6Q7vMmS495U6RgxTzd8dri0ZDfTcqHbCkVw7fVtLU05MSe1B6GezRr1qwOcTZxanv06CHdu7f/43XDVFRUSHl5uQwaNChYkj5mzJjhHOh0iw96EHHSEW/pZM2aNU74Dhs2LFiSPugJQxTk5ER64dLFqlWrZJ999gm+GYZhGIaRCBt2lQKxhl2RaysYWlVZJ3NL1sgHc0rko/ll8ommcno3gmkYfQpz5ODNe8shY/vI4Vv0lYE9IlFY3qGxZta3kpGZJYVbBL0CC2fIPBVTfbbeUbr16hNZloSqqZNk8QM3S8lbL7nvGTm50ufIH8qgM36Z8F0czcOu+ulxvv0sMpSKCeNlq4I1Anhfxja7R4ZTjdhSD9AyJ9iGXbUNG3bVemzYlWEYhmF0Pkx8pEBYfOTmF8jCslo3b+O9Oavl/bmlMnNFleZkRG3kZGbI7sOL5bsqNhAcOw8pci/6i6ZmwWypLytxbwbP7T9YpKLEPSVq7uKl0nfbnZPOLan4/ANZ/OBfpOyj/7rvmXpefY89VQae+nPdZ/J3Y1S8+U/Jmfg/yZs/NVgSoOJFxu4kstVuItvtJVKUmgiKh4mPtmHio/WY+DAMwzCMzoeJjxRAfPzfW59I45i95O05kd6NqmAiOfDG8EPG9HGC46DNe0u33MSTwZmLsWbmN06wFGy+jWRkZ0cmcOvyWaVrZMBmY+KKj9L3XpPFD90ilRM/dt8zC7tL/+PPkgEnn+deDJiU2V+L/ONWzbzZwQKlZ38VGntGBAepHeko8UExRnz07t3bxEcrMPHRekx8GIZhGEbqpNej2Yh4YFk/+e1b8+R/s0skKytTjt66n9x9zJYy9/K9Zfole8md+vkoXZZMeEDtiqXOWc7u2SciPKqrnPDQHbt5FeuhDvzqN56TKT/cV2ZceKITHrwUcPC5l8u4VybLkJ9dnVx4lK0UefT3In/9hRMejUV9pXS/E0UuvU/kmidEvv+zdhceHQUPImAeBnNYDMMwDMMwjM6LiY8U2a+4XC4YP1DeOXdnKfvt/vLcKdvLT3YfKsN7Jp90Haapvk7qS1dJRkaG5PQJJnsz5Aq694r8DWhSp3rlC4/L5B+Ml1mXnyFrpk2W7N79ZMgF18i4l7+SQWdfKlndi4K146DHk9ceE/n9qSKfvxV58/nhZ8jq826V8l0OFRk0Klix64GAYwJzVVWV+0ye0tNiGIZhGIZhdE5MfKTI3j3K5Y+HjJJ9Rq0rEFqKe7u4OspZPXq6yeHSUC+ypiIyZ0SXQVNNtSx7+j6ZfMxOMue6C6Rm3kzJ6T9Yhl38Rxn34kQZeOovJLMg8ZwQx6R3Rf54msirD4vUVovsuL/IVX8X+c4PU36KVmfF93bU1am4UngKGU81SvfwJMMwDMMwDKP1mKfWgTQ1NEjd6hXuc26/YFJ4+WonRtybyjOzpPalx2TG8bvL/Jsuk9olCyR38HAZ8Zu/uuFV/U88VzLyUuhpWTpP5I5fijz0WzeJXQaOEPn5rSKn/LrNE8g3NNG9HYgN5scgPuj5MAzDMAzDMDovJj46kPpVy6WpsVGyuvWIiAhEhx9yVdRblj56u1Q/frs0lKyUvBGby6jr75XtXvhS+h79o8g6yaiuFPm/v4rceJbIzEmRFxP+v59H5nWM2jZYqesSq7eDd3pkZSWfZ2MYhmEYhmFseEx8dBBE6etUfEBu3+DJOFVlbjI58zCqF82XBbdd4xYP+Nk1su3/fSK9DzvOfU8K+3jveZHrVaS894IuUFGz5xGRIVZ7HyUtfTdHZ4O8450ksXo7DMMwDMMwjK6DiY8Ogt6MpoZ6ycwrkMxuPSILGXKlNHUrltlX/8R9ztp+D+l13Fnuc0rMmChy45ki/3e7iplykeFbilxyn8hxF4oUJpmM3gVoaGhY50lWPDbVejsMwzAMwzC6JiY+Oog6JporzXM9atY0P1536T8fkqopXzhRUvDTqyO/J2P1UpGHrhW581ciy+ZH5nL86AqRi+4QGZT+9090BMzt4L0Q4d4O3kVhGIZhGIZhdE1MfHQA9aWrpVGFRmZunns/hyPo9ahevVIW3XuD+zzi8psls7i3+xwXnlr1ykMifzhNZNJ7Kl6yRQ46MTLEaueDgpW6Nr63w8/tsN4OwzAMwzCMjQMTHx1A3Yql7m+2f69H8HhdXi0/+/cXu3d/FO93ePI5HhPeVNFxqsjrj6uiUcd86/EiV6gQOeIsN29kY4C5HfR28L4O6+0wDMMwDMPYuMhoYkxLF2Hp0ogT7ykrK5NFixbJ1ltvHSxJD7NmzZKJEyfKoYceKgUFBcHS1GisqpC6BbMlMztHskdt4R4Hm1m+SjIrSqTs9edkxZP3Smb3Yhn04Gvu3R+zZ8+WAQMGSGFhYbAHkaylc6XHq/dJzqKZ7ntDz/5SfvjZUjey9U+wWrVqldTU1MigQYOCJekBEfHtt9/KVlttFSyJDesxr4O/5BG9HPR4tIT58+dLz549pUePYE5NmigvL5eSkhIZNmxYsCR9fPPNN7LFFluk/f0lixcvdhP4e/dO0vPWRnhoAPV41Kj0v9xy+vTpMnLkSPf+l3SyfPnytNsgwzAMw9hY6FLiY8GCBcGnCETIWZbMsW0rCIKvv/5aDjrooBaLj3oVHo1rKiW770DJ7NXXPV43Z/k8qV88X5b89gJprK+TXlfeJvm7R4ZMzZkzR/r37+/ER+aacil6+xkpnPyO264pJ08q9jhaKnY9TJoy2zYEqSPFx7Rp02TLLbcMlqwLxY9H6JIA4YHoaI2zTVkoLi7uEPFRWloqQ4cODZakj6lTp8rYsWM3KvGxbNkyJwrSzYwZM2T48OEtFrEtZcWKFTJu3Ljgm2EYhmEYiehS4iMaHCYcme233z5Ykh4QHu+//76cfPLJbhhQqjRWV8maWd9KhjqOhWO3E/UgVTGVSdOyBTLr6p9IyTeTpfd3/5+M+v19wRaRaO3ggQOk22f/EfnPoyI1VZEfmM9x1Dnt9pJAHCaGOKXbgUZ8TJ48OaZzxtwO//hcwElsy8sCEW69evVyAiSdIDxWr17dIQ70pEmTZNttt027+EC4Mbytb18VyGmEgAG9lWPGjAmWpA96jUaPHp128UFPDr2VhmEYhmEkJ70ezSZO81wPejy881i+Wla+8JhUTP/GLR926Z8iywMKFkyVgtvOF3nh3ojw4O3kF94eeZJVF387uQex4ed28BnH2s/tsLeUG4ZhGIZhbLyY+EgTTbU10lBeyjgiyfETzWvWSPWMr2XZ849KfX2DjLz2Lsku7hX5DaZ8JENfuE0yVy6OvJ38+ItELntAZER6h5V1JNHv7WA8vj3JyjAMwzAMY9PAxEeaqF2x1EX1s4t7S0Z2ZMJrU8kKWXjn76S+ulb6HHGSFO91sFvuqKsR+edf3cf6nQ4UueoRkT2+575vLDDHxPd20MPBvJaWzqExDMMwDMMwui4mPtIAj86tL10VmTzdNxgL3tggK564Q2oXz5OM4j4y7OI/RpZ7mN+xepnU9B4sNcf+PNLzsZGA2KC3A/EBvrcjOzvbfTcMwzAMwzA2DUx8pAH3NnN1uLN6FEtGbp5btmbiR7Lihcelob5eRlx3j2R1L3LLHbyh/K1/uI9LDzzFDdXaWGB4FU+yYuI5czt8b4fN7TAMwzAMw9j0MPHR3qiTXb96pfuYE/R6NNbVyqI/XaKCRKT4sBOkaNd93fJmnrzJ9YzIXkdJTf8RwcKuD6KDieVAbweTytPR28FxePoUjw9esmSJexSuYRiGYRiG0fkw8dHO1K9aLk0qJLIKu0tmfuRFgUvvut4Nt8ru3U8G//IPblkzn70uMmeKSLeiyJvKNxLo6eAxukCPR7p6OxAaH330kUyYMMGJD140+PHHH7uXQhqGYRiGYRidCxMf7QhzG+pUfIDv9aj8+nNZ9X8Pus+DL/2zZBWE3hOypkLkubsjn489XyQQK10d8sELD3o60vkkK96e7ntXwvDWad4nYRiGYRiGYXQeTHy0Iw0lK90byzNz892cDoZbzbnqLMnMzJBeh3xfuo0/IFgz4KX73UsHZeTWkZcIbiSsWbNmnTke6aSkpCT4tD4IEMMwDMMwDKPzYOKjHXETzZXcfgPd30V3/V6aViySnH6DpP9Zl647kXzetyIfvKR3IEvkpEuChV0feiGYgwHpFh7M80hEXV1d8MkwDMMwDMPoDKRVfNx4442y2WabyT777CMzZswIlq4Ly/md9UjHHnusG7vf1WgoK5HG2hrJzMmVrOJebrjVssdul6zsbBnys99IZp+IIHE0NYk8dXPk80EniPQfFvncxeHJVv7lgQgPej7SSa9eoRc0xoBJ7oZhGIZhGEbnIW3e4TPPPCOLFy+Wr7/+Wm6++Wa55JJLYoqKlStXys477+zWmzVrljz77LPSu3fv4NeuQ+3yJe4vbzNnuNWsK8+SbHV+e3/vBCnYZhdRFeJ+d7z3nMji2SI9+4kc8qNgYdcm/GSr/Pz8DnmHB2UnEf36af4ahmEYhmEYnYa0iY/Zs2fLnnvu6Z5yNGbMGLds+vTp7m+YuXPnyqBBg7r0m64bKsqksWaNZKjAyO7VVxbdcZ3ULpwj3UaMln7/7wyR7j2DNZUyFWAvRyagy/EXiWTnRj53YcJPtsrNzXUp3VC+vvjiCze5PdaEdoTH4MGDg2+GYRiGYRhGZyAt4oMJx/R6jBgReWcFwoLPCI1ocCLvvffe5mFXPCa1q1EfzPXI6d1XKqd8IUsfv0uycrJlyPm/lszCbus+xeq5u0RUqMi4vUW22i1Y2HWJfrIVvR7ppKGhQb788kuZOXOme3Tvlltu6Ybt0XtGj9nw4cNl/Pjxsv322wdbGIZhGIZhGJ2FtImPWEIjGi9SbrjhBjfk6sknn5SLL7447vyQmpqadRJDfZhU7OcapCv5CdSxfqsuK5E1JaukXp3i+px8mXXlmW7dAcefJVmDR0htbrfmdeu++VTki/9JU3au1B71k3X207xOB1yPT+1xrLKyMncvEAWIj1jrtNc1cSze6bFixQp3rHHjxsmAAQNczwsvMOzRo4ebB5KXlxdz+/ZMHXWfNrbjkDbGvDMMwzAMIzUymghdtzOIiiuuuEJOOukkF4X23xmGdfzxxwdrrU+y9SZPnhx8ioDDi8jxw7rSxcKFC5042m233ZxjG6Zx6QJpqiyXzOLeUvfKE1L/2j8la/jmUnTBNSLZOVLTZ2jkKVeNDTL66eslt3ylLB1/jKzaPvajdXlJXt++fdM+DI1H1OI49e/fP1jScsh/Ej0QiIFYLxFEGJB3m2++ebCkdSBwmONBceVY5FH0cCuELAKke/fuwZL0UFFR4V5uyHDBdIMQp0cw3ZP3ly1b5obL9ewZGiKYBqjjiMdhw9L/kIU5c+bIkCFD0v7gAeay7bXXXsE3wzAMwzASkRbxATzpatSoUU5E0DifeeaZcvnllzsxEo9o0ZIMnE2cpnQPsWEy/Pvvvy8nn3yyi7B7mmprZM3Mb9znhsoKmfaTo0Q9Ytnmb89Lfq8+IkW9I5PK4T+Pivz77yKDRolcfI+4R+zGgHkxzFUIHycd4AAyQXzoUBVHrQDhwvYIDp5sFe9FgogPRCO9FK0FJ9L3hjGXY7vttovpjLMePR/FxcXBkvRQWlrqHvM7cuTIYEn6mDRpkmy77bZpFx8LFixwQ+YQdemksrLSvfwx3QED+Oabb2T06NFpn4O0dOlS1wNnGIZhGEZy0ubRIDw++OADJyj8RPNohwNRcsYZZzQ7ljhaHdGT0V7wXg+0W2Z+ocy59jy3bMg5l0t+HxUc9AL0CB4Fu3KxyOtPRD6feHFc4dFViH6yVbreYE6vysSJE5vLB+UCoZluR9wwDMMwDMNID2nz4ujxYFjKNtts4+Zx3HTTTW5CcFhw8P3KK6+U008/3Q0tCa/X2WlSB7y+NPLo4GVP3i21SxZI4dY7yoD/dwrhfvXKu619vC7v9GioExl/mMjwLSLLuijRT7ZK15AWROsnn3zi3lLOMKuddtqp+QEGhmEYhmEYRtckrSHkyy67zI33f/fdd5vH/CMsHnzwwebv/OX36PU6O3Url0qTOuI182fL8n/9XTKyc2SzP9wvGZVlkRWKgl6Pie+IzJgYESNHnxtZ1kWhl6cjnmzFkCaeesYQHYZ0MQSvKwhSwzAMwzAMIzE2fqU1qOioX73SvdtjwW1Xu0W8xTyvd1+Rhno30VzyCkWq1VH/v9vd73LMT0QK0jsROt3QG0HPB8Oe0jUhft68eTJhwgQ3tIv5BwiPpMdi2lLpSsku73pvxjcMwzAMw9iUMPHRCupWLZemxgZZ/vT9UrdskXTbfjfpf/L5IhUlkRWYaA5MMC9fLTJy68iQqy4MczwQBEwwZzJ8rCdbtQVEzVdffSXTpk1z35kovMMOOySfT4LAWzJHxccKyawqkwzEn2EYhmEYhtEpMfHRQhh6VK/ig5cJrn7jWcnIzZNRv7tPMurrIo4wk6G7FYssmiXyzrMiGfr9pEuCrbsm/n0G/slW7S08EDbM7+CpQYiNHXfc0T2wICEqVtxE/mXzVQ3WiuTkSF3PAdLk59kYhmEYhmEYnQ4THy2kvmSl1FeWyeJ7/qjfMmTYhddL3qBhIn7ID8ID55xJ5k3qIO///0T6p/+dBuki3U+28vM7eHcGw6sYZtWnT5/g1zgwr2axijv+ktfFuv7AUdKUl953oxiGYRiGYRhtw8RHC6lfuUyWPnaXipAVbrhVv+PPEl4gKFXlax+v++HLIvOnRd7xcehpwZZdj/CTrXi5Yns/2YoXKn7++efuDdFMKEd40LMSF54YtnRepMejQfMcsTFwpIqPvpG8NwzDMAzDMDo1Jj5aQEN5iZR/+ZGU/u9lycwrdMOtHBWlkWFABd0iQ69e+Ftk+bHni+Su+0b0rkL0k62i3+zeFvyLB7/99lt3HIZY8ShdjhOTYEK5LJ4jUrPGvchReg8QGTBcJCe9L5AzDMMwDMMw2g8THy2Ax+ouupvhViLDLvljZLgV+Inm3XuKvKjCo7pSZMtdRcbtHVneBQk/2Sphb0QLqampkU8//VSWLFni9s1LA5lcHhfExpLZbkK5E3iFRZG3xJPXhmEYhmEYRpfCxEeKZNZWy8pHbpOGkhXSY5d9pO8xp0R+WFMhwmRzHq9LZP6T/4hk6efjL4r83gVBeISfbNVelJaWykcffSTl5eVu/gjDrPr16xf8GgVCg+FVDLOq0/xlyFf/oSJ9B+nN6NpviDcMwzAMw9hUMfGRIr1mTpLKD9+UzMLuMvJ39wZLFd/rwUTzJ2+KfP7uj3WD/pHPXQyeasUcDGjPJ1stWLBAPvvsM7fvXr16OeERV9jEmVDuXtRoGIZhGIZhdFlMfKRAU+lKGfrxK27uwbBLb5TcfoMiP/CI1zWVkUj8hNdFli8Q6TdU5MDjI793McJPtuLJU+3xZCuGbtHjMXXqVDe/Y8SIEbLzzjvHnry+3oTyfJtQbhiGYRiGsRFh4iMVeLxufjcpZLjVkT8MFiq8QBAYdvXvRyKfeadHF3zXBCKB4VbQnk+2YmI58zxgu+22kzFjxrjP6xB3QvkIm1BuGIZhGIaxEWHiIwUyRoyVr0+8RIZefWewROEdHlXBsKA3n4j0gux8kMiobYIVug7+yVb8bc8nW02ZMkVWrFjhPu+2224yYIAKimiiJ5R3swnlhmEYhmEYGysmPlpAZs/ewSfFP1534QyRyR9G5iMcc17wY9ciHU+2mjVrlixatMh9Li4ulqIiFRVhyLtYE8r72IRywzAMwzCMjRUTH62FIVcN9WuHWx1xpkj34sjnLoR/shXCo72ebLVw4UInPmDrrbdevycF4RaeUF6koq4dJpRn1kTeS2IYhmEYhmF0Tkx8tAYmmTPPg8fqMlxo2FiRPf9/e3cCH0d15wn8J0tq3bcsH/J9GxvLNmQMzjohwLAQkrAMMwRDJmTssDvJEMJhc2QI2TGXidmBAMsxBG8gCTDeISTAZDlDws0M+HaMMbYkbFnWfd/X1u9VldzIsixb9dpq8ft+PhV1V5e6XN0t8n793vu/r3sPRo+urq7AK1tVVFRg586d5jbX7xg7dqy5bfA1Y09H9cHPTijnSvDHe26WOv7tg8A1Z2PSw1ch439eBNx6GbDtbe8AERERERkuFD6OB3s9asqc8PGie/+SVVFXjalv8GDPx1DV1tZi69at5vb48ePNyuWGP6H8oDehnOcKakL5i48Df/qNd8dT7bw363/iDokTERERkWEjpoezjKPE5s2bvVsu/tOLi4sxY8YMb48dpaWlKCwsNCViE+NjkVB1ABPeehqJ1QdQddIylJ5+kXfk0HE9jNzcXLMIny183RgUuKYHzxVESV0GmerqavPcHGaVmZnp9qS0t6Ji5xZMHO+WJ+5OTEZ7SpYTQIKZ1zH/sau9W4ernfkX2P+lsOpkAWlsbDQLJY4b55VctmjPnj0mxAURDgdSXl5u3jfOz7GJpZxZhGDChAneHnuKioqQn58fWOW2I+Hn/ktf+pJ3T0RERAYSVeGD39aHO3jwIMrKylBQUODtsYNVm959911ccsklSGlvQsx/voJRLz+OnrRsdN+wHnAa1EHZvXu36TUIcmXxvpqamlBVVWVez97eiSFgg9JfQJCN14ULF7qN5foq9NRU4BOnAT1r7knoycwDkgK8ruqDiL3jcu9OP6YvQNf3vIUfA8R1S2pqajBlyhRvjz3sSZo/f7718MHQy8DLMGoTP3ssRNBvyeWAcfgfh/6FQnbLNfO/QfybFRERkaOz26IJGL+hD9/YIOu7z8bmN/xiR8Ug1mlQj3rjGedeDGL+2/cRm5LW7+8M181fc4PfBrOx2d8xx7KxShZ7pBg8GJgWLVqEeL5O1aWIbajBKOcYJKdhVP50xKam9/scx70NYoJ/v7+nTVvAm4iIiAxOVIWPEy2G1Zne+A3Q2gTMKAAWf8V7JDqwh8KvbBXEWh7sOdm0aZOpmMXnW7x4MeI6Wt25HWbld+fjlT0W7Wk5wc+J4YKED9/o3TkCJ/CIiIiIyPCh8HEMYgu3AVvecF61OHeSeRTh/A5uFERlK47W45Cg+vp6szDhKU7wSGiuAypK3EpWoURg3BR30cAgMfj928+Adf8d+PQjIP4IIYple88dYEiWiIiIiEScwscghTrbEP/Kr9zKTX+53F0ML0qwh4K9HpSUlBTI/IEdO3aYeSN8rsULTkZyQ6VbBYzSsoAxk5y0FuBEX64o//ZzwK3fcn4+7+774teBNRuAf/hfwPylaM2fha4p84AvnAPc8mvnYlPd40RERERkWFD4GKSTqz/GKK5PkZUHnO2EjyjBORnNze7iexwaFUTlH06K52R/WjhzKtKbndDR7oSbuDh3lXK+RkEOsyreCfz0CuDf7gOaG4BJc4DV/wL89Q/dHg4OgVu5Bgf/+no0fmcNcOn1Ch4iIiIiw5DCxyDENddhgRM+jOWrnR12q+cEhUOjGDz4k0OjgpjnsW/fPlPemD1AC/JHI7un3Uk4XW7FLy4YOMRVyj+jvgr45R3AvT8ADjrnzMgB/vZHwDUPuEO6RERERCSqKHwMQnxjDVriEtE1+wvArMXe3uGPE8HZ88GhURxuNVQsKbpr1y6M6urASVlJyEtJdHs4MnOBvInOpymgqj9dncCrTwG3Xw5s/AMQG+f2Nv3ocWDxmd5BIiIiIhJtFD4GoSVvCp6ecT7a/uoqb8/wx5K6rGzFieVBTDDnQmrbt29HqK0R01LiMD5vNBAX74aO9BzvqADseA9YuwL498fcoVwnLQFu+j/A+SvdSewiIiIiErUUPo5BT9CVmyzhmhv+eh4MHkOdYM6KVls2bURSYxXGJMRi8qRJZu0OM/QpYeg9KkZVKfDgauDnNwOVB0yJXnzvp8AVt0fV5H4REREROTKFjxEmvLKVv4jgUHDOyNb/eA/JdeXISIjHzFmzEJPjBIPc8UBMAB8f9m48/yhw598Buze5vRtf+y7wo19E1RA3ERERETk6hY8RJHyCeSgUMttQsPdk+1uvI+QEj6SEEGbPX4BR46cBKUdfWXxQPnzNndfxh39153mcchbwj48DZ13izvMQERERkRFF4WMEaWpq6q1sxV6PoehsbcHOP76EnvpqU553zqlLEJfvBA/O8xgqrk5+z5XAr+50K1qNnQxcfT/wrZuCnT8iIiIiIsOKwscIwR6PoCpbdTfWYdefXkZbQx3iQiHM/uJXEBozcehrdzTXAxvuBdZd4a5OnpzurtVx/aPA5LneQSIiIiIyUil8jACc4xFIZSsnvPRUlWL3e2+gsaEePaFEzFz2l0jOyfMOOE5cnfyt3wG3fRt49wVnh/Pv++I3gB//0l2lPIi5IyIiIiIy7KnVF+VY2aq9vd3cZo/HcVe26mgDyopR/OetqKurQ0dSGmb9l7OQnpXtHXB8Ygq3Y9az64Bn7gdaGoFpJwPXc3Xyq4JdkFBEREREhj2FjyjGYVZcSJC4ejnnehyXxhoneHyKkuIilFVUoSklGzNPPR3Z2UMIHo21wK/vQswD1yKxruzQ6uQ/uMddCV1EREREPncUPqKUX9mKOCGc4eNYxTjhBRX7gepyVFaUo7isEo1puZg2dx7GjBnjHXUcOMTqjsuBD14xd8sXnKXVyUVERERE4SNasbIVez64jsfxTDCP6WxHXKUTPFqaUFtXiz8fqERzShbyJ07C5MmTvaOO0f7dwN1/7w2xajJDrLpveAwHTzlfq5OLiIiIiMJHNOJQK7+yFSeYH5OeHqC2ArEV+4DuLjS0tmHLwVq0J6QgLy8Ps2fP9g48BpzLwSpW//x9oOQTIC3LLZvLIVZ5E72DREREROTzTuEjynDhP04yp2OubMXVxA8WAfXV5m5bXAI+LKlER0wssrKyMH/+/GN7PgaZ9190Fwr0q1gtuxD4xyfcBQNFRERERMIofEQRltNl+KBjqmzFkFBXZSaVo6PdrB7emj4ae2ub0dnVjbS0NCxcuPDYKmUdLAbuvRJ4+m6gqQ6YNBtY9TDwV/8AJAxtnRERERERGZkUPqIEh1n5E8xDoZCZZD4oDBtlTlCoq3RDSFIqusdMwu5PS0yYYYhZvHixmTsyKG0twG8fBH7KhQJ3ASnpwDevA65+ABg/zTtIRERERORwCh9RgJWtOMGcWE43MXGQk7c5vIrBo70NTroAcscDo/Ox/c87TQ8KezoYPAYdZDa+7lax+tNvnDtOkDn9fHeI1WnnAUNd/VxERERERjyFjyjAHg8GEIaFQVW26vR6O2orzKrlZjG/cVOB5DQUFhaivLzcHJafnz+456s8ANx/DfDL291Aw+e69kHgYmdfUqp3kIiIiIjIwBQ+hjlWturq6jITwVNSUo4+Ibyhxp2P0dbqvLvO25s9Fsib4NyORXV1Nfbs2WMOY/Dg8w2IQ7b+/TFg7Qpg7zYnaDjHX/QDYPUjwISZ3kEiIiIiIoMT08Ov1KNEcbHTqA7DHoGSkhLMmTPH22MHz7tjxw6ceeaZgx/ydJyKiopMyVtWsmLoaG9vN4GD8zwGmhAe092JOPZ0sKIVhRLRmTkaPaPcVc/5PHxuzh3hBHM+P4dejR3rhJN+JO3ZiIzXfoW4BrcyVtPcpag74xJ0J6eb+4PF83388cfW3yPav38/MjIyzPXZ1NDQgLq6OkyY4IQ6yz766CPMmjXr2IoBHIeDBw+ahSpZ9cwm/s2y523KFPur3DNoT5o0afDDCo9TZWWlKdggIiIiRxdV4YP/Jx+ODcADBw7gpJNO8vbYwUbM5s2b8dWvfvW4FvQ7FhwWxdXF2RD0K1vx9kATwmOa6zGqvsodYuUElZ70HHSnZHiPwoSYXbt2mefjv5+N2draWnN/3Lhx3lGuUbXlSPn9owjt3Wrud+bmo+n8/4HOicex/oeD4YPnnjt3rrfHnn379iEzMzMi4YOv38SJ9tcw2blzp1l7xXb4KC0tNZ+z7Oxsb48dDB9lZWWYOnWqt8ee3bt3m5BjO3xUVFREJFyLiIiMBFEVPvpig4nfohYUFHh77GCvx9tvv43LLrvs6EOVhogNJr83gm8NG4Tc+tXd5SSyUqDVnYyOhEQgxwkTcSH3vmfTpk2oqqoyjbDTTjvNPB+DXGtr66Fv77s6gNeeBl550kkczm2uSH7u5cCXL3KHbx0nho/t27djwYIF3h572LPDb+7Z+2ETQ29NTU1Evr3funWrWX/FdvhgrxF79XJzc709drBwAr8wmDnT/rA9Brfp06ebXkObGKb4hYGIiIgcnd0WjRwzBg6GAv5kZasjBo+meid9FbrBgw3TTKfROGbyYcGDPSkMHhy6xaEh/T7f7k3AnSuA//e4GzwWftmtYvWVvxlS8BARERERCaeW5TDDtTfYW8Bvujkv4zDs7agoAapKOZ4KCDlhgqEjPcc74BD2bvgTzDnsqW+PQGxjLfCLNcCDq93nY6/J99cBl//YeT67w29ERERE5PNH4WMY8YMHeyn6nVvCXo7SIqCl0cztQIYTOBg84g8fVsKx9du2bTO3OTdh/Pjx5rYv+b3nMfYxJ3RsecPdcf4K4OZfAjMXufdFRERERAKm8DGMdHR0mJ8co/6ZCeY93W7PRPl+oKvTCRvxQN5EJ3zkuiGkD4YYTpDnRHP2dnCCea+PNwK3X47k136NGA6xmnc68JMngbMv9Q4QEREREbFD4WMYYVggzvXo1dbi9nZwjgeDRlomMHYqkNB/1S3OFWGPB3s+OL+D8zzM2iA1ZcBjtwAPXQ9UlqArYzQqL7wa+O6tQGae99siIiIiIvYofAwT4UOuTFhgEbKacqDsU3cSeJzX25E1pt/eDp8/wZxzRhYtWoT4HifQ/H49cPt3gO3vuKHl61eg5nv3oHWa1iYQERERkchR+Bgm/F4PU1KVCwUeLHRXK6fUDGDclCP2dvg4wXzv3r3mNsuzpu7+ALjDCR0sn8tSun/xX915HWd+E4gN610REREREYkAhY9hgj0fFN/WhFEV+zkBxA0Io/OB7LFAzMBvFddP8CeYT8nNQt5TtwNP3AbUVQKT5gCrHgGWr3aCTKY5RkREREQk0hQ+hgEOt2LPBwdThZpq3Z3JaW5vR1Kqe38A4RPMczoaMf2Jm4CiHe6E9G85t695AMif7h0tIiIiInJiKHwMA36Vq7j2FvOzOysPyB3vvDthFa+OwJ1gvhUtLS1Ibq7Bya89ghhOWD/nW8CPfgGccpZ3pIiIiIjIiaXwMQx0treZn3Gdrehgb0Vyurk/GHs3/QeqqqoR29GKhe89jbj5pzuh43HgvO8AoUTvKBERERGRE0/h4wTraW1Gdw9v9CAuORXdCSnuA0dTX4XKDQ+gsLrB/G5B4TtIvuKfgO/cAmSO9g4SERERERk+FD5OpI52dNZVgdkjzvnfmPQcd/9AuMjgq0+i6Z6rsS19mtk1I9SJ7O/dBkydb+6LiIiIiAxHCh8nCkNE+T50xIbM3bikZPNzQDveBe78O3S+9GtsXnQBuuJCGJObgylfPu+o1bBERERERE40tVhPhJ5uoGI/erq60BXvzsv4zKrmfbH07oOrgZ//GD1Vpdiy7NtoSc5EWloa5i0o8A4SERERERneFD5OhIoSoL0NXYnJ6ImJMQsLmsUF++Jig889AqxdCezeBIyegL2X3IKa5BzEx8dj4cKF/f+eiIiIiMgwpJZrpFWWAq3N7OpAZ2q22XVYr0dPD/CfLwO3/S3w+v91q1Zd8PcoX7kWhQ3tiHECC4NHQkKC9wsiIiIiIsOfwkckcbXx5nrnVXde9tET0NndbXazF8MXqtyPxIeuA578KdBYC5z2VeDmJ9D0hfOwfcefzTFz585FRkaGuS0iIiIiEi0UPiKlqc4JH1VATIxZQLA7Nt6sbM5hU7Gx3mKCLz2ByRtuR+yBPcDUecB1DwHfvBadCSlmBXMeP2HCBIwfP949XkREREQkiih8REJrE1Bd5t7OHgMkpvSuam6CR0MN8OAq4MUnzL62v7kWuOpnQP4Ms4L5li1bzArm6enpmDVrljlGRERERCTaKHzY1tEGVB5w53Fk5AAp7nCpzs5O8zNu/8fAXZxQvtkMxSpa/hN0FnzZPEZ79uxBTU0NQqGQJpiLiIiISFRTS9amzna3TC7ndqQ6oSMj1+xmb0ZXVydi3nke8Q+tBprqgSXnAqv/BR1ZY80xVF5ejqKiot4J5gwgIiIiIiLRSuHDFgYOBg/2cCSmANmHQkVnbSXw9D8j9q3fAnHxwLdvBi5ZBcQfCheNjY3Yvn27uT1v3jwz5EpEREREJJopfNjAIVYV+wDO60hINBPMe+3ejI7/vRo4sAdx6dnA9Y8Ci87wHnRxSNamTZvMBPPJkydj7NhDwUVEREREJFopfNhQdQBoa2UNXWD0ROdVdl5m9oT8fj16HlqNLoaS+UsR98OffTaYODgka9euXWhra0NWVhZmzJjhPSIiIiIiEt0UPoLGqlbNjSxjZSaQm+DBalb3/RB45Ul0J6ai52vfRex5l2MUe0X6qK2tRX19PZKSklBQUGDme4iIiIiIjAQKH0Gqr3YXBmTgyM0H4kJuFStWsyreCYydjI4f3AvMPuXwVc0ddXV1JniwotWiRYv6PUZEREREJFopfASluQGorehdRBDxCcALP3fX72A1K65Uft3D6EzLMYeHr2ru+/TTT83PcePGITk52dwWERERERkpFD6C0NYCVB90b3MRwfZWd5jVa0+7IYTVrL55LbpiRplJ5OzZ6LteB+d4lJW5CxGOGeM8h4iIiIjICKPwMVSdHYfW8uAigvt2A2sPDbMKr2bVu7BgP8Op9u93nsPBuR4JCU5gEREREREZYRQ+hqLLCRPl+9zgkZQCvPEs8MiNQEsjcPr5ZphVeDUrP3z0HXLF3pCSkhJzW+t5iIiIiMhIZTV83HXXXZg2bRqWLVuGTz75xNv7We+//745xt94Pyr0+IsIdjhbO/DE7cAf/tUdZrXin4CLr3EXEPQwYHR1dZnqVX2HXHEl8/b2dtPrkZh4eAUsEREREZGRwFr42LBhA0pLS7Fjxw7cfffdWL16Naqrq71HXbz/1FNP4YMPPsDevXvN7bVr1x523LBUUQK0twElTqh69GZg/+5Dw6xO/qJ30CF+r0dsbOxh5XP37dtnfk6aNMn8FBEREREZiayFj8LCQixdutR8mz9z5kyzb/dup4EeJjs7G/fee6/5SUc6btipLHWHVr35rJOy7gFam4DTv3bYMKtwRxpy1djYaErssjdk/Pj+f1dEREREZCSwEj5aWlpMr8fkyZPNfQYQ3i4uLjb3j8Tv8cjJccvRDkt1lUCZcx1PrgM+eBUIJXrDrK7+zDCrvjjkivpONvfL6+bn55teERERERGRkcpa+Dha0OiLv/PAAw9g+fLlmDFjhrf3s9h7EL758yj67g9643moq74aXRtfR88TtwHlxegZMwmd1z2CzrlL+v09f2ttbTU/zXOE/Xu5nyGN2OvBfZG4Hn+L1LlG2nm46bU7/m0kXpOIiIgMTkyPw7sdGAaJm266yQSJJUuW9N7nMKyLL77YO+oQ/3EurnfDDTd4ew+3ZcsW75aLoYAhxx+uZcuBAwdQumcXvtZWhOyizWZf9ZylOHj6ReiJPfoq5GwEcWOvR/hkcw65amhoMKV1/aFnnP+Rm5treotsqq2tNZPc8/LyvD128D3ifJ4jBcogMcilpaUhNTXV22OH/77x82obCzWwEEPfIgVBY9GDUCiEzMxMb48d/FuvrKzExIkTvT32FBUVmR7F/hb0DBJ7bFlUQ0RERI7OSvggVrqaOnWqCRv8P+eVK1fixhtvNGEknP8Yg0p/wWQgbGyy0VRQUODtseOjD9/HmA1rkdXe4A6zuswJSAsG39hgY5WNcDaK/UYkX/a33nrLLC7If//o0aPNfs53YS9ISkqKuW8LG4DseZkwYYK3xw5e9/bt27FgwQJvjz1sbGZlZSEjI8PbYwfn6NTU1GDKlCneHnu2bt2K+fPnWw8fXGeGldYYfG1qamoyYd72Fwa0c+dOTJ8+3YQqm7g4qBYGFRERGRxrLRoGj3feecd80+lPIO/b4OBja9asOa7gEUldiamoDaWjO2cccMPPjyl4sMeDDXA2HsMbkFVVVSZ4sNfDdoNPRERERGQ4sBY+GCY4LGXevHlYtWoV1q1bZ4YWsadjxYoVZjgJF9b78MMPTY/IcF/r4/X8JWi55mEge6y3Z3D88eB9J5qHl9ftW3pXRERERGQksjqWg/M3ON7/zTff7B3zzwCyfv16c58bH+Mx4VvfoVnDQeeoo8/t6E9HR4f5GR4+mpubTc8HQwfHpIuIiIiIfB7YHUj+OcfhVtwoPHxwfD2xZ6hvj4iIiIiIyEil8GFRf0OuOAeEw81IK5qLiIiIyOeJtWpXkcBqV5GoNFNRUWEWA2TFpmMp28khV+z54O/4k81ZopXPx8pC/a1ozjkxLBdruzwoh34xHKWnp3t77ODHixXJIlENiOWDWaKYk/htYqEAFkuwXZaW+PlmOWTb84Lq6+tNSE5OTvb22MG/Cf4N+KWlbWJFN1Y/s714Jyt4RaKUtIiIyEgQ9T0fbGyygWtzYyOTJWnZOOvv8SNtPJ5lPtlw9Pex3C4rgXHIVfix/uZXx+rvsSA3f0hYf48FvfGa+tsf9Bap147nieQ19bc/6C1SnweeI1LXxHDd3/6gN16PiIiIDE7U93zwn99fD0KQ+E03ywVzvQXbPvroI7MAm+11Ptj7wm/vbQ/9YmOTi0MuWrTI22PPnj17kJOTY71Hgmt8sIeKa0jYtnHjRvPa2e75YM8eg7y/3owtXPOGc57mzJnj7bFn27ZtmD17tvV1PvjfoUgsOCkiIjISaM6HiIiIiIhEhMKHiIiIiIhEhMKHiIiIiIhERFTP+RARERERkeihng8REREREYkIhQ8REREREYkIhQ8REREREYkIhQ8REREREYkIhY+j4GJyF154IaZNm4arr77aLMxnE8+3YsUKfPLJJ96eYPHfz+vg9di+pg0bNvSe56677vL22sVz2rwmXod/Tdx4PlvCz2XjPOGf7fDN1nvFz/SyZcvMOWy+R+HXxfPZ+lsSERGRY6fwMQA2jtasWYPly5dj7969ZhXj++67z3s0eGw0rVy50qymbsvzzz+PpUuXmuvZsWNH776gscHHFaZ5Dm5cBdpmQ514zvvvv9+7Fzx+HngdTz31lHn9uF188cXeo8Hia8Vz8bX74IMP8OKLLwbeiM7Ozsazzz7bey0vv/wyCgoKcNFFF3lHBIef7dWrV+Puu+8257L1t+T/zZ522mnmPDwfz8vzi4iIyImn8DEANmTq6+uxePFic/+MM87Ae++9Z6Uhw4blBRdcgCuuuAIzZ8709gaPjWW/wZyUlGSCyDvvvBP4t9AzZszArbfeas7hn6ewsNB7NHj89z/++OPmPbLF/zzk5OR4e+zgeRjcrrzySvPaMSSsX7/evKY2PfPMMyZo2ziP/zfjv3ZTp0414Sroz53/HvkBasGCBZg8ebLVQC8iIiKDp/AxAL/BxMYf+Q0nG+GDDb4333zTfGMbSQwE/BaajVxb2CBkwGGD0xb23qSmpuLkk0/29gSP7zsbseecc47VoUN8zoaGBrz00ku9Q6Ei0Wu0a9cunH322d6eYOXn55sQsHHjRnM/Ep+7cMXFxd4tEREROZEUPgZQVVWFmpoa797I8/7775ueHPa22MJzzJs3zzT+bDVsGQoYbmxeB/HzkJuba4ZB+UPWbA3D4+vV2NjYOxyKQ72CHnYVjr0e5557bm/QDhpDxp133mneJ4YpBtEbbrjBezQ4PE96erq5HiopKcGHH35obouIiMiJp/AxAPZ0ZGVlefdGFoaCVatWYd26ddYanLRkyRLTgL7xxhvNfBYbvUaPPvqoGS5k8zqI18I5EjwPG7k8p61hePzc+UOH+vYaBI3/fvZ6+MMLbWBwuvTSS81QMn4eyEbPEd8XnuOFF14wIeeOO+4wwxj5+omIiMiJp/AxAL8x6zcu+c032W7k2sYhPGvXrsXvfvc76/MIfLaGrPH5GAAYBNjYZMh57rnncNNNN1kZEtUXG7VBDx3yv733P2+2cSgZz8eQYwuDE18r/xwMOuzdYc9E0PwhjP6Ec7I9T0dEREQGR+FjAH4j0P/G+Y9//KOZkxHN4YM9HhzC89hjj1m9Dp4n/Jvtvo3PoPAawis2MVR94xvfMEN8gg4FDG1+GVpeF19HTqS3ET74vPy80datW83QIVs9EwwBtudf9A0b/t9U0J9Bvi/83PHzR6+++qr1YCUiIiKDp/AxADbGbrnlFtPI5LfqrM5z1VVXeY9GJzZot2zZglNPPdVcEzcbw184RIkNaM734Dn4GvK1tNnAtc2vEsbr4XWxwW6r1G74udirw2/wbfVScfK3zWIAxH87e6X8yfosiWxjyB8/Xxx2xSGFI+VzJyIiMpLE9Di82yIiIiIiItao50NERERERCJC4UNERERERCJC4UNERERERCJixMz56O7uRltbG5qbm9HZ2dm7UVxcXO+WnJyMhIQEjBql3CUiIiIiEklRHz4YMOrq6sxq0MciNTUVGRkZJpCIiIiIiIh9URs+2NPB0FFfX+/tOT6ZmZlIS0tTT4iIiIiIiGVRGT4YPMrKytDe3u7tGZpQKIQxY8YogIiIiIiIWBR14YOBg8GDASRIDB4MIAwiIiIiIiISvKj6qt/v8Qg6eJDN5xYRERERkSgKH5EIBwogIiIiIiK2AP8fjgGcG6CYbuEAAAAASUVORK5CYII=)"
      ],
      "metadata": {
        "id": "QQtnbmDPng_z"
      }
    }
  ]
}
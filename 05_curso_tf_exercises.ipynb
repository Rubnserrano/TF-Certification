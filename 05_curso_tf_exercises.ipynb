{
  "nbformat": 4,
  "nbformat_minor": 0,
  "metadata": {
    "colab": {
      "provenance": [],
      "collapsed_sections": [],
      "authorship_tag": "ABX9TyNC4V4Bqd9W+AEcajaS6srL",
      "include_colab_link": true
    },
    "kernelspec": {
      "name": "python3",
      "display_name": "Python 3"
    },
    "language_info": {
      "name": "python"
    },
    "accelerator": "GPU",
    "gpuClass": "standard"
  },
  "cells": [
    {
      "cell_type": "markdown",
      "metadata": {
        "id": "view-in-github",
        "colab_type": "text"
      },
      "source": [
        "<a href=\"https://colab.research.google.com/github/Rubnserrano/TF-Certification/blob/main/05_curso_tf_exercises.ipynb\" target=\"_parent\"><img src=\"https://colab.research.google.com/assets/colab-badge.svg\" alt=\"Open In Colab\"/></a>"
      ]
    },
    {
      "cell_type": "markdown",
      "source": [
        "**nota: antes de ejecutarlo todo, meter capas de data augmentation!!!!!!!!!!!!**\n",
        "# IMPORTANTE!"
      ],
      "metadata": {
        "id": "09CEi1K1PB5G"
      }
    },
    {
      "cell_type": "markdown",
      "source": [
        "1.)Write a function to visualize an image from any dataset (train or test file) and any class (e.g. \"steak\", \"pizza\"... etc), visualize it and make a prediction on it using a trained model.\n",
        "\n",
        "2.)Use feature-extraction to train a transfer learning model on 10% of the Food Vision data for 10 epochs using tf.keras.applications.EfficientNetB0 as the base model. Use the ModelCheckpoint callback to save the weights to file.\n",
        "\n",
        "3.)Fine-tune the last 20 layers of the base model you trained in 2 for another 10 epochs. How did it go?\n",
        "\n",
        "4-)Fine-tune the last 30 layers of the base model you trained in 2 for another 10 epochs. How did it go?"
      ],
      "metadata": {
        "id": "yiA8bmpwrxM3"
      }
    },
    {
      "cell_type": "code",
      "execution_count": 2,
      "metadata": {
        "colab": {
          "base_uri": "https://localhost:8080/"
        },
        "id": "axQgCIMXozV4",
        "outputId": "6eae18b8-fd06-4467-9316-9dc3183bba29"
      },
      "outputs": [
        {
          "output_type": "stream",
          "name": "stdout",
          "text": [
            "--2022-11-07 17:28:53--  https://storage.googleapis.com/ztm_tf_course/food_vision/10_food_classes_10_percent.zip\n",
            "Resolving storage.googleapis.com (storage.googleapis.com)... 74.125.24.128, 172.217.194.128, 142.251.10.128, ...\n",
            "Connecting to storage.googleapis.com (storage.googleapis.com)|74.125.24.128|:443... connected.\n",
            "HTTP request sent, awaiting response... 200 OK\n",
            "Length: 168546183 (161M) [application/zip]\n",
            "Saving to: ‘10_food_classes_10_percent.zip’\n",
            "\n",
            "10_food_classes_10_ 100%[===================>] 160.74M  15.8MB/s    in 12s     \n",
            "\n",
            "2022-11-07 17:29:05 (13.6 MB/s) - ‘10_food_classes_10_percent.zip’ saved [168546183/168546183]\n",
            "\n"
          ]
        }
      ],
      "source": [
        "import tensorflow as tf\n",
        "!wget https://storage.googleapis.com/ztm_tf_course/food_vision/10_food_classes_10_percent.zip \n"
      ]
    },
    {
      "cell_type": "code",
      "source": [
        "import zipfile\n",
        "zip_ref = zipfile.ZipFile('10_food_classes_10_percent.zip','r')\n",
        "zip_ref.extractall()\n",
        "zip_ref.close()"
      ],
      "metadata": {
        "id": "-08HtOwWsI4l"
      },
      "execution_count": 3,
      "outputs": []
    },
    {
      "cell_type": "code",
      "source": [
        "data_dir = '/content/10_food_classes_10_percent/'\n",
        "train_dir = data_dir + 'train'\n",
        "test_dir = data_dir + 'test'"
      ],
      "metadata": {
        "id": "k13Sl_OmsVku"
      },
      "execution_count": 4,
      "outputs": []
    },
    {
      "cell_type": "code",
      "source": [
        "import os\n",
        "for dirpath, dirnames, filenames in os.walk('10_food_classes_10_percent'):\n",
        "    print(f'There are {len(dirnames)} directories and {len(filenames)} images')"
      ],
      "metadata": {
        "colab": {
          "base_uri": "https://localhost:8080/"
        },
        "id": "93xgJGxas0bR",
        "outputId": "ab2fb7a3-d4c9-4464-f46c-f2961ae9918d"
      },
      "execution_count": 5,
      "outputs": [
        {
          "output_type": "stream",
          "name": "stdout",
          "text": [
            "There are 2 directories and 0 images\n",
            "There are 10 directories and 0 images\n",
            "There are 0 directories and 250 images\n",
            "There are 0 directories and 250 images\n",
            "There are 0 directories and 250 images\n",
            "There are 0 directories and 250 images\n",
            "There are 0 directories and 250 images\n",
            "There are 0 directories and 250 images\n",
            "There are 0 directories and 250 images\n",
            "There are 0 directories and 250 images\n",
            "There are 0 directories and 250 images\n",
            "There are 0 directories and 250 images\n",
            "There are 10 directories and 0 images\n",
            "There are 0 directories and 75 images\n",
            "There are 0 directories and 75 images\n",
            "There are 0 directories and 75 images\n",
            "There are 0 directories and 75 images\n",
            "There are 0 directories and 75 images\n",
            "There are 0 directories and 75 images\n",
            "There are 0 directories and 75 images\n",
            "There are 0 directories and 75 images\n",
            "There are 0 directories and 75 images\n",
            "There are 0 directories and 75 images\n"
          ]
        }
      ]
    },
    {
      "cell_type": "code",
      "source": [
        "IMG_SIZE = (224,224)\n",
        "train_data_10_percent = tf.keras.preprocessing.image_dataset_from_directory(directory = train_dir,\n",
        "                                                                            image_size = IMG_SIZE,\n",
        "                                                                            label_mode = 'categorical',\n",
        "                                                                            batch_size = 32)\n",
        "test_data_10_percent = tf.keras.preprocessing.image_dataset_from_directory(directory = test_dir,\n",
        "                                                                           image_size = IMG_SIZE,\n",
        "                                                                           label_mode = 'categorical')"
      ],
      "metadata": {
        "colab": {
          "base_uri": "https://localhost:8080/"
        },
        "id": "_AA0qi1_tNBz",
        "outputId": "c02213c4-3669-483a-e8f3-4877a4aec58c"
      },
      "execution_count": 6,
      "outputs": [
        {
          "output_type": "stream",
          "name": "stdout",
          "text": [
            "Found 750 files belonging to 10 classes.\n",
            "Found 2500 files belonging to 10 classes.\n"
          ]
        }
      ]
    },
    {
      "cell_type": "code",
      "source": [
        "import matplotlib.pyplot as plt\n",
        "\n",
        "# Plot the validation and training data separately\n",
        "def plot_loss_curves(history):\n",
        "  \"\"\"\n",
        "  Returns separate loss curves for training and validation metrics.\n",
        "  \"\"\" \n",
        "  loss = history.history['loss']\n",
        "  val_loss = history.history['val_loss']\n",
        "\n",
        "  accuracy = history.history['accuracy']\n",
        "  val_accuracy = history.history['val_accuracy']\n",
        "\n",
        "  epochs = range(len(history.history['loss']))\n",
        "\n",
        "  # Plot loss\n",
        "  plt.plot(epochs, loss, label='training_loss')\n",
        "  plt.plot(epochs, val_loss, label='val_loss')\n",
        "  plt.title('Loss')\n",
        "  plt.xlabel('Epochs')\n",
        "  plt.legend()\n",
        "\n",
        "  # Plot accuracy\n",
        "  plt.figure()\n",
        "  plt.plot(epochs, accuracy, label='training_accuracy')\n",
        "  plt.plot(epochs, val_accuracy, label='val_accuracy')\n",
        "  plt.title('Accuracy')\n",
        "  plt.xlabel('Epochs')\n",
        "  plt.legend();"
      ],
      "metadata": {
        "id": "w5o2JVTaKzl7"
      },
      "execution_count": 7,
      "outputs": []
    },
    {
      "cell_type": "code",
      "source": [
        "model = tf.keras.Sequential([\n",
        "    tf.keras.layers.Conv2D(10, 3, activation = 'relu', input_shape = (224,224,3)),\n",
        "    tf.keras.layers.Conv2D(10, 3, activation = 'relu'),\n",
        "    tf.keras.layers.MaxPool2D(),\n",
        "    tf.keras.layers.Conv2D(10, 3, activation = 'relu'),\n",
        "    tf.keras.layers.Conv2D(10, 3, activation = 'relu'),\n",
        "    tf.keras.layers.MaxPool2D(),\n",
        "    tf.keras.layers.Flatten(),\n",
        "    tf.keras.layers.Dense(784, activation = 'relu'),\n",
        "    tf.keras.layers.Dense(10, activation = 'softmax')\n",
        "])\n",
        "model.compile(loss = 'categorical_crossentropy',\n",
        "              optimizer = 'adam',\n",
        "              metrics = ['accuracy'])\n",
        "historia = model.fit(train_data_10_percent,\n",
        "                     epochs = 10,\n",
        "                     steps_per_epoch = len(train_data_10_percent) ,\n",
        "                     validation_data = test_data_10_percent,\n",
        "                     validation_steps= len(test_data_10_percent))"
      ],
      "metadata": {
        "colab": {
          "base_uri": "https://localhost:8080/"
        },
        "id": "mh5poQNxJgDF",
        "outputId": "4123808f-fdd7-482c-ca95-15063bea3a42"
      },
      "execution_count": 8,
      "outputs": [
        {
          "output_type": "stream",
          "name": "stdout",
          "text": [
            "Epoch 1/10\n",
            "24/24 [==============================] - 21s 434ms/step - loss: 189.0781 - accuracy: 0.1160 - val_loss: 15.1225 - val_accuracy: 0.1144\n",
            "Epoch 2/10\n",
            "24/24 [==============================] - 9s 362ms/step - loss: 4.8402 - accuracy: 0.2093 - val_loss: 2.4323 - val_accuracy: 0.1416\n",
            "Epoch 3/10\n",
            "24/24 [==============================] - 7s 290ms/step - loss: 1.5600 - accuracy: 0.5067 - val_loss: 2.4429 - val_accuracy: 0.1524\n",
            "Epoch 4/10\n",
            "24/24 [==============================] - 7s 290ms/step - loss: 1.0075 - accuracy: 0.8107 - val_loss: 2.5029 - val_accuracy: 0.1712\n",
            "Epoch 5/10\n",
            "24/24 [==============================] - 7s 288ms/step - loss: 0.5648 - accuracy: 0.9253 - val_loss: 2.5649 - val_accuracy: 0.1736\n",
            "Epoch 6/10\n",
            "24/24 [==============================] - 7s 290ms/step - loss: 0.2944 - accuracy: 0.9880 - val_loss: 2.6668 - val_accuracy: 0.1828\n",
            "Epoch 7/10\n",
            "24/24 [==============================] - 12s 514ms/step - loss: 0.1365 - accuracy: 0.9973 - val_loss: 2.7816 - val_accuracy: 0.1816\n",
            "Epoch 8/10\n",
            "24/24 [==============================] - 7s 294ms/step - loss: 0.0706 - accuracy: 1.0000 - val_loss: 2.8215 - val_accuracy: 0.1908\n",
            "Epoch 9/10\n",
            "24/24 [==============================] - 8s 306ms/step - loss: 0.0411 - accuracy: 1.0000 - val_loss: 2.9352 - val_accuracy: 0.1812\n",
            "Epoch 10/10\n",
            "24/24 [==============================] - 7s 290ms/step - loss: 0.0262 - accuracy: 1.0000 - val_loss: 3.0134 - val_accuracy: 0.1832\n"
          ]
        }
      ]
    },
    {
      "cell_type": "code",
      "source": [
        "plot_loss_curves(historia)"
      ],
      "metadata": {
        "colab": {
          "base_uri": "https://localhost:8080/",
          "height": 573
        },
        "id": "pnuZw5ChK2Fd",
        "outputId": "8d5e952f-6fb6-4ffb-8d3a-44c00d29dc20"
      },
      "execution_count": 9,
      "outputs": [
        {
          "output_type": "display_data",
          "data": {
            "text/plain": [
              "<Figure size 432x288 with 1 Axes>"
            ],
            "image/png": "[encoded data removed]"
          },
          "metadata": {
            "needs_background": "light"
          }
        },
        {
          "output_type": "display_data",
          "data": {
            "text/plain": [
              "<Figure size 432x288 with 1 Axes>"
            ],
            "image/png": "[encoded data removed]"
          },
          "metadata": {
            "needs_background": "light"
          }
        }
      ]
    },
    {
      "cell_type": "code",
      "source": [
        "import matplotlib.pyplot as plt\n",
        "import random\n",
        "class_names = ['chicken_curry', 'chicken_wings', 'fried_rice', 'grilled_salmon', 'hamburguer', 'ice_cream', 'pizza', 'ramen', 'steak', 'sushi']\n",
        "def plot_random_image(ds, model = model,batch_size = 32, class_name = random.sample(class_names, 1)):\n",
        "  one = ds.take(1)\n",
        "  for images, labels in one:\n",
        "    rand_index = random.randint(0,batch_size-1)\n",
        "    while(class_names[labels[rand_index].numpy().argmax()] != class_name):\n",
        "          rand_index = random.randint(0,batch_size-1)\n",
        "    plt.imshow(images[rand_index].numpy().astype(\"uint8\"))\n",
        "    title = class_names[labels[rand_index].numpy().argmax()]\n",
        "    plt.xlabel(f'PREDICTION: {class_names[model.predict(tf.expand_dims(images[rand_index], axis=0)).argmax()]}')\n",
        "    plt.title(title)\n",
        "    # plt.axis(False)\n",
        "    plt.show()"
      ],
      "metadata": {
        "id": "6FfSW4MVrBwG"
      },
      "execution_count": 10,
      "outputs": []
    },
    {
      "cell_type": "code",
      "source": [
        "plot_random_image(test_data_10_percent, model,  32, 'steak')"
      ],
      "metadata": {
        "colab": {
          "base_uri": "https://localhost:8080/",
          "height": 312
        },
        "id": "gLFu6QBP4DEv",
        "outputId": "9eae9173-490f-4099-d19a-ffad293bfd43"
      },
      "execution_count": 11,
      "outputs": [
        {
          "output_type": "stream",
          "name": "stdout",
          "text": [
            "1/1 [==============================] - 0s 206ms/step\n"
          ]
        },
        {
          "output_type": "display_data",
          "data": {
            "text/plain": [
              "<Figure size 432x288 with 1 Axes>"
            ],
            "image/png": "[encoded data removed]"
          },
          "metadata": {
            "needs_background": "light"
          }
        }
      ]
    },
    {
      "cell_type": "markdown",
      "source": [
        "#2.)Use feature-extraction to train a transfer learning model on 10% of the Food Vision data for 10 epochs using tf.keras.applications.EfficientNetB0 as the base model. Use the ModelCheckpoint callback to save the weights to file."
      ],
      "metadata": {
        "id": "7ZDAsGswXxr8"
      }
    },
    {
      "cell_type": "code",
      "source": [
        "efficientnet_url = 'https://tfhub.dev/tensorflow/efficientnet/b0/feature-vector/1'\n",
        "import tensorflow_hub as hub"
      ],
      "metadata": {
        "id": "Lm-FqsgLXzW2"
      },
      "execution_count": 12,
      "outputs": []
    },
    {
      "cell_type": "code",
      "source": [
        "def create_model(model_url, num_classes=10):\n",
        "  IMAGE_SHAPE = (224,224)\n",
        "  feature_extractor_layer = hub.KerasLayer(model_url,\n",
        "                                           trainable=False,\n",
        "                                           name = 'feature_extractor_layer',\n",
        "                                           input_shape = IMAGE_SHAPE+(3,))\n",
        "  base_model = tf.keras.applications.EfficientNetB0(include_top=False)\n",
        "  base_model.trainable = False\n",
        "  model = tf.keras.Sequential([\n",
        "      tf.keras.layers.Rescaling(scale = 1./255),\n",
        "      feature_extractor_layer,\n",
        "      tf.keras.layers.Dense(num_classes, activation = 'softmax', name = 'output1')\n",
        "  ])\n",
        "  return model, base_model"
      ],
      "metadata": {
        "id": "tLVW0CSLY0U4"
      },
      "execution_count": 13,
      "outputs": []
    },
    {
      "cell_type": "code",
      "source": [
        "efficientnet_model1 = create_model(efficientnet_url, num_classes = 10)[0]\n",
        "base_model = create_model(efficientnet_url,10)[1]\n",
        "\n",
        "efficientnet_model1.compile(loss='categorical_crossentropy',\n",
        "                     optimizer=tf.keras.optimizers.Adam(),\n",
        "                     metrics=['accuracy'])"
      ],
      "metadata": {
        "colab": {
          "base_uri": "https://localhost:8080/"
        },
        "id": "LJMRVA_eYM38",
        "outputId": "f56bdb37-6f04-4a09-988f-a92da51bda80"
      },
      "execution_count": 14,
      "outputs": [
        {
          "output_type": "stream",
          "name": "stdout",
          "text": [
            "Downloading data from https://storage.googleapis.com/keras-applications/efficientnetb0_notop.h5\n",
            "16705208/16705208 [==============================] - 3s 0us/step\n"
          ]
        }
      ]
    },
    {
      "cell_type": "code",
      "source": [
        "import datetime\n",
        "def create_tensorboard_callback(dir_name, experiment_name):\n",
        "  log_dir = dir_name + '/' + experiment_name + '/'  + datetime.datetime.now().strftime('%Y%m%d-%H%M%S')\n",
        "  tensorboard_callback = tf.keras.callbacks.TensorBoard(\n",
        "      log_dir = log_dir\n",
        "  )\n",
        "  print(f'Saving TensorBoard log files to {log_dir}')\n",
        "  return tensorboard_callback"
      ],
      "metadata": {
        "id": "CXWZGeorakJD"
      },
      "execution_count": 15,
      "outputs": []
    },
    {
      "cell_type": "code",
      "source": [
        "checkpoint_path = \"ten_percent_model_checkpoints_weights/checkpoint.ckpt\" # note: remember saving directly to Colab is temporary\n",
        "checkpoint_callback = tf.keras.callbacks.ModelCheckpoint(filepath=checkpoint_path,\n",
        "                                                         save_weights_only=True, # set to False to save the entire model\n",
        "                                                         save_best_only=False, # set to True to save only the best model instead of a model every epoch \n",
        "                                                         save_freq=\"epoch\", # save every epoch\n",
        "                                                         verbose=1)\n"
      ],
      "metadata": {
        "id": "eFAIJ8z8ameT"
      },
      "execution_count": 16,
      "outputs": []
    },
    {
      "cell_type": "code",
      "source": [
        "initial_epochs = 10\n",
        "history_10_percent_eff = efficientnet_model1.fit(train_data_10_percent,\n",
        "                                epochs=initial_epochs,\n",
        "                                validation_data=test_data_10_percent,\n",
        "                                validation_steps=len(test_data_10_percent), # do less steps per validation (quicker)\n",
        "                                callbacks=[create_tensorboard_callback(\"tensorflow_hub\", \"10_percent_efficientnet, 10epochs\"), \n",
        "                                checkpoint_callback])\n"
      ],
      "metadata": {
        "colab": {
          "base_uri": "https://localhost:8080/"
        },
        "id": "XujBYUJ3Ytkn",
        "outputId": "b5560701-8a7b-412f-c11d-9a6ff65fa510"
      },
      "execution_count": 17,
      "outputs": [
        {
          "output_type": "stream",
          "name": "stdout",
          "text": [
            "Saving TensorBoard log files to tensorflow_hub/10_percent_efficientnet, 10epochs/20221107-173126\n",
            "Epoch 1/10\n",
            "24/24 [==============================] - ETA: 0s - loss: 1.8787 - accuracy: 0.3987\n",
            "Epoch 1: saving model to ten_percent_model_checkpoints_weights/checkpoint.ckpt\n",
            "24/24 [==============================] - 23s 468ms/step - loss: 1.8787 - accuracy: 0.3987 - val_loss: 1.2880 - val_accuracy: 0.7532\n",
            "Epoch 2/10\n",
            "23/24 [===========================>..] - ETA: 0s - loss: 1.0655 - accuracy: 0.7908\n",
            "Epoch 2: saving model to ten_percent_model_checkpoints_weights/checkpoint.ckpt\n",
            "24/24 [==============================] - 10s 424ms/step - loss: 1.0597 - accuracy: 0.7933 - val_loss: 0.8439 - val_accuracy: 0.8320\n",
            "Epoch 3/10\n",
            "23/24 [===========================>..] - ETA: 0s - loss: 0.7592 - accuracy: 0.8302\n",
            "Epoch 3: saving model to ten_percent_model_checkpoints_weights/checkpoint.ckpt\n",
            "24/24 [==============================] - 9s 374ms/step - loss: 0.7506 - accuracy: 0.8333 - val_loss: 0.6786 - val_accuracy: 0.8480\n",
            "Epoch 4/10\n",
            "23/24 [===========================>..] - ETA: 0s - loss: 0.5989 - accuracy: 0.8641\n",
            "Epoch 4: saving model to ten_percent_model_checkpoints_weights/checkpoint.ckpt\n",
            "24/24 [==============================] - 10s 418ms/step - loss: 0.6012 - accuracy: 0.8640 - val_loss: 0.5931 - val_accuracy: 0.8580\n",
            "Epoch 5/10\n",
            "23/24 [===========================>..] - ETA: 0s - loss: 0.5076 - accuracy: 0.8872\n",
            "Epoch 5: saving model to ten_percent_model_checkpoints_weights/checkpoint.ckpt\n",
            "24/24 [==============================] - 9s 375ms/step - loss: 0.5087 - accuracy: 0.8853 - val_loss: 0.5439 - val_accuracy: 0.8644\n",
            "Epoch 6/10\n",
            "23/24 [===========================>..] - ETA: 0s - loss: 0.4482 - accuracy: 0.9035\n",
            "Epoch 6: saving model to ten_percent_model_checkpoints_weights/checkpoint.ckpt\n",
            "24/24 [==============================] - 10s 394ms/step - loss: 0.4440 - accuracy: 0.9040 - val_loss: 0.5066 - val_accuracy: 0.8740\n",
            "Epoch 7/10\n",
            "23/24 [===========================>..] - ETA: 0s - loss: 0.3913 - accuracy: 0.9253\n",
            "Epoch 7: saving model to ten_percent_model_checkpoints_weights/checkpoint.ckpt\n",
            "24/24 [==============================] - 10s 418ms/step - loss: 0.3902 - accuracy: 0.9240 - val_loss: 0.4824 - val_accuracy: 0.8744\n",
            "Epoch 8/10\n",
            "23/24 [===========================>..] - ETA: 0s - loss: 0.3482 - accuracy: 0.9457\n",
            "Epoch 8: saving model to ten_percent_model_checkpoints_weights/checkpoint.ckpt\n",
            "24/24 [==============================] - 9s 380ms/step - loss: 0.3474 - accuracy: 0.9453 - val_loss: 0.4624 - val_accuracy: 0.8788\n",
            "Epoch 9/10\n",
            "23/24 [===========================>..] - ETA: 0s - loss: 0.3104 - accuracy: 0.9511\n",
            "Epoch 9: saving model to ten_percent_model_checkpoints_weights/checkpoint.ckpt\n",
            "24/24 [==============================] - 9s 375ms/step - loss: 0.3127 - accuracy: 0.9493 - val_loss: 0.4473 - val_accuracy: 0.8772\n",
            "Epoch 10/10\n",
            "23/24 [===========================>..] - ETA: 0s - loss: 0.2853 - accuracy: 0.9552\n",
            "Epoch 10: saving model to ten_percent_model_checkpoints_weights/checkpoint.ckpt\n",
            "24/24 [==============================] - 10s 426ms/step - loss: 0.2827 - accuracy: 0.9560 - val_loss: 0.4342 - val_accuracy: 0.8764\n"
          ]
        }
      ]
    },
    {
      "cell_type": "code",
      "source": [
        "!tensorboard dev upload --logdir ./tensorflow_hub/ \\\n",
        "  --name \"Efficient net feature extraction, MODEL:10 classes food 10% data\" \\\n",
        "  --description \"First 10 epochs of transfer learning with efficientnetb0\" \\\n",
        "  --one_shot"
      ],
      "metadata": {
        "colab": {
          "base_uri": "https://localhost:8080/"
        },
        "id": "sr0vgMo4-bYe",
        "outputId": "da1f3abb-eee4-4735-a66b-47de1f006199"
      },
      "execution_count": 18,
      "outputs": [
        {
          "output_type": "stream",
          "name": "stdout",
          "text": [
            "\n",
            "***** TensorBoard Uploader *****\n",
            "\n",
            "This will upload your TensorBoard logs to https://tensorboard.dev/ from\n",
            "the following directory:\n",
            "\n",
            "./tensorflow_hub/\n",
            "\n",
            "This TensorBoard will be visible to everyone. Do not upload sensitive\n",
            "data.\n",
            "\n",
            "Your use of this service is subject to Google's Terms of Service\n",
            "<https://policies.google.com/terms> and Privacy Policy\n",
            "<https://policies.google.com/privacy>, and TensorBoard.dev's Terms of Service\n",
            "<https://tensorboard.dev/policy/terms/>.\n",
            "\n",
            "This notice will not be shown again while you are logged into the uploader.\n",
            "To log out, run `tensorboard dev auth revoke`.\n",
            "\n",
            "Continue? (yes/NO) yes\n",
            "\n",
            "Please visit this URL to authorize this application: https://accounts.google.com/o/oauth2/auth?response_type=code&client_id=373649185512-8v619h5kft38l4456nm2dj4ubeqsrvh6.apps.googleusercontent.com&redirect_uri=urn%3Aietf%3Awg%3Aoauth%3A2.0%3Aoob&scope=openid+https%3A%2F%2Fwww.googleapis.com%2Fauth%2Fuserinfo.email&state=Ya9HtnQkMe8TfCT00VZQtf8GS36aoU&prompt=consent&access_type=offline\n",
            "Enter the authorization code: 4/1AfgeXvtxzDsqG5irDoicxH31hsTiKUCgn2IkRF9N0nA6c5AOL_41lU5cqUE\n",
            "\n",
            "\n",
            "New experiment created. View your TensorBoard at: https://tensorboard.dev/experiment/TEp2xJtzRiqn6LKLQos1mA/\n",
            "\n",
            "\u001b[1m[2022-11-07T17:34:49]\u001b[0m Started scanning logdir.\n",
            "\u001b[1m[2022-11-07T17:34:52]\u001b[0m Total uploaded: 60 scalars, 0 tensors, 1 binary objects (3.9 MB)\n",
            "\u001b[1m[2022-11-07T17:34:52]\u001b[0m Done scanning logdir.\n",
            "\n",
            "\n",
            "Done. View your TensorBoard at https://tensorboard.dev/experiment/TEp2xJtzRiqn6LKLQos1mA/\n"
          ]
        }
      ]
    },
    {
      "cell_type": "code",
      "source": [
        "efficientnet_model1.load_weights(checkpoint_path)\n",
        "loaded_weights_model_results = efficientnet_model1.evaluate(test_data_10_percent)"
      ],
      "metadata": {
        "colab": {
          "base_uri": "https://localhost:8080/"
        },
        "id": "QJyYOOVYFXK9",
        "outputId": "2be59dc3-c214-4f0b-c4f5-7b77e4ef3cf7"
      },
      "execution_count": 19,
      "outputs": [
        {
          "output_type": "stream",
          "name": "stdout",
          "text": [
            "79/79 [==============================] - 7s 79ms/step - loss: 0.4342 - accuracy: 0.8764\n"
          ]
        }
      ]
    },
    {
      "cell_type": "markdown",
      "source": [
        "# 3.)Fine-tune the last 20 layers of the base model you trained in 2 for another 10 epochs. How did it go?"
      ],
      "metadata": {
        "id": "i5TJdsOLFtBM"
      }
    },
    {
      "cell_type": "code",
      "source": [
        "base_model.trainable = True\n",
        "for layer in base_model.layers[:-20]:\n",
        "  layer.trainable = False"
      ],
      "metadata": {
        "id": "EdiGyVbSFuag"
      },
      "execution_count": 20,
      "outputs": []
    },
    {
      "cell_type": "code",
      "source": [
        "for layer_number, layer in enumerate(base_model.layers):\n",
        "  print(layer_number, layer.name, layer.trainable)"
      ],
      "metadata": {
        "colab": {
          "base_uri": "https://localhost:8080/"
        },
        "id": "xMgXVXObGQue",
        "outputId": "1cc29b23-19d8-4aa6-c99f-c94925521628"
      },
      "execution_count": 21,
      "outputs": [
        {
          "output_type": "stream",
          "name": "stdout",
          "text": [
            "0 input_2 False\n",
            "1 rescaling_2 False\n",
            "2 normalization_1 False\n",
            "3 tf.math.truediv_1 False\n",
            "4 stem_conv_pad False\n",
            "5 stem_conv False\n",
            "6 stem_bn False\n",
            "7 stem_activation False\n",
            "8 block1a_dwconv False\n",
            "9 block1a_bn False\n",
            "10 block1a_activation False\n",
            "11 block1a_se_squeeze False\n",
            "12 block1a_se_reshape False\n",
            "13 block1a_se_reduce False\n",
            "14 block1a_se_expand False\n",
            "15 block1a_se_excite False\n",
            "16 block1a_project_conv False\n",
            "17 block1a_project_bn False\n",
            "18 block2a_expand_conv False\n",
            "19 block2a_expand_bn False\n",
            "20 block2a_expand_activation False\n",
            "21 block2a_dwconv_pad False\n",
            "22 block2a_dwconv False\n",
            "23 block2a_bn False\n",
            "24 block2a_activation False\n",
            "25 block2a_se_squeeze False\n",
            "26 block2a_se_reshape False\n",
            "27 block2a_se_reduce False\n",
            "28 block2a_se_expand False\n",
            "29 block2a_se_excite False\n",
            "30 block2a_project_conv False\n",
            "31 block2a_project_bn False\n",
            "32 block2b_expand_conv False\n",
            "33 block2b_expand_bn False\n",
            "34 block2b_expand_activation False\n",
            "35 block2b_dwconv False\n",
            "36 block2b_bn False\n",
            "37 block2b_activation False\n",
            "38 block2b_se_squeeze False\n",
            "39 block2b_se_reshape False\n",
            "40 block2b_se_reduce False\n",
            "41 block2b_se_expand False\n",
            "42 block2b_se_excite False\n",
            "43 block2b_project_conv False\n",
            "44 block2b_project_bn False\n",
            "45 block2b_drop False\n",
            "46 block2b_add False\n",
            "47 block3a_expand_conv False\n",
            "48 block3a_expand_bn False\n",
            "49 block3a_expand_activation False\n",
            "50 block3a_dwconv_pad False\n",
            "51 block3a_dwconv False\n",
            "52 block3a_bn False\n",
            "53 block3a_activation False\n",
            "54 block3a_se_squeeze False\n",
            "55 block3a_se_reshape False\n",
            "56 block3a_se_reduce False\n",
            "57 block3a_se_expand False\n",
            "58 block3a_se_excite False\n",
            "59 block3a_project_conv False\n",
            "60 block3a_project_bn False\n",
            "61 block3b_expand_conv False\n",
            "62 block3b_expand_bn False\n",
            "63 block3b_expand_activation False\n",
            "64 block3b_dwconv False\n",
            "65 block3b_bn False\n",
            "66 block3b_activation False\n",
            "67 block3b_se_squeeze False\n",
            "68 block3b_se_reshape False\n",
            "69 block3b_se_reduce False\n",
            "70 block3b_se_expand False\n",
            "71 block3b_se_excite False\n",
            "72 block3b_project_conv False\n",
            "73 block3b_project_bn False\n",
            "74 block3b_drop False\n",
            "75 block3b_add False\n",
            "76 block4a_expand_conv False\n",
            "77 block4a_expand_bn False\n",
            "78 block4a_expand_activation False\n",
            "79 block4a_dwconv_pad False\n",
            "80 block4a_dwconv False\n",
            "81 block4a_bn False\n",
            "82 block4a_activation False\n",
            "83 block4a_se_squeeze False\n",
            "84 block4a_se_reshape False\n",
            "85 block4a_se_reduce False\n",
            "86 block4a_se_expand False\n",
            "87 block4a_se_excite False\n",
            "88 block4a_project_conv False\n",
            "89 block4a_project_bn False\n",
            "90 block4b_expand_conv False\n",
            "91 block4b_expand_bn False\n",
            "92 block4b_expand_activation False\n",
            "93 block4b_dwconv False\n",
            "94 block4b_bn False\n",
            "95 block4b_activation False\n",
            "96 block4b_se_squeeze False\n",
            "97 block4b_se_reshape False\n",
            "98 block4b_se_reduce False\n",
            "99 block4b_se_expand False\n",
            "100 block4b_se_excite False\n",
            "101 block4b_project_conv False\n",
            "102 block4b_project_bn False\n",
            "103 block4b_drop False\n",
            "104 block4b_add False\n",
            "105 block4c_expand_conv False\n",
            "106 block4c_expand_bn False\n",
            "107 block4c_expand_activation False\n",
            "108 block4c_dwconv False\n",
            "109 block4c_bn False\n",
            "110 block4c_activation False\n",
            "111 block4c_se_squeeze False\n",
            "112 block4c_se_reshape False\n",
            "113 block4c_se_reduce False\n",
            "114 block4c_se_expand False\n",
            "115 block4c_se_excite False\n",
            "116 block4c_project_conv False\n",
            "117 block4c_project_bn False\n",
            "118 block4c_drop False\n",
            "119 block4c_add False\n",
            "120 block5a_expand_conv False\n",
            "121 block5a_expand_bn False\n",
            "122 block5a_expand_activation False\n",
            "123 block5a_dwconv False\n",
            "124 block5a_bn False\n",
            "125 block5a_activation False\n",
            "126 block5a_se_squeeze False\n",
            "127 block5a_se_reshape False\n",
            "128 block5a_se_reduce False\n",
            "129 block5a_se_expand False\n",
            "130 block5a_se_excite False\n",
            "131 block5a_project_conv False\n",
            "132 block5a_project_bn False\n",
            "133 block5b_expand_conv False\n",
            "134 block5b_expand_bn False\n",
            "135 block5b_expand_activation False\n",
            "136 block5b_dwconv False\n",
            "137 block5b_bn False\n",
            "138 block5b_activation False\n",
            "139 block5b_se_squeeze False\n",
            "140 block5b_se_reshape False\n",
            "141 block5b_se_reduce False\n",
            "142 block5b_se_expand False\n",
            "143 block5b_se_excite False\n",
            "144 block5b_project_conv False\n",
            "145 block5b_project_bn False\n",
            "146 block5b_drop False\n",
            "147 block5b_add False\n",
            "148 block5c_expand_conv False\n",
            "149 block5c_expand_bn False\n",
            "150 block5c_expand_activation False\n",
            "151 block5c_dwconv False\n",
            "152 block5c_bn False\n",
            "153 block5c_activation False\n",
            "154 block5c_se_squeeze False\n",
            "155 block5c_se_reshape False\n",
            "156 block5c_se_reduce False\n",
            "157 block5c_se_expand False\n",
            "158 block5c_se_excite False\n",
            "159 block5c_project_conv False\n",
            "160 block5c_project_bn False\n",
            "161 block5c_drop False\n",
            "162 block5c_add False\n",
            "163 block6a_expand_conv False\n",
            "164 block6a_expand_bn False\n",
            "165 block6a_expand_activation False\n",
            "166 block6a_dwconv_pad False\n",
            "167 block6a_dwconv False\n",
            "168 block6a_bn False\n",
            "169 block6a_activation False\n",
            "170 block6a_se_squeeze False\n",
            "171 block6a_se_reshape False\n",
            "172 block6a_se_reduce False\n",
            "173 block6a_se_expand False\n",
            "174 block6a_se_excite False\n",
            "175 block6a_project_conv False\n",
            "176 block6a_project_bn False\n",
            "177 block6b_expand_conv False\n",
            "178 block6b_expand_bn False\n",
            "179 block6b_expand_activation False\n",
            "180 block6b_dwconv False\n",
            "181 block6b_bn False\n",
            "182 block6b_activation False\n",
            "183 block6b_se_squeeze False\n",
            "184 block6b_se_reshape False\n",
            "185 block6b_se_reduce False\n",
            "186 block6b_se_expand False\n",
            "187 block6b_se_excite False\n",
            "188 block6b_project_conv False\n",
            "189 block6b_project_bn False\n",
            "190 block6b_drop False\n",
            "191 block6b_add False\n",
            "192 block6c_expand_conv False\n",
            "193 block6c_expand_bn False\n",
            "194 block6c_expand_activation False\n",
            "195 block6c_dwconv False\n",
            "196 block6c_bn False\n",
            "197 block6c_activation False\n",
            "198 block6c_se_squeeze False\n",
            "199 block6c_se_reshape False\n",
            "200 block6c_se_reduce False\n",
            "201 block6c_se_expand False\n",
            "202 block6c_se_excite False\n",
            "203 block6c_project_conv False\n",
            "204 block6c_project_bn False\n",
            "205 block6c_drop False\n",
            "206 block6c_add False\n",
            "207 block6d_expand_conv False\n",
            "208 block6d_expand_bn False\n",
            "209 block6d_expand_activation False\n",
            "210 block6d_dwconv False\n",
            "211 block6d_bn False\n",
            "212 block6d_activation False\n",
            "213 block6d_se_squeeze False\n",
            "214 block6d_se_reshape False\n",
            "215 block6d_se_reduce False\n",
            "216 block6d_se_expand False\n",
            "217 block6d_se_excite False\n",
            "218 block6d_project_conv True\n",
            "219 block6d_project_bn True\n",
            "220 block6d_drop True\n",
            "221 block6d_add True\n",
            "222 block7a_expand_conv True\n",
            "223 block7a_expand_bn True\n",
            "224 block7a_expand_activation True\n",
            "225 block7a_dwconv True\n",
            "226 block7a_bn True\n",
            "227 block7a_activation True\n",
            "228 block7a_se_squeeze True\n",
            "229 block7a_se_reshape True\n",
            "230 block7a_se_reduce True\n",
            "231 block7a_se_expand True\n",
            "232 block7a_se_excite True\n",
            "233 block7a_project_conv True\n",
            "234 block7a_project_bn True\n",
            "235 top_conv True\n",
            "236 top_bn True\n",
            "237 top_activation True\n"
          ]
        }
      ]
    },
    {
      "cell_type": "code",
      "source": [
        "fine_tune_epochs = 20\n",
        "history_finetunning_20 = efficientnet_model1.fit(train_data_10_percent,\n",
        "                                               epochs=fine_tune_epochs,\n",
        "                                               validation_data=test_data_10_percent,\n",
        "                                               initial_epoch=history_10_percent_eff.epoch[-1], # start from previous last epoch\n",
        "                                               validation_steps=len(test_data_10_percent),\n",
        "                                               callbacks=[create_tensorboard_callback(\"tensorflow_hub\", \"10_percent_fine_tune_20capas_10percent\")])"
      ],
      "metadata": {
        "colab": {
          "base_uri": "https://localhost:8080/"
        },
        "id": "s_H4KnRYJVFE",
        "outputId": "2ed8cabd-4ed1-4709-d475-004cab79b179"
      },
      "execution_count": 22,
      "outputs": [
        {
          "output_type": "stream",
          "name": "stdout",
          "text": [
            "Saving TensorBoard log files to tensorflow_hub/10_percent_fine_tune_20capas_10percent/20221107-173500\n",
            "Epoch 10/20\n",
            "24/24 [==============================] - 10s 347ms/step - loss: 0.2583 - accuracy: 0.9627 - val_loss: 0.4246 - val_accuracy: 0.8808\n",
            "Epoch 11/20\n",
            "24/24 [==============================] - 9s 348ms/step - loss: 0.2348 - accuracy: 0.9640 - val_loss: 0.4175 - val_accuracy: 0.8808\n",
            "Epoch 12/20\n",
            "24/24 [==============================] - 9s 348ms/step - loss: 0.2146 - accuracy: 0.9707 - val_loss: 0.4096 - val_accuracy: 0.8788\n",
            "Epoch 13/20\n",
            "24/24 [==============================] - 9s 347ms/step - loss: 0.1988 - accuracy: 0.9747 - val_loss: 0.4039 - val_accuracy: 0.8832\n",
            "Epoch 14/20\n",
            "24/24 [==============================] - 10s 394ms/step - loss: 0.1828 - accuracy: 0.9800 - val_loss: 0.3980 - val_accuracy: 0.8828\n",
            "Epoch 15/20\n",
            "24/24 [==============================] - 8s 341ms/step - loss: 0.1695 - accuracy: 0.9787 - val_loss: 0.3934 - val_accuracy: 0.8832\n",
            "Epoch 16/20\n",
            "24/24 [==============================] - 13s 521ms/step - loss: 0.1573 - accuracy: 0.9867 - val_loss: 0.3888 - val_accuracy: 0.8816\n",
            "Epoch 17/20\n",
            "24/24 [==============================] - 9s 348ms/step - loss: 0.1458 - accuracy: 0.9867 - val_loss: 0.3854 - val_accuracy: 0.8812\n",
            "Epoch 18/20\n",
            "24/24 [==============================] - 8s 345ms/step - loss: 0.1362 - accuracy: 0.9880 - val_loss: 0.3830 - val_accuracy: 0.8836\n",
            "Epoch 19/20\n",
            "24/24 [==============================] - 9s 355ms/step - loss: 0.1276 - accuracy: 0.9920 - val_loss: 0.3799 - val_accuracy: 0.8808\n",
            "Epoch 20/20\n",
            "24/24 [==============================] - 10s 393ms/step - loss: 0.1188 - accuracy: 0.9907 - val_loss: 0.3773 - val_accuracy: 0.8832\n"
          ]
        }
      ]
    },
    {
      "cell_type": "markdown",
      "source": [
        "#4-)Fine-tune the last 30 layers of the base model you trained in 2 for another 10 epochs. How did it go?"
      ],
      "metadata": {
        "id": "jnmTFkpeIdoK"
      }
    },
    {
      "cell_type": "code",
      "source": [
        "base_model.trainable = True\n",
        "for layer in base_model.layers[:-30]:\n",
        "  layer.trainable = False\n",
        "for layer_number, layer in enumerate(base_model.layers):\n",
        "  print(layer_number, layer.name, layer.trainable)"
      ],
      "metadata": {
        "colab": {
          "base_uri": "https://localhost:8080/"
        },
        "id": "i9YoXUI5If7a",
        "outputId": "0585722e-6fc7-47e5-c17c-794f41a11a1a"
      },
      "execution_count": 23,
      "outputs": [
        {
          "output_type": "stream",
          "name": "stdout",
          "text": [
            "0 input_2 False\n",
            "1 rescaling_2 False\n",
            "2 normalization_1 False\n",
            "3 tf.math.truediv_1 False\n",
            "4 stem_conv_pad False\n",
            "5 stem_conv False\n",
            "6 stem_bn False\n",
            "7 stem_activation False\n",
            "8 block1a_dwconv False\n",
            "9 block1a_bn False\n",
            "10 block1a_activation False\n",
            "11 block1a_se_squeeze False\n",
            "12 block1a_se_reshape False\n",
            "13 block1a_se_reduce False\n",
            "14 block1a_se_expand False\n",
            "15 block1a_se_excite False\n",
            "16 block1a_project_conv False\n",
            "17 block1a_project_bn False\n",
            "18 block2a_expand_conv False\n",
            "19 block2a_expand_bn False\n",
            "20 block2a_expand_activation False\n",
            "21 block2a_dwconv_pad False\n",
            "22 block2a_dwconv False\n",
            "23 block2a_bn False\n",
            "24 block2a_activation False\n",
            "25 block2a_se_squeeze False\n",
            "26 block2a_se_reshape False\n",
            "27 block2a_se_reduce False\n",
            "28 block2a_se_expand False\n",
            "29 block2a_se_excite False\n",
            "30 block2a_project_conv False\n",
            "31 block2a_project_bn False\n",
            "32 block2b_expand_conv False\n",
            "33 block2b_expand_bn False\n",
            "34 block2b_expand_activation False\n",
            "35 block2b_dwconv False\n",
            "36 block2b_bn False\n",
            "37 block2b_activation False\n",
            "38 block2b_se_squeeze False\n",
            "39 block2b_se_reshape False\n",
            "40 block2b_se_reduce False\n",
            "41 block2b_se_expand False\n",
            "42 block2b_se_excite False\n",
            "43 block2b_project_conv False\n",
            "44 block2b_project_bn False\n",
            "45 block2b_drop False\n",
            "46 block2b_add False\n",
            "47 block3a_expand_conv False\n",
            "48 block3a_expand_bn False\n",
            "49 block3a_expand_activation False\n",
            "50 block3a_dwconv_pad False\n",
            "51 block3a_dwconv False\n",
            "52 block3a_bn False\n",
            "53 block3a_activation False\n",
            "54 block3a_se_squeeze False\n",
            "55 block3a_se_reshape False\n",
            "56 block3a_se_reduce False\n",
            "57 block3a_se_expand False\n",
            "58 block3a_se_excite False\n",
            "59 block3a_project_conv False\n",
            "60 block3a_project_bn False\n",
            "61 block3b_expand_conv False\n",
            "62 block3b_expand_bn False\n",
            "63 block3b_expand_activation False\n",
            "64 block3b_dwconv False\n",
            "65 block3b_bn False\n",
            "66 block3b_activation False\n",
            "67 block3b_se_squeeze False\n",
            "68 block3b_se_reshape False\n",
            "69 block3b_se_reduce False\n",
            "70 block3b_se_expand False\n",
            "71 block3b_se_excite False\n",
            "72 block3b_project_conv False\n",
            "73 block3b_project_bn False\n",
            "74 block3b_drop False\n",
            "75 block3b_add False\n",
            "76 block4a_expand_conv False\n",
            "77 block4a_expand_bn False\n",
            "78 block4a_expand_activation False\n",
            "79 block4a_dwconv_pad False\n",
            "80 block4a_dwconv False\n",
            "81 block4a_bn False\n",
            "82 block4a_activation False\n",
            "83 block4a_se_squeeze False\n",
            "84 block4a_se_reshape False\n",
            "85 block4a_se_reduce False\n",
            "86 block4a_se_expand False\n",
            "87 block4a_se_excite False\n",
            "88 block4a_project_conv False\n",
            "89 block4a_project_bn False\n",
            "90 block4b_expand_conv False\n",
            "91 block4b_expand_bn False\n",
            "92 block4b_expand_activation False\n",
            "93 block4b_dwconv False\n",
            "94 block4b_bn False\n",
            "95 block4b_activation False\n",
            "96 block4b_se_squeeze False\n",
            "97 block4b_se_reshape False\n",
            "98 block4b_se_reduce False\n",
            "99 block4b_se_expand False\n",
            "100 block4b_se_excite False\n",
            "101 block4b_project_conv False\n",
            "102 block4b_project_bn False\n",
            "103 block4b_drop False\n",
            "104 block4b_add False\n",
            "105 block4c_expand_conv False\n",
            "106 block4c_expand_bn False\n",
            "107 block4c_expand_activation False\n",
            "108 block4c_dwconv False\n",
            "109 block4c_bn False\n",
            "110 block4c_activation False\n",
            "111 block4c_se_squeeze False\n",
            "112 block4c_se_reshape False\n",
            "113 block4c_se_reduce False\n",
            "114 block4c_se_expand False\n",
            "115 block4c_se_excite False\n",
            "116 block4c_project_conv False\n",
            "117 block4c_project_bn False\n",
            "118 block4c_drop False\n",
            "119 block4c_add False\n",
            "120 block5a_expand_conv False\n",
            "121 block5a_expand_bn False\n",
            "122 block5a_expand_activation False\n",
            "123 block5a_dwconv False\n",
            "124 block5a_bn False\n",
            "125 block5a_activation False\n",
            "126 block5a_se_squeeze False\n",
            "127 block5a_se_reshape False\n",
            "128 block5a_se_reduce False\n",
            "129 block5a_se_expand False\n",
            "130 block5a_se_excite False\n",
            "131 block5a_project_conv False\n",
            "132 block5a_project_bn False\n",
            "133 block5b_expand_conv False\n",
            "134 block5b_expand_bn False\n",
            "135 block5b_expand_activation False\n",
            "136 block5b_dwconv False\n",
            "137 block5b_bn False\n",
            "138 block5b_activation False\n",
            "139 block5b_se_squeeze False\n",
            "140 block5b_se_reshape False\n",
            "141 block5b_se_reduce False\n",
            "142 block5b_se_expand False\n",
            "143 block5b_se_excite False\n",
            "144 block5b_project_conv False\n",
            "145 block5b_project_bn False\n",
            "146 block5b_drop False\n",
            "147 block5b_add False\n",
            "148 block5c_expand_conv False\n",
            "149 block5c_expand_bn False\n",
            "150 block5c_expand_activation False\n",
            "151 block5c_dwconv False\n",
            "152 block5c_bn False\n",
            "153 block5c_activation False\n",
            "154 block5c_se_squeeze False\n",
            "155 block5c_se_reshape False\n",
            "156 block5c_se_reduce False\n",
            "157 block5c_se_expand False\n",
            "158 block5c_se_excite False\n",
            "159 block5c_project_conv False\n",
            "160 block5c_project_bn False\n",
            "161 block5c_drop False\n",
            "162 block5c_add False\n",
            "163 block6a_expand_conv False\n",
            "164 block6a_expand_bn False\n",
            "165 block6a_expand_activation False\n",
            "166 block6a_dwconv_pad False\n",
            "167 block6a_dwconv False\n",
            "168 block6a_bn False\n",
            "169 block6a_activation False\n",
            "170 block6a_se_squeeze False\n",
            "171 block6a_se_reshape False\n",
            "172 block6a_se_reduce False\n",
            "173 block6a_se_expand False\n",
            "174 block6a_se_excite False\n",
            "175 block6a_project_conv False\n",
            "176 block6a_project_bn False\n",
            "177 block6b_expand_conv False\n",
            "178 block6b_expand_bn False\n",
            "179 block6b_expand_activation False\n",
            "180 block6b_dwconv False\n",
            "181 block6b_bn False\n",
            "182 block6b_activation False\n",
            "183 block6b_se_squeeze False\n",
            "184 block6b_se_reshape False\n",
            "185 block6b_se_reduce False\n",
            "186 block6b_se_expand False\n",
            "187 block6b_se_excite False\n",
            "188 block6b_project_conv False\n",
            "189 block6b_project_bn False\n",
            "190 block6b_drop False\n",
            "191 block6b_add False\n",
            "192 block6c_expand_conv False\n",
            "193 block6c_expand_bn False\n",
            "194 block6c_expand_activation False\n",
            "195 block6c_dwconv False\n",
            "196 block6c_bn False\n",
            "197 block6c_activation False\n",
            "198 block6c_se_squeeze False\n",
            "199 block6c_se_reshape False\n",
            "200 block6c_se_reduce False\n",
            "201 block6c_se_expand False\n",
            "202 block6c_se_excite False\n",
            "203 block6c_project_conv False\n",
            "204 block6c_project_bn False\n",
            "205 block6c_drop False\n",
            "206 block6c_add False\n",
            "207 block6d_expand_conv False\n",
            "208 block6d_expand_bn True\n",
            "209 block6d_expand_activation True\n",
            "210 block6d_dwconv True\n",
            "211 block6d_bn True\n",
            "212 block6d_activation True\n",
            "213 block6d_se_squeeze True\n",
            "214 block6d_se_reshape True\n",
            "215 block6d_se_reduce True\n",
            "216 block6d_se_expand True\n",
            "217 block6d_se_excite True\n",
            "218 block6d_project_conv True\n",
            "219 block6d_project_bn True\n",
            "220 block6d_drop True\n",
            "221 block6d_add True\n",
            "222 block7a_expand_conv True\n",
            "223 block7a_expand_bn True\n",
            "224 block7a_expand_activation True\n",
            "225 block7a_dwconv True\n",
            "226 block7a_bn True\n",
            "227 block7a_activation True\n",
            "228 block7a_se_squeeze True\n",
            "229 block7a_se_reshape True\n",
            "230 block7a_se_reduce True\n",
            "231 block7a_se_expand True\n",
            "232 block7a_se_excite True\n",
            "233 block7a_project_conv True\n",
            "234 block7a_project_bn True\n",
            "235 top_conv True\n",
            "236 top_bn True\n",
            "237 top_activation True\n"
          ]
        }
      ]
    },
    {
      "cell_type": "code",
      "source": [
        "fine_tune_epochs = 30\n",
        "history_finetunning_30 = efficientnet_model1.fit(train_data_10_percent,\n",
        "                                               epochs=fine_tune_epochs,\n",
        "                                               validation_data=test_data_10_percent,\n",
        "                                               initial_epoch=history_finetunning_20.epoch[-1], # start from previous last epoch\n",
        "                                               validation_steps=len(test_data_10_percent),\n",
        "                                               callbacks=[create_tensorboard_callback(\"tensorflow_hub\", \"10_percent_fine_tune_30capas_10percent\")])"
      ],
      "metadata": {
        "colab": {
          "base_uri": "https://localhost:8080/"
        },
        "id": "20Rw23VYI3-E",
        "outputId": "f46932ad-cbaf-420f-a9be-326396d2a294"
      },
      "execution_count": 24,
      "outputs": [
        {
          "output_type": "stream",
          "name": "stdout",
          "text": [
            "Saving TensorBoard log files to tensorflow_hub/10_percent_fine_tune_30capas_10percent/20221107-173656\n",
            "Epoch 20/30\n",
            "24/24 [==============================] - 9s 344ms/step - loss: 0.1113 - accuracy: 0.9933 - val_loss: 0.3755 - val_accuracy: 0.8828\n",
            "Epoch 21/30\n",
            "24/24 [==============================] - 9s 389ms/step - loss: 0.1044 - accuracy: 0.9947 - val_loss: 0.3729 - val_accuracy: 0.8828\n",
            "Epoch 22/30\n",
            "24/24 [==============================] - 8s 345ms/step - loss: 0.0988 - accuracy: 0.9960 - val_loss: 0.3721 - val_accuracy: 0.8820\n",
            "Epoch 23/30\n",
            "24/24 [==============================] - 10s 391ms/step - loss: 0.0932 - accuracy: 0.9973 - val_loss: 0.3694 - val_accuracy: 0.8820\n",
            "Epoch 24/30\n",
            "24/24 [==============================] - 11s 449ms/step - loss: 0.0884 - accuracy: 0.9987 - val_loss: 0.3691 - val_accuracy: 0.8832\n",
            "Epoch 25/30\n",
            "24/24 [==============================] - 13s 536ms/step - loss: 0.0833 - accuracy: 0.9987 - val_loss: 0.3689 - val_accuracy: 0.8812\n",
            "Epoch 26/30\n",
            "24/24 [==============================] - 9s 353ms/step - loss: 0.0791 - accuracy: 0.9987 - val_loss: 0.3665 - val_accuracy: 0.8828\n",
            "Epoch 27/30\n",
            "24/24 [==============================] - 9s 347ms/step - loss: 0.0748 - accuracy: 0.9987 - val_loss: 0.3662 - val_accuracy: 0.8832\n",
            "Epoch 28/30\n",
            "24/24 [==============================] - 9s 346ms/step - loss: 0.0709 - accuracy: 0.9987 - val_loss: 0.3643 - val_accuracy: 0.8836\n",
            "Epoch 29/30\n",
            "24/24 [==============================] - 8s 340ms/step - loss: 0.0672 - accuracy: 1.0000 - val_loss: 0.3640 - val_accuracy: 0.8828\n",
            "Epoch 30/30\n",
            "24/24 [==============================] - 9s 350ms/step - loss: 0.0642 - accuracy: 1.0000 - val_loss: 0.3633 - val_accuracy: 0.8832\n"
          ]
        }
      ]
    },
    {
      "cell_type": "markdown",
      "source": [
        "#Como el modelo estaba overfitted desde el modelo 2 ya todos los demas no pueden mejorar. USAR DATA AUG!!"
      ],
      "metadata": {
        "id": "S-ls4y5IKz_Z"
      }
    }
  ]
}
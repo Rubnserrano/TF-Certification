{
  "nbformat": 4,
  "nbformat_minor": 0,
  "metadata": {
    "colab": {
      "provenance": [],
      "collapsed_sections": [
        "lVmMopx0MIoS",
        "UXgMA4c-pOVo"
      ],
      "authorship_tag": "ABX9TyNDATCedaqBX6INFEih8SXx",
      "include_colab_link": true
    },
    "kernelspec": {
      "name": "python3",
      "display_name": "Python 3"
    },
    "language_info": {
      "name": "python"
    },
    "accelerator": "GPU",
    "gpuClass": "standard"
  },
  "cells": [
    {
      "cell_type": "markdown",
      "metadata": {
        "id": "view-in-github",
        "colab_type": "text"
      },
      "source": [
        "<a href=\"https://colab.research.google.com/github/Rubnserrano/TF-Certification/blob/main/08_curso_tensorflow_certificate.ipynb\" target=\"_parent\"><img src=\"https://colab.research.google.com/assets/colab-badge.svg\" alt=\"Open In Colab\"/></a>"
      ]
    },
    {
      "cell_type": "markdown",
      "source": [
        "#NLP first steps (exciting!!!)"
      ],
      "metadata": {
        "id": "lVmMopx0MIoS"
      }
    },
    {
      "cell_type": "code",
      "execution_count": 1,
      "metadata": {
        "colab": {
          "base_uri": "https://localhost:8080/"
        },
        "id": "1wSmjJSiL8VB",
        "outputId": "be7a7738-d045-4514-9cf1-8686b3410dd6"
      },
      "outputs": [
        {
          "output_type": "stream",
          "name": "stdout",
          "text": [
            "GPU 0: Tesla T4 (UUID: GPU-c910d3c6-b3a7-01f1-bbb3-1586aaec3bad)\n"
          ]
        }
      ],
      "source": [
        "!nvidia-smi -L"
      ]
    },
    {
      "cell_type": "code",
      "source": [
        "!wget https://raw.githubusercontent.com/Rubnserrano/TF-Certification/main/extra/helper_functions.py\n",
        "from helper_functions import unzip_data, create_tensorboard_callback, plot_loss_curves, compare_historys"
      ],
      "metadata": {
        "colab": {
          "base_uri": "https://localhost:8080/"
        },
        "id": "mPZUBKksM3lq",
        "outputId": "7c72fe59-a6b6-4a10-8687-3d3a3e8e892a"
      },
      "execution_count": 2,
      "outputs": [
        {
          "output_type": "stream",
          "name": "stdout",
          "text": [
            "--2022-11-28 20:19:23--  https://raw.githubusercontent.com/Rubnserrano/TF-Certification/main/extra/helper_functions.py\n",
            "Resolving raw.githubusercontent.com (raw.githubusercontent.com)... 185.199.108.133, 185.199.109.133, 185.199.110.133, ...\n",
            "Connecting to raw.githubusercontent.com (raw.githubusercontent.com)|185.199.108.133|:443... connected.\n",
            "HTTP request sent, awaiting response... 200 OK\n",
            "Length: 10116 (9.9K) [text/plain]\n",
            "Saving to: ‘helper_functions.py’\n",
            "\n",
            "helper_functions.py 100%[===================>]   9.88K  --.-KB/s    in 0s      \n",
            "\n",
            "2022-11-28 20:19:23 (81.6 MB/s) - ‘helper_functions.py’ saved [10116/10116]\n",
            "\n"
          ]
        }
      ]
    },
    {
      "cell_type": "code",
      "source": [
        "!wget \"https://storage.googleapis.com/ztm_tf_course/nlp_getting_started.zip\"\n",
        "unzip_data(\"nlp_getting_started.zip\")"
      ],
      "metadata": {
        "colab": {
          "base_uri": "https://localhost:8080/"
        },
        "id": "jls0l60fNLEq",
        "outputId": "1c6acf1b-4e46-4958-d207-b7e401031494"
      },
      "execution_count": 3,
      "outputs": [
        {
          "output_type": "stream",
          "name": "stdout",
          "text": [
            "--2022-11-28 20:19:28--  https://storage.googleapis.com/ztm_tf_course/nlp_getting_started.zip\n",
            "Resolving storage.googleapis.com (storage.googleapis.com)... 74.125.68.128, 142.250.4.128, 74.125.24.128, ...\n",
            "Connecting to storage.googleapis.com (storage.googleapis.com)|74.125.68.128|:443... connected.\n",
            "HTTP request sent, awaiting response... 200 OK\n",
            "Length: 607343 (593K) [application/zip]\n",
            "Saving to: ‘nlp_getting_started.zip’\n",
            "\n",
            "nlp_getting_started 100%[===================>] 593.11K  --.-KB/s    in 0.008s  \n",
            "\n",
            "2022-11-28 20:19:29 (69.9 MB/s) - ‘nlp_getting_started.zip’ saved [607343/607343]\n",
            "\n"
          ]
        }
      ]
    },
    {
      "cell_type": "code",
      "source": [
        "!ls"
      ],
      "metadata": {
        "colab": {
          "base_uri": "https://localhost:8080/"
        },
        "id": "_dEGEgA7NaAZ",
        "outputId": "cf4ae6d3-ecbe-4a09-d87b-b473e02082a2"
      },
      "execution_count": 4,
      "outputs": [
        {
          "output_type": "stream",
          "name": "stdout",
          "text": [
            "helper_functions.py\t __pycache__  sample_submission.csv  train.csv\n",
            "nlp_getting_started.zip  sample_data  test.csv\n"
          ]
        }
      ]
    },
    {
      "cell_type": "code",
      "source": [
        "import pandas as pd\n",
        "train_df = pd.read_csv('train.csv')\n",
        "test_df = pd.read_csv('test.csv')\n",
        "train_df.tail()"
      ],
      "metadata": {
        "colab": {
          "base_uri": "https://localhost:8080/",
          "height": 0
        },
        "id": "fZeUcToMNc8n",
        "outputId": "e6c48caf-0148-44f5-a1a7-b342558a1473"
      },
      "execution_count": 5,
      "outputs": [
        {
          "output_type": "execute_result",
          "data": {
            "text/plain": [
              "         id keyword location  \\\n",
              "7608  10869     NaN      NaN   \n",
              "7609  10870     NaN      NaN   \n",
              "7610  10871     NaN      NaN   \n",
              "7611  10872     NaN      NaN   \n",
              "7612  10873     NaN      NaN   \n",
              "\n",
              "                                                   text  target  \n",
              "7608  Two giant cranes holding a bridge collapse int...       1  \n",
              "7609  @aria_ahrary @TheTawniest The out of control w...       1  \n",
              "7610  M1.94 [01:04 UTC]?5km S of Volcano Hawaii. htt...       1  \n",
              "7611  Police investigating after an e-bike collided ...       1  \n",
              "7612  The Latest: More Homes Razed by Northern Calif...       1  "
            ],
            "text/html": [
              "\n",
              "  <div id=\"df-b39d3924-264d-4637-9404-6d6767f52bac\">\n",
              "    <div class=\"colab-df-container\">\n",
              "      <div>\n",
              "<style scoped>\n",
              "    .dataframe tbody tr th:only-of-type {\n",
              "        vertical-align: middle;\n",
              "    }\n",
              "\n",
              "    .dataframe tbody tr th {\n",
              "        vertical-align: top;\n",
              "    }\n",
              "\n",
              "    .dataframe thead th {\n",
              "        text-align: right;\n",
              "    }\n",
              "</style>\n",
              "<table border=\"1\" class=\"dataframe\">\n",
              "  <thead>\n",
              "    <tr style=\"text-align: right;\">\n",
              "      <th></th>\n",
              "      <th>id</th>\n",
              "      <th>keyword</th>\n",
              "      <th>location</th>\n",
              "      <th>text</th>\n",
              "      <th>target</th>\n",
              "    </tr>\n",
              "  </thead>\n",
              "  <tbody>\n",
              "    <tr>\n",
              "      <th>7608</th>\n",
              "      <td>10869</td>\n",
              "      <td>NaN</td>\n",
              "      <td>NaN</td>\n",
              "      <td>Two giant cranes holding a bridge collapse int...</td>\n",
              "      <td>1</td>\n",
              "    </tr>\n",
              "    <tr>\n",
              "      <th>7609</th>\n",
              "      <td>10870</td>\n",
              "      <td>NaN</td>\n",
              "      <td>NaN</td>\n",
              "      <td>@aria_ahrary @TheTawniest The out of control w...</td>\n",
              "      <td>1</td>\n",
              "    </tr>\n",
              "    <tr>\n",
              "      <th>7610</th>\n",
              "      <td>10871</td>\n",
              "      <td>NaN</td>\n",
              "      <td>NaN</td>\n",
              "      <td>M1.94 [01:04 UTC]?5km S of Volcano Hawaii. htt...</td>\n",
              "      <td>1</td>\n",
              "    </tr>\n",
              "    <tr>\n",
              "      <th>7611</th>\n",
              "      <td>10872</td>\n",
              "      <td>NaN</td>\n",
              "      <td>NaN</td>\n",
              "      <td>Police investigating after an e-bike collided ...</td>\n",
              "      <td>1</td>\n",
              "    </tr>\n",
              "    <tr>\n",
              "      <th>7612</th>\n",
              "      <td>10873</td>\n",
              "      <td>NaN</td>\n",
              "      <td>NaN</td>\n",
              "      <td>The Latest: More Homes Razed by Northern Calif...</td>\n",
              "      <td>1</td>\n",
              "    </tr>\n",
              "  </tbody>\n",
              "</table>\n",
              "</div>\n",
              "      <button class=\"colab-df-convert\" onclick=\"convertToInteractive('df-b39d3924-264d-4637-9404-6d6767f52bac')\"\n",
              "              title=\"Convert this dataframe to an interactive table.\"\n",
              "              style=\"display:none;\">\n",
              "        \n",
              "  <svg xmlns=\"http://www.w3.org/2000/svg\" height=\"24px\"viewBox=\"0 0 24 24\"\n",
              "       width=\"24px\">\n",
              "    <path d=\"M0 0h24v24H0V0z\" fill=\"none\"/>\n",
              "    <path d=\"M18.56 5.44l.94 2.06.94-2.06 2.06-.94-2.06-.94-.94-2.06-.94 2.06-2.06.94zm-11 1L8.5 8.5l.94-2.06 2.06-.94-2.06-.94L8.5 2.5l-.94 2.06-2.06.94zm10 10l.94 2.06.94-2.06 2.06-.94-2.06-.94-.94-2.06-.94 2.06-2.06.94z\"/><path d=\"M17.41 7.96l-1.37-1.37c-.4-.4-.92-.59-1.43-.59-.52 0-1.04.2-1.43.59L10.3 9.45l-7.72 7.72c-.78.78-.78 2.05 0 2.83L4 21.41c.39.39.9.59 1.41.59.51 0 1.02-.2 1.41-.59l7.78-7.78 2.81-2.81c.8-.78.8-2.07 0-2.86zM5.41 20L4 18.59l7.72-7.72 1.47 1.35L5.41 20z\"/>\n",
              "  </svg>\n",
              "      </button>\n",
              "      \n",
              "  <style>\n",
              "    .colab-df-container {\n",
              "      display:flex;\n",
              "      flex-wrap:wrap;\n",
              "      gap: 12px;\n",
              "    }\n",
              "\n",
              "    .colab-df-convert {\n",
              "      background-color: #E8F0FE;\n",
              "      border: none;\n",
              "      border-radius: 50%;\n",
              "      cursor: pointer;\n",
              "      display: none;\n",
              "      fill: #1967D2;\n",
              "      height: 32px;\n",
              "      padding: 0 0 0 0;\n",
              "      width: 32px;\n",
              "    }\n",
              "\n",
              "    .colab-df-convert:hover {\n",
              "      background-color: #E2EBFA;\n",
              "      box-shadow: 0px 1px 2px rgba(60, 64, 67, 0.3), 0px 1px 3px 1px rgba(60, 64, 67, 0.15);\n",
              "      fill: #174EA6;\n",
              "    }\n",
              "\n",
              "    [theme=dark] .colab-df-convert {\n",
              "      background-color: #3B4455;\n",
              "      fill: #D2E3FC;\n",
              "    }\n",
              "\n",
              "    [theme=dark] .colab-df-convert:hover {\n",
              "      background-color: #434B5C;\n",
              "      box-shadow: 0px 1px 3px 1px rgba(0, 0, 0, 0.15);\n",
              "      filter: drop-shadow(0px 1px 2px rgba(0, 0, 0, 0.3));\n",
              "      fill: #FFFFFF;\n",
              "    }\n",
              "  </style>\n",
              "\n",
              "      <script>\n",
              "        const buttonEl =\n",
              "          document.querySelector('#df-b39d3924-264d-4637-9404-6d6767f52bac button.colab-df-convert');\n",
              "        buttonEl.style.display =\n",
              "          google.colab.kernel.accessAllowed ? 'block' : 'none';\n",
              "\n",
              "        async function convertToInteractive(key) {\n",
              "          const element = document.querySelector('#df-b39d3924-264d-4637-9404-6d6767f52bac');\n",
              "          const dataTable =\n",
              "            await google.colab.kernel.invokeFunction('convertToInteractive',\n",
              "                                                     [key], {});\n",
              "          if (!dataTable) return;\n",
              "\n",
              "          const docLinkHtml = 'Like what you see? Visit the ' +\n",
              "            '<a target=\"_blank\" href=https://colab.research.google.com/notebooks/data_table.ipynb>data table notebook</a>'\n",
              "            + ' to learn more about interactive tables.';\n",
              "          element.innerHTML = '';\n",
              "          dataTable['output_type'] = 'display_data';\n",
              "          await google.colab.output.renderOutput(dataTable, element);\n",
              "          const docLink = document.createElement('div');\n",
              "          docLink.innerHTML = docLinkHtml;\n",
              "          element.appendChild(docLink);\n",
              "        }\n",
              "      </script>\n",
              "    </div>\n",
              "  </div>\n",
              "  "
            ]
          },
          "metadata": {},
          "execution_count": 5
        }
      ]
    },
    {
      "cell_type": "code",
      "source": [
        "train_df_shuffled = train_df.sample(frac=1, random_state=42)\n",
        "train_df_shuffled.head()"
      ],
      "metadata": {
        "colab": {
          "base_uri": "https://localhost:8080/",
          "height": 0
        },
        "id": "793K7lnVOe6i",
        "outputId": "76533c06-c2db-42c6-c36e-d42726381daa"
      },
      "execution_count": 6,
      "outputs": [
        {
          "output_type": "execute_result",
          "data": {
            "text/plain": [
              "        id      keyword               location  \\\n",
              "2644  3796  destruction                    NaN   \n",
              "2227  3185       deluge                    NaN   \n",
              "5448  7769       police                     UK   \n",
              "132    191   aftershock                    NaN   \n",
              "6845  9810       trauma  Montgomery County, MD   \n",
              "\n",
              "                                                   text  target  \n",
              "2644  So you have a new weapon that can cause un-ima...       1  \n",
              "2227  The f$&amp;@ing things I do for #GISHWHES Just...       0  \n",
              "5448  DT @georgegalloway: RT @Galloway4Mayor: ÛÏThe...       1  \n",
              "132   Aftershock back to school kick off was great. ...       0  \n",
              "6845  in response to trauma Children of Addicts deve...       0  "
            ],
            "text/html": [
              "\n",
              "  <div id=\"df-fcca533b-6eb0-4d39-8017-6f4f948a0cbb\">\n",
              "    <div class=\"colab-df-container\">\n",
              "      <div>\n",
              "<style scoped>\n",
              "    .dataframe tbody tr th:only-of-type {\n",
              "        vertical-align: middle;\n",
              "    }\n",
              "\n",
              "    .dataframe tbody tr th {\n",
              "        vertical-align: top;\n",
              "    }\n",
              "\n",
              "    .dataframe thead th {\n",
              "        text-align: right;\n",
              "    }\n",
              "</style>\n",
              "<table border=\"1\" class=\"dataframe\">\n",
              "  <thead>\n",
              "    <tr style=\"text-align: right;\">\n",
              "      <th></th>\n",
              "      <th>id</th>\n",
              "      <th>keyword</th>\n",
              "      <th>location</th>\n",
              "      <th>text</th>\n",
              "      <th>target</th>\n",
              "    </tr>\n",
              "  </thead>\n",
              "  <tbody>\n",
              "    <tr>\n",
              "      <th>2644</th>\n",
              "      <td>3796</td>\n",
              "      <td>destruction</td>\n",
              "      <td>NaN</td>\n",
              "      <td>So you have a new weapon that can cause un-ima...</td>\n",
              "      <td>1</td>\n",
              "    </tr>\n",
              "    <tr>\n",
              "      <th>2227</th>\n",
              "      <td>3185</td>\n",
              "      <td>deluge</td>\n",
              "      <td>NaN</td>\n",
              "      <td>The f$&amp;amp;@ing things I do for #GISHWHES Just...</td>\n",
              "      <td>0</td>\n",
              "    </tr>\n",
              "    <tr>\n",
              "      <th>5448</th>\n",
              "      <td>7769</td>\n",
              "      <td>police</td>\n",
              "      <td>UK</td>\n",
              "      <td>DT @georgegalloway: RT @Galloway4Mayor: ÛÏThe...</td>\n",
              "      <td>1</td>\n",
              "    </tr>\n",
              "    <tr>\n",
              "      <th>132</th>\n",
              "      <td>191</td>\n",
              "      <td>aftershock</td>\n",
              "      <td>NaN</td>\n",
              "      <td>Aftershock back to school kick off was great. ...</td>\n",
              "      <td>0</td>\n",
              "    </tr>\n",
              "    <tr>\n",
              "      <th>6845</th>\n",
              "      <td>9810</td>\n",
              "      <td>trauma</td>\n",
              "      <td>Montgomery County, MD</td>\n",
              "      <td>in response to trauma Children of Addicts deve...</td>\n",
              "      <td>0</td>\n",
              "    </tr>\n",
              "  </tbody>\n",
              "</table>\n",
              "</div>\n",
              "      <button class=\"colab-df-convert\" onclick=\"convertToInteractive('df-fcca533b-6eb0-4d39-8017-6f4f948a0cbb')\"\n",
              "              title=\"Convert this dataframe to an interactive table.\"\n",
              "              style=\"display:none;\">\n",
              "        \n",
              "  <svg xmlns=\"http://www.w3.org/2000/svg\" height=\"24px\"viewBox=\"0 0 24 24\"\n",
              "       width=\"24px\">\n",
              "    <path d=\"M0 0h24v24H0V0z\" fill=\"none\"/>\n",
              "    <path d=\"M18.56 5.44l.94 2.06.94-2.06 2.06-.94-2.06-.94-.94-2.06-.94 2.06-2.06.94zm-11 1L8.5 8.5l.94-2.06 2.06-.94-2.06-.94L8.5 2.5l-.94 2.06-2.06.94zm10 10l.94 2.06.94-2.06 2.06-.94-2.06-.94-.94-2.06-.94 2.06-2.06.94z\"/><path d=\"M17.41 7.96l-1.37-1.37c-.4-.4-.92-.59-1.43-.59-.52 0-1.04.2-1.43.59L10.3 9.45l-7.72 7.72c-.78.78-.78 2.05 0 2.83L4 21.41c.39.39.9.59 1.41.59.51 0 1.02-.2 1.41-.59l7.78-7.78 2.81-2.81c.8-.78.8-2.07 0-2.86zM5.41 20L4 18.59l7.72-7.72 1.47 1.35L5.41 20z\"/>\n",
              "  </svg>\n",
              "      </button>\n",
              "      \n",
              "  <style>\n",
              "    .colab-df-container {\n",
              "      display:flex;\n",
              "      flex-wrap:wrap;\n",
              "      gap: 12px;\n",
              "    }\n",
              "\n",
              "    .colab-df-convert {\n",
              "      background-color: #E8F0FE;\n",
              "      border: none;\n",
              "      border-radius: 50%;\n",
              "      cursor: pointer;\n",
              "      display: none;\n",
              "      fill: #1967D2;\n",
              "      height: 32px;\n",
              "      padding: 0 0 0 0;\n",
              "      width: 32px;\n",
              "    }\n",
              "\n",
              "    .colab-df-convert:hover {\n",
              "      background-color: #E2EBFA;\n",
              "      box-shadow: 0px 1px 2px rgba(60, 64, 67, 0.3), 0px 1px 3px 1px rgba(60, 64, 67, 0.15);\n",
              "      fill: #174EA6;\n",
              "    }\n",
              "\n",
              "    [theme=dark] .colab-df-convert {\n",
              "      background-color: #3B4455;\n",
              "      fill: #D2E3FC;\n",
              "    }\n",
              "\n",
              "    [theme=dark] .colab-df-convert:hover {\n",
              "      background-color: #434B5C;\n",
              "      box-shadow: 0px 1px 3px 1px rgba(0, 0, 0, 0.15);\n",
              "      filter: drop-shadow(0px 1px 2px rgba(0, 0, 0, 0.3));\n",
              "      fill: #FFFFFF;\n",
              "    }\n",
              "  </style>\n",
              "\n",
              "      <script>\n",
              "        const buttonEl =\n",
              "          document.querySelector('#df-fcca533b-6eb0-4d39-8017-6f4f948a0cbb button.colab-df-convert');\n",
              "        buttonEl.style.display =\n",
              "          google.colab.kernel.accessAllowed ? 'block' : 'none';\n",
              "\n",
              "        async function convertToInteractive(key) {\n",
              "          const element = document.querySelector('#df-fcca533b-6eb0-4d39-8017-6f4f948a0cbb');\n",
              "          const dataTable =\n",
              "            await google.colab.kernel.invokeFunction('convertToInteractive',\n",
              "                                                     [key], {});\n",
              "          if (!dataTable) return;\n",
              "\n",
              "          const docLinkHtml = 'Like what you see? Visit the ' +\n",
              "            '<a target=\"_blank\" href=https://colab.research.google.com/notebooks/data_table.ipynb>data table notebook</a>'\n",
              "            + ' to learn more about interactive tables.';\n",
              "          element.innerHTML = '';\n",
              "          dataTable['output_type'] = 'display_data';\n",
              "          await google.colab.output.renderOutput(dataTable, element);\n",
              "          const docLink = document.createElement('div');\n",
              "          docLink.innerHTML = docLinkHtml;\n",
              "          element.appendChild(docLink);\n",
              "        }\n",
              "      </script>\n",
              "    </div>\n",
              "  </div>\n",
              "  "
            ]
          },
          "metadata": {},
          "execution_count": 6
        }
      ]
    },
    {
      "cell_type": "code",
      "source": [
        "import numpy as np\n",
        "print(train_df.target.value_counts())"
      ],
      "metadata": {
        "colab": {
          "base_uri": "https://localhost:8080/"
        },
        "id": "hFiMv8w_OojZ",
        "outputId": "1c1c16fd-3001-422f-c676-1bfe7bf2622c"
      },
      "execution_count": 7,
      "outputs": [
        {
          "output_type": "stream",
          "name": "stdout",
          "text": [
            "0    4342\n",
            "1    3271\n",
            "Name: target, dtype: int64\n"
          ]
        }
      ]
    },
    {
      "cell_type": "code",
      "source": [
        "print(f\"Total training samples: {len(train_df)}\")\n",
        "print(f\"Total test samples: {len(test_df)}\")\n",
        "print(f\"Total samples: {len(train_df) + len(test_df)}\")"
      ],
      "metadata": {
        "colab": {
          "base_uri": "https://localhost:8080/"
        },
        "id": "cgVZgiJyPI5o",
        "outputId": "6fe08896-a793-472d-9b5e-c90f33eb6ec2"
      },
      "execution_count": 8,
      "outputs": [
        {
          "output_type": "stream",
          "name": "stdout",
          "text": [
            "Total training samples: 7613\n",
            "Total test samples: 3263\n",
            "Total samples: 10876\n"
          ]
        }
      ]
    },
    {
      "cell_type": "code",
      "source": [
        "train_df_shuffled.columns"
      ],
      "metadata": {
        "colab": {
          "base_uri": "https://localhost:8080/"
        },
        "id": "ZW2Vdha9PkCr",
        "outputId": "08262273-770c-4ede-d1f3-6144744b4b6f"
      },
      "execution_count": 9,
      "outputs": [
        {
          "output_type": "execute_result",
          "data": {
            "text/plain": [
              "Index(['id', 'keyword', 'location', 'text', 'target'], dtype='object')"
            ]
          },
          "metadata": {},
          "execution_count": 9
        }
      ]
    },
    {
      "cell_type": "code",
      "source": [
        "import random\n",
        "\n",
        "train_df_shuffled.text[1]"
      ],
      "metadata": {
        "colab": {
          "base_uri": "https://localhost:8080/",
          "height": 0
        },
        "id": "AXNMGPrhPObs",
        "outputId": "91dba504-4e9e-470f-8c36-4d8ccf968b02"
      },
      "execution_count": 10,
      "outputs": [
        {
          "output_type": "execute_result",
          "data": {
            "text/plain": [
              "'Forest fire near La Ronge Sask. Canada'"
            ],
            "application/vnd.google.colaboratory.intrinsic+json": {
              "type": "string"
            }
          },
          "metadata": {},
          "execution_count": 10
        }
      ]
    },
    {
      "cell_type": "code",
      "source": [
        "import random\n",
        "random_index = random.randint(0, len(train_df)-5) # create random indexes not higher than the total number of samples\n",
        "for row in train_df_shuffled[[\"text\", \"target\"]][random_index:random_index+5].itertuples():\n",
        "  _, text, target = row\n",
        "  print(f\"Target: {target}\", \"(real disaster)\" if target > 0 else \"(not real disaster)\")\n",
        "  print(f\"Text:\\n{text}\\n\")\n",
        "  print(\"---\\n\")"
      ],
      "metadata": {
        "colab": {
          "base_uri": "https://localhost:8080/"
        },
        "id": "JlZwj4JrZgAQ",
        "outputId": "76681d1a-b13c-4bae-91f2-a7665f45ce76"
      },
      "execution_count": 11,
      "outputs": [
        {
          "output_type": "stream",
          "name": "stdout",
          "text": [
            "Target: 1 (real disaster)\n",
            "Text:\n",
            "Tension In Bayelsa As Patience Jonathan Plans To Hijack APC PDP - http://t.co/ComLG0VdbV\n",
            "\n",
            "---\n",
            "\n",
            "Target: 0 (not real disaster)\n",
            "Text:\n",
            "Housing Starts Explode to NewåÊHeights http://t.co/IGlnQpgbNW http://t.co/aOesBVns45\n",
            "\n",
            "---\n",
            "\n",
            "Target: 1 (real disaster)\n",
            "Text:\n",
            "California Bush fires please evacuate affected areas ASAP when california govts advised you to do so http://t.co/ubVEVUuAch\n",
            "\n",
            "---\n",
            "\n",
            "Target: 1 (real disaster)\n",
            "Text:\n",
            "I've experienced the smell of rotting potatoes for the first time. The Famine must have been awful if the whole country smelled like that.\n",
            "\n",
            "---\n",
            "\n",
            "Target: 0 (not real disaster)\n",
            "Text:\n",
            "LOOOOOOOOOOOOL who the bloody hell did that??  https://t.co/jRKGYl7Te5\n",
            "\n",
            "---\n",
            "\n"
          ]
        }
      ]
    },
    {
      "cell_type": "code",
      "source": [
        "from sklearn.model_selection import train_test_split"
      ],
      "metadata": {
        "id": "kfUy8RCLZzpB"
      },
      "execution_count": 12,
      "outputs": []
    },
    {
      "cell_type": "code",
      "source": [
        "train_sentences, val_sentences, train_labels, val_labels = train_test_split(train_df_shuffled['text'].to_numpy(),\n",
        "                                                                            train_df_shuffled['target'].to_numpy(),\n",
        "                                                                            test_size = 0.1,\n",
        "                                                                            random_state=42)"
      ],
      "metadata": {
        "id": "Py47FLovaafg"
      },
      "execution_count": 13,
      "outputs": []
    },
    {
      "cell_type": "code",
      "source": [
        "print(f\"Train sentences: {len(train_sentences)} and train labels: {len(train_labels)}\")\n",
        "print(f\"Train sentences: {len(val_sentences)} and train labels: {len(val_labels)}\")"
      ],
      "metadata": {
        "colab": {
          "base_uri": "https://localhost:8080/"
        },
        "id": "yfjFuQ6Va56a",
        "outputId": "25ac6d19-0c2c-4e17-afd4-ad8799c1e374"
      },
      "execution_count": 14,
      "outputs": [
        {
          "output_type": "stream",
          "name": "stdout",
          "text": [
            "Train sentences: 6851 and train labels: 6851\n",
            "Train sentences: 762 and train labels: 762\n"
          ]
        }
      ]
    },
    {
      "cell_type": "code",
      "source": [
        "train_sentences[:5], train_labels[:5]"
      ],
      "metadata": {
        "colab": {
          "base_uri": "https://localhost:8080/"
        },
        "id": "4WTwj_HvbOgG",
        "outputId": "787e11e4-ee72-4c8c-8867-da8f1421cf74"
      },
      "execution_count": 15,
      "outputs": [
        {
          "output_type": "execute_result",
          "data": {
            "text/plain": [
              "(array(['@mogacola @zamtriossu i screamed after hitting tweet',\n",
              "        'Imagine getting flattened by Kurt Zouma',\n",
              "        '@Gurmeetramrahim #MSGDoing111WelfareWorks Green S welfare force ke appx 65000 members har time disaster victim ki help ke liye tyar hai....',\n",
              "        \"@shakjn @C7 @Magnums im shaking in fear he's gonna hack the planet\",\n",
              "        'Somehow find you and I collide http://t.co/Ee8RpOahPk'],\n",
              "       dtype=object), array([0, 0, 1, 0, 0]))"
            ]
          },
          "metadata": {},
          "execution_count": 15
        }
      ]
    },
    {
      "cell_type": "markdown",
      "source": [
        "The TextVectorization layer takes the following parameters:\n",
        "\n",
        "* max_tokens - The maximum number of words in your vocabulary (e.g. 20000 or the number of unique words in your text), includes a value for OOV (out of vocabulary) tokens.\n",
        "* standardize - Method for standardizing text. Default is \"lower_and_strip_punctuation\" which lowers text and removes all punctuation marks.\n",
        "* split - How to split text, default is \"whitespace\" which splits on spaces.\n",
        "* ngrams - How many words to contain per token split, for example, ngrams=2 splits tokens into continuous sequences of 2.\n",
        "* output_mode - How to output tokens, can be \"int\" (integer mapping), \"binary\" (one-hot encoding), \"count\" or \"tf-idf\". See documentation for more.\n",
        "* output_sequence_length - Length of tokenized sequence to output. For example, if output_sequence_length=150, all tokenized sequences will be 150 tokens long.\n",
        "* pad_to_max_tokens - Defaults to False, if True, the output feature axis will be padded to max_tokens even if the number of unique tokens in the vocabulary is less than max_tokens. Only valid in certain modes, see docs for more."
      ],
      "metadata": {
        "id": "MJlIF9PgkcBl"
      }
    },
    {
      "cell_type": "code",
      "source": [
        "import tensorflow as tf\n",
        "from tensorflow.keras.layers.experimental.preprocessing import TextVectorization"
      ],
      "metadata": {
        "id": "cqgKY2zybWZ5"
      },
      "execution_count": 16,
      "outputs": []
    },
    {
      "cell_type": "code",
      "source": [
        "text_vectorizer = TextVectorization(max_tokens = None,\n",
        "                                    standardize = 'lower_and_strip_punctuation' ,\n",
        "                                    split = 'whitespace',\n",
        "                                    ngrams = None,\n",
        "                                    output_mode = 'int' ,\n",
        "                                    output_sequence_length = None)"
      ],
      "metadata": {
        "id": "wyYa1GXOk3Qf"
      },
      "execution_count": 17,
      "outputs": []
    },
    {
      "cell_type": "code",
      "source": [
        "# Find average number of tokens (words) in training Tweets\n",
        "round(sum([len(i.split()) for i in train_sentences])/len(train_sentences))"
      ],
      "metadata": {
        "colab": {
          "base_uri": "https://localhost:8080/"
        },
        "id": "LeByKzH6liOi",
        "outputId": "93103c64-1a95-49ed-b3fe-cdbbc6e1f399"
      },
      "execution_count": 18,
      "outputs": [
        {
          "output_type": "execute_result",
          "data": {
            "text/plain": [
              "15"
            ]
          },
          "metadata": {},
          "execution_count": 18
        }
      ]
    },
    {
      "cell_type": "code",
      "source": [
        "max_vocab_length = 10000\n",
        "max_length = 15\n",
        "\n",
        "text_vectorizer = TextVectorization(max_tokens =  max_vocab_length,\n",
        "                                    output_mode = 'int',\n",
        "                                    output_sequence_length = max_length)"
      ],
      "metadata": {
        "id": "EzJpX34Jky4I"
      },
      "execution_count": 19,
      "outputs": []
    },
    {
      "cell_type": "code",
      "source": [
        "# Fit the text vectorizer to the training text\n",
        "text_vectorizer.adapt(train_sentences)"
      ],
      "metadata": {
        "id": "dHCen-C_maUF"
      },
      "execution_count": 20,
      "outputs": []
    },
    {
      "cell_type": "code",
      "source": [
        "sample_sentence = \"There's a flood in my street!\"\n",
        "text_vectorizer([sample_sentence])"
      ],
      "metadata": {
        "colab": {
          "base_uri": "https://localhost:8080/"
        },
        "id": "X92NoHlqky5D",
        "outputId": "97bb4073-3700-4ab2-cf85-3b757c40007d"
      },
      "execution_count": 21,
      "outputs": [
        {
          "output_type": "execute_result",
          "data": {
            "text/plain": [
              "<tf.Tensor: shape=(1, 15), dtype=int64, numpy=\n",
              "array([[264,   3, 232,   4,  13, 698,   0,   0,   0,   0,   0,   0,   0,\n",
              "          0,   0]])>"
            ]
          },
          "metadata": {},
          "execution_count": 21
        }
      ]
    },
    {
      "cell_type": "code",
      "source": [
        "import random\n",
        "random_sentence = random.choice(train_sentences)\n",
        "print(f'This is the real sentence: \\n {random_sentence} \\n')\n",
        "tokenized_sentence = text_vectorizer([random_sentence])\n",
        "print(f'This is the tokenized sentence: \\n {tokenized_sentence}')"
      ],
      "metadata": {
        "colab": {
          "base_uri": "https://localhost:8080/"
        },
        "id": "5uoguDpbnDfZ",
        "outputId": "56f6c247-65e9-4981-ac3d-ec7229e0a62d"
      },
      "execution_count": 22,
      "outputs": [
        {
          "output_type": "stream",
          "name": "stdout",
          "text": [
            "This is the real sentence: \n",
            " Strong Thunderstorm 4 Miles North of Japton Moving SE At 25 MPH. Large Hail and Wind Gusts Up to 50 MPH Poss... #arwx http://t.co/blppzAIbOE \n",
            "\n",
            "This is the tokenized sentence: \n",
            " [[1356  283  178 2384  598    6 5322 1386 1989   17  867 1071  945  348\n",
            "     7]]\n"
          ]
        }
      ]
    },
    {
      "cell_type": "code",
      "source": [
        "words_in_vocab = text_vectorizer.get_vocabulary()\n",
        "top_5_words = words_in_vocab[:5]\n",
        "bottom_5_words = words_in_vocab[-5:]\n",
        "print(f'Number of words in vocab {len(words_in_vocab)}')\n",
        "print(f'Top 5 words: {top_5_words}')\n",
        "print(f'Bottom 5 words: {bottom_5_words}')"
      ],
      "metadata": {
        "colab": {
          "base_uri": "https://localhost:8080/"
        },
        "id": "Mi_nIda1m_Bv",
        "outputId": "c9ab94f3-1b39-4cd1-f886-4b6e93400b37"
      },
      "execution_count": 23,
      "outputs": [
        {
          "output_type": "stream",
          "name": "stdout",
          "text": [
            "Number of words in vocab 10000\n",
            "Top 5 words: ['', '[UNK]', 'the', 'a', 'in']\n",
            "Bottom 5 words: ['pages', 'paeds', 'pads', 'padres', 'paddytomlinson1']\n"
          ]
        }
      ]
    },
    {
      "cell_type": "markdown",
      "source": [
        "#Creating an Embedding using an Embedding Layer"
      ],
      "metadata": {
        "id": "UXgMA4c-pOVo"
      }
    },
    {
      "cell_type": "code",
      "source": [
        "tf.random.set_seed(42)\n",
        "from tensorflow.keras import layers\n",
        "embedding = layers.Embedding(input_dim = max_vocab_length,\n",
        "                             output_dim = 128,\n",
        "                             embeddings_initializer = 'uniform',\n",
        "                             input_length = max_length,\n",
        "                             name = 'embedding_1')"
      ],
      "metadata": {
        "id": "Kbu6RLuppTHF"
      },
      "execution_count": 24,
      "outputs": []
    },
    {
      "cell_type": "code",
      "source": [
        "random_sentence = random.choice(train_sentences)\n",
        "print(f'Original sentence:\\n {random_sentence}\\n')\n",
        "sample_embedded = embedding(text_vectorizer([random_sentence]))\n",
        "print(f'Embedded sentence: \\n {sample_embedded} \\n')"
      ],
      "metadata": {
        "colab": {
          "base_uri": "https://localhost:8080/"
        },
        "id": "3guJaOTPpt8S",
        "outputId": "8ec24735-5d6f-44cf-a362-7f247f6cb2f0"
      },
      "execution_count": 25,
      "outputs": [
        {
          "output_type": "stream",
          "name": "stdout",
          "text": [
            "Original sentence:\n",
            " @Homukami Only URs and SRs matter Rs you'll be drowning in. Tho you're already drowning in Ns lol.\n",
            "\n",
            "Embedded sentence: \n",
            " [[[ 0.03977952 -0.03782602 -0.03646283 ...  0.00236253  0.03332629\n",
            "    0.02803668]\n",
            "  [ 0.04445295  0.03641361 -0.03749955 ...  0.01259389  0.04653219\n",
            "    0.00547662]\n",
            "  [ 0.02810825  0.02894555 -0.03640608 ...  0.03859296  0.03798881\n",
            "   -0.03029471]\n",
            "  ...\n",
            "  [ 0.02951511 -0.04593171 -0.02894578 ...  0.03564817 -0.01119394\n",
            "   -0.01152975]\n",
            "  [-0.04719725 -0.00611096 -0.01084956 ... -0.04298664 -0.00089125\n",
            "   -0.02651898]\n",
            "  [ 0.03916899  0.02460729 -0.02801142 ... -0.03714856 -0.02949088\n",
            "    0.04210173]]] \n",
            "\n"
          ]
        }
      ]
    },
    {
      "cell_type": "code",
      "source": [
        "sample_embedded[0][0]"
      ],
      "metadata": {
        "id": "wBHQR8wzqmFE",
        "colab": {
          "base_uri": "https://localhost:8080/"
        },
        "outputId": "ccf245a9-b667-4c2e-eeec-411215341b74"
      },
      "execution_count": 26,
      "outputs": [
        {
          "output_type": "execute_result",
          "data": {
            "text/plain": [
              "<tf.Tensor: shape=(128,), dtype=float32, numpy=\n",
              "array([ 0.03977952, -0.03782602, -0.03646283, -0.02449075, -0.00015752,\n",
              "        0.02220254,  0.00162981,  0.00603487,  0.0085157 , -0.02620113,\n",
              "        0.04101599,  0.03715892,  0.02397566,  0.00281113, -0.02704906,\n",
              "       -0.04870148,  0.01457943,  0.0059551 , -0.02334484,  0.03581132,\n",
              "        0.04377897,  0.04186075,  0.03245703, -0.045092  ,  0.04260418,\n",
              "        0.03398135, -0.01812425, -0.03539513,  0.02954218,  0.02556742,\n",
              "       -0.03345481,  0.04272738, -0.00798845, -0.0406163 , -0.00644834,\n",
              "        0.00232404,  0.01703629,  0.03645121, -0.02622857,  0.03498118,\n",
              "       -0.03059715,  0.02576998, -0.04221511,  0.02654583, -0.02192564,\n",
              "       -0.0346157 ,  0.00075326,  0.01427345,  0.01027539, -0.04311384,\n",
              "       -0.03973336, -0.00966626,  0.01032177, -0.04011822, -0.018892  ,\n",
              "       -0.01233201,  0.02721632, -0.01232889, -0.02504088, -0.04715574,\n",
              "        0.00558523, -0.00801403,  0.03058865, -0.01923352, -0.04175536,\n",
              "       -0.03654208, -0.04277095, -0.0033918 , -0.04226271,  0.0240727 ,\n",
              "        0.01274442, -0.00268712,  0.03158386,  0.04823284,  0.02940297,\n",
              "        0.00636031,  0.01719667,  0.03907609, -0.0249153 , -0.00834242,\n",
              "        0.03881217, -0.04461795,  0.03740455, -0.02412283, -0.01538421,\n",
              "        0.03984089, -0.04073881,  0.0317078 , -0.04241145, -0.03435747,\n",
              "        0.03021734,  0.0443267 ,  0.00424304, -0.01204874, -0.00213076,\n",
              "       -0.02668054,  0.0461436 , -0.04644201,  0.02519932, -0.04503984,\n",
              "       -0.03163396, -0.02846084,  0.01276297,  0.02938429,  0.03437588,\n",
              "        0.00973482, -0.01860742,  0.03510927, -0.04996962,  0.01983938,\n",
              "        0.00642185,  0.00372197,  0.01576127,  0.01591486, -0.04195998,\n",
              "        0.02777341,  0.00619875, -0.02269079, -0.00224097,  0.0289592 ,\n",
              "        0.04377018, -0.03377642,  0.00907839, -0.01134553, -0.02910458,\n",
              "        0.00236253,  0.03332629,  0.02803668], dtype=float32)>"
            ]
          },
          "metadata": {},
          "execution_count": 26
        }
      ]
    },
    {
      "cell_type": "markdown",
      "source": [
        "#Modelling a text dataset"
      ],
      "metadata": {
        "id": "Ld5NGP_UXgOe"
      }
    },
    {
      "cell_type": "code",
      "source": [
        "#Model 0 NaiveBayes Model\n",
        "from sklearn.feature_extraction.text import TfidfVectorizer\n",
        "from sklearn.naive_bayes import MultinomialNB\n",
        "from sklearn.pipeline import Pipeline"
      ],
      "metadata": {
        "id": "IunVr5TMXkQS"
      },
      "execution_count": 27,
      "outputs": []
    },
    {
      "cell_type": "code",
      "source": [
        "model_0 = Pipeline([('tfidf', TfidfVectorizer()),\n",
        "                    ('clf', MultinomialNB())\n",
        "    \n",
        "])\n",
        "model_0.fit(train_sentences, train_labels)"
      ],
      "metadata": {
        "colab": {
          "base_uri": "https://localhost:8080/"
        },
        "id": "DK7GqCibXfvr",
        "outputId": "acd5efb1-fdba-4f1f-c48e-bbd6e87ce6fb"
      },
      "execution_count": 28,
      "outputs": [
        {
          "output_type": "execute_result",
          "data": {
            "text/plain": [
              "Pipeline(steps=[('tfidf', TfidfVectorizer()), ('clf', MultinomialNB())])"
            ]
          },
          "metadata": {},
          "execution_count": 28
        }
      ]
    },
    {
      "cell_type": "code",
      "source": [
        "baseline_preds = model_0.predict(val_sentences)\n",
        "baseline_preds[:20]"
      ],
      "metadata": {
        "colab": {
          "base_uri": "https://localhost:8080/"
        },
        "id": "lbpwgbakZc4V",
        "outputId": "cf361db1-a206-469e-f522-d5a77739259b"
      },
      "execution_count": 29,
      "outputs": [
        {
          "output_type": "execute_result",
          "data": {
            "text/plain": [
              "array([1, 1, 1, 0, 0, 1, 1, 1, 1, 0, 0, 1, 0, 0, 0, 0, 0, 0, 0, 1])"
            ]
          },
          "metadata": {},
          "execution_count": 29
        }
      ]
    },
    {
      "cell_type": "code",
      "source": [
        "from sklearn.metrics import accuracy_score, precision_recall_fscore_support\n",
        "\n",
        "def calculate_results(y_true, y_pred):\n",
        "  model_accuracy = accuracy_score(y_true, y_pred)*100\n",
        "  model_precision, model_recall, model_f1, _ = precision_recall_fscore_support(y_true, y_pred, average=\"weighted\")\n",
        "  model_results = {'accuracy': model_accuracy,\n",
        "                   'precision': model_precision,\n",
        "                   'recall': model_recall,\n",
        "                   'f1':model_f1}\n",
        "  return model_results\n"
      ],
      "metadata": {
        "id": "o8myAjT_ZwA8"
      },
      "execution_count": 30,
      "outputs": []
    },
    {
      "cell_type": "code",
      "source": [
        "baseline_results = calculate_results(y_true = val_labels,\n",
        "                                     y_pred = baseline_preds)\n",
        "baseline_results"
      ],
      "metadata": {
        "colab": {
          "base_uri": "https://localhost:8080/"
        },
        "id": "h0XmriLyapS9",
        "outputId": "ad0df145-b997-4b8f-bf47-9a23cd62ae93"
      },
      "execution_count": 31,
      "outputs": [
        {
          "output_type": "execute_result",
          "data": {
            "text/plain": [
              "{'accuracy': 79.26509186351706,\n",
              " 'precision': 0.8111390004213173,\n",
              " 'recall': 0.7926509186351706,\n",
              " 'f1': 0.7862189758049549}"
            ]
          },
          "metadata": {},
          "execution_count": 31
        }
      ]
    },
    {
      "cell_type": "code",
      "source": [
        "#Model 01: a simple dense model\n",
        "from helper_functions import create_tensorboard_callback\n",
        "SAVE_DIR = 'model_logs'"
      ],
      "metadata": {
        "id": "-e54ZPSyayzV"
      },
      "execution_count": 32,
      "outputs": []
    },
    {
      "cell_type": "markdown",
      "source": [
        "## The model will atke our text and labels as input, tokenize the text, create and embedding, find the average of the embedding(usign flobal average pooling) and then pass the average through a fully connected layer with one output unit and a sigmoid activation function"
      ],
      "metadata": {
        "id": "fKULBrrwbD6o"
      }
    },
    {
      "cell_type": "code",
      "source": [
        "from tensorflow.keras import layers\n",
        "inputs = layers.Input(shape=(1,), dtype='string')\n",
        "x = text_vectorizer(inputs)\n",
        "x = embedding(x)\n",
        "x = layers.GlobalAveragePooling1D()(x)\n",
        "outputs = layers.Dense(1, activation = 'sigmoid')(x)\n",
        "model_1 = tf.keras.Model(inputs, outputs, name='model_1_dense')"
      ],
      "metadata": {
        "id": "uvrq4W5VbSPI"
      },
      "execution_count": 33,
      "outputs": []
    },
    {
      "cell_type": "code",
      "source": [
        "model_1.compile(loss = 'binary_crossentropy',\n",
        "                optimizer = tf.keras.optimizers.Adam(),\n",
        "                metrics = ['accuracy'])"
      ],
      "metadata": {
        "id": "TIY44CkRbCCW"
      },
      "execution_count": 34,
      "outputs": []
    },
    {
      "cell_type": "code",
      "source": [
        "model_1.summary()"
      ],
      "metadata": {
        "colab": {
          "base_uri": "https://localhost:8080/"
        },
        "id": "feyvdJGLcbfx",
        "outputId": "19ad32c1-e336-4ab7-c734-58014975542b"
      },
      "execution_count": 35,
      "outputs": [
        {
          "output_type": "stream",
          "name": "stdout",
          "text": [
            "Model: \"model_1_dense\"\n",
            "_________________________________________________________________\n",
            " Layer (type)                Output Shape              Param #   \n",
            "=================================================================\n",
            " input_1 (InputLayer)        [(None, 1)]               0         \n",
            "                                                                 \n",
            " text_vectorization_1 (TextV  (None, 15)               0         \n",
            " ectorization)                                                   \n",
            "                                                                 \n",
            " embedding_1 (Embedding)     (None, 15, 128)           1280000   \n",
            "                                                                 \n",
            " global_average_pooling1d (G  (None, 128)              0         \n",
            " lobalAveragePooling1D)                                          \n",
            "                                                                 \n",
            " dense (Dense)               (None, 1)                 129       \n",
            "                                                                 \n",
            "=================================================================\n",
            "Total params: 1,280,129\n",
            "Trainable params: 1,280,129\n",
            "Non-trainable params: 0\n",
            "_________________________________________________________________\n"
          ]
        }
      ]
    },
    {
      "cell_type": "code",
      "source": [
        "model_1_history = model_1.fit(train_sentences,\n",
        "                              train_labels,\n",
        "                              epochs=5,\n",
        "                              validation_data = (val_sentences, val_labels),\n",
        "                              callbacks=[create_tensorboard_callback(dir_name=SAVE_DIR,\n",
        "                                                                     experiment_name = 'simple_dense_model')]) \n"
      ],
      "metadata": {
        "colab": {
          "base_uri": "https://localhost:8080/"
        },
        "id": "HlAzUqggcpRY",
        "outputId": "24e6fd56-defe-46a3-bb3d-e0e44d77e4b7"
      },
      "execution_count": 36,
      "outputs": [
        {
          "output_type": "stream",
          "name": "stdout",
          "text": [
            "Saving TensorBoard log files to: model_logs/simple_dense_model/20221128-201936\n",
            "Epoch 1/5\n",
            "215/215 [==============================] - 4s 5ms/step - loss: 0.6094 - accuracy: 0.6916 - val_loss: 0.5357 - val_accuracy: 0.7572\n",
            "Epoch 2/5\n",
            "215/215 [==============================] - 1s 4ms/step - loss: 0.4410 - accuracy: 0.8189 - val_loss: 0.4691 - val_accuracy: 0.7848\n",
            "Epoch 3/5\n",
            "215/215 [==============================] - 1s 4ms/step - loss: 0.3463 - accuracy: 0.8605 - val_loss: 0.4590 - val_accuracy: 0.7900\n",
            "Epoch 4/5\n",
            "215/215 [==============================] - 1s 4ms/step - loss: 0.2848 - accuracy: 0.8923 - val_loss: 0.4641 - val_accuracy: 0.7927\n",
            "Epoch 5/5\n",
            "215/215 [==============================] - 1s 4ms/step - loss: 0.2380 - accuracy: 0.9118 - val_loss: 0.4767 - val_accuracy: 0.7874\n"
          ]
        }
      ]
    },
    {
      "cell_type": "code",
      "source": [
        "model_1.evaluate(val_sentences, val_labels)"
      ],
      "metadata": {
        "colab": {
          "base_uri": "https://localhost:8080/"
        },
        "id": "sMNUiI5zcp2p",
        "outputId": "0f1ca147-05d0-458f-bc5d-c547b5bcdfeb"
      },
      "execution_count": 37,
      "outputs": [
        {
          "output_type": "stream",
          "name": "stdout",
          "text": [
            "24/24 [==============================] - 0s 3ms/step - loss: 0.4767 - accuracy: 0.7874\n"
          ]
        },
        {
          "output_type": "execute_result",
          "data": {
            "text/plain": [
              "[0.4766846001148224, 0.787401556968689]"
            ]
          },
          "metadata": {},
          "execution_count": 37
        }
      ]
    },
    {
      "cell_type": "code",
      "source": [
        "embedding.weights\n"
      ],
      "metadata": {
        "colab": {
          "base_uri": "https://localhost:8080/"
        },
        "id": "KYLjketfcp8r",
        "outputId": "9eb2ae61-269a-439a-ad8e-ebd8fb5c3131"
      },
      "execution_count": 38,
      "outputs": [
        {
          "output_type": "execute_result",
          "data": {
            "text/plain": [
              "[<tf.Variable 'embedding_1/embeddings:0' shape=(10000, 128) dtype=float32, numpy=\n",
              " array([[ 0.00073164,  0.01504801, -0.03425454, ..., -0.04403538,\n",
              "         -0.01042281,  0.01876435],\n",
              "        [ 0.04135864, -0.03945085, -0.03811942, ...,  0.00464736,\n",
              "          0.03163552,  0.02928299],\n",
              "        [ 0.00684031,  0.05363132, -0.00241556, ..., -0.07082176,\n",
              "         -0.04750704,  0.01448254],\n",
              "        ...,\n",
              "        [-0.03301444, -0.0052493 , -0.04209725, ...,  0.02028764,\n",
              "          0.00308807,  0.02215792],\n",
              "        [ 0.00692343,  0.05942352, -0.01975194, ..., -0.0619906 ,\n",
              "         -0.01018393,  0.03510419],\n",
              "        [-0.03723461,  0.06267188, -0.07451147, ..., -0.02367218,\n",
              "         -0.0864333 ,  0.01742156]], dtype=float32)>]"
            ]
          },
          "metadata": {},
          "execution_count": 38
        }
      ]
    },
    {
      "cell_type": "code",
      "source": [
        "embed_weights = model_1.get_layer(\"embedding_1\").get_weights()[0]\n",
        "print(embed_weights.shape)"
      ],
      "metadata": {
        "colab": {
          "base_uri": "https://localhost:8080/"
        },
        "id": "Pr8Uhtrbdhfs",
        "outputId": "d91d702b-8c92-40db-da4b-7287e0248f4d"
      },
      "execution_count": 39,
      "outputs": [
        {
          "output_type": "stream",
          "name": "stdout",
          "text": [
            "(10000, 128)\n"
          ]
        }
      ]
    },
    {
      "cell_type": "code",
      "source": [
        "model_1_pred_probs = model_1.predict(val_sentences)\n",
        "model_1_pred_probs[:10]"
      ],
      "metadata": {
        "colab": {
          "base_uri": "https://localhost:8080/"
        },
        "id": "Utjww5jodnzL",
        "outputId": "89ba4f76-5cdc-448c-99c0-af5a7f54e3a4"
      },
      "execution_count": 40,
      "outputs": [
        {
          "output_type": "stream",
          "name": "stdout",
          "text": [
            "24/24 [==============================] - 0s 2ms/step\n"
          ]
        },
        {
          "output_type": "execute_result",
          "data": {
            "text/plain": [
              "array([[0.4048821 ],\n",
              "       [0.7443312 ],\n",
              "       [0.997895  ],\n",
              "       [0.10889999],\n",
              "       [0.11143532],\n",
              "       [0.93556094],\n",
              "       [0.91345936],\n",
              "       [0.9925345 ],\n",
              "       [0.97156817],\n",
              "       [0.26570338]], dtype=float32)"
            ]
          },
          "metadata": {},
          "execution_count": 40
        }
      ]
    },
    {
      "cell_type": "code",
      "source": [
        "model_1_preds = tf.squeeze(tf.round(model_1_pred_probs)) # squeeze removes single dimensions\n",
        "model_1_preds[:10]"
      ],
      "metadata": {
        "colab": {
          "base_uri": "https://localhost:8080/"
        },
        "id": "8fBYs0VSd8pm",
        "outputId": "c15da21c-be9a-4ec4-a4f2-0fa7261fe301"
      },
      "execution_count": 41,
      "outputs": [
        {
          "output_type": "execute_result",
          "data": {
            "text/plain": [
              "<tf.Tensor: shape=(10,), dtype=float32, numpy=array([0., 1., 1., 0., 0., 1., 1., 1., 1., 0.], dtype=float32)>"
            ]
          },
          "metadata": {},
          "execution_count": 41
        }
      ]
    },
    {
      "cell_type": "code",
      "source": [
        "model_1_results = calculate_results(y_true = val_labels, y_pred = model_1_preds)\n",
        "model_1_results"
      ],
      "metadata": {
        "colab": {
          "base_uri": "https://localhost:8080/"
        },
        "id": "LerTIcE5dXOK",
        "outputId": "86c87e8b-c259-4f29-d270-0d8842e5d261"
      },
      "execution_count": 42,
      "outputs": [
        {
          "output_type": "execute_result",
          "data": {
            "text/plain": [
              "{'accuracy': 78.74015748031496,\n",
              " 'precision': 0.7914920592553047,\n",
              " 'recall': 0.7874015748031497,\n",
              " 'f1': 0.7846966492209201}"
            ]
          },
          "metadata": {},
          "execution_count": 42
        }
      ]
    },
    {
      "cell_type": "code",
      "source": [
        "def compare_baseline_to_new_results(baseline_results, new_model_results):\n",
        "  for key, value in baseline_results.items():\n",
        "    print(f\"Baseline {key}: {value:.2f}, New {key}: {new_model_results[key]:.2f}, Difference: {new_model_results[key]-value:.2f}\")"
      ],
      "metadata": {
        "id": "HOeVnD90ePjg"
      },
      "execution_count": 43,
      "outputs": []
    },
    {
      "cell_type": "code",
      "source": [
        "compare_baseline_to_new_results(baseline_results, model_1_results)"
      ],
      "metadata": {
        "colab": {
          "base_uri": "https://localhost:8080/"
        },
        "id": "Qgf6aePRe899",
        "outputId": "d5b32797-8442-43a6-8439-ecf70b01111f"
      },
      "execution_count": 44,
      "outputs": [
        {
          "output_type": "stream",
          "name": "stdout",
          "text": [
            "Baseline accuracy: 79.27, New accuracy: 78.74, Difference: -0.52\n",
            "Baseline precision: 0.81, New precision: 0.79, Difference: -0.02\n",
            "Baseline recall: 0.79, New recall: 0.79, Difference: -0.01\n",
            "Baseline f1: 0.79, New f1: 0.78, Difference: -0.00\n"
          ]
        }
      ]
    },
    {
      "cell_type": "code",
      "source": [
        "#our model_1 contained an embedding layer(embedding) which learn a way of representing words as feature vectors by passing over the training data\n",
        "words_in_vocab = text_vectorizer.get_vocabulary()\n",
        "len(words_in_vocab), words_in_vocab[:10]"
      ],
      "metadata": {
        "colab": {
          "base_uri": "https://localhost:8080/"
        },
        "id": "fqRXOvBdf5ju",
        "outputId": "c82c2fbf-ab82-49cf-89dd-728f5f156785"
      },
      "execution_count": 45,
      "outputs": [
        {
          "output_type": "execute_result",
          "data": {
            "text/plain": [
              "(10000, ['', '[UNK]', 'the', 'a', 'in', 'to', 'of', 'and', 'i', 'is'])"
            ]
          },
          "metadata": {},
          "execution_count": 45
        }
      ]
    },
    {
      "cell_type": "code",
      "source": [
        "embed_weights = model_1.get_layer(\"embedding_1\").get_weights()[0]\n",
        "print(embed_weights.shape)"
      ],
      "metadata": {
        "colab": {
          "base_uri": "https://localhost:8080/"
        },
        "id": "vhyklpxchv1l",
        "outputId": "66fdef06-8734-4383-e3ce-a013b3db3721"
      },
      "execution_count": 46,
      "outputs": [
        {
          "output_type": "stream",
          "name": "stdout",
          "text": [
            "(10000, 128)\n"
          ]
        }
      ]
    },
    {
      "cell_type": "code",
      "source": [
        "#visualizing embedding\n",
        "import io\n",
        "\n",
        "# Create output writers\n",
        "out_v = io.open(\"embedding_vectors.tsv\", \"w\", encoding=\"utf-8\")\n",
        "out_m = io.open(\"embedding_metadata.tsv\", \"w\", encoding=\"utf-8\")\n",
        "\n",
        "# Write embedding vectors and words to file\n",
        "for num, word in enumerate(words_in_vocab):\n",
        "  if num == 0: \n",
        "     continue # skip padding token\n",
        "  vec = embed_weights[num]\n",
        "  out_m.write(word + \"\\n\") # write words to file\n",
        "  out_v.write(\"\\t\".join([str(x) for x in vec]) + \"\\n\") # write corresponding word vector to file\n",
        "out_v.close()\n",
        "out_m.close()\n",
        "\n",
        "# Download files locally to upload to Embedding Projector\n",
        "try:\n",
        "  from google.colab import files\n",
        "except ImportError:\n",
        "  pass\n",
        "else:\n",
        "  files.download(\"embedding_vectors.tsv\")\n",
        "  files.download(\"embedding_metadata.tsv\")"
      ],
      "metadata": {
        "colab": {
          "base_uri": "https://localhost:8080/",
          "height": 17
        },
        "id": "gUOFhVksiDor",
        "outputId": "0b6bbad4-6e52-4d85-fc88-0e9f048876a0"
      },
      "execution_count": 47,
      "outputs": [
        {
          "output_type": "display_data",
          "data": {
            "text/plain": [
              "<IPython.core.display.Javascript object>"
            ],
            "application/javascript": [
              "\n",
              "    async function download(id, filename, size) {\n",
              "      if (!google.colab.kernel.accessAllowed) {\n",
              "        return;\n",
              "      }\n",
              "      const div = document.createElement('div');\n",
              "      const label = document.createElement('label');\n",
              "      label.textContent = `Downloading \"${filename}\": `;\n",
              "      div.appendChild(label);\n",
              "      const progress = document.createElement('progress');\n",
              "      progress.max = size;\n",
              "      div.appendChild(progress);\n",
              "      document.body.appendChild(div);\n",
              "\n",
              "      const buffers = [];\n",
              "      let downloaded = 0;\n",
              "\n",
              "      const channel = await google.colab.kernel.comms.open(id);\n",
              "      // Send a message to notify the kernel that we're ready.\n",
              "      channel.send({})\n",
              "\n",
              "      for await (const message of channel.messages) {\n",
              "        // Send a message to notify the kernel that we're ready.\n",
              "        channel.send({})\n",
              "        if (message.buffers) {\n",
              "          for (const buffer of message.buffers) {\n",
              "            buffers.push(buffer);\n",
              "            downloaded += buffer.byteLength;\n",
              "            progress.value = downloaded;\n",
              "          }\n",
              "        }\n",
              "      }\n",
              "      const blob = new Blob(buffers, {type: 'application/binary'});\n",
              "      const a = document.createElement('a');\n",
              "      a.href = window.URL.createObjectURL(blob);\n",
              "      a.download = filename;\n",
              "      div.appendChild(a);\n",
              "      a.click();\n",
              "      div.remove();\n",
              "    }\n",
              "  "
            ]
          },
          "metadata": {}
        },
        {
          "output_type": "display_data",
          "data": {
            "text/plain": [
              "<IPython.core.display.Javascript object>"
            ],
            "application/javascript": [
              "download(\"download_de0f342c-8b19-4d3c-aa38-841e9031d073\", \"embedding_vectors.tsv\", 15391342)"
            ]
          },
          "metadata": {}
        },
        {
          "output_type": "display_data",
          "data": {
            "text/plain": [
              "<IPython.core.display.Javascript object>"
            ],
            "application/javascript": [
              "\n",
              "    async function download(id, filename, size) {\n",
              "      if (!google.colab.kernel.accessAllowed) {\n",
              "        return;\n",
              "      }\n",
              "      const div = document.createElement('div');\n",
              "      const label = document.createElement('label');\n",
              "      label.textContent = `Downloading \"${filename}\": `;\n",
              "      div.appendChild(label);\n",
              "      const progress = document.createElement('progress');\n",
              "      progress.max = size;\n",
              "      div.appendChild(progress);\n",
              "      document.body.appendChild(div);\n",
              "\n",
              "      const buffers = [];\n",
              "      let downloaded = 0;\n",
              "\n",
              "      const channel = await google.colab.kernel.comms.open(id);\n",
              "      // Send a message to notify the kernel that we're ready.\n",
              "      channel.send({})\n",
              "\n",
              "      for await (const message of channel.messages) {\n",
              "        // Send a message to notify the kernel that we're ready.\n",
              "        channel.send({})\n",
              "        if (message.buffers) {\n",
              "          for (const buffer of message.buffers) {\n",
              "            buffers.push(buffer);\n",
              "            downloaded += buffer.byteLength;\n",
              "            progress.value = downloaded;\n",
              "          }\n",
              "        }\n",
              "      }\n",
              "      const blob = new Blob(buffers, {type: 'application/binary'});\n",
              "      const a = document.createElement('a');\n",
              "      a.href = window.URL.createObjectURL(blob);\n",
              "      a.download = filename;\n",
              "      div.appendChild(a);\n",
              "      a.click();\n",
              "      div.remove();\n",
              "    }\n",
              "  "
            ]
          },
          "metadata": {}
        },
        {
          "output_type": "display_data",
          "data": {
            "text/plain": [
              "<IPython.core.display.Javascript object>"
            ],
            "application/javascript": [
              "download(\"download_63e38dc5-19d5-4d38-981c-5f4c334f8a18\", \"embedding_metadata.tsv\", 80388)"
            ]
          },
          "metadata": {}
        }
      ]
    },
    {
      "cell_type": "markdown",
      "source": [
        "##PCA of embedding vectors and metadata![cap1.png](data:image/png;base64,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)"
      ],
      "metadata": {
        "id": "0pTDiDG8kjsv"
      }
    },
    {
      "cell_type": "markdown",
      "source": [
        "##Model 2. LSTM\n"
      ],
      "metadata": {
        "id": "C7J4CXbDAdjR"
      }
    },
    {
      "cell_type": "code",
      "source": [
        "tf.random.set_seed(42)\n",
        "from tensorflow.keras import layers\n",
        "model_2_embedding = layers.Embedding(input_dim = max_vocab_length,\n",
        "                                     output_dim = 128,\n",
        "                                     embeddings_initializer = 'uniform',\n",
        "                                     input_length = max_length,\n",
        "                                     name = 'embedding_2')\n",
        "\n",
        "inputs = layers.Input(shape = (1,), dtype = 'string')\n",
        "x = text_vectorizer(inputs)\n",
        "x = model_2_embedding(x)\n",
        "print(x.shape)\n",
        "x = layers.LSTM(64)(x)\n",
        "print(x.shape)\n",
        "outputs = layers.Dense(1, activation = 'sigmoid')(x)\n",
        "model_2 = tf.keras.Model(inputs, outputs, name = 'model_2_LSTM')"
      ],
      "metadata": {
        "id": "5AjJ11UIky4g",
        "colab": {
          "base_uri": "https://localhost:8080/"
        },
        "outputId": "d9e1a87f-99c9-4aa0-ce7d-586747fe8c1e"
      },
      "execution_count": 48,
      "outputs": [
        {
          "output_type": "stream",
          "name": "stdout",
          "text": [
            "(None, 15, 128)\n",
            "(None, 64)\n"
          ]
        }
      ]
    },
    {
      "cell_type": "code",
      "source": [
        "model_2.compile(loss = 'binary_crossentropy',\n",
        "                optimizer = tf.keras.optimizers.Adam(),\n",
        "                metrics = ['accuracy'])"
      ],
      "metadata": {
        "id": "x8gJ9f03kqZn"
      },
      "execution_count": 49,
      "outputs": []
    },
    {
      "cell_type": "code",
      "source": [
        "model_2.summary()"
      ],
      "metadata": {
        "colab": {
          "base_uri": "https://localhost:8080/"
        },
        "id": "sA2YQ55CBnK2",
        "outputId": "a3e13097-64fb-454b-b0f5-28b0937b8342"
      },
      "execution_count": 50,
      "outputs": [
        {
          "output_type": "stream",
          "name": "stdout",
          "text": [
            "Model: \"model_2_LSTM\"\n",
            "_________________________________________________________________\n",
            " Layer (type)                Output Shape              Param #   \n",
            "=================================================================\n",
            " input_2 (InputLayer)        [(None, 1)]               0         \n",
            "                                                                 \n",
            " text_vectorization_1 (TextV  (None, 15)               0         \n",
            " ectorization)                                                   \n",
            "                                                                 \n",
            " embedding_2 (Embedding)     (None, 15, 128)           1280000   \n",
            "                                                                 \n",
            " lstm (LSTM)                 (None, 64)                49408     \n",
            "                                                                 \n",
            " dense_1 (Dense)             (None, 1)                 65        \n",
            "                                                                 \n",
            "=================================================================\n",
            "Total params: 1,329,473\n",
            "Trainable params: 1,329,473\n",
            "Non-trainable params: 0\n",
            "_________________________________________________________________\n"
          ]
        }
      ]
    },
    {
      "cell_type": "code",
      "source": [
        "model_2_history = model_2.fit(train_sentences,\n",
        "                              train_labels,\n",
        "                              epochs=5,\n",
        "                              validation_data = (val_sentences, val_labels),\n",
        "                              callbacks=[create_tensorboard_callback(SAVE_DIR, \n",
        "                                                                     \"LSTM\")])\n"
      ],
      "metadata": {
        "colab": {
          "base_uri": "https://localhost:8080/"
        },
        "id": "LiMpsAr9Bomj",
        "outputId": "697b3f6c-3103-4653-c4d9-43a9c9b084c9"
      },
      "execution_count": 51,
      "outputs": [
        {
          "output_type": "stream",
          "name": "stdout",
          "text": [
            "Saving TensorBoard log files to: model_logs/LSTM/20221128-201946\n",
            "Epoch 1/5\n",
            "215/215 [==============================] - 6s 9ms/step - loss: 0.5100 - accuracy: 0.7416 - val_loss: 0.4566 - val_accuracy: 0.7822\n",
            "Epoch 2/5\n",
            "215/215 [==============================] - 1s 7ms/step - loss: 0.3176 - accuracy: 0.8717 - val_loss: 0.5138 - val_accuracy: 0.7756\n",
            "Epoch 3/5\n",
            "215/215 [==============================] - 1s 7ms/step - loss: 0.2201 - accuracy: 0.9152 - val_loss: 0.5858 - val_accuracy: 0.7677\n",
            "Epoch 4/5\n",
            "215/215 [==============================] - 1s 7ms/step - loss: 0.1556 - accuracy: 0.9428 - val_loss: 0.6041 - val_accuracy: 0.7743\n",
            "Epoch 5/5\n",
            "215/215 [==============================] - 1s 7ms/step - loss: 0.1076 - accuracy: 0.9594 - val_loss: 0.8746 - val_accuracy: 0.7507\n"
          ]
        }
      ]
    },
    {
      "cell_type": "code",
      "source": [
        "model_2_preds_probs = model_2.predict(val_sentences)\n",
        "model_2_preds_probs.shape, model_2_preds_probs[:10]"
      ],
      "metadata": {
        "colab": {
          "base_uri": "https://localhost:8080/"
        },
        "id": "AAQhl8FACDlU",
        "outputId": "3dbec2d8-a80a-4fa9-c6c4-5cec8dcdb9e5"
      },
      "execution_count": 52,
      "outputs": [
        {
          "output_type": "stream",
          "name": "stdout",
          "text": [
            "24/24 [==============================] - 0s 3ms/step\n"
          ]
        },
        {
          "output_type": "execute_result",
          "data": {
            "text/plain": [
              "((762, 1), array([[0.007126  ],\n",
              "        [0.78736764],\n",
              "        [0.9996376 ],\n",
              "        [0.05679174],\n",
              "        [0.0025822 ],\n",
              "        [0.9996238 ],\n",
              "        [0.9217022 ],\n",
              "        [0.9997993 ],\n",
              "        [0.9994954 ],\n",
              "        [0.6645744 ]], dtype=float32))"
            ]
          },
          "metadata": {},
          "execution_count": 52
        }
      ]
    },
    {
      "cell_type": "code",
      "source": [
        "model_2_preds = tf.squeeze(tf.round(model_2_preds_probs))\n",
        "model_2_preds[:10]"
      ],
      "metadata": {
        "colab": {
          "base_uri": "https://localhost:8080/"
        },
        "id": "UugmetX2CGJZ",
        "outputId": "5b2305ea-1072-4b3f-a409-a0fc117df6bc"
      },
      "execution_count": 53,
      "outputs": [
        {
          "output_type": "execute_result",
          "data": {
            "text/plain": [
              "<tf.Tensor: shape=(10,), dtype=float32, numpy=array([0., 1., 1., 0., 0., 1., 1., 1., 1., 1.], dtype=float32)>"
            ]
          },
          "metadata": {},
          "execution_count": 53
        }
      ]
    },
    {
      "cell_type": "code",
      "source": [
        "model_2_results = calculate_results(y_true = val_labels, y_pred = model_2_preds)\n",
        "model_2_results"
      ],
      "metadata": {
        "colab": {
          "base_uri": "https://localhost:8080/"
        },
        "id": "AbAa11t0CZsv",
        "outputId": "a5992875-ece7-481e-8e04-a5a811422e50"
      },
      "execution_count": 54,
      "outputs": [
        {
          "output_type": "execute_result",
          "data": {
            "text/plain": [
              "{'accuracy': 75.06561679790026,\n",
              " 'precision': 0.7510077975908164,\n",
              " 'recall': 0.7506561679790026,\n",
              " 'f1': 0.7489268622514025}"
            ]
          },
          "metadata": {},
          "execution_count": 54
        }
      ]
    },
    {
      "cell_type": "code",
      "source": [
        "compare_baseline_to_new_results(baseline_results, model_2_results)"
      ],
      "metadata": {
        "colab": {
          "base_uri": "https://localhost:8080/"
        },
        "id": "mnFmU8gUCl-H",
        "outputId": "a3293a07-1aa9-4232-a67c-91ca454a0f28"
      },
      "execution_count": 55,
      "outputs": [
        {
          "output_type": "stream",
          "name": "stdout",
          "text": [
            "Baseline accuracy: 79.27, New accuracy: 75.07, Difference: -4.20\n",
            "Baseline precision: 0.81, New precision: 0.75, Difference: -0.06\n",
            "Baseline recall: 0.79, New recall: 0.75, Difference: -0.04\n",
            "Baseline f1: 0.79, New f1: 0.75, Difference: -0.04\n"
          ]
        }
      ]
    },
    {
      "cell_type": "markdown",
      "source": [
        "##Model 3: GRU"
      ],
      "metadata": {
        "id": "N6D27l-jCs-9"
      }
    },
    {
      "cell_type": "code",
      "source": [
        "tf.random.set_seed(42)\n",
        "model_3_embedding = layers.Embedding(input_dim = max_vocab_length,\n",
        "                                     output_dim = 128,\n",
        "                                     embeddings_initializer = 'uniform',\n",
        "                                     input_length = max_length,\n",
        "                                     name = 'embedding_3')\n",
        "inputs = layers.Input(shape = (1,), dtype = 'string')\n",
        "x = text_vectorizer(inputs)\n",
        "x = model_3_embedding(x)\n",
        "x = layers.GRU(64)(x)\n",
        "outputs = layers.Dense(1, activation = 'sigmoid')(x)\n",
        "model_3 = tf.keras.Model(inputs, outputs, name = 'model_3_GRU')"
      ],
      "metadata": {
        "id": "2-n49Zf9Cuxo"
      },
      "execution_count": 56,
      "outputs": []
    },
    {
      "cell_type": "code",
      "source": [
        "model_3.compile(loss = 'binary_crossentropy',\n",
        "                optimizer = tf.keras.optimizers.Adam(),\n",
        "                metrics = ['accuracy'])"
      ],
      "metadata": {
        "id": "i5MT0pxfCq2B"
      },
      "execution_count": 57,
      "outputs": []
    },
    {
      "cell_type": "code",
      "source": [
        "model_3.summary()"
      ],
      "metadata": {
        "colab": {
          "base_uri": "https://localhost:8080/"
        },
        "id": "nTSMOuf2Dhk7",
        "outputId": "a8f78b2d-5bdb-4f78-894f-57455ad083d4"
      },
      "execution_count": 58,
      "outputs": [
        {
          "output_type": "stream",
          "name": "stdout",
          "text": [
            "Model: \"model_3_GRU\"\n",
            "_________________________________________________________________\n",
            " Layer (type)                Output Shape              Param #   \n",
            "=================================================================\n",
            " input_3 (InputLayer)        [(None, 1)]               0         \n",
            "                                                                 \n",
            " text_vectorization_1 (TextV  (None, 15)               0         \n",
            " ectorization)                                                   \n",
            "                                                                 \n",
            " embedding_3 (Embedding)     (None, 15, 128)           1280000   \n",
            "                                                                 \n",
            " gru (GRU)                   (None, 64)                37248     \n",
            "                                                                 \n",
            " dense_2 (Dense)             (None, 1)                 65        \n",
            "                                                                 \n",
            "=================================================================\n",
            "Total params: 1,317,313\n",
            "Trainable params: 1,317,313\n",
            "Non-trainable params: 0\n",
            "_________________________________________________________________\n"
          ]
        }
      ]
    },
    {
      "cell_type": "code",
      "source": [
        "model_3_history = model_3.fit(train_sentences,\n",
        "                              train_labels,\n",
        "                              epochs = 5,\n",
        "                              validation_data = (val_sentences, val_labels),\n",
        "                              callbacks=[create_tensorboard_callback(SAVE_DIR, \"GRU\")])\n"
      ],
      "metadata": {
        "colab": {
          "base_uri": "https://localhost:8080/"
        },
        "id": "JapApuXCDlSj",
        "outputId": "dd61a4cf-2a82-4337-8bd4-65c73a11b6bc"
      },
      "execution_count": 59,
      "outputs": [
        {
          "output_type": "stream",
          "name": "stdout",
          "text": [
            "Saving TensorBoard log files to: model_logs/GRU/20221128-202009\n",
            "Epoch 1/5\n",
            "215/215 [==============================] - 4s 8ms/step - loss: 0.5242 - accuracy: 0.7314 - val_loss: 0.4553 - val_accuracy: 0.7769\n",
            "Epoch 2/5\n",
            "215/215 [==============================] - 1s 6ms/step - loss: 0.3195 - accuracy: 0.8694 - val_loss: 0.4937 - val_accuracy: 0.7808\n",
            "Epoch 3/5\n",
            "215/215 [==============================] - 1s 7ms/step - loss: 0.2197 - accuracy: 0.9181 - val_loss: 0.5607 - val_accuracy: 0.7743\n",
            "Epoch 4/5\n",
            "215/215 [==============================] - 1s 6ms/step - loss: 0.1599 - accuracy: 0.9441 - val_loss: 0.6220 - val_accuracy: 0.7782\n",
            "Epoch 5/5\n",
            "215/215 [==============================] - 1s 7ms/step - loss: 0.1221 - accuracy: 0.9584 - val_loss: 0.6205 - val_accuracy: 0.7677\n"
          ]
        }
      ]
    },
    {
      "cell_type": "code",
      "source": [
        "model_3_preds_probs = model_3.predict(val_sentences)\n",
        "model_3_preds_probs[:10]"
      ],
      "metadata": {
        "colab": {
          "base_uri": "https://localhost:8080/"
        },
        "id": "HU_AyrPUD0Um",
        "outputId": "1c455e1f-0741-45a7-c524-56a2f6f61361"
      },
      "execution_count": 60,
      "outputs": [
        {
          "output_type": "stream",
          "name": "stdout",
          "text": [
            "24/24 [==============================] - 0s 3ms/step\n"
          ]
        },
        {
          "output_type": "execute_result",
          "data": {
            "text/plain": [
              "array([[0.3332526 ],\n",
              "       [0.87741184],\n",
              "       [0.9980252 ],\n",
              "       [0.11561754],\n",
              "       [0.01235959],\n",
              "       [0.9925639 ],\n",
              "       [0.62142634],\n",
              "       [0.99813336],\n",
              "       [0.9982377 ],\n",
              "       [0.5018107 ]], dtype=float32)"
            ]
          },
          "metadata": {},
          "execution_count": 60
        }
      ]
    },
    {
      "cell_type": "code",
      "source": [
        "model_3_preds = tf.squeeze(tf.round(model_3_preds_probs))\n",
        "model_3_preds[:10]"
      ],
      "metadata": {
        "colab": {
          "base_uri": "https://localhost:8080/"
        },
        "id": "bmyzvjE_D6dF",
        "outputId": "69bfd218-9530-4d96-c2e4-849aa2c6605e"
      },
      "execution_count": 61,
      "outputs": [
        {
          "output_type": "execute_result",
          "data": {
            "text/plain": [
              "<tf.Tensor: shape=(10,), dtype=float32, numpy=array([0., 1., 1., 0., 0., 1., 1., 1., 1., 1.], dtype=float32)>"
            ]
          },
          "metadata": {},
          "execution_count": 61
        }
      ]
    },
    {
      "cell_type": "code",
      "source": [
        "model_3_results = calculate_results(y_true = val_labels,\n",
        "                                    y_pred = model_3_preds)\n",
        "model_3_results"
      ],
      "metadata": {
        "colab": {
          "base_uri": "https://localhost:8080/"
        },
        "id": "ybSmG11GEHBO",
        "outputId": "815a4e9d-2bd2-4cd4-efe7-12646ed381d2"
      },
      "execution_count": 62,
      "outputs": [
        {
          "output_type": "execute_result",
          "data": {
            "text/plain": [
              "{'accuracy': 76.77165354330708,\n",
              " 'precision': 0.7675450859410361,\n",
              " 'recall': 0.7677165354330708,\n",
              " 'f1': 0.7667932666650168}"
            ]
          },
          "metadata": {},
          "execution_count": 62
        }
      ]
    },
    {
      "cell_type": "code",
      "source": [
        "compare_baseline_to_new_results(baseline_results, model_3_results)"
      ],
      "metadata": {
        "colab": {
          "base_uri": "https://localhost:8080/"
        },
        "id": "FC1h6c_REO3O",
        "outputId": "b841ed12-cf55-4219-ca82-a2a09e6c57dd"
      },
      "execution_count": 63,
      "outputs": [
        {
          "output_type": "stream",
          "name": "stdout",
          "text": [
            "Baseline accuracy: 79.27, New accuracy: 76.77, Difference: -2.49\n",
            "Baseline precision: 0.81, New precision: 0.77, Difference: -0.04\n",
            "Baseline recall: 0.79, New recall: 0.77, Difference: -0.02\n",
            "Baseline f1: 0.79, New f1: 0.77, Difference: -0.02\n"
          ]
        }
      ]
    },
    {
      "cell_type": "markdown",
      "source": [
        "##Model 4: Bidirectional RNN"
      ],
      "metadata": {
        "id": "b2auua0-EajM"
      }
    },
    {
      "cell_type": "code",
      "source": [
        "tf.random.set_seed(42)\n",
        "from tensorflow.keras import layers\n",
        "model_4_embedding = layers.Embedding(input_dim = max_vocab_length,\n",
        "                                     output_dim=128,\n",
        "                                     embeddings_initializer = 'uniform',\n",
        "                                     input_length = max_length,\n",
        "                                     name = 'embedding_4')\n",
        "\n",
        "inputs = layers.Input(shape = (1,), dtype = 'string')\n",
        "x = text_vectorizer(inputs)\n",
        "x = model_4_embedding(x)\n",
        "x = layers.Bidirectional(layers.LSTM(64))(x)\n",
        "outputs = layers.Dense(1, activation = 'sigmoid')(x)\n",
        "model_4 = tf.keras.Model(inputs, outputs, name = 'model_4_Bidirectional')"
      ],
      "metadata": {
        "id": "lKr_l0vDEdNB"
      },
      "execution_count": 64,
      "outputs": []
    },
    {
      "cell_type": "code",
      "source": [
        "model_4.compile(loss = 'binary_crossentropy',\n",
        "                optimizer = tf.keras.optimizers.Adam(),\n",
        "                metrics = ['accuracy'])"
      ],
      "metadata": {
        "id": "RX-LaCIxCdQj"
      },
      "execution_count": 65,
      "outputs": []
    },
    {
      "cell_type": "code",
      "source": [
        "model_4.summary()"
      ],
      "metadata": {
        "colab": {
          "base_uri": "https://localhost:8080/"
        },
        "id": "1f8qAiolCl7_",
        "outputId": "069e528b-f5d6-4284-c851-0649f2499641"
      },
      "execution_count": 66,
      "outputs": [
        {
          "output_type": "stream",
          "name": "stdout",
          "text": [
            "Model: \"model_4_Bidirectional\"\n",
            "_________________________________________________________________\n",
            " Layer (type)                Output Shape              Param #   \n",
            "=================================================================\n",
            " input_4 (InputLayer)        [(None, 1)]               0         \n",
            "                                                                 \n",
            " text_vectorization_1 (TextV  (None, 15)               0         \n",
            " ectorization)                                                   \n",
            "                                                                 \n",
            " embedding_4 (Embedding)     (None, 15, 128)           1280000   \n",
            "                                                                 \n",
            " bidirectional (Bidirectiona  (None, 128)              98816     \n",
            " l)                                                              \n",
            "                                                                 \n",
            " dense_3 (Dense)             (None, 1)                 129       \n",
            "                                                                 \n",
            "=================================================================\n",
            "Total params: 1,378,945\n",
            "Trainable params: 1,378,945\n",
            "Non-trainable params: 0\n",
            "_________________________________________________________________\n"
          ]
        }
      ]
    },
    {
      "cell_type": "code",
      "source": [
        "model_4_history = model_4.fit(train_sentences,\n",
        "                              train_labels,\n",
        "                              epochs = 5,\n",
        "                              validation_data = (val_sentences, val_labels),\n",
        "                              callbacks=[create_tensorboard_callback(SAVE_DIR, \"bidirectional_RNN\")])\n"
      ],
      "metadata": {
        "colab": {
          "base_uri": "https://localhost:8080/"
        },
        "id": "fxh6xbq7Cr1x",
        "outputId": "78c44ea5-9fa6-40ce-87bc-74ff38a9bb7c"
      },
      "execution_count": 67,
      "outputs": [
        {
          "output_type": "stream",
          "name": "stdout",
          "text": [
            "Saving TensorBoard log files to: model_logs/bidirectional_RNN/20221128-202022\n",
            "Epoch 1/5\n",
            "215/215 [==============================] - 6s 15ms/step - loss: 0.5093 - accuracy: 0.7481 - val_loss: 0.4606 - val_accuracy: 0.7795\n",
            "Epoch 2/5\n",
            "215/215 [==============================] - 2s 10ms/step - loss: 0.3135 - accuracy: 0.8708 - val_loss: 0.5144 - val_accuracy: 0.7690\n",
            "Epoch 3/5\n",
            "215/215 [==============================] - 2s 9ms/step - loss: 0.2150 - accuracy: 0.9178 - val_loss: 0.5626 - val_accuracy: 0.7677\n",
            "Epoch 4/5\n",
            "215/215 [==============================] - 2s 9ms/step - loss: 0.1523 - accuracy: 0.9469 - val_loss: 0.6365 - val_accuracy: 0.7769\n",
            "Epoch 5/5\n",
            "215/215 [==============================] - 2s 9ms/step - loss: 0.1083 - accuracy: 0.9639 - val_loss: 0.6509 - val_accuracy: 0.7664\n"
          ]
        }
      ]
    },
    {
      "cell_type": "code",
      "source": [],
      "metadata": {
        "id": "grmeToIdC4Rk"
      },
      "execution_count": 67,
      "outputs": []
    },
    {
      "cell_type": "code",
      "source": [
        "model_4_preds_probs = model_4.predict(val_sentences)\n",
        "model_4_preds_probs[:10]"
      ],
      "metadata": {
        "colab": {
          "base_uri": "https://localhost:8080/"
        },
        "id": "3ESlWm4kC6_t",
        "outputId": "552e9a67-f788-4952-c0b1-c2e8b96f0e84"
      },
      "execution_count": 68,
      "outputs": [
        {
          "output_type": "stream",
          "name": "stdout",
          "text": [
            "24/24 [==============================] - 1s 4ms/step\n"
          ]
        },
        {
          "output_type": "execute_result",
          "data": {
            "text/plain": [
              "array([[0.04000052],\n",
              "       [0.8279289 ],\n",
              "       [0.99842227],\n",
              "       [0.1353109 ],\n",
              "       [0.00311337],\n",
              "       [0.99220747],\n",
              "       [0.9552836 ],\n",
              "       [0.99945647],\n",
              "       [0.99898285],\n",
              "       [0.28141657]], dtype=float32)"
            ]
          },
          "metadata": {},
          "execution_count": 68
        }
      ]
    },
    {
      "cell_type": "code",
      "source": [
        "model_4_preds = tf.squeeze(tf.round(model_4_preds_probs))\n",
        "model_4_preds[:10]"
      ],
      "metadata": {
        "colab": {
          "base_uri": "https://localhost:8080/"
        },
        "id": "3t3gQX5dDB5A",
        "outputId": "1c3549af-6048-4026-f2c2-d524d368b245"
      },
      "execution_count": 69,
      "outputs": [
        {
          "output_type": "execute_result",
          "data": {
            "text/plain": [
              "<tf.Tensor: shape=(10,), dtype=float32, numpy=array([0., 1., 1., 0., 0., 1., 1., 1., 1., 0.], dtype=float32)>"
            ]
          },
          "metadata": {},
          "execution_count": 69
        }
      ]
    },
    {
      "cell_type": "code",
      "source": [
        "model_4_results = calculate_results(val_labels, model_4_preds)\n",
        "model_4_results"
      ],
      "metadata": {
        "colab": {
          "base_uri": "https://localhost:8080/"
        },
        "id": "2Th7MbrSDIzl",
        "outputId": "12a48ec5-c825-49a4-b336-d5bed3b35df4"
      },
      "execution_count": 70,
      "outputs": [
        {
          "output_type": "execute_result",
          "data": {
            "text/plain": [
              "{'accuracy': 76.64041994750657,\n",
              " 'precision': 0.7665895370389821,\n",
              " 'recall': 0.7664041994750657,\n",
              " 'f1': 0.7651213533864446}"
            ]
          },
          "metadata": {},
          "execution_count": 70
        }
      ]
    },
    {
      "cell_type": "code",
      "source": [
        "compare_baseline_to_new_results(baseline_results, model_4_results)"
      ],
      "metadata": {
        "colab": {
          "base_uri": "https://localhost:8080/"
        },
        "id": "AJZJTTz3DQB3",
        "outputId": "04c9a4fe-5b72-4037-c0cb-a4fa7537b8a9"
      },
      "execution_count": 71,
      "outputs": [
        {
          "output_type": "stream",
          "name": "stdout",
          "text": [
            "Baseline accuracy: 79.27, New accuracy: 76.64, Difference: -2.62\n",
            "Baseline precision: 0.81, New precision: 0.77, Difference: -0.04\n",
            "Baseline recall: 0.79, New recall: 0.77, Difference: -0.03\n",
            "Baseline f1: 0.79, New f1: 0.77, Difference: -0.02\n"
          ]
        }
      ]
    },
    {
      "cell_type": "markdown",
      "source": [
        "##Convolutional neural networks for text"
      ],
      "metadata": {
        "id": "kxcj_MP7DXjp"
      }
    },
    {
      "cell_type": "code",
      "source": [
        "embedding_test = embedding(text_vectorizer(['this is a test sentence']))\n",
        "conv_1d = layers.Conv1D(filters=32, kernel_size=5, activation = 'relu')\n",
        "conv_1d_output = conv_1d(embedding_test)\n",
        "max_pool = layers.GlobalMaxPool1D()\n",
        "max_pool_output = max_pool(conv_1d_output)\n",
        "embedding_test.shape, conv_1d_output.shape, max_pool_output.shape"
      ],
      "metadata": {
        "colab": {
          "base_uri": "https://localhost:8080/"
        },
        "id": "8OB3BvzDDbM_",
        "outputId": "60a2483b-7d7c-4998-940d-7644f2c42568"
      },
      "execution_count": 72,
      "outputs": [
        {
          "output_type": "execute_result",
          "data": {
            "text/plain": [
              "(TensorShape([1, 15, 128]), TensorShape([1, 11, 32]), TensorShape([1, 32]))"
            ]
          },
          "metadata": {},
          "execution_count": 72
        }
      ]
    },
    {
      "cell_type": "code",
      "source": [
        "tf.random.set_seed(42)\n",
        "model_5_embedding = layers.Embedding(input_dim = max_vocab_length,\n",
        "                                     output_dim = 128,\n",
        "                                     embeddings_initializer = 'uniform',\n",
        "                                     input_length = max_length,\n",
        "                                     name = 'embedding_5')\n",
        "\n",
        "#Create 1-dimensional convolutional layer to model sequences\n",
        "inputs = layers.Input(shape = (1,), dtype = 'string')\n",
        "x = text_vectorizer(inputs)\n",
        "x = model_5_embedding(x)\n",
        "x = layers.Conv1D(filters = 32, kernel_size = 5, activation = 'relu')(x)\n",
        "x = layers.GlobalMaxPool1D()(x)\n",
        "outputs = layers.Dense(1, activation = 'sigmoid')(x)\n",
        "model_5 = tf.keras.Model(inputs, outputs, name = 'model_5_Conv1D')\n",
        "\n",
        "model_5.compile(loss = 'binary_crossentropy',\n",
        "                optimizer = tf.keras.optimizers.Adam(),\n",
        "                metrics = ['accuracy'])\n",
        "model_5.summary()"
      ],
      "metadata": {
        "colab": {
          "base_uri": "https://localhost:8080/"
        },
        "id": "hbOU9p8L56te",
        "outputId": "6e464db7-5921-4982-a43d-5298d8253494"
      },
      "execution_count": 74,
      "outputs": [
        {
          "output_type": "stream",
          "name": "stdout",
          "text": [
            "Model: \"model_5_Conv1D\"\n",
            "_________________________________________________________________\n",
            " Layer (type)                Output Shape              Param #   \n",
            "=================================================================\n",
            " input_6 (InputLayer)        [(None, 1)]               0         \n",
            "                                                                 \n",
            " text_vectorization_1 (TextV  (None, 15)               0         \n",
            " ectorization)                                                   \n",
            "                                                                 \n",
            " embedding_5 (Embedding)     (None, 15, 128)           1280000   \n",
            "                                                                 \n",
            " conv1d_2 (Conv1D)           (None, 11, 32)            20512     \n",
            "                                                                 \n",
            " global_max_pooling1d_1 (Glo  (None, 32)               0         \n",
            " balMaxPooling1D)                                                \n",
            "                                                                 \n",
            " dense_4 (Dense)             (None, 1)                 33        \n",
            "                                                                 \n",
            "=================================================================\n",
            "Total params: 1,300,545\n",
            "Trainable params: 1,300,545\n",
            "Non-trainable params: 0\n",
            "_________________________________________________________________\n"
          ]
        }
      ]
    },
    {
      "cell_type": "code",
      "source": [
        "model_5_history = model_5.fit(train_sentences,\n",
        "                              train_labels,\n",
        "                              epochs = 5,\n",
        "                              validation_data = (val_sentences, val_labels),\n",
        "                              callbacks = [create_tensorboard_callback(SAVE_DIR,\n",
        "                                                                       'Conv1D')])"
      ],
      "metadata": {
        "colab": {
          "base_uri": "https://localhost:8080/"
        },
        "id": "MxLFUGi17KJK",
        "outputId": "8e6c3dc5-4660-4105-c5bd-b99a65a9d38a"
      },
      "execution_count": 75,
      "outputs": [
        {
          "output_type": "stream",
          "name": "stdout",
          "text": [
            "Saving TensorBoard log files to: model_logs/Conv1D/20221128-202840\n",
            "Epoch 1/5\n",
            "215/215 [==============================] - 3s 6ms/step - loss: 0.5652 - accuracy: 0.7141 - val_loss: 0.4733 - val_accuracy: 0.7795\n",
            "Epoch 2/5\n",
            "215/215 [==============================] - 1s 5ms/step - loss: 0.3380 - accuracy: 0.8615 - val_loss: 0.4758 - val_accuracy: 0.7730\n",
            "Epoch 3/5\n",
            "215/215 [==============================] - 1s 5ms/step - loss: 0.2070 - accuracy: 0.9234 - val_loss: 0.5457 - val_accuracy: 0.7730\n",
            "Epoch 4/5\n",
            "215/215 [==============================] - 1s 5ms/step - loss: 0.1314 - accuracy: 0.9578 - val_loss: 0.6163 - val_accuracy: 0.7730\n",
            "Epoch 5/5\n",
            "215/215 [==============================] - 1s 5ms/step - loss: 0.0933 - accuracy: 0.9691 - val_loss: 0.6779 - val_accuracy: 0.7782\n"
          ]
        }
      ]
    },
    {
      "cell_type": "code",
      "source": [
        "model_5_pred_probs = model_5.predict(val_sentences)\n",
        "model_5_pred_probs[:10]"
      ],
      "metadata": {
        "colab": {
          "base_uri": "https://localhost:8080/"
        },
        "id": "dGIYSXcu7dO1",
        "outputId": "84758bc7-dff4-4b4a-ab6f-39d3578e2fe4"
      },
      "execution_count": 76,
      "outputs": [
        {
          "output_type": "stream",
          "name": "stdout",
          "text": [
            "24/24 [==============================] - 0s 4ms/step\n"
          ]
        },
        {
          "output_type": "execute_result",
          "data": {
            "text/plain": [
              "array([[0.22534485],\n",
              "       [0.7534112 ],\n",
              "       [0.9995602 ],\n",
              "       [0.05562789],\n",
              "       [0.01449848],\n",
              "       [0.9858518 ],\n",
              "       [0.98418933],\n",
              "       [0.99758804],\n",
              "       [0.99862623],\n",
              "       [0.26914385]], dtype=float32)"
            ]
          },
          "metadata": {},
          "execution_count": 76
        }
      ]
    },
    {
      "cell_type": "code",
      "source": [
        "model_5_pred = tf.squeeze(tf.round(model_5_pred_probs))\n",
        "model_5_pred[:10]"
      ],
      "metadata": {
        "colab": {
          "base_uri": "https://localhost:8080/"
        },
        "id": "sNes96aA7k8M",
        "outputId": "e82c2467-b393-4f97-a6f7-91a5c9ee54ab"
      },
      "execution_count": 77,
      "outputs": [
        {
          "output_type": "execute_result",
          "data": {
            "text/plain": [
              "<tf.Tensor: shape=(10,), dtype=float32, numpy=array([0., 1., 1., 0., 0., 1., 1., 1., 1., 0.], dtype=float32)>"
            ]
          },
          "metadata": {},
          "execution_count": 77
        }
      ]
    },
    {
      "cell_type": "code",
      "source": [
        "model_5_results = calculate_results(y_true = val_labels, y_pred = model_5_pred)\n",
        "model_5_results"
      ],
      "metadata": {
        "colab": {
          "base_uri": "https://localhost:8080/"
        },
        "id": "AmRkRIjx7qXP",
        "outputId": "7f5319d8-d8cb-49b7-80f7-7f5b507d0225"
      },
      "execution_count": 78,
      "outputs": [
        {
          "output_type": "execute_result",
          "data": {
            "text/plain": [
              "{'accuracy': 77.82152230971128,\n",
              " 'precision': 0.7807522349051432,\n",
              " 'recall': 0.7782152230971129,\n",
              " 'f1': 0.7758810170952618}"
            ]
          },
          "metadata": {},
          "execution_count": 78
        }
      ]
    },
    {
      "cell_type": "code",
      "source": [
        "compare_baseline_to_new_results(baseline_results, model_5_results)"
      ],
      "metadata": {
        "colab": {
          "base_uri": "https://localhost:8080/"
        },
        "id": "h7QE8Bjb71YZ",
        "outputId": "b0f54e5d-aedb-4204-a4fb-7376e754bff2"
      },
      "execution_count": 79,
      "outputs": [
        {
          "output_type": "stream",
          "name": "stdout",
          "text": [
            "Baseline accuracy: 79.27, New accuracy: 77.82, Difference: -1.44\n",
            "Baseline precision: 0.81, New precision: 0.78, Difference: -0.03\n",
            "Baseline recall: 0.79, New recall: 0.78, Difference: -0.01\n",
            "Baseline f1: 0.79, New f1: 0.78, Difference: -0.01\n"
          ]
        }
      ]
    },
    {
      "cell_type": "markdown",
      "source": [
        "## Using pretrained embeddings (transfer learning for NLP)"
      ],
      "metadata": {
        "id": "06uZiLKz7-m0"
      }
    },
    {
      "cell_type": "markdown",
      "source": [
        "We're going to use the Universal Sentence Enconder."
      ],
      "metadata": {
        "id": "cU0TMdoz8hLE"
      }
    },
    {
      "cell_type": "code",
      "source": [
        "import tensorflow_hub as hub\n",
        "embed = hub.load(\"https://tfhub.dev/google/universal-sentence-encoder/4\")\n",
        "embed_samples = embed([sample_sentence,\n",
        "                       \"When you call the universal sentence encoder on a sentence, it turns it into numbers.\"])\n",
        "embed_samples[0][:50]"
      ],
      "metadata": {
        "colab": {
          "base_uri": "https://localhost:8080/"
        },
        "id": "hERndly98CZ-",
        "outputId": "ce87131c-a7a0-4c33-80d6-ff00ad952853"
      },
      "execution_count": 84,
      "outputs": [
        {
          "output_type": "execute_result",
          "data": {
            "text/plain": [
              "<tf.Tensor: shape=(50,), dtype=float32, numpy=\n",
              "array([-0.01157028,  0.0248591 ,  0.02878048, -0.012715  ,  0.03971538,\n",
              "        0.0882776 ,  0.02680984,  0.05589836, -0.0106873 , -0.00597291,\n",
              "        0.00639323, -0.01819518,  0.00030813,  0.09105888,  0.05874644,\n",
              "       -0.03180628,  0.01512474, -0.05162929,  0.00991367, -0.06865347,\n",
              "       -0.04209306,  0.02678981,  0.03011006,  0.00321069, -0.00337973,\n",
              "       -0.04787357,  0.0226672 , -0.00985925, -0.04063613, -0.01292092,\n",
              "       -0.04666384,  0.05630299, -0.03949255,  0.00517686,  0.02495829,\n",
              "       -0.0701444 ,  0.02871508,  0.04947684, -0.00633979, -0.08960192,\n",
              "        0.02807118, -0.00808364, -0.01360602,  0.0599865 , -0.10361787,\n",
              "       -0.05195374,  0.00232954, -0.02332531, -0.03758105,  0.03327728],\n",
              "      dtype=float32)>"
            ]
          },
          "metadata": {},
          "execution_count": 84
        }
      ]
    },
    {
      "cell_type": "code",
      "source": [
        "embed_samples[0].shape"
      ],
      "metadata": {
        "colab": {
          "base_uri": "https://localhost:8080/"
        },
        "id": "1Yae7eG99uHD",
        "outputId": "f60bba0a-85a0-4380-9aaf-35ade7b06e49"
      },
      "execution_count": 85,
      "outputs": [
        {
          "output_type": "execute_result",
          "data": {
            "text/plain": [
              "TensorShape([512])"
            ]
          },
          "metadata": {},
          "execution_count": 85
        }
      ]
    },
    {
      "cell_type": "code",
      "source": [],
      "metadata": {
        "id": "Vy17Nrfl78cb"
      },
      "execution_count": null,
      "outputs": []
    }
  ]
}
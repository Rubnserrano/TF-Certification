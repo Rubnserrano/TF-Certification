{
  "nbformat": 4,
  "nbformat_minor": 0,
  "metadata": {
    "colab": {
      "provenance": [],
      "authorship_tag": "ABX9TyOF+vWcORrzW6zWvz7GPlrS",
      "include_colab_link": true
    },
    "kernelspec": {
      "name": "python3",
      "display_name": "Python 3"
    },
    "language_info": {
      "name": "python"
    }
  },
  "cells": [
    {
      "cell_type": "markdown",
      "metadata": {
        "id": "view-in-github",
        "colab_type": "text"
      },
      "source": [
        "<a href=\"https://colab.research.google.com/github/Rubnserrano/TF-Certification/blob/main/01_curso_tensorflow_certificate.ipynb\" target=\"_parent\"><img src=\"https://colab.research.google.com/assets/colab-badge.svg\" alt=\"Open In Colab\"/></a>"
      ]
    },
    {
      "cell_type": "code",
      "execution_count": 2,
      "metadata": {
        "id": "jMGwWXUcyeIA"
      },
      "outputs": [],
      "source": [
        "import tensorflow as tf\n",
        "import numpy as np\n",
        "import matplotlib.pyplot as plt"
      ]
    },
    {
      "cell_type": "code",
      "source": [
        "X = np.array([-2.0, 4.0, 9.0, 5.0, 10.0, 7.0, -6.0, 2.0])\n",
        "y = np.array([4.0, 9.0, 17.0, 10.0, 21.0, 13.0, 1.0, 6.0])\n",
        "\n",
        "plt.scatter(X,y)"
      ],
      "metadata": {
        "colab": {
          "base_uri": "https://localhost:8080/",
          "height": 283
        },
        "id": "PnkxfcjWCTfz",
        "outputId": "975c3614-dfa9-425c-b337-58015285960d"
      },
      "execution_count": 8,
      "outputs": [
        {
          "output_type": "execute_result",
          "data": {
            "text/plain": [
              "<matplotlib.collections.PathCollection at 0x7fdd92520e90>"
            ]
          },
          "metadata": {},
          "execution_count": 8
        },
        {
          "output_type": "display_data",
          "data": {
            "text/plain": [
              "<Figure size 432x288 with 1 Axes>"
            ],
            "image/png": "[encoded data removed]"
          },
          "metadata": {
            "needs_background": "light"
          }
        }
      ]
    },
    {
      "cell_type": "code",
      "source": [
        "X = tf.constant([-2.0, 4.0, 9.0, 5.0, 10.0, 7.0, -6.0, 2.0])\n",
        "y = tf.constant([4.0, 9.0, 17.0, 10.0, 21.0, 13.0, 1.0, 6.0])\n",
        "\n",
        "plt.scatter(X,y)"
      ],
      "metadata": {
        "colab": {
          "base_uri": "https://localhost:8080/",
          "height": 283
        },
        "id": "x9gXCIItDhRr",
        "outputId": "192a2899-1e81-4cdd-ed32-33807bfb08a1"
      },
      "execution_count": 9,
      "outputs": [
        {
          "output_type": "execute_result",
          "data": {
            "text/plain": [
              "<matplotlib.collections.PathCollection at 0x7fdd924f1ed0>"
            ]
          },
          "metadata": {},
          "execution_count": 9
        },
        {
          "output_type": "display_data",
          "data": {
            "text/plain": [
              "<Figure size 432x288 with 1 Axes>"
            ],
            "image/png": "[encoded data removed]"
          },
          "metadata": {
            "needs_background": "light"
          }
        }
      ]
    },
    {
      "cell_type": "code",
      "source": [
        "X[2]"
      ],
      "metadata": {
        "colab": {
          "base_uri": "https://localhost:8080/"
        },
        "id": "7YRAEKGfD0JN",
        "outputId": "d61caa64-f64f-4110-d0ca-e71917f7ff01"
      },
      "execution_count": 11,
      "outputs": [
        {
          "output_type": "execute_result",
          "data": {
            "text/plain": [
              "<tf.Tensor: shape=(), dtype=float32, numpy=9.0>"
            ]
          },
          "metadata": {},
          "execution_count": 11
        }
      ]
    },
    {
      "cell_type": "markdown",
      "source": [
        "#Steps in modelling with tf\n",
        "1.- Creating a simply model with Keras.\n",
        "\n",
        "2.- Compiling a model. Define metrics, loss function and optimizer\n",
        "\n",
        "3.- Fitting a model"
      ],
      "metadata": {
        "id": "M3v0B4MlEWpr"
      }
    },
    {
      "cell_type": "code",
      "source": [
        "tf.random.set_seed(42)\n",
        "\n",
        "model = tf.keras.Sequential([\n",
        "    tf.keras.layers.Dense(1)\n",
        "])\n",
        "\n",
        "model.compile(loss = tf.keras.losses.mae,\n",
        "              optimizer = tf.keras.optimizers.SGD(),\n",
        "              metrics = [\"mae\"])\n",
        "\n",
        "#Note: If you're using TensorFlow 2.7.0+, the fit() function no longer upscales input data to go from (batch_size, ) to (batch_size, 1). \n",
        "#To fix this, you'll need to expand the dimension of input data using tf.expand_dims(input_data, axis=-1).\n",
        "model.fit(tf.expand_dims(X, axis=-1), y, epochs=5)"
      ],
      "metadata": {
        "colab": {
          "base_uri": "https://localhost:8080/"
        },
        "id": "dY4BSDPPE4UI",
        "outputId": "e11a03ef-ad93-46c6-e45a-228f4a1f0501"
      },
      "execution_count": 14,
      "outputs": [
        {
          "output_type": "stream",
          "name": "stdout",
          "text": [
            "Epoch 1/5\n",
            "1/1 [==============================] - 1s 825ms/step - loss: 8.0585 - mae: 8.0585\n",
            "Epoch 2/5\n",
            "1/1 [==============================] - 0s 15ms/step - loss: 7.9171 - mae: 7.9171\n",
            "Epoch 3/5\n",
            "1/1 [==============================] - 0s 18ms/step - loss: 7.7757 - mae: 7.7757\n",
            "Epoch 4/5\n",
            "1/1 [==============================] - 0s 23ms/step - loss: 7.6343 - mae: 7.6343\n",
            "Epoch 5/5\n",
            "1/1 [==============================] - 0s 18ms/step - loss: 7.4929 - mae: 7.4929\n"
          ]
        },
        {
          "output_type": "execute_result",
          "data": {
            "text/plain": [
              "<keras.callbacks.History at 0x7fdd8aaf8690>"
            ]
          },
          "metadata": {},
          "execution_count": 14
        }
      ]
    },
    {
      "cell_type": "code",
      "source": [
        "new_X = 15.0\n",
        "new_y = model.predict([new_point])\n",
        "plt.scatter(X,y)\n",
        "plt.scatter(new_X, new_y)\n",
        "plt\n",
        "\n",
        "#Not very accurate"
      ],
      "metadata": {
        "colab": {
          "base_uri": "https://localhost:8080/",
          "height": 302
        },
        "id": "TlAMm6zaFznr",
        "outputId": "12a2b838-c26e-40fa-d40c-2d2d45b17a12"
      },
      "execution_count": 19,
      "outputs": [
        {
          "output_type": "stream",
          "name": "stdout",
          "text": [
            "1/1 [==============================] - 0s 49ms/step\n"
          ]
        },
        {
          "output_type": "execute_result",
          "data": {
            "text/plain": [
              "<module 'matplotlib.pyplot' from '/usr/local/lib/python3.7/dist-packages/matplotlib/pyplot.py'>"
            ]
          },
          "metadata": {},
          "execution_count": 19
        },
        {
          "output_type": "display_data",
          "data": {
            "text/plain": [
              "<Figure size 432x288 with 1 Axes>"
            ],
            "image/png": "[encoded data removed]"
          },
          "metadata": {
            "needs_background": "light"
          }
        }
      ]
    },
    {
      "cell_type": "markdown",
      "source": [
        "# How we could improve a model?\n",
        "1.- Creating a model -> Add more layers, increase number of neurons in each layer, change the activation function.\n",
        "\n",
        "2.- Compiling a model -> Changing the learning rate, change optimization function.\n",
        "\n",
        "3.- Fitting a model -> Increase number of epochs, or on more data."
      ],
      "metadata": {
        "id": "-KKL_ScNG6Xc"
      }
    },
    {
      "cell_type": "code",
      "source": [
        "tf.random.set_seed(42)\n",
        "\n",
        "model = tf.keras.Sequential([\n",
        "    tf.keras.layers.Dense(1)\n",
        "])\n",
        "\n",
        "model.compile(loss = tf.keras.losses.mae,\n",
        "              optimizer = tf.keras.optimizers.SGD(),\n",
        "              metrics = [\"mae\"])\n",
        "model.fit(tf.expand_dims(X, axis=-1), y, epochs=100)"
      ],
      "metadata": {
        "colab": {
          "base_uri": "https://localhost:8080/"
        },
        "id": "BBmqFNs2GzI7",
        "outputId": "38e1aa9e-fc00-48e7-f444-c484009cd800"
      },
      "execution_count": 21,
      "outputs": [
        {
          "output_type": "stream",
          "name": "stdout",
          "text": [
            "Epoch 1/100\n",
            "1/1 [==============================] - 1s 524ms/step - loss: 8.0585 - mae: 8.0585\n",
            "Epoch 2/100\n",
            "1/1 [==============================] - 0s 16ms/step - loss: 7.9171 - mae: 7.9171\n",
            "Epoch 3/100\n",
            "1/1 [==============================] - 0s 40ms/step - loss: 7.7757 - mae: 7.7757\n",
            "Epoch 4/100\n",
            "1/1 [==============================] - 0s 21ms/step - loss: 7.6343 - mae: 7.6343\n",
            "Epoch 5/100\n",
            "1/1 [==============================] - 0s 12ms/step - loss: 7.4929 - mae: 7.4929\n",
            "Epoch 6/100\n",
            "1/1 [==============================] - 0s 12ms/step - loss: 7.3515 - mae: 7.3515\n",
            "Epoch 7/100\n",
            "1/1 [==============================] - 0s 15ms/step - loss: 7.2101 - mae: 7.2101\n",
            "Epoch 8/100\n",
            "1/1 [==============================] - 0s 14ms/step - loss: 7.0687 - mae: 7.0687\n",
            "Epoch 9/100\n",
            "1/1 [==============================] - 0s 13ms/step - loss: 6.9273 - mae: 6.9273\n",
            "Epoch 10/100\n",
            "1/1 [==============================] - 0s 18ms/step - loss: 6.7859 - mae: 6.7859\n",
            "Epoch 11/100\n",
            "1/1 [==============================] - 0s 10ms/step - loss: 6.6445 - mae: 6.6445\n",
            "Epoch 12/100\n",
            "1/1 [==============================] - 0s 10ms/step - loss: 6.5031 - mae: 6.5031\n",
            "Epoch 13/100\n",
            "1/1 [==============================] - 0s 8ms/step - loss: 6.3617 - mae: 6.3617\n",
            "Epoch 14/100\n",
            "1/1 [==============================] - 0s 9ms/step - loss: 6.2203 - mae: 6.2203\n",
            "Epoch 15/100\n",
            "1/1 [==============================] - 0s 9ms/step - loss: 6.0788 - mae: 6.0788\n",
            "Epoch 16/100\n",
            "1/1 [==============================] - 0s 9ms/step - loss: 5.9374 - mae: 5.9374\n",
            "Epoch 17/100\n",
            "1/1 [==============================] - 0s 9ms/step - loss: 5.7960 - mae: 5.7960\n",
            "Epoch 18/100\n",
            "1/1 [==============================] - 0s 10ms/step - loss: 5.6546 - mae: 5.6546\n",
            "Epoch 19/100\n",
            "1/1 [==============================] - 0s 8ms/step - loss: 5.5132 - mae: 5.5132\n",
            "Epoch 20/100\n",
            "1/1 [==============================] - 0s 8ms/step - loss: 5.3718 - mae: 5.3718\n",
            "Epoch 21/100\n",
            "1/1 [==============================] - 0s 8ms/step - loss: 5.2304 - mae: 5.2304\n",
            "Epoch 22/100\n",
            "1/1 [==============================] - 0s 8ms/step - loss: 5.0890 - mae: 5.0890\n",
            "Epoch 23/100\n",
            "1/1 [==============================] - 0s 10ms/step - loss: 4.9476 - mae: 4.9476\n",
            "Epoch 24/100\n",
            "1/1 [==============================] - 0s 8ms/step - loss: 4.8062 - mae: 4.8062\n",
            "Epoch 25/100\n",
            "1/1 [==============================] - 0s 12ms/step - loss: 4.6648 - mae: 4.6648\n",
            "Epoch 26/100\n",
            "1/1 [==============================] - 0s 12ms/step - loss: 4.5234 - mae: 4.5234\n",
            "Epoch 27/100\n",
            "1/1 [==============================] - 0s 8ms/step - loss: 4.3820 - mae: 4.3820\n",
            "Epoch 28/100\n",
            "1/1 [==============================] - 0s 6ms/step - loss: 4.2406 - mae: 4.2406\n",
            "Epoch 29/100\n",
            "1/1 [==============================] - 0s 8ms/step - loss: 4.0992 - mae: 4.0992\n",
            "Epoch 30/100\n",
            "1/1 [==============================] - 0s 7ms/step - loss: 3.9578 - mae: 3.9578\n",
            "Epoch 31/100\n",
            "1/1 [==============================] - 0s 7ms/step - loss: 3.8163 - mae: 3.8163\n",
            "Epoch 32/100\n",
            "1/1 [==============================] - 0s 7ms/step - loss: 3.6749 - mae: 3.6749\n",
            "Epoch 33/100\n",
            "1/1 [==============================] - 0s 7ms/step - loss: 3.5335 - mae: 3.5335\n",
            "Epoch 34/100\n",
            "1/1 [==============================] - 0s 7ms/step - loss: 3.3921 - mae: 3.3921\n",
            "Epoch 35/100\n",
            "1/1 [==============================] - 0s 6ms/step - loss: 3.2507 - mae: 3.2507\n",
            "Epoch 36/100\n",
            "1/1 [==============================] - 0s 6ms/step - loss: 3.1647 - mae: 3.1647\n",
            "Epoch 37/100\n",
            "1/1 [==============================] - 0s 9ms/step - loss: 3.1428 - mae: 3.1428\n",
            "Epoch 38/100\n",
            "1/1 [==============================] - 0s 7ms/step - loss: 3.1389 - mae: 3.1389\n",
            "Epoch 39/100\n",
            "1/1 [==============================] - 0s 6ms/step - loss: 3.1350 - mae: 3.1350\n",
            "Epoch 40/100\n",
            "1/1 [==============================] - 0s 6ms/step - loss: 3.1338 - mae: 3.1338\n",
            "Epoch 41/100\n",
            "1/1 [==============================] - 0s 6ms/step - loss: 3.1344 - mae: 3.1344\n",
            "Epoch 42/100\n",
            "1/1 [==============================] - 0s 17ms/step - loss: 3.1305 - mae: 3.1305\n",
            "Epoch 43/100\n",
            "1/1 [==============================] - 0s 11ms/step - loss: 3.1266 - mae: 3.1266\n",
            "Epoch 44/100\n",
            "1/1 [==============================] - 0s 9ms/step - loss: 3.1227 - mae: 3.1227\n",
            "Epoch 45/100\n",
            "1/1 [==============================] - 0s 7ms/step - loss: 3.1188 - mae: 3.1188\n",
            "Epoch 46/100\n",
            "1/1 [==============================] - 0s 6ms/step - loss: 3.1149 - mae: 3.1149\n",
            "Epoch 47/100\n",
            "1/1 [==============================] - 0s 7ms/step - loss: 3.1127 - mae: 3.1127\n",
            "Epoch 48/100\n",
            "1/1 [==============================] - 0s 6ms/step - loss: 3.1142 - mae: 3.1142\n",
            "Epoch 49/100\n",
            "1/1 [==============================] - 0s 7ms/step - loss: 3.1103 - mae: 3.1103\n",
            "Epoch 50/100\n",
            "1/1 [==============================] - 0s 10ms/step - loss: 3.1064 - mae: 3.1064\n",
            "Epoch 51/100\n",
            "1/1 [==============================] - 0s 6ms/step - loss: 3.1025 - mae: 3.1025\n",
            "Epoch 52/100\n",
            "1/1 [==============================] - 0s 7ms/step - loss: 3.0986 - mae: 3.0986\n",
            "Epoch 53/100\n",
            "1/1 [==============================] - 0s 7ms/step - loss: 3.0947 - mae: 3.0947\n",
            "Epoch 54/100\n",
            "1/1 [==============================] - 0s 7ms/step - loss: 3.0916 - mae: 3.0916\n",
            "Epoch 55/100\n",
            "1/1 [==============================] - 0s 10ms/step - loss: 3.0941 - mae: 3.0941\n",
            "Epoch 56/100\n",
            "1/1 [==============================] - 0s 6ms/step - loss: 3.0902 - mae: 3.0902\n",
            "Epoch 57/100\n",
            "1/1 [==============================] - 0s 6ms/step - loss: 3.0863 - mae: 3.0863\n",
            "Epoch 58/100\n",
            "1/1 [==============================] - 0s 6ms/step - loss: 3.0824 - mae: 3.0824\n",
            "Epoch 59/100\n",
            "1/1 [==============================] - 0s 6ms/step - loss: 3.0785 - mae: 3.0785\n",
            "Epoch 60/100\n",
            "1/1 [==============================] - 0s 8ms/step - loss: 3.0746 - mae: 3.0746\n",
            "Epoch 61/100\n",
            "1/1 [==============================] - 0s 7ms/step - loss: 3.0706 - mae: 3.0706\n",
            "Epoch 62/100\n",
            "1/1 [==============================] - 0s 8ms/step - loss: 3.0738 - mae: 3.0738\n",
            "Epoch 63/100\n",
            "1/1 [==============================] - 0s 10ms/step - loss: 3.0700 - mae: 3.0700\n",
            "Epoch 64/100\n",
            "1/1 [==============================] - 0s 13ms/step - loss: 3.0661 - mae: 3.0661\n",
            "Epoch 65/100\n",
            "1/1 [==============================] - 0s 12ms/step - loss: 3.0622 - mae: 3.0622\n",
            "Epoch 66/100\n",
            "1/1 [==============================] - 0s 10ms/step - loss: 3.0583 - mae: 3.0583\n",
            "Epoch 67/100\n",
            "1/1 [==============================] - 0s 13ms/step - loss: 3.0544 - mae: 3.0544\n",
            "Epoch 68/100\n",
            "1/1 [==============================] - 0s 12ms/step - loss: 3.0505 - mae: 3.0505\n",
            "Epoch 69/100\n",
            "1/1 [==============================] - 0s 15ms/step - loss: 3.0527 - mae: 3.0527\n",
            "Epoch 70/100\n",
            "1/1 [==============================] - 0s 13ms/step - loss: 3.0499 - mae: 3.0499\n",
            "Epoch 71/100\n",
            "1/1 [==============================] - 0s 9ms/step - loss: 3.0460 - mae: 3.0460\n",
            "Epoch 72/100\n",
            "1/1 [==============================] - 0s 7ms/step - loss: 3.0421 - mae: 3.0421\n",
            "Epoch 73/100\n",
            "1/1 [==============================] - 0s 10ms/step - loss: 3.0381 - mae: 3.0381\n",
            "Epoch 74/100\n",
            "1/1 [==============================] - 0s 7ms/step - loss: 3.0342 - mae: 3.0342\n",
            "Epoch 75/100\n",
            "1/1 [==============================] - 0s 7ms/step - loss: 3.0303 - mae: 3.0303\n",
            "Epoch 76/100\n",
            "1/1 [==============================] - 0s 7ms/step - loss: 3.0316 - mae: 3.0316\n",
            "Epoch 77/100\n",
            "1/1 [==============================] - 0s 7ms/step - loss: 3.0297 - mae: 3.0297\n",
            "Epoch 78/100\n",
            "1/1 [==============================] - 0s 12ms/step - loss: 3.0258 - mae: 3.0258\n",
            "Epoch 79/100\n",
            "1/1 [==============================] - 0s 7ms/step - loss: 3.0219 - mae: 3.0219\n",
            "Epoch 80/100\n",
            "1/1 [==============================] - 0s 7ms/step - loss: 3.0180 - mae: 3.0180\n",
            "Epoch 81/100\n",
            "1/1 [==============================] - 0s 7ms/step - loss: 3.0141 - mae: 3.0141\n",
            "Epoch 82/100\n",
            "1/1 [==============================] - 0s 9ms/step - loss: 3.0102 - mae: 3.0102\n",
            "Epoch 83/100\n",
            "1/1 [==============================] - 0s 7ms/step - loss: 3.0105 - mae: 3.0105\n",
            "Epoch 84/100\n",
            "1/1 [==============================] - 0s 8ms/step - loss: 3.0096 - mae: 3.0096\n",
            "Epoch 85/100\n",
            "1/1 [==============================] - 0s 9ms/step - loss: 3.0056 - mae: 3.0056\n",
            "Epoch 86/100\n",
            "1/1 [==============================] - 0s 10ms/step - loss: 3.0017 - mae: 3.0017\n",
            "Epoch 87/100\n",
            "1/1 [==============================] - 0s 7ms/step - loss: 2.9978 - mae: 2.9978\n",
            "Epoch 88/100\n",
            "1/1 [==============================] - 0s 10ms/step - loss: 2.9939 - mae: 2.9939\n",
            "Epoch 89/100\n",
            "1/1 [==============================] - 0s 9ms/step - loss: 2.9900 - mae: 2.9900\n",
            "Epoch 90/100\n",
            "1/1 [==============================] - 0s 7ms/step - loss: 2.9894 - mae: 2.9894\n",
            "Epoch 91/100\n",
            "1/1 [==============================] - 0s 8ms/step - loss: 2.9894 - mae: 2.9894\n",
            "Epoch 92/100\n",
            "1/1 [==============================] - 0s 9ms/step - loss: 2.9855 - mae: 2.9855\n",
            "Epoch 93/100\n",
            "1/1 [==============================] - 0s 9ms/step - loss: 2.9816 - mae: 2.9816\n",
            "Epoch 94/100\n",
            "1/1 [==============================] - 0s 8ms/step - loss: 2.9777 - mae: 2.9777\n",
            "Epoch 95/100\n",
            "1/1 [==============================] - 0s 8ms/step - loss: 2.9738 - mae: 2.9738\n",
            "Epoch 96/100\n",
            "1/1 [==============================] - 0s 9ms/step - loss: 2.9699 - mae: 2.9699\n",
            "Epoch 97/100\n",
            "1/1 [==============================] - 0s 8ms/step - loss: 2.9683 - mae: 2.9683\n",
            "Epoch 98/100\n",
            "1/1 [==============================] - 0s 8ms/step - loss: 2.9692 - mae: 2.9692\n",
            "Epoch 99/100\n",
            "1/1 [==============================] - 0s 8ms/step - loss: 2.9653 - mae: 2.9653\n",
            "Epoch 100/100\n",
            "1/1 [==============================] - 0s 7ms/step - loss: 2.9614 - mae: 2.9614\n"
          ]
        },
        {
          "output_type": "execute_result",
          "data": {
            "text/plain": [
              "<keras.callbacks.History at 0x7fdd8b18ab10>"
            ]
          },
          "metadata": {},
          "execution_count": 21
        }
      ]
    },
    {
      "cell_type": "markdown",
      "source": [
        "#Re-evaluation of new_X\n"
      ],
      "metadata": {
        "id": "4PGhqRelHybr"
      }
    },
    {
      "cell_type": "code",
      "source": [
        "new_X = 15.0\n",
        "new_y = model.predict([new_point])\n",
        "plt.scatter(X,y)\n",
        "plt.scatter(new_X, new_y)\n",
        "plt"
      ],
      "metadata": {
        "colab": {
          "base_uri": "https://localhost:8080/",
          "height": 302
        },
        "id": "8lH9BJFTHkXd",
        "outputId": "c5d5c4a4-132f-41f9-9241-b4a743235d62"
      },
      "execution_count": 22,
      "outputs": [
        {
          "output_type": "stream",
          "name": "stdout",
          "text": [
            "1/1 [==============================] - 0s 61ms/step\n"
          ]
        },
        {
          "output_type": "execute_result",
          "data": {
            "text/plain": [
              "<module 'matplotlib.pyplot' from '/usr/local/lib/python3.7/dist-packages/matplotlib/pyplot.py'>"
            ]
          },
          "metadata": {},
          "execution_count": 22
        },
        {
          "output_type": "display_data",
          "data": {
            "text/plain": [
              "<Figure size 432x288 with 1 Axes>"
            ],
            "image/png": "[encoded data removed]"
          },
          "metadata": {
            "needs_background": "light"
          }
        }
      ]
    },
    {
      "cell_type": "code",
      "source": [
        "X1 = np.arange(-100,100,4)\n",
        "y1 = X1 + 10\n",
        "\n",
        "X_train = X1[:40]\n",
        "y_train = y1[:40]\n",
        "X_test = X1[40:]\n",
        "y_test = y1[40:]\n",
        "\n",
        "len(X_train), len(y_train)"
      ],
      "metadata": {
        "colab": {
          "base_uri": "https://localhost:8080/"
        },
        "id": "_4l89be8H08Z",
        "outputId": "3937a36c-6d1e-4234-bf4a-bdbfbb34d6f7"
      },
      "execution_count": 51,
      "outputs": [
        {
          "output_type": "execute_result",
          "data": {
            "text/plain": [
              "(40, 40)"
            ]
          },
          "metadata": {},
          "execution_count": 51
        }
      ]
    },
    {
      "cell_type": "code",
      "source": [
        "plt.figure(figsize=(10,7))\n",
        "plt.scatter(X_train, y_train, c='b', label='Training data')\n",
        "plt.scatter(X_test, y_test, c='g', label='Testing data')\n",
        "plt.legend()"
      ],
      "metadata": {
        "colab": {
          "base_uri": "https://localhost:8080/",
          "height": 446
        },
        "id": "4rJ1hVuJKZNK",
        "outputId": "ef6000f2-635a-47ed-8542-483fb2eb1ba7"
      },
      "execution_count": 52,
      "outputs": [
        {
          "output_type": "execute_result",
          "data": {
            "text/plain": [
              "<matplotlib.legend.Legend at 0x7fdd87ee8990>"
            ]
          },
          "metadata": {},
          "execution_count": 52
        },
        {
          "output_type": "display_data",
          "data": {
            "text/plain": [
              "<Figure size 720x504 with 1 Axes>"
            ],
            "image/png": "[encoded data removed]"
          },
          "metadata": {
            "needs_background": "light"
          }
        }
      ]
    },
    {
      "cell_type": "code",
      "source": [
        "tf.random.set_seed(42)\n",
        "\n",
        "model = tf.keras.Sequential([\n",
        "    tf.keras.layers.Dense(1, input_shape=[1])\n",
        "])\n",
        "\n",
        "model.compile(loss = tf.keras.losses.mae,\n",
        "              optimizer = tf.keras.optimizers.SGD(),\n",
        "              metrics = [\"mae\"])\n",
        "\n",
        "model.fit(tf.expand_dims(X_train, axis=-1), y_train, epochs=100, verbose=0)\n"
      ],
      "metadata": {
        "colab": {
          "base_uri": "https://localhost:8080/"
        },
        "id": "5vLHo4qVKx_G",
        "outputId": "6d0b84a2-ea2b-4771-d35d-50f2077ed12f"
      },
      "execution_count": 57,
      "outputs": [
        {
          "output_type": "execute_result",
          "data": {
            "text/plain": [
              "<keras.callbacks.History at 0x7fdd8b2b4c90>"
            ]
          },
          "metadata": {},
          "execution_count": 57
        }
      ]
    },
    {
      "cell_type": "code",
      "source": [
        "model.summary()\n",
        "from tensorflow.keras.utils import plot_model\n",
        "plot_model(model, show_shapes=True)"
      ],
      "metadata": {
        "colab": {
          "base_uri": "https://localhost:8080/",
          "height": 402
        },
        "id": "QbdlzpZvLagW",
        "outputId": "8be6f6a5-d1a3-4b66-c720-1e5eebb8a311"
      },
      "execution_count": 58,
      "outputs": [
        {
          "output_type": "stream",
          "name": "stdout",
          "text": [
            "Model: \"sequential_6\"\n",
            "_________________________________________________________________\n",
            " Layer (type)                Output Shape              Param #   \n",
            "=================================================================\n",
            " dense_6 (Dense)             (None, 1)                 2         \n",
            "                                                                 \n",
            "=================================================================\n",
            "Total params: 2\n",
            "Trainable params: 2\n",
            "Non-trainable params: 0\n",
            "_________________________________________________________________\n"
          ]
        },
        {
          "output_type": "execute_result",
          "data": {
            "image/png": "[encoded data removed]",
            "text/plain": [
              "<IPython.core.display.Image object>"
            ]
          },
          "metadata": {},
          "execution_count": 58
        }
      ]
    },
    {
      "cell_type": "code",
      "source": [
        "y_preds = model.predict(X_test)\n",
        "\n",
        "def plot_predictions(train_data = X_train,\n",
        "                     train_labels = y_train,\n",
        "                     test_data = X_test,\n",
        "                     test_labels = y_test,\n",
        "                     predictions = y_preds):\n",
        "  plt.figure(figsize=(10,7))\n",
        "\n",
        "  plt.scatter(train_data, train_labels, c='g', label = 'Training data')\n",
        "  plt.scatter(test_data, test_labels, c='salmon', label = 'Test data')\n",
        "  plt.scatter(test_data, predictions, c='r', label = 'Predictions')\n",
        "  plt.legend()\n",
        "\n",
        "plot_predictions()"
      ],
      "metadata": {
        "colab": {
          "base_uri": "https://localhost:8080/",
          "height": 446
        },
        "id": "uwg9FyrpMX1S",
        "outputId": "23f3341b-7648-4ade-bea1-6d5f48b507b3"
      },
      "execution_count": 69,
      "outputs": [
        {
          "output_type": "stream",
          "name": "stdout",
          "text": [
            "1/1 [==============================] - 0s 35ms/step\n"
          ]
        },
        {
          "output_type": "display_data",
          "data": {
            "text/plain": [
              "<Figure size 720x504 with 1 Axes>"
            ],
            "image/png": "[encoded data removed]"
          },
          "metadata": {
            "needs_background": "light"
          }
        }
      ]
    },
    {
      "cell_type": "code",
      "source": [],
      "metadata": {
        "id": "P-jOcdLsN73i"
      },
      "execution_count": null,
      "outputs": []
    },
    {
      "cell_type": "code",
      "source": [],
      "metadata": {
        "id": "sMGBkwMHL927"
      },
      "execution_count": null,
      "outputs": []
    }
  ]
}
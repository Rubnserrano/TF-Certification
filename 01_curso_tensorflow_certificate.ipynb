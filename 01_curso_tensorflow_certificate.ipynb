{
  "nbformat": 4,
  "nbformat_minor": 0,
  "metadata": {
    "colab": {
      "provenance": [],
      "collapsed_sections": [],
      "authorship_tag": "ABX9TyPUVL4mJc32sAyEhbSffCtk",
      "include_colab_link": true
    },
    "kernelspec": {
      "name": "python3",
      "display_name": "Python 3"
    },
    "language_info": {
      "name": "python"
    }
  },
  "cells": [
    {
      "cell_type": "markdown",
      "metadata": {
        "id": "view-in-github",
        "colab_type": "text"
      },
      "source": [
        "<a href=\"https://colab.research.google.com/github/Rubnserrano/TF-Certification/blob/main/01_curso_tensorflow_certificate.ipynb\" target=\"_parent\"><img src=\"https://colab.research.google.com/assets/colab-badge.svg\" alt=\"Open In Colab\"/></a>"
      ]
    },
    {
      "cell_type": "code",
      "execution_count": 1,
      "metadata": {
        "id": "jMGwWXUcyeIA"
      },
      "outputs": [],
      "source": [
        "import tensorflow as tf\n",
        "import numpy as np\n",
        "import matplotlib.pyplot as plt"
      ]
    },
    {
      "cell_type": "code",
      "source": [
        "X = np.array([-2.0, 4.0, 9.0, 5.0, 10.0, 7.0, -6.0, 2.0])\n",
        "y = np.array([4.0, 9.0, 17.0, 10.0, 21.0, 13.0, 1.0, 6.0])\n",
        "\n",
        "plt.scatter(X,y)"
      ],
      "metadata": {
        "colab": {
          "base_uri": "https://localhost:8080/",
          "height": 283
        },
        "id": "PnkxfcjWCTfz",
        "outputId": "8fcc9181-adc7-467d-c95c-b29a4c507bce"
      },
      "execution_count": 2,
      "outputs": [
        {
          "output_type": "execute_result",
          "data": {
            "text/plain": [
              "<matplotlib.collections.PathCollection at 0x7f78d01b7910>"
            ]
          },
          "metadata": {},
          "execution_count": 2
        },
        {
          "output_type": "display_data",
          "data": {
            "text/plain": [
              "<Figure size 432x288 with 1 Axes>"
            ],
            "image/png": "[encoded data removed]"
          },
          "metadata": {
            "needs_background": "light"
          }
        }
      ]
    },
    {
      "cell_type": "code",
      "source": [
        "X = tf.constant([-2.0, 4.0, 9.0, 5.0, 10.0, 7.0, -6.0, 2.0])\n",
        "y = tf.constant([4.0, 9.0, 17.0, 10.0, 21.0, 13.0, 1.0, 6.0])\n",
        "\n",
        "plt.scatter(X,y)"
      ],
      "metadata": {
        "colab": {
          "base_uri": "https://localhost:8080/",
          "height": 283
        },
        "id": "x9gXCIItDhRr",
        "outputId": "fbfa94b0-be57-4a44-f4f2-9ce667dbfb9e"
      },
      "execution_count": 3,
      "outputs": [
        {
          "output_type": "execute_result",
          "data": {
            "text/plain": [
              "<matplotlib.collections.PathCollection at 0x7f78d01b7750>"
            ]
          },
          "metadata": {},
          "execution_count": 3
        },
        {
          "output_type": "display_data",
          "data": {
            "text/plain": [
              "<Figure size 432x288 with 1 Axes>"
            ],
            "image/png": "[encoded data removed]"
          },
          "metadata": {
            "needs_background": "light"
          }
        }
      ]
    },
    {
      "cell_type": "code",
      "source": [
        "X[2]"
      ],
      "metadata": {
        "colab": {
          "base_uri": "https://localhost:8080/"
        },
        "id": "7YRAEKGfD0JN",
        "outputId": "b5d38019-089b-4edf-f180-c07858bfe5c8"
      },
      "execution_count": 4,
      "outputs": [
        {
          "output_type": "execute_result",
          "data": {
            "text/plain": [
              "<tf.Tensor: shape=(), dtype=float32, numpy=9.0>"
            ]
          },
          "metadata": {},
          "execution_count": 4
        }
      ]
    },
    {
      "cell_type": "markdown",
      "source": [
        "#Steps in modelling with tf\n",
        "1.- Creating a simply model with Keras.\n",
        "\n",
        "2.- Compiling a model. Define metrics, loss function and optimizer\n",
        "\n",
        "3.- Fitting a model"
      ],
      "metadata": {
        "id": "M3v0B4MlEWpr"
      }
    },
    {
      "cell_type": "code",
      "source": [
        "tf.random.set_seed(42)\n",
        "\n",
        "model = tf.keras.Sequential([\n",
        "    tf.keras.layers.Dense(1)\n",
        "])\n",
        "\n",
        "model.compile(loss = tf.keras.losses.mae,\n",
        "              optimizer = tf.keras.optimizers.SGD(),\n",
        "              metrics = [\"mae\"])\n",
        "\n",
        "#Note: If you're using TensorFlow 2.7.0+, the fit() function no longer upscales input data to go from (batch_size, ) to (batch_size, 1). \n",
        "#To fix this, you'll need to expand the dimension of input data using tf.expand_dims(input_data, axis=-1).\n",
        "model.fit(tf.expand_dims(X, axis=-1), y, epochs=5)"
      ],
      "metadata": {
        "colab": {
          "base_uri": "https://localhost:8080/"
        },
        "id": "dY4BSDPPE4UI",
        "outputId": "f42d5bf3-8a01-417b-bc27-716e9c65b79a"
      },
      "execution_count": 5,
      "outputs": [
        {
          "output_type": "stream",
          "name": "stdout",
          "text": [
            "Epoch 1/5\n",
            "1/1 [==============================] - 1s 815ms/step - loss: 8.0585 - mae: 8.0585\n",
            "Epoch 2/5\n",
            "1/1 [==============================] - 0s 24ms/step - loss: 7.9171 - mae: 7.9171\n",
            "Epoch 3/5\n",
            "1/1 [==============================] - 0s 10ms/step - loss: 7.7757 - mae: 7.7757\n",
            "Epoch 4/5\n",
            "1/1 [==============================] - 0s 20ms/step - loss: 7.6343 - mae: 7.6343\n",
            "Epoch 5/5\n",
            "1/1 [==============================] - 0s 14ms/step - loss: 7.4929 - mae: 7.4929\n"
          ]
        },
        {
          "output_type": "execute_result",
          "data": {
            "text/plain": [
              "<keras.callbacks.History at 0x7f78cfc9ae50>"
            ]
          },
          "metadata": {},
          "execution_count": 5
        }
      ]
    },
    {
      "cell_type": "code",
      "source": [
        "new_X = 15.0\n",
        "new_y = model.predict([new_X])\n",
        "plt.scatter(X,y)\n",
        "plt.scatter(new_X, new_y)\n",
        "plt\n",
        "\n",
        "#Not very accurate"
      ],
      "metadata": {
        "colab": {
          "base_uri": "https://localhost:8080/",
          "height": 301
        },
        "id": "TlAMm6zaFznr",
        "outputId": "d665e4f0-0d29-4016-97d4-981f153e7e5e"
      },
      "execution_count": 7,
      "outputs": [
        {
          "output_type": "stream",
          "name": "stdout",
          "text": [
            "1/1 [==============================] - 0s 192ms/step\n"
          ]
        },
        {
          "output_type": "execute_result",
          "data": {
            "text/plain": [
              "<module 'matplotlib.pyplot' from '/usr/local/lib/python3.7/dist-packages/matplotlib/pyplot.py'>"
            ]
          },
          "metadata": {},
          "execution_count": 7
        },
        {
          "output_type": "display_data",
          "data": {
            "text/plain": [
              "<Figure size 432x288 with 1 Axes>"
            ],
            "image/png": "[encoded data removed]"
          },
          "metadata": {
            "needs_background": "light"
          }
        }
      ]
    },
    {
      "cell_type": "markdown",
      "source": [
        "# How we could improve a model?\n",
        "1.- Creating a model -> Add more layers, increase number of neurons in each layer, change the activation function.\n",
        "\n",
        "2.- Compiling a model -> Changing the learning rate, change optimization function.\n",
        "\n",
        "3.- Fitting a model -> Increase number of epochs, or on more data."
      ],
      "metadata": {
        "id": "-KKL_ScNG6Xc"
      }
    },
    {
      "cell_type": "code",
      "source": [
        "tf.random.set_seed(42)\n",
        "\n",
        "model = tf.keras.Sequential([\n",
        "    tf.keras.layers.Dense(1)\n",
        "])\n",
        "\n",
        "model.compile(loss = tf.keras.losses.mae,\n",
        "              optimizer = tf.keras.optimizers.SGD(),\n",
        "              metrics = [\"mae\"])\n",
        "model.fit(tf.expand_dims(X, axis=-1), y, epochs=100, verbose = 0)"
      ],
      "metadata": {
        "colab": {
          "base_uri": "https://localhost:8080/"
        },
        "id": "BBmqFNs2GzI7",
        "outputId": "540234c4-5f06-4182-944d-76d81826e3f8"
      },
      "execution_count": 9,
      "outputs": [
        {
          "output_type": "stream",
          "name": "stdout",
          "text": [
            "Epoch 1/100\n",
            "1/1 [==============================] - 1s 846ms/step - loss: 8.0585 - mae: 8.0585\n",
            "Epoch 2/100\n",
            "1/1 [==============================] - 0s 20ms/step - loss: 7.9171 - mae: 7.9171\n",
            "Epoch 3/100\n",
            "1/1 [==============================] - 0s 18ms/step - loss: 7.7757 - mae: 7.7757\n",
            "Epoch 4/100\n",
            "1/1 [==============================] - 0s 17ms/step - loss: 7.6343 - mae: 7.6343\n",
            "Epoch 5/100\n",
            "1/1 [==============================] - 0s 22ms/step - loss: 7.4929 - mae: 7.4929\n",
            "Epoch 6/100\n",
            "1/1 [==============================] - 0s 9ms/step - loss: 7.3515 - mae: 7.3515\n",
            "Epoch 7/100\n",
            "1/1 [==============================] - 0s 9ms/step - loss: 7.2101 - mae: 7.2101\n",
            "Epoch 8/100\n",
            "1/1 [==============================] - 0s 16ms/step - loss: 7.0687 - mae: 7.0687\n",
            "Epoch 9/100\n",
            "1/1 [==============================] - 0s 15ms/step - loss: 6.9273 - mae: 6.9273\n",
            "Epoch 10/100\n",
            "1/1 [==============================] - 0s 16ms/step - loss: 6.7859 - mae: 6.7859\n",
            "Epoch 11/100\n",
            "1/1 [==============================] - 0s 26ms/step - loss: 6.6445 - mae: 6.6445\n",
            "Epoch 12/100\n",
            "1/1 [==============================] - 0s 29ms/step - loss: 6.5031 - mae: 6.5031\n",
            "Epoch 13/100\n",
            "1/1 [==============================] - 0s 17ms/step - loss: 6.3617 - mae: 6.3617\n",
            "Epoch 14/100\n",
            "1/1 [==============================] - 0s 17ms/step - loss: 6.2203 - mae: 6.2203\n",
            "Epoch 15/100\n",
            "1/1 [==============================] - 0s 23ms/step - loss: 6.0788 - mae: 6.0788\n",
            "Epoch 16/100\n",
            "1/1 [==============================] - 0s 25ms/step - loss: 5.9374 - mae: 5.9374\n",
            "Epoch 17/100\n",
            "1/1 [==============================] - 0s 28ms/step - loss: 5.7960 - mae: 5.7960\n",
            "Epoch 18/100\n",
            "1/1 [==============================] - 0s 19ms/step - loss: 5.6546 - mae: 5.6546\n",
            "Epoch 19/100\n",
            "1/1 [==============================] - 0s 18ms/step - loss: 5.5132 - mae: 5.5132\n",
            "Epoch 20/100\n",
            "1/1 [==============================] - 0s 16ms/step - loss: 5.3718 - mae: 5.3718\n",
            "Epoch 21/100\n",
            "1/1 [==============================] - 0s 19ms/step - loss: 5.2304 - mae: 5.2304\n",
            "Epoch 22/100\n",
            "1/1 [==============================] - 0s 12ms/step - loss: 5.0890 - mae: 5.0890\n",
            "Epoch 23/100\n",
            "1/1 [==============================] - 0s 12ms/step - loss: 4.9476 - mae: 4.9476\n",
            "Epoch 24/100\n",
            "1/1 [==============================] - 0s 8ms/step - loss: 4.8062 - mae: 4.8062\n",
            "Epoch 25/100\n",
            "1/1 [==============================] - 0s 10ms/step - loss: 4.6648 - mae: 4.6648\n",
            "Epoch 26/100\n",
            "1/1 [==============================] - 0s 9ms/step - loss: 4.5234 - mae: 4.5234\n",
            "Epoch 27/100\n",
            "1/1 [==============================] - 0s 9ms/step - loss: 4.3820 - mae: 4.3820\n",
            "Epoch 28/100\n",
            "1/1 [==============================] - 0s 10ms/step - loss: 4.2406 - mae: 4.2406\n",
            "Epoch 29/100\n",
            "1/1 [==============================] - 0s 11ms/step - loss: 4.0992 - mae: 4.0992\n",
            "Epoch 30/100\n",
            "1/1 [==============================] - 0s 18ms/step - loss: 3.9578 - mae: 3.9578\n",
            "Epoch 31/100\n",
            "1/1 [==============================] - 0s 33ms/step - loss: 3.8163 - mae: 3.8163\n",
            "Epoch 32/100\n",
            "1/1 [==============================] - 0s 16ms/step - loss: 3.6749 - mae: 3.6749\n",
            "Epoch 33/100\n",
            "1/1 [==============================] - 0s 17ms/step - loss: 3.5335 - mae: 3.5335\n",
            "Epoch 34/100\n",
            "1/1 [==============================] - 0s 8ms/step - loss: 3.3921 - mae: 3.3921\n",
            "Epoch 35/100\n",
            "1/1 [==============================] - 0s 10ms/step - loss: 3.2507 - mae: 3.2507\n",
            "Epoch 36/100\n",
            "1/1 [==============================] - 0s 9ms/step - loss: 3.1647 - mae: 3.1647\n",
            "Epoch 37/100\n",
            "1/1 [==============================] - 0s 12ms/step - loss: 3.1428 - mae: 3.1428\n",
            "Epoch 38/100\n",
            "1/1 [==============================] - 0s 9ms/step - loss: 3.1389 - mae: 3.1389\n",
            "Epoch 39/100\n",
            "1/1 [==============================] - 0s 11ms/step - loss: 3.1350 - mae: 3.1350\n",
            "Epoch 40/100\n",
            "1/1 [==============================] - 0s 9ms/step - loss: 3.1338 - mae: 3.1338\n",
            "Epoch 41/100\n",
            "1/1 [==============================] - 0s 10ms/step - loss: 3.1344 - mae: 3.1344\n",
            "Epoch 42/100\n",
            "1/1 [==============================] - 0s 17ms/step - loss: 3.1305 - mae: 3.1305\n",
            "Epoch 43/100\n",
            "1/1 [==============================] - 0s 14ms/step - loss: 3.1266 - mae: 3.1266\n",
            "Epoch 44/100\n",
            "1/1 [==============================] - 0s 17ms/step - loss: 3.1227 - mae: 3.1227\n",
            "Epoch 45/100\n",
            "1/1 [==============================] - 0s 18ms/step - loss: 3.1188 - mae: 3.1188\n",
            "Epoch 46/100\n",
            "1/1 [==============================] - 0s 16ms/step - loss: 3.1149 - mae: 3.1149\n",
            "Epoch 47/100\n",
            "1/1 [==============================] - 0s 15ms/step - loss: 3.1127 - mae: 3.1127\n",
            "Epoch 48/100\n",
            "1/1 [==============================] - 0s 34ms/step - loss: 3.1142 - mae: 3.1142\n",
            "Epoch 49/100\n",
            "1/1 [==============================] - 0s 15ms/step - loss: 3.1103 - mae: 3.1103\n",
            "Epoch 50/100\n",
            "1/1 [==============================] - 0s 20ms/step - loss: 3.1064 - mae: 3.1064\n",
            "Epoch 51/100\n",
            "1/1 [==============================] - 0s 16ms/step - loss: 3.1025 - mae: 3.1025\n",
            "Epoch 52/100\n",
            "1/1 [==============================] - 0s 20ms/step - loss: 3.0986 - mae: 3.0986\n",
            "Epoch 53/100\n",
            "1/1 [==============================] - 0s 32ms/step - loss: 3.0947 - mae: 3.0947\n",
            "Epoch 54/100\n",
            "1/1 [==============================] - 0s 13ms/step - loss: 3.0916 - mae: 3.0916\n",
            "Epoch 55/100\n",
            "1/1 [==============================] - 0s 13ms/step - loss: 3.0941 - mae: 3.0941\n",
            "Epoch 56/100\n",
            "1/1 [==============================] - 0s 14ms/step - loss: 3.0902 - mae: 3.0902\n",
            "Epoch 57/100\n",
            "1/1 [==============================] - 0s 18ms/step - loss: 3.0863 - mae: 3.0863\n",
            "Epoch 58/100\n",
            "1/1 [==============================] - 0s 21ms/step - loss: 3.0824 - mae: 3.0824\n",
            "Epoch 59/100\n",
            "1/1 [==============================] - 0s 17ms/step - loss: 3.0785 - mae: 3.0785\n",
            "Epoch 60/100\n",
            "1/1 [==============================] - 0s 12ms/step - loss: 3.0746 - mae: 3.0746\n",
            "Epoch 61/100\n",
            "1/1 [==============================] - 0s 33ms/step - loss: 3.0706 - mae: 3.0706\n",
            "Epoch 62/100\n",
            "1/1 [==============================] - 0s 13ms/step - loss: 3.0738 - mae: 3.0738\n",
            "Epoch 63/100\n",
            "1/1 [==============================] - 0s 11ms/step - loss: 3.0700 - mae: 3.0700\n",
            "Epoch 64/100\n",
            "1/1 [==============================] - 0s 17ms/step - loss: 3.0661 - mae: 3.0661\n",
            "Epoch 65/100\n",
            "1/1 [==============================] - 0s 30ms/step - loss: 3.0622 - mae: 3.0622\n",
            "Epoch 66/100\n",
            "1/1 [==============================] - 0s 17ms/step - loss: 3.0583 - mae: 3.0583\n",
            "Epoch 67/100\n",
            "1/1 [==============================] - 0s 15ms/step - loss: 3.0544 - mae: 3.0544\n",
            "Epoch 68/100\n",
            "1/1 [==============================] - 0s 17ms/step - loss: 3.0505 - mae: 3.0505\n",
            "Epoch 69/100\n",
            "1/1 [==============================] - 0s 14ms/step - loss: 3.0527 - mae: 3.0527\n",
            "Epoch 70/100\n",
            "1/1 [==============================] - 0s 32ms/step - loss: 3.0499 - mae: 3.0499\n",
            "Epoch 71/100\n",
            "1/1 [==============================] - 0s 18ms/step - loss: 3.0460 - mae: 3.0460\n",
            "Epoch 72/100\n",
            "1/1 [==============================] - 0s 19ms/step - loss: 3.0421 - mae: 3.0421\n",
            "Epoch 73/100\n",
            "1/1 [==============================] - 0s 12ms/step - loss: 3.0381 - mae: 3.0381\n",
            "Epoch 74/100\n",
            "1/1 [==============================] - 0s 23ms/step - loss: 3.0342 - mae: 3.0342\n",
            "Epoch 75/100\n",
            "1/1 [==============================] - 0s 12ms/step - loss: 3.0303 - mae: 3.0303\n",
            "Epoch 76/100\n",
            "1/1 [==============================] - 0s 15ms/step - loss: 3.0316 - mae: 3.0316\n",
            "Epoch 77/100\n",
            "1/1 [==============================] - 0s 19ms/step - loss: 3.0297 - mae: 3.0297\n",
            "Epoch 78/100\n",
            "1/1 [==============================] - 0s 19ms/step - loss: 3.0258 - mae: 3.0258\n",
            "Epoch 79/100\n",
            "1/1 [==============================] - 0s 24ms/step - loss: 3.0219 - mae: 3.0219\n",
            "Epoch 80/100\n",
            "1/1 [==============================] - 0s 20ms/step - loss: 3.0180 - mae: 3.0180\n",
            "Epoch 81/100\n",
            "1/1 [==============================] - 0s 29ms/step - loss: 3.0141 - mae: 3.0141\n",
            "Epoch 82/100\n",
            "1/1 [==============================] - 0s 19ms/step - loss: 3.0102 - mae: 3.0102\n",
            "Epoch 83/100\n",
            "1/1 [==============================] - 0s 22ms/step - loss: 3.0105 - mae: 3.0105\n",
            "Epoch 84/100\n",
            "1/1 [==============================] - 0s 26ms/step - loss: 3.0096 - mae: 3.0096\n",
            "Epoch 85/100\n",
            "1/1 [==============================] - 0s 23ms/step - loss: 3.0056 - mae: 3.0056\n",
            "Epoch 86/100\n",
            "1/1 [==============================] - 0s 23ms/step - loss: 3.0017 - mae: 3.0017\n",
            "Epoch 87/100\n",
            "1/1 [==============================] - 0s 24ms/step - loss: 2.9978 - mae: 2.9978\n",
            "Epoch 88/100\n",
            "1/1 [==============================] - 0s 26ms/step - loss: 2.9939 - mae: 2.9939\n",
            "Epoch 89/100\n",
            "1/1 [==============================] - 0s 19ms/step - loss: 2.9900 - mae: 2.9900\n",
            "Epoch 90/100\n",
            "1/1 [==============================] - 0s 18ms/step - loss: 2.9894 - mae: 2.9894\n",
            "Epoch 91/100\n",
            "1/1 [==============================] - 0s 37ms/step - loss: 2.9894 - mae: 2.9894\n",
            "Epoch 92/100\n",
            "1/1 [==============================] - 0s 14ms/step - loss: 2.9855 - mae: 2.9855\n",
            "Epoch 93/100\n",
            "1/1 [==============================] - 0s 19ms/step - loss: 2.9816 - mae: 2.9816\n",
            "Epoch 94/100\n",
            "1/1 [==============================] - 0s 12ms/step - loss: 2.9777 - mae: 2.9777\n",
            "Epoch 95/100\n",
            "1/1 [==============================] - 0s 36ms/step - loss: 2.9738 - mae: 2.9738\n",
            "Epoch 96/100\n",
            "1/1 [==============================] - 0s 19ms/step - loss: 2.9699 - mae: 2.9699\n",
            "Epoch 97/100\n",
            "1/1 [==============================] - 0s 24ms/step - loss: 2.9683 - mae: 2.9683\n",
            "Epoch 98/100\n",
            "1/1 [==============================] - 0s 18ms/step - loss: 2.9692 - mae: 2.9692\n",
            "Epoch 99/100\n",
            "1/1 [==============================] - 0s 22ms/step - loss: 2.9653 - mae: 2.9653\n",
            "Epoch 100/100\n",
            "1/1 [==============================] - 0s 12ms/step - loss: 2.9614 - mae: 2.9614\n"
          ]
        },
        {
          "output_type": "execute_result",
          "data": {
            "text/plain": [
              "<keras.callbacks.History at 0x7f78cb047690>"
            ]
          },
          "metadata": {},
          "execution_count": 9
        }
      ]
    },
    {
      "cell_type": "markdown",
      "source": [
        "#Re-evaluation of new_X\n"
      ],
      "metadata": {
        "id": "4PGhqRelHybr"
      }
    },
    {
      "cell_type": "code",
      "source": [
        "new_X = 15.0\n",
        "new_y = model.predict([new_X])\n",
        "plt.scatter(X,y)\n",
        "plt.scatter(new_X, new_y)\n",
        "plt"
      ],
      "metadata": {
        "colab": {
          "base_uri": "https://localhost:8080/",
          "height": 301
        },
        "id": "8lH9BJFTHkXd",
        "outputId": "fba73f77-7c70-40af-8aba-b5077284e66f"
      },
      "execution_count": 11,
      "outputs": [
        {
          "output_type": "stream",
          "name": "stdout",
          "text": [
            "1/1 [==============================] - 0s 160ms/step\n"
          ]
        },
        {
          "output_type": "execute_result",
          "data": {
            "text/plain": [
              "<module 'matplotlib.pyplot' from '/usr/local/lib/python3.7/dist-packages/matplotlib/pyplot.py'>"
            ]
          },
          "metadata": {},
          "execution_count": 11
        },
        {
          "output_type": "display_data",
          "data": {
            "text/plain": [
              "<Figure size 432x288 with 1 Axes>"
            ],
            "image/png": "[encoded data removed]"
          },
          "metadata": {
            "needs_background": "light"
          }
        }
      ]
    },
    {
      "cell_type": "code",
      "source": [
        "X1 = np.arange(-100,100,4)\n",
        "y1 = X1 + 10\n",
        "\n",
        "X_train = X1[:40]\n",
        "y_train = y1[:40]\n",
        "X_test = X1[40:]\n",
        "y_test = y1[40:]\n",
        "\n",
        "len(X_train), len(y_train)"
      ],
      "metadata": {
        "colab": {
          "base_uri": "https://localhost:8080/"
        },
        "id": "_4l89be8H08Z",
        "outputId": "210d7973-c62d-4741-fb7c-04c46b435726"
      },
      "execution_count": 12,
      "outputs": [
        {
          "output_type": "execute_result",
          "data": {
            "text/plain": [
              "(40, 40)"
            ]
          },
          "metadata": {},
          "execution_count": 12
        }
      ]
    },
    {
      "cell_type": "code",
      "source": [
        "plt.figure(figsize=(10,7))\n",
        "plt.scatter(X_train, y_train, c='b', label='Training data')\n",
        "plt.scatter(X_test, y_test, c='g', label='Testing data')\n",
        "plt.legend()"
      ],
      "metadata": {
        "colab": {
          "base_uri": "https://localhost:8080/",
          "height": 446
        },
        "id": "4rJ1hVuJKZNK",
        "outputId": "318df4b4-ab5c-4bf3-f17e-ea24ed8ddd38"
      },
      "execution_count": 13,
      "outputs": [
        {
          "output_type": "execute_result",
          "data": {
            "text/plain": [
              "<matplotlib.legend.Legend at 0x7f78ca724f90>"
            ]
          },
          "metadata": {},
          "execution_count": 13
        },
        {
          "output_type": "display_data",
          "data": {
            "text/plain": [
              "<Figure size 720x504 with 1 Axes>"
            ],
            "image/png": "[encoded data removed]"
          },
          "metadata": {
            "needs_background": "light"
          }
        }
      ]
    },
    {
      "cell_type": "code",
      "source": [
        "tf.random.set_seed(42)\n",
        "\n",
        "model = tf.keras.Sequential([\n",
        "    tf.keras.layers.Dense(1, input_shape=[1])\n",
        "])\n",
        "\n",
        "model.compile(loss = tf.keras.losses.mae,\n",
        "              optimizer = tf.keras.optimizers.SGD(),\n",
        "              metrics = [\"mae\"])\n",
        "\n",
        "model.fit(tf.expand_dims(X_train, axis=-1), y_train, epochs=100, verbose=0)\n"
      ],
      "metadata": {
        "colab": {
          "base_uri": "https://localhost:8080/"
        },
        "id": "5vLHo4qVKx_G",
        "outputId": "686d9f44-fcba-452e-dc2d-4b505f118116"
      },
      "execution_count": 14,
      "outputs": [
        {
          "output_type": "execute_result",
          "data": {
            "text/plain": [
              "<keras.callbacks.History at 0x7f78d06ac550>"
            ]
          },
          "metadata": {},
          "execution_count": 14
        }
      ]
    },
    {
      "cell_type": "code",
      "source": [
        "model.summary()\n",
        "from tensorflow.keras.utils import plot_model\n",
        "plot_model(model, show_shapes=True)"
      ],
      "metadata": {
        "colab": {
          "base_uri": "https://localhost:8080/",
          "height": 398
        },
        "id": "QbdlzpZvLagW",
        "outputId": "3d7fd10f-0b60-48a5-eba5-9671156007d1"
      },
      "execution_count": 15,
      "outputs": [
        {
          "output_type": "stream",
          "name": "stdout",
          "text": [
            "Model: \"sequential_3\"\n",
            "_________________________________________________________________\n",
            " Layer (type)                Output Shape              Param #   \n",
            "=================================================================\n",
            " dense_3 (Dense)             (None, 1)                 2         \n",
            "                                                                 \n",
            "=================================================================\n",
            "Total params: 2\n",
            "Trainable params: 2\n",
            "Non-trainable params: 0\n",
            "_________________________________________________________________\n"
          ]
        },
        {
          "output_type": "execute_result",
          "data": {
            "image/png": "[encoded data removed]",
            "text/plain": [
              "<IPython.core.display.Image object>"
            ]
          },
          "metadata": {},
          "execution_count": 15
        }
      ]
    },
    {
      "cell_type": "code",
      "source": [
        "y_preds = model.predict(X_test)\n",
        "\n",
        "def plot_predictions(train_data = X_train,\n",
        "                     train_labels = y_train,\n",
        "                     test_data = X_test,\n",
        "                     test_labels = y_test,\n",
        "                     predictions = y_preds):\n",
        "  plt.figure(figsize=(10,7))\n",
        "\n",
        "  plt.scatter(train_data, train_labels, c='g', label = 'Training data')\n",
        "  plt.scatter(test_data, test_labels, c='salmon', label = 'Test data')\n",
        "  plt.scatter(test_data, predictions, c='r', label = 'Predictions')\n",
        "  plt.legend()\n",
        "\n",
        "plot_predictions()"
      ],
      "metadata": {
        "colab": {
          "base_uri": "https://localhost:8080/",
          "height": 446
        },
        "id": "uwg9FyrpMX1S",
        "outputId": "c8f48d04-c7da-4e20-f825-5d47563519c1"
      },
      "execution_count": 16,
      "outputs": [
        {
          "output_type": "stream",
          "name": "stdout",
          "text": [
            "1/1 [==============================] - 0s 53ms/step\n"
          ]
        },
        {
          "output_type": "display_data",
          "data": {
            "text/plain": [
              "<Figure size 720x504 with 1 Axes>"
            ],
            "image/png": "[encoded data removed]"
          },
          "metadata": {
            "needs_background": "light"
          }
        }
      ]
    },
    {
      "cell_type": "code",
      "source": [
        "mae = tf.metrics.mean_absolute_error(y_true = y_test,\n",
        "                                     y_pred = y_preds)\n",
        "print(len(mae), mae)\n",
        "\n",
        "print(f'Length of y_test: {y_test.shape}, \\nLength of y_preds: {y_preds.shape}')\n",
        "\n",
        "#We get 10 values instead of 1 (the mean)"
      ],
      "metadata": {
        "colab": {
          "base_uri": "https://localhost:8080/"
        },
        "id": "P-jOcdLsN73i",
        "outputId": "f5965953-6d8f-4bf7-d5b2-7f8c9682ae99"
      },
      "execution_count": 17,
      "outputs": [
        {
          "output_type": "stream",
          "name": "stdout",
          "text": [
            "10 tf.Tensor(\n",
            "[34.42891  30.943668 27.45843  23.97319  20.487946 17.202168 14.510478\n",
            " 12.419336 11.018796 10.212349], shape=(10,), dtype=float32)\n",
            "Length of y_test: (10,), \n",
            "Length of y_preds: (10, 1)\n"
          ]
        }
      ]
    },
    {
      "cell_type": "code",
      "source": [
        "y_preds = tf.squeeze(y_preds)\n",
        "mae = tf.metrics.mean_absolute_error(y_true = y_test,\n",
        "                                     y_pred = y_preds)\n",
        "print(mae)"
      ],
      "metadata": {
        "colab": {
          "base_uri": "https://localhost:8080/"
        },
        "id": "sMGBkwMHL927",
        "outputId": "6e5f1e6c-92ca-4bc9-a5cb-34f55eb7a3ff"
      },
      "execution_count": 18,
      "outputs": [
        {
          "output_type": "stream",
          "name": "stdout",
          "text": [
            "tf.Tensor(18.745327, shape=(), dtype=float32)\n"
          ]
        }
      ]
    },
    {
      "cell_type": "code",
      "source": [
        "mse = tf.metrics.mean_squared_error(y_true = y_test,\n",
        "                                    y_pred = y_preds)\n",
        "mse"
      ],
      "metadata": {
        "colab": {
          "base_uri": "https://localhost:8080/"
        },
        "id": "qYIR1U0LRpqS",
        "outputId": "aeb821bc-07d1-4dc7-8825-6a5fc91c3d43"
      },
      "execution_count": 19,
      "outputs": [
        {
          "output_type": "execute_result",
          "data": {
            "text/plain": [
              "<tf.Tensor: shape=(), dtype=float32, numpy=353.57336>"
            ]
          },
          "metadata": {},
          "execution_count": 19
        }
      ]
    },
    {
      "cell_type": "code",
      "source": [
        "def mae(y_test, y_pred):\n",
        "  return tf.metrics.mean_absolute_error(y_true = y_test,\n",
        "                                     y_pred = y_pred)\n",
        "\n",
        "def mse(y_test, y_pred):\n",
        "  return tf.metrics.mean_squared_error(y_true = y_test,\n",
        "                                    y_pred = y_pred)\n",
        "  \n",
        "print(f'MSE of model: {mse(y_test, y_preds)}, \\nMAE of model: {mae(y_test, y_preds)}')"
      ],
      "metadata": {
        "colab": {
          "base_uri": "https://localhost:8080/"
        },
        "id": "x5Nsc6ONR7m1",
        "outputId": "fda1b707-e4b0-4ef6-c131-6550cd8b4843"
      },
      "execution_count": 20,
      "outputs": [
        {
          "output_type": "stream",
          "name": "stdout",
          "text": [
            "MSE of model: 353.5733642578125, \n",
            "MAE of model: 18.74532699584961\n"
          ]
        }
      ]
    },
    {
      "cell_type": "markdown",
      "source": [
        "# Creation of new models and comparison"
      ],
      "metadata": {
        "id": "X1YfHXCGS7_s"
      }
    },
    {
      "cell_type": "code",
      "source": [
        "tf.random.set_seed(42)\n",
        "model2 = tf.keras.Sequential([\n",
        "    tf.keras.layers.Dense(1, input_shape=[1]),\n",
        "    tf.keras.layers.Dense(1)\n",
        "\n",
        "])\n",
        "\n",
        "model2.compile(loss = tf.keras.losses.mae,\n",
        "               optimizer = tf.keras.optimizers.SGD(),\n",
        "               metrics = ['mae'])\n",
        "\n",
        "model2.fit(tf.expand_dims(X_train, axis=-1), y_train, epochs=100, verbose=0)\n",
        "\n",
        "#model3\n",
        "tf.random.set_seed(42)\n",
        "model3 = tf.keras.Sequential([\n",
        "    tf.keras.layers.Dense(1, input_shape=[1]),\n",
        "    tf.keras.layers.Dense(1)\n",
        "])\n",
        "\n",
        "model3.compile(loss = tf.keras.losses.mae,\n",
        "               optimizer = tf.keras.optimizers.SGD(),\n",
        "               metrics = ['mae'])\n",
        "\n",
        "model3.fit(tf.expand_dims(X_train, axis=-1), y_train, epochs=500, verbose=0)\n",
        "\n",
        "y_preds2 = model2.predict(X_test)\n",
        "y_preds3 = model3.predict(X_test)\n",
        "y_preds2 = y_preds2.squeeze()\n",
        "y_preds3 = y_preds3.squeeze()\n",
        "y_preds2 = tf.constant(y_preds2)\n",
        "y_preds3 = tf.constant(y_preds3)\n"
      ],
      "metadata": {
        "colab": {
          "base_uri": "https://localhost:8080/"
        },
        "id": "79FUVb8PTBvp",
        "outputId": "931d80d9-0238-4655-8377-cf875ef3f3e5"
      },
      "execution_count": 113,
      "outputs": [
        {
          "output_type": "stream",
          "name": "stdout",
          "text": [
            "1/1 [==============================] - 0s 55ms/step\n",
            "1/1 [==============================] - 0s 48ms/step\n"
          ]
        }
      ]
    },
    {
      "cell_type": "code",
      "source": [
        "print(y_preds2.shape, y_preds.shape)"
      ],
      "metadata": {
        "colab": {
          "base_uri": "https://localhost:8080/"
        },
        "id": "SYTkJss2XqSL",
        "outputId": "a538d047-ed0b-43aa-acc6-37ffc8cd3540"
      },
      "execution_count": 112,
      "outputs": [
        {
          "output_type": "stream",
          "name": "stdout",
          "text": [
            "(10,) (10,)\n"
          ]
        }
      ]
    },
    {
      "cell_type": "code",
      "source": [
        "\n",
        "def plot_predictions(train_data = X_train,\n",
        "                     train_labels = y_train,\n",
        "                     test_data = X_test,\n",
        "                     test_labels = y_test,\n",
        "                     predictions1 = y_preds,\n",
        "                     predictions2 = y_preds2,\n",
        "                     predictions3 = y_preds3):\n",
        "  plt.figure(figsize=(10,7))\n",
        "\n",
        "  plt.scatter(train_data, train_labels, c='k', label = 'Training data')\n",
        "  plt.scatter(test_data, test_labels, c='gray', label = 'Test data')\n",
        "  plt.scatter(test_data, predictions1, c='violet', label = 'Predictions model 1, 1Dense 100Epochs')\n",
        "  plt.scatter(test_data, predictions2, c='salmon', label = 'Predictions model 2, 2Dense 100Epochs')\n",
        "  plt.scatter(test_data, predictions3, c='c', label = 'Predictions model 3, 2Dense 500Epochs')\n",
        "  plt.legend()\n",
        "\n",
        "plot_predictions()"
      ],
      "metadata": {
        "colab": {
          "base_uri": "https://localhost:8080/",
          "height": 428
        },
        "id": "q2oPtIXIVwZ_",
        "outputId": "50315b95-f872-4a43-ec97-f49a4ac7562c"
      },
      "execution_count": 114,
      "outputs": [
        {
          "output_type": "display_data",
          "data": {
            "text/plain": [
              "<Figure size 720x504 with 1 Axes>"
            ],
            "image/png": "[encoded data removed]"
          },
          "metadata": {
            "needs_background": "light"
          }
        }
      ]
    },
    {
      "cell_type": "code",
      "source": [
        "y_preds2.shape"
      ],
      "metadata": {
        "colab": {
          "base_uri": "https://localhost:8080/"
        },
        "id": "lHPD4f16a5fJ",
        "outputId": "10c65c54-3ace-4901-e46c-967be5ef4935"
      },
      "execution_count": 95,
      "outputs": [
        {
          "output_type": "execute_result",
          "data": {
            "text/plain": [
              "(10, 1)"
            ]
          },
          "metadata": {},
          "execution_count": 95
        }
      ]
    },
    {
      "cell_type": "code",
      "source": [
        "maex = mae(y_test, y_preds2)\n",
        "maex.numpy()"
      ],
      "metadata": {
        "colab": {
          "base_uri": "https://localhost:8080/"
        },
        "id": "rGhFCmM2cfq1",
        "outputId": "23ca6029-e6df-4ef5-ffa6-2b6d7a3a2c78"
      },
      "execution_count": 125,
      "outputs": [
        {
          "output_type": "execute_result",
          "data": {
            "text/plain": [
              "1.9097328"
            ]
          },
          "metadata": {},
          "execution_count": 125
        }
      ]
    },
    {
      "cell_type": "code",
      "source": [
        "mae3 = mae(y_test, y_preds3).numpy()\n",
        "mae2 = mae(y_test, y_preds2).numpy()\n",
        "mae1 = mae(y_test, y_preds).numpy()\n",
        "\n",
        "mse3 = mse(y_test, y_preds3).numpy()\n",
        "mse2 = mse(y_test, y_preds2).numpy()\n",
        "mse1 = mse(y_test, y_preds).numpy()\n",
        "\n",
        "model_results = [[\"model1\", mae1, mse1],\n",
        "                 [\"model2\", mae2, mse2],\n",
        "                 ['model3', mae3, mse3]]\n",
        "\n",
        "import pandas as pd\n",
        "results = pd.DataFrame(model_results, columns=[\"model\", \"mae\", \"mse\"])\n",
        "print(results)"
      ],
      "metadata": {
        "colab": {
          "base_uri": "https://localhost:8080/"
        },
        "id": "5xj0tBxUWnDj",
        "outputId": "c5eb0932-f020-4f87-b11e-97c6387fa40e"
      },
      "execution_count": 126,
      "outputs": [
        {
          "output_type": "stream",
          "name": "stdout",
          "text": [
            "    model        mae          mse\n",
            "0  model1  18.745327   353.573364\n",
            "1  model2   1.909733     5.458770\n",
            "2  model3  68.687843  4804.469238\n"
          ]
        }
      ]
    },
    {
      "cell_type": "markdown",
      "source": [
        "#Saving an loading models"
      ],
      "metadata": {
        "id": "jEoZTl0ddzKh"
      }
    },
    {
      "cell_type": "code",
      "source": [
        "model2.save('best_model_SavedModel_format')\n",
        "!ls best_model_SavedModel_format\n"
      ],
      "metadata": {
        "colab": {
          "base_uri": "https://localhost:8080/"
        },
        "id": "nWDwtcWzVN5Y",
        "outputId": "bad704ef-e050-4987-ff62-bc9e84bed655"
      },
      "execution_count": 129,
      "outputs": [
        {
          "output_type": "stream",
          "name": "stdout",
          "text": [
            "assets\tkeras_metadata.pb  saved_model.pb  variables\n"
          ]
        }
      ]
    },
    {
      "cell_type": "code",
      "source": [
        "loaded_saved_model = tf.keras.models.load_model('best_model_SavedModel_format')\n",
        "loaded_saved_model.summary()"
      ],
      "metadata": {
        "colab": {
          "base_uri": "https://localhost:8080/"
        },
        "id": "ZJeLWLmmd21T",
        "outputId": "0fecc99e-b701-4bb3-9f19-488b185e02d8"
      },
      "execution_count": 130,
      "outputs": [
        {
          "output_type": "stream",
          "name": "stdout",
          "text": [
            "Model: \"sequential_48\"\n",
            "_________________________________________________________________\n",
            " Layer (type)                Output Shape              Param #   \n",
            "=================================================================\n",
            " dense_64 (Dense)            (None, 1)                 2         \n",
            "                                                                 \n",
            " dense_65 (Dense)            (None, 1)                 2         \n",
            "                                                                 \n",
            "=================================================================\n",
            "Total params: 4\n",
            "Trainable params: 4\n",
            "Non-trainable params: 0\n",
            "_________________________________________________________________\n"
          ]
        }
      ]
    },
    {
      "cell_type": "markdown",
      "source": [
        "#Mini-project"
      ],
      "metadata": {
        "id": "OfL4klRpD24T"
      }
    },
    {
      "cell_type": "code",
      "source": [
        "import tensorflow as tf\n",
        "import pandas as pd\n",
        "import matplotlib.pyplot as plt"
      ],
      "metadata": {
        "id": "L6RhxKkVDzf-"
      },
      "execution_count": 102,
      "outputs": []
    },
    {
      "cell_type": "code",
      "source": [
        "insurance = pd.read_csv(\"https://raw.githubusercontent.com/stedy/Machine-Learning-with-R-datasets/master/insurance.csv\")\n",
        "insurance_ohe = pd.get_dummies(insurance)\n",
        "X = insurance_ohe.drop('charges', axis=1)\n",
        "y = insurance_ohe['charges']"
      ],
      "metadata": {
        "id": "UC1arYcFECgF"
      },
      "execution_count": 103,
      "outputs": []
    },
    {
      "cell_type": "code",
      "source": [
        "from sklearn.model_selection import train_test_split\n",
        "X_train, X_test, y_train, y_test = train_test_split(X, \n",
        "                                                    y, \n",
        "                                                    test_size=0.2, \n",
        "                                                    random_state=42)"
      ],
      "metadata": {
        "id": "h_V-b7uOFJ9z"
      },
      "execution_count": 104,
      "outputs": []
    },
    {
      "cell_type": "code",
      "source": [
        "y_train=y_train.squeeze()\n",
        "y_train.shape"
      ],
      "metadata": {
        "colab": {
          "base_uri": "https://localhost:8080/"
        },
        "id": "a8eGJfPTHnbd",
        "outputId": "9912a6d4-8eec-4835-e28c-9f8c345777d0"
      },
      "execution_count": 105,
      "outputs": [
        {
          "output_type": "execute_result",
          "data": {
            "text/plain": [
              "(1070,)"
            ]
          },
          "metadata": {},
          "execution_count": 105
        }
      ]
    },
    {
      "cell_type": "code",
      "source": [
        "tf.random.set_seed(42)\n",
        "model_01 = tf.keras.Sequential([\n",
        "    tf.keras.layers.Dense(1),\n",
        "    tf.keras.layers.Dense(1)\n",
        "    ])\n",
        "\n",
        "model_01.compile(loss = tf.keras.losses.mae,\n",
        "                   optimizer = tf.keras.optimizers.SGD(),\n",
        "                   metrics=['mae'])\n",
        "\n",
        "historial1 = model_01.fit(tf.expand_dims(X_train, axis=-1), y_train, epochs=100, verbose=0)\n",
        "model_01.evaluate(X_train, y_train)"
      ],
      "metadata": {
        "colab": {
          "base_uri": "https://localhost:8080/"
        },
        "id": "rHP-9vz-FWZJ",
        "outputId": "dd8cf049-bfd3-43b5-f12f-90a91e3484c5"
      },
      "execution_count": 108,
      "outputs": [
        {
          "output_type": "stream",
          "name": "stdout",
          "text": [
            "34/34 [==============================] - 0s 1ms/step - loss: 8557.2012 - mae: 8557.2012\n"
          ]
        },
        {
          "output_type": "execute_result",
          "data": {
            "text/plain": [
              "[8557.201171875, 8557.201171875]"
            ]
          },
          "metadata": {},
          "execution_count": 108
        }
      ]
    },
    {
      "cell_type": "markdown",
      "source": [
        "Try:\n",
        "model02 -> increase to 3 layers\n",
        "\n",
        "model03 -> increase the number of units in each layer(expect the output layer)\n",
        "\n",
        "model04-> try adam"
      ],
      "metadata": {
        "id": "EPWohfkOJh-0"
      }
    },
    {
      "cell_type": "code",
      "source": [
        "tf.random.set_seed(42)\n",
        "model_02 = tf.keras.Sequential([\n",
        "    tf.keras.layers.Dense(1),\n",
        "    tf.keras.layers.Dense(1),\n",
        "    tf.keras.layers.Dense(1)\n",
        "    ])\n",
        "\n",
        "model_02.compile(loss = tf.keras.losses.mae,\n",
        "                   optimizer = tf.keras.optimizers.SGD(),\n",
        "                   metrics=['mae'])\n",
        "\n",
        "historial2 = model_02.fit(tf.expand_dims(X_train, axis=-1), y_train, epochs=100, verbose=0)\n",
        "model_02.evaluate(X_train, y_train)\n"
      ],
      "metadata": {
        "colab": {
          "base_uri": "https://localhost:8080/"
        },
        "id": "r3muDAm_JfwU",
        "outputId": "ba5f0b60-1950-400d-dc41-d9aacfc5b673"
      },
      "execution_count": 109,
      "outputs": [
        {
          "output_type": "stream",
          "name": "stdout",
          "text": [
            "34/34 [==============================] - 0s 2ms/step - loss: 10306.9482 - mae: 10306.9482\n"
          ]
        },
        {
          "output_type": "execute_result",
          "data": {
            "text/plain": [
              "[10306.9482421875, 10306.9482421875]"
            ]
          },
          "metadata": {},
          "execution_count": 109
        }
      ]
    },
    {
      "cell_type": "code",
      "source": [
        "tf.random.set_seed(42)\n",
        "\n",
        "# Add an extra layer and increase number of units\n",
        "model_03 = tf.keras.Sequential([\n",
        "  tf.keras.layers.Dense(100), # 100 units\n",
        "  tf.keras.layers.Dense(10), # 10 units\n",
        "  tf.keras.layers.Dense(1) # 1 unit (important for output layer)\n",
        "])\n",
        "\n",
        "# Compile the model\n",
        "model_03.compile(loss=tf.keras.losses.mae,\n",
        "                          optimizer=tf.keras.optimizers.Adam(), # Adam works but SGD doesn't \n",
        "                          metrics=['mae'])\n",
        "\n",
        "# Fit the model and save the history (we can plot this)\n",
        "historial3 = model_03.fit(X_train, y_train, epochs=200, verbose=0)\n",
        "model_03.evaluate(X_train, y_train)"
      ],
      "metadata": {
        "colab": {
          "base_uri": "https://localhost:8080/"
        },
        "id": "-Vj3sOmNLSIg",
        "outputId": "770604d1-daa0-4b45-e133-780be212b471"
      },
      "execution_count": 111,
      "outputs": [
        {
          "output_type": "stream",
          "name": "stdout",
          "text": [
            "34/34 [==============================] - 0s 1ms/step - loss: 3663.1772 - mae: 3663.1772\n"
          ]
        },
        {
          "output_type": "execute_result",
          "data": {
            "text/plain": [
              "[3663.17724609375, 3663.17724609375]"
            ]
          },
          "metadata": {},
          "execution_count": 111
        }
      ]
    },
    {
      "cell_type": "code",
      "source": [
        "plt.figure(figsize=(10,7))\n",
        "\n",
        "pd.DataFrame(historial1.history).plot(title = 'model1')\n",
        "pd.DataFrame(historial2.history).plot(title = 'model2')\n",
        "pd.DataFrame(historial3.history).plot(title = 'model3')\n",
        "\n",
        "plt.legend()\n",
        "plt.ylabel(\"loss\")\n",
        "plt.xlabel('epochs')"
      ],
      "metadata": {
        "colab": {
          "base_uri": "https://localhost:8080/",
          "height": 859
        },
        "id": "kh4FgJKGIthe",
        "outputId": "d4c1868d-c0c7-4b2f-980a-f26688daaeb1"
      },
      "execution_count": 78,
      "outputs": [
        {
          "output_type": "execute_result",
          "data": {
            "text/plain": [
              "Text(0.5, 0, 'epochs')"
            ]
          },
          "metadata": {},
          "execution_count": 78
        },
        {
          "output_type": "display_data",
          "data": {
            "text/plain": [
              "<Figure size 720x504 with 0 Axes>"
            ]
          },
          "metadata": {}
        },
        {
          "output_type": "display_data",
          "data": {
            "text/plain": [
              "<Figure size 432x288 with 1 Axes>"
            ],
            "image/png": "[encoded data removed]"
          },
          "metadata": {
            "needs_background": "light"
          }
        },
        {
          "output_type": "display_data",
          "data": {
            "text/plain": [
              "<Figure size 432x288 with 1 Axes>"
            ],
            "image/png": "[encoded data removed]"
          },
          "metadata": {
            "needs_background": "light"
          }
        },
        {
          "output_type": "display_data",
          "data": {
            "text/plain": [
              "<Figure size 432x288 with 1 Axes>"
            ],
            "image/png": "[encoded data removed]"
          },
          "metadata": {
            "needs_background": "light"
          }
        }
      ]
    },
    {
      "cell_type": "markdown",
      "source": [
        "#Preprocessing data\n",
        "Normalization and standardization."
      ],
      "metadata": {
        "id": "PUO1h6h1NeEM"
      }
    },
    {
      "cell_type": "code",
      "source": [
        "from sklearn.compose import make_column_transformer\n",
        "from sklearn.preprocessing import MinMaxScaler, OneHotEncoder\n",
        "\n",
        "ct = make_column_transformer(\n",
        "    (MinMaxScaler(), [\"age\", \"bmi\", \"children\"]), # get all values between 0 and 1\n",
        "    (OneHotEncoder(handle_unknown=\"ignore\"), [\"sex\", \"smoker\", \"region\"])\n",
        ")\n",
        "\n",
        "X = insurance.drop('charges', axis=1)\n",
        "y = insurance['charges']\n",
        "\n",
        "X_train, X_test, y_train, y_test = train_test_split(X,y, test_size=0.2, random_state=42)\n",
        "\n",
        "ct.fit(X_train)\n",
        "\n",
        "X_train_normal = ct.transform(X_train)\n",
        "X_test_normal = ct.transform(X_test)"
      ],
      "metadata": {
        "id": "TMv9PbZpNifF"
      },
      "execution_count": 112,
      "outputs": []
    },
    {
      "cell_type": "code",
      "source": [
        "tf.random.set_seed(42)\n",
        "\n",
        "model_04 = tf.keras.Sequential([\n",
        "  tf.keras.layers.Dense(100),\n",
        "  tf.keras.layers.Dense(10),\n",
        "  tf.keras.layers.Dense(1)\n",
        "])\n",
        "\n",
        "model_04.compile(loss=tf.keras.losses.mae,\n",
        "                          optimizer=tf.keras.optimizers.Adam(),\n",
        "                          metrics=['mae'])\n",
        "\n",
        "historial4 = model_04.fit(X_train_normal, y_train, epochs=200, verbose=0)\n",
        "model_04.evaluate(X_train_normal, y_train)"
      ],
      "metadata": {
        "colab": {
          "base_uri": "https://localhost:8080/"
        },
        "id": "F1teWm5LQIqf",
        "outputId": "d01cf02d-545c-4d42-aeec-727fab17633b"
      },
      "execution_count": 115,
      "outputs": [
        {
          "output_type": "stream",
          "name": "stdout",
          "text": [
            "34/34 [==============================] - 0s 1ms/step - loss: 3480.7642 - mae: 3480.7642\n"
          ]
        },
        {
          "output_type": "execute_result",
          "data": {
            "text/plain": [
              "[3480.76416015625, 3480.76416015625]"
            ]
          },
          "metadata": {},
          "execution_count": 115
        }
      ]
    },
    {
      "cell_type": "code",
      "source": [
        "plt.figure(figsize=(10,7))\n",
        "\n",
        "pd.DataFrame(historial4.history).plot(title = 'model4')\n",
        "pd.DataFrame(historial3.history).plot(title = 'model3')\n",
        "\n",
        "\n",
        "plt.legend()\n",
        "plt.ylabel(\"loss\")\n",
        "plt.xlabel('epochs')\n",
        "plt.show()"
      ],
      "metadata": {
        "colab": {
          "base_uri": "https://localhost:8080/",
          "height": 577
        },
        "id": "rdOI61FDQmB7",
        "outputId": "3f57885a-a37e-4ec2-90c3-a5b6d04cc1c6"
      },
      "execution_count": 117,
      "outputs": [
        {
          "output_type": "display_data",
          "data": {
            "text/plain": [
              "<Figure size 720x504 with 0 Axes>"
            ]
          },
          "metadata": {}
        },
        {
          "output_type": "display_data",
          "data": {
            "text/plain": [
              "<Figure size 432x288 with 1 Axes>"
            ],
            "image/png": "[encoded data removed]"
          },
          "metadata": {
            "needs_background": "light"
          }
        },
        {
          "output_type": "display_data",
          "data": {
            "text/plain": [
              "<Figure size 432x288 with 1 Axes>"
            ],
            "image/png": "[encoded data removed]"
          },
          "metadata": {
            "needs_background": "light"
          }
        }
      ]
    }
  ]
}